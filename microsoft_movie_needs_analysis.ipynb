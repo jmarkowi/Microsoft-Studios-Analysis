{
 "cells": [
  {
   "cell_type": "markdown",
   "metadata": {},
   "source": [
    "# Microsoft Movie Needs Analysis"
   ]
  },
  {
   "cell_type": "markdown",
   "metadata": {},
   "source": [
    "**Authors:** Lorela Blaka, Eric Denbin, Jesse Markowitz"
   ]
  },
  {
   "cell_type": "markdown",
   "metadata": {},
   "source": [
    "## Overview"
   ]
  },
  {
   "cell_type": "markdown",
   "metadata": {},
   "source": [
    "This project analyzes movie data in order to provide recommendations for Microsoft, which is opening a new production studio. We look for patterns and trends in return on investment (ROI) compared to budget and over time for both a general subset of movies as well as a selection of the most financially successful movies (\"top movies\"). We also examine the distribution of movie genres among all movies and the subset of top movies."
   ]
  },
  {
   "cell_type": "markdown",
   "metadata": {},
   "source": [
    "### Business Problem"
   ]
  },
  {
   "cell_type": "markdown",
   "metadata": {},
   "source": [
    "We address the following business problems:\n",
    " - What is the optimal budget range to spend on a movie?\n",
    " - When during the year should movies be released to ensure a positive ROI?\n",
    " - Which genres are among the most successful?\n",
    "\n",
    "Our analysis provides Microsoft with actionable insights for starting a successful movie studio."
   ]
  },
  {
   "cell_type": "markdown",
   "metadata": {},
   "source": [
    "## Data Understanding"
   ]
  },
  {
   "cell_type": "markdown",
   "metadata": {},
   "source": [
    "We use <a href='https://www.the-numbers.com/'>The Numbers</a> and <a href='https://imdb.com/'>IMDB</a> as our 2 data sources. The Numbers is a movie blog focused on data. It has publicly available datasets containing historical financial information from the first movies dating back to 1915 through the present. IMDB has several datasets available of movie details, from which we pulled information on genre."
   ]
  },
  {
   "cell_type": "code",
   "execution_count": 1,
   "metadata": {},
   "outputs": [],
   "source": [
    "import pandas as pd\n",
    "import numpy as np\n",
    "import datetime as datetime\n",
    "import matplotlib.pyplot as plt"
   ]
  },
  {
   "cell_type": "markdown",
   "metadata": {},
   "source": [
    "### Analyzing financial data from The Numbers\n",
    "This data set details production budget, as well as domestic and worldwide gross revenue. It also specifies the exact release date for each movie."
   ]
  },
  {
   "cell_type": "code",
   "execution_count": 2,
   "metadata": {},
   "outputs": [
    {
     "data": {
      "text/html": [
       "<div>\n",
       "<style scoped>\n",
       "    .dataframe tbody tr th:only-of-type {\n",
       "        vertical-align: middle;\n",
       "    }\n",
       "\n",
       "    .dataframe tbody tr th {\n",
       "        vertical-align: top;\n",
       "    }\n",
       "\n",
       "    .dataframe thead th {\n",
       "        text-align: right;\n",
       "    }\n",
       "</style>\n",
       "<table border=\"1\" class=\"dataframe\">\n",
       "  <thead>\n",
       "    <tr style=\"text-align: right;\">\n",
       "      <th></th>\n",
       "      <th>id</th>\n",
       "      <th>release_date</th>\n",
       "      <th>movie</th>\n",
       "      <th>production_budget</th>\n",
       "      <th>domestic_gross</th>\n",
       "      <th>worldwide_gross</th>\n",
       "    </tr>\n",
       "  </thead>\n",
       "  <tbody>\n",
       "    <tr>\n",
       "      <th>0</th>\n",
       "      <td>1</td>\n",
       "      <td>Dec 18, 2009</td>\n",
       "      <td>Avatar</td>\n",
       "      <td>$425,000,000</td>\n",
       "      <td>$760,507,625</td>\n",
       "      <td>$2,776,345,279</td>\n",
       "    </tr>\n",
       "    <tr>\n",
       "      <th>1</th>\n",
       "      <td>2</td>\n",
       "      <td>May 20, 2011</td>\n",
       "      <td>Pirates of the Caribbean: On Stranger Tides</td>\n",
       "      <td>$410,600,000</td>\n",
       "      <td>$241,063,875</td>\n",
       "      <td>$1,045,663,875</td>\n",
       "    </tr>\n",
       "    <tr>\n",
       "      <th>2</th>\n",
       "      <td>3</td>\n",
       "      <td>Jun 7, 2019</td>\n",
       "      <td>Dark Phoenix</td>\n",
       "      <td>$350,000,000</td>\n",
       "      <td>$42,762,350</td>\n",
       "      <td>$149,762,350</td>\n",
       "    </tr>\n",
       "    <tr>\n",
       "      <th>3</th>\n",
       "      <td>4</td>\n",
       "      <td>May 1, 2015</td>\n",
       "      <td>Avengers: Age of Ultron</td>\n",
       "      <td>$330,600,000</td>\n",
       "      <td>$459,005,868</td>\n",
       "      <td>$1,403,013,963</td>\n",
       "    </tr>\n",
       "    <tr>\n",
       "      <th>4</th>\n",
       "      <td>5</td>\n",
       "      <td>Dec 15, 2017</td>\n",
       "      <td>Star Wars Ep. VIII: The Last Jedi</td>\n",
       "      <td>$317,000,000</td>\n",
       "      <td>$620,181,382</td>\n",
       "      <td>$1,316,721,747</td>\n",
       "    </tr>\n",
       "  </tbody>\n",
       "</table>\n",
       "</div>"
      ],
      "text/plain": [
       "   id  release_date                                        movie  \\\n",
       "0   1  Dec 18, 2009                                       Avatar   \n",
       "1   2  May 20, 2011  Pirates of the Caribbean: On Stranger Tides   \n",
       "2   3   Jun 7, 2019                                 Dark Phoenix   \n",
       "3   4   May 1, 2015                      Avengers: Age of Ultron   \n",
       "4   5  Dec 15, 2017            Star Wars Ep. VIII: The Last Jedi   \n",
       "\n",
       "  production_budget domestic_gross worldwide_gross  \n",
       "0      $425,000,000   $760,507,625  $2,776,345,279  \n",
       "1      $410,600,000   $241,063,875  $1,045,663,875  \n",
       "2      $350,000,000    $42,762,350    $149,762,350  \n",
       "3      $330,600,000   $459,005,868  $1,403,013,963  \n",
       "4      $317,000,000   $620,181,382  $1,316,721,747  "
      ]
     },
     "execution_count": 2,
     "metadata": {},
     "output_type": "execute_result"
    }
   ],
   "source": [
    "movie_budgets = pd.read_csv('./Data//tn.movie_budgets.csv')\n",
    "movie_budgets.head()"
   ]
  },
  {
   "cell_type": "markdown",
   "metadata": {},
   "source": [
    "### Data Cleaning and Feature Engineering "
   ]
  },
  {
   "cell_type": "markdown",
   "metadata": {},
   "source": [
    "The dates are `strings`, so we add `'release_year'`and `'month'` columns with the year as `int` type and month as `datetime` type. We also drop `'id'` as it's an extraneous column."
   ]
  },
  {
   "cell_type": "code",
   "execution_count": 3,
   "metadata": {},
   "outputs": [],
   "source": [
    "movie_budgets['release_year'] = movie_budgets['release_date'].map(lambda x: int(x[-4:]))\n",
    "movie_budgets['month'] = movie_budgets['release_date'].map(lambda x: datetime.datetime.strptime(x, \"%b %d, %Y\").month)\n",
    "movie_budgets.drop('id', axis=1, inplace=True)"
   ]
  },
  {
   "cell_type": "markdown",
   "metadata": {},
   "source": [
    "All financial datapoints are also given as `strings` with a `'$'` at index `[0]`, so we use a lambda function to convert the financial columns to index the values at `[1]`, convert them to `ints`, and remove the commas.  We then engineer profit and ROI, both domestic and worldwide. We calculate ROI as profit divided by production budget. "
   ]
  },
  {
   "cell_type": "code",
   "execution_count": 4,
   "metadata": {},
   "outputs": [],
   "source": [
    "movie_budgets['worldwide_gross'] = movie_budgets['worldwide_gross'].map(lambda x: int(x[1:].replace(\",\",\"\")))\n",
    "movie_budgets['production_budget'] = movie_budgets['production_budget'].map(lambda x: int(x[1:].replace(\",\",\"\")))\n",
    "movie_budgets['domestic_gross'] = movie_budgets['domestic_gross'].map(lambda x: int(x[1:].replace(\",\",\"\")))"
   ]
  },
  {
   "cell_type": "code",
   "execution_count": 5,
   "metadata": {},
   "outputs": [],
   "source": [
    "movie_budgets[\"domestic_profit\"] = movie_budgets[\"domestic_gross\"] - movie_budgets[\"production_budget\"]\n",
    "movie_budgets[\"worldwide_profit\"] = movie_budgets[\"worldwide_gross\"] - movie_budgets[\"production_budget\"]"
   ]
  },
  {
   "cell_type": "code",
   "execution_count": 6,
   "metadata": {},
   "outputs": [],
   "source": [
    "movie_budgets[\"domestic_roi\"] = movie_budgets[\"domestic_profit\"]/movie_budgets['production_budget']\n",
    "movie_budgets[\"worldwide_roi\"] = movie_budgets[\"worldwide_profit\"]/movie_budgets[\"production_budget\"]"
   ]
  },
  {
   "cell_type": "markdown",
   "metadata": {},
   "source": [
    "Here is a preview of the movie_budgets dataframe after modifications:"
   ]
  },
  {
   "cell_type": "code",
   "execution_count": 7,
   "metadata": {},
   "outputs": [
    {
     "data": {
      "text/html": [
       "<div>\n",
       "<style scoped>\n",
       "    .dataframe tbody tr th:only-of-type {\n",
       "        vertical-align: middle;\n",
       "    }\n",
       "\n",
       "    .dataframe tbody tr th {\n",
       "        vertical-align: top;\n",
       "    }\n",
       "\n",
       "    .dataframe thead th {\n",
       "        text-align: right;\n",
       "    }\n",
       "</style>\n",
       "<table border=\"1\" class=\"dataframe\">\n",
       "  <thead>\n",
       "    <tr style=\"text-align: right;\">\n",
       "      <th></th>\n",
       "      <th>release_date</th>\n",
       "      <th>movie</th>\n",
       "      <th>production_budget</th>\n",
       "      <th>domestic_gross</th>\n",
       "      <th>worldwide_gross</th>\n",
       "      <th>release_year</th>\n",
       "      <th>month</th>\n",
       "      <th>domestic_profit</th>\n",
       "      <th>worldwide_profit</th>\n",
       "      <th>domestic_roi</th>\n",
       "      <th>worldwide_roi</th>\n",
       "    </tr>\n",
       "  </thead>\n",
       "  <tbody>\n",
       "    <tr>\n",
       "      <th>0</th>\n",
       "      <td>Dec 18, 2009</td>\n",
       "      <td>Avatar</td>\n",
       "      <td>425000000</td>\n",
       "      <td>760507625</td>\n",
       "      <td>2776345279</td>\n",
       "      <td>2009</td>\n",
       "      <td>12</td>\n",
       "      <td>335507625</td>\n",
       "      <td>2351345279</td>\n",
       "      <td>0.789430</td>\n",
       "      <td>5.532577</td>\n",
       "    </tr>\n",
       "    <tr>\n",
       "      <th>1</th>\n",
       "      <td>May 20, 2011</td>\n",
       "      <td>Pirates of the Caribbean: On Stranger Tides</td>\n",
       "      <td>410600000</td>\n",
       "      <td>241063875</td>\n",
       "      <td>1045663875</td>\n",
       "      <td>2011</td>\n",
       "      <td>5</td>\n",
       "      <td>-169536125</td>\n",
       "      <td>635063875</td>\n",
       "      <td>-0.412899</td>\n",
       "      <td>1.546673</td>\n",
       "    </tr>\n",
       "    <tr>\n",
       "      <th>2</th>\n",
       "      <td>Jun 7, 2019</td>\n",
       "      <td>Dark Phoenix</td>\n",
       "      <td>350000000</td>\n",
       "      <td>42762350</td>\n",
       "      <td>149762350</td>\n",
       "      <td>2019</td>\n",
       "      <td>6</td>\n",
       "      <td>-307237650</td>\n",
       "      <td>-200237650</td>\n",
       "      <td>-0.877822</td>\n",
       "      <td>-0.572108</td>\n",
       "    </tr>\n",
       "    <tr>\n",
       "      <th>3</th>\n",
       "      <td>May 1, 2015</td>\n",
       "      <td>Avengers: Age of Ultron</td>\n",
       "      <td>330600000</td>\n",
       "      <td>459005868</td>\n",
       "      <td>1403013963</td>\n",
       "      <td>2015</td>\n",
       "      <td>5</td>\n",
       "      <td>128405868</td>\n",
       "      <td>1072413963</td>\n",
       "      <td>0.388403</td>\n",
       "      <td>3.243841</td>\n",
       "    </tr>\n",
       "    <tr>\n",
       "      <th>4</th>\n",
       "      <td>Dec 15, 2017</td>\n",
       "      <td>Star Wars Ep. VIII: The Last Jedi</td>\n",
       "      <td>317000000</td>\n",
       "      <td>620181382</td>\n",
       "      <td>1316721747</td>\n",
       "      <td>2017</td>\n",
       "      <td>12</td>\n",
       "      <td>303181382</td>\n",
       "      <td>999721747</td>\n",
       "      <td>0.956408</td>\n",
       "      <td>3.153696</td>\n",
       "    </tr>\n",
       "  </tbody>\n",
       "</table>\n",
       "</div>"
      ],
      "text/plain": [
       "   release_date                                        movie  \\\n",
       "0  Dec 18, 2009                                       Avatar   \n",
       "1  May 20, 2011  Pirates of the Caribbean: On Stranger Tides   \n",
       "2   Jun 7, 2019                                 Dark Phoenix   \n",
       "3   May 1, 2015                      Avengers: Age of Ultron   \n",
       "4  Dec 15, 2017            Star Wars Ep. VIII: The Last Jedi   \n",
       "\n",
       "   production_budget  domestic_gross  worldwide_gross  release_year  month  \\\n",
       "0          425000000       760507625       2776345279          2009     12   \n",
       "1          410600000       241063875       1045663875          2011      5   \n",
       "2          350000000        42762350        149762350          2019      6   \n",
       "3          330600000       459005868       1403013963          2015      5   \n",
       "4          317000000       620181382       1316721747          2017     12   \n",
       "\n",
       "   domestic_profit  worldwide_profit  domestic_roi  worldwide_roi  \n",
       "0        335507625        2351345279      0.789430       5.532577  \n",
       "1       -169536125         635063875     -0.412899       1.546673  \n",
       "2       -307237650        -200237650     -0.877822      -0.572108  \n",
       "3        128405868        1072413963      0.388403       3.243841  \n",
       "4        303181382         999721747      0.956408       3.153696  "
      ]
     },
     "execution_count": 7,
     "metadata": {},
     "output_type": "execute_result"
    }
   ],
   "source": [
    "movie_budgets.head()"
   ]
  },
  {
   "cell_type": "markdown",
   "metadata": {},
   "source": [
    "Analyzing percentiles shows just how difficult it can be to make money in this business! The 50th percentile for both domestic and worldwide ROI are close to 0. And yet, the 25th percentile for budget is \\\\$5 million."
   ]
  },
  {
   "cell_type": "code",
   "execution_count": 8,
   "metadata": {
    "scrolled": true
   },
   "outputs": [
    {
     "data": {
      "text/html": [
       "<div>\n",
       "<style scoped>\n",
       "    .dataframe tbody tr th:only-of-type {\n",
       "        vertical-align: middle;\n",
       "    }\n",
       "\n",
       "    .dataframe tbody tr th {\n",
       "        vertical-align: top;\n",
       "    }\n",
       "\n",
       "    .dataframe thead th {\n",
       "        text-align: right;\n",
       "    }\n",
       "</style>\n",
       "<table border=\"1\" class=\"dataframe\">\n",
       "  <thead>\n",
       "    <tr style=\"text-align: right;\">\n",
       "      <th></th>\n",
       "      <th>production_budget</th>\n",
       "      <th>domestic_gross</th>\n",
       "      <th>worldwide_gross</th>\n",
       "      <th>release_year</th>\n",
       "      <th>month</th>\n",
       "      <th>domestic_profit</th>\n",
       "      <th>worldwide_profit</th>\n",
       "      <th>domestic_roi</th>\n",
       "      <th>worldwide_roi</th>\n",
       "    </tr>\n",
       "  </thead>\n",
       "  <tbody>\n",
       "    <tr>\n",
       "      <th>count</th>\n",
       "      <td>5.782000e+03</td>\n",
       "      <td>5.782000e+03</td>\n",
       "      <td>5.782000e+03</td>\n",
       "      <td>5782.000000</td>\n",
       "      <td>5782.000000</td>\n",
       "      <td>5.782000e+03</td>\n",
       "      <td>5.782000e+03</td>\n",
       "      <td>5782.000000</td>\n",
       "      <td>5782.000000</td>\n",
       "    </tr>\n",
       "    <tr>\n",
       "      <th>mean</th>\n",
       "      <td>3.158776e+07</td>\n",
       "      <td>4.187333e+07</td>\n",
       "      <td>9.148746e+07</td>\n",
       "      <td>2003.967139</td>\n",
       "      <td>7.050675</td>\n",
       "      <td>1.028557e+07</td>\n",
       "      <td>5.989970e+07</td>\n",
       "      <td>1.983540</td>\n",
       "      <td>3.800161</td>\n",
       "    </tr>\n",
       "    <tr>\n",
       "      <th>std</th>\n",
       "      <td>4.181208e+07</td>\n",
       "      <td>6.824060e+07</td>\n",
       "      <td>1.747200e+08</td>\n",
       "      <td>12.724386</td>\n",
       "      <td>3.480147</td>\n",
       "      <td>4.992137e+07</td>\n",
       "      <td>1.460889e+08</td>\n",
       "      <td>26.086591</td>\n",
       "      <td>29.530282</td>\n",
       "    </tr>\n",
       "    <tr>\n",
       "      <th>min</th>\n",
       "      <td>1.100000e+03</td>\n",
       "      <td>0.000000e+00</td>\n",
       "      <td>0.000000e+00</td>\n",
       "      <td>1915.000000</td>\n",
       "      <td>1.000000</td>\n",
       "      <td>-3.072376e+08</td>\n",
       "      <td>-2.002376e+08</td>\n",
       "      <td>-1.000000</td>\n",
       "      <td>-1.000000</td>\n",
       "    </tr>\n",
       "    <tr>\n",
       "      <th>25%</th>\n",
       "      <td>5.000000e+06</td>\n",
       "      <td>1.429534e+06</td>\n",
       "      <td>4.125415e+06</td>\n",
       "      <td>2000.000000</td>\n",
       "      <td>4.000000</td>\n",
       "      <td>-9.132757e+06</td>\n",
       "      <td>-2.189071e+06</td>\n",
       "      <td>-0.794367</td>\n",
       "      <td>-0.507704</td>\n",
       "    </tr>\n",
       "    <tr>\n",
       "      <th>50%</th>\n",
       "      <td>1.700000e+07</td>\n",
       "      <td>1.722594e+07</td>\n",
       "      <td>2.798445e+07</td>\n",
       "      <td>2007.000000</td>\n",
       "      <td>7.000000</td>\n",
       "      <td>-3.487755e+05</td>\n",
       "      <td>8.550286e+06</td>\n",
       "      <td>-0.121674</td>\n",
       "      <td>0.708310</td>\n",
       "    </tr>\n",
       "    <tr>\n",
       "      <th>75%</th>\n",
       "      <td>4.000000e+07</td>\n",
       "      <td>5.234866e+07</td>\n",
       "      <td>9.764584e+07</td>\n",
       "      <td>2012.000000</td>\n",
       "      <td>10.000000</td>\n",
       "      <td>1.778144e+07</td>\n",
       "      <td>6.096850e+07</td>\n",
       "      <td>1.058148</td>\n",
       "      <td>2.758346</td>\n",
       "    </tr>\n",
       "    <tr>\n",
       "      <th>max</th>\n",
       "      <td>4.250000e+08</td>\n",
       "      <td>9.366622e+08</td>\n",
       "      <td>2.776345e+09</td>\n",
       "      <td>2020.000000</td>\n",
       "      <td>12.000000</td>\n",
       "      <td>6.306622e+08</td>\n",
       "      <td>2.351345e+09</td>\n",
       "      <td>1799.000000</td>\n",
       "      <td>1799.000000</td>\n",
       "    </tr>\n",
       "  </tbody>\n",
       "</table>\n",
       "</div>"
      ],
      "text/plain": [
       "       production_budget  domestic_gross  worldwide_gross  release_year  \\\n",
       "count       5.782000e+03    5.782000e+03     5.782000e+03   5782.000000   \n",
       "mean        3.158776e+07    4.187333e+07     9.148746e+07   2003.967139   \n",
       "std         4.181208e+07    6.824060e+07     1.747200e+08     12.724386   \n",
       "min         1.100000e+03    0.000000e+00     0.000000e+00   1915.000000   \n",
       "25%         5.000000e+06    1.429534e+06     4.125415e+06   2000.000000   \n",
       "50%         1.700000e+07    1.722594e+07     2.798445e+07   2007.000000   \n",
       "75%         4.000000e+07    5.234866e+07     9.764584e+07   2012.000000   \n",
       "max         4.250000e+08    9.366622e+08     2.776345e+09   2020.000000   \n",
       "\n",
       "             month  domestic_profit  worldwide_profit  domestic_roi  \\\n",
       "count  5782.000000     5.782000e+03      5.782000e+03   5782.000000   \n",
       "mean      7.050675     1.028557e+07      5.989970e+07      1.983540   \n",
       "std       3.480147     4.992137e+07      1.460889e+08     26.086591   \n",
       "min       1.000000    -3.072376e+08     -2.002376e+08     -1.000000   \n",
       "25%       4.000000    -9.132757e+06     -2.189071e+06     -0.794367   \n",
       "50%       7.000000    -3.487755e+05      8.550286e+06     -0.121674   \n",
       "75%      10.000000     1.778144e+07      6.096850e+07      1.058148   \n",
       "max      12.000000     6.306622e+08      2.351345e+09   1799.000000   \n",
       "\n",
       "       worldwide_roi  \n",
       "count    5782.000000  \n",
       "mean        3.800161  \n",
       "std        29.530282  \n",
       "min        -1.000000  \n",
       "25%        -0.507704  \n",
       "50%         0.708310  \n",
       "75%         2.758346  \n",
       "max      1799.000000  "
      ]
     },
     "execution_count": 8,
     "metadata": {},
     "output_type": "execute_result"
    }
   ],
   "source": [
    "movie_budgets.describe()"
   ]
  },
  {
   "cell_type": "markdown",
   "metadata": {},
   "source": [
    "### Filtering Relevant Movies and Top Movies"
   ]
  },
  {
   "cell_type": "markdown",
   "metadata": {},
   "source": [
    "**Fitering Relevant Movies:** \n",
    "<br> Our method here is to compare and analyze a slighty filtered subset of `'movies_budget'` which is represented by the `'relevant_movies'` dataframe. There are three filters: Production Budget, Worldwide Gross, and Release Year. Looking at the distribution of Production Budget below, we filter for greater than \\\\$5million, excluding the bottom 25th percentile of movies (marked with a red line). We do this to reduce the amount of results that skew the data. Then, we filter Worldwide Gross revenue to over \\\\$0 to exclude Netflix movies, which all have a listed revenue of \\\\$0. Finally, we set Release Year < 2020 to remove any data that may have been affected by the covid-19 pandemic."
   ]
  },
  {
   "cell_type": "code",
   "execution_count": 9,
   "metadata": {},
   "outputs": [
    {
     "data": {
      "image/png": "[encoded data removed]",
      "text/plain": [
       "<Figure size 432x576 with 1 Axes>"
      ]
     },
     "metadata": {
      "needs_background": "light"
     },
     "output_type": "display_data"
    }
   ],
   "source": [
    "y = movie_budgets['production_budget'].values \n",
    "ynew = 5000000\n",
    "ticks = np.arange(-10000,100000000,10000000)\n",
    "\n",
    "fig, ax2 = plt.subplots(figsize = (6,8))\n",
    "\n",
    "ax2.boxplot(y)\n",
    "ax2.set_ylim(-10000,100000000)\n",
    "ax2.set_yticks(ticks)\n",
    "ax2.axhline(ynew , color = 'r', linestyle = \"--\", linewidth = \"2\") \n",
    "ax2.set_title('Production Budget Distribution', fontsize = 15)\n",
    "ax2.set_ylabel('Production Budget ($10M)', fontsize = 14);\n",
    "plt.savefig(\"./Images/production_budget_boxplot.png\");"
   ]
  },
  {
   "cell_type": "code",
   "execution_count": 10,
   "metadata": {},
   "outputs": [
    {
     "data": {
      "text/html": [
       "<div>\n",
       "<style scoped>\n",
       "    .dataframe tbody tr th:only-of-type {\n",
       "        vertical-align: middle;\n",
       "    }\n",
       "\n",
       "    .dataframe tbody tr th {\n",
       "        vertical-align: top;\n",
       "    }\n",
       "\n",
       "    .dataframe thead th {\n",
       "        text-align: right;\n",
       "    }\n",
       "</style>\n",
       "<table border=\"1\" class=\"dataframe\">\n",
       "  <thead>\n",
       "    <tr style=\"text-align: right;\">\n",
       "      <th></th>\n",
       "      <th>release_date</th>\n",
       "      <th>movie</th>\n",
       "      <th>production_budget</th>\n",
       "      <th>domestic_gross</th>\n",
       "      <th>worldwide_gross</th>\n",
       "      <th>release_year</th>\n",
       "      <th>month</th>\n",
       "      <th>domestic_profit</th>\n",
       "      <th>worldwide_profit</th>\n",
       "      <th>domestic_roi</th>\n",
       "      <th>worldwide_roi</th>\n",
       "    </tr>\n",
       "  </thead>\n",
       "  <tbody>\n",
       "    <tr>\n",
       "      <th>0</th>\n",
       "      <td>Dec 18, 2009</td>\n",
       "      <td>Avatar</td>\n",
       "      <td>425000000</td>\n",
       "      <td>760507625</td>\n",
       "      <td>2776345279</td>\n",
       "      <td>2009</td>\n",
       "      <td>12</td>\n",
       "      <td>335507625</td>\n",
       "      <td>2351345279</td>\n",
       "      <td>0.789430</td>\n",
       "      <td>5.532577</td>\n",
       "    </tr>\n",
       "    <tr>\n",
       "      <th>1</th>\n",
       "      <td>May 20, 2011</td>\n",
       "      <td>Pirates of the Caribbean: On Stranger Tides</td>\n",
       "      <td>410600000</td>\n",
       "      <td>241063875</td>\n",
       "      <td>1045663875</td>\n",
       "      <td>2011</td>\n",
       "      <td>5</td>\n",
       "      <td>-169536125</td>\n",
       "      <td>635063875</td>\n",
       "      <td>-0.412899</td>\n",
       "      <td>1.546673</td>\n",
       "    </tr>\n",
       "    <tr>\n",
       "      <th>2</th>\n",
       "      <td>Jun 7, 2019</td>\n",
       "      <td>Dark Phoenix</td>\n",
       "      <td>350000000</td>\n",
       "      <td>42762350</td>\n",
       "      <td>149762350</td>\n",
       "      <td>2019</td>\n",
       "      <td>6</td>\n",
       "      <td>-307237650</td>\n",
       "      <td>-200237650</td>\n",
       "      <td>-0.877822</td>\n",
       "      <td>-0.572108</td>\n",
       "    </tr>\n",
       "    <tr>\n",
       "      <th>3</th>\n",
       "      <td>May 1, 2015</td>\n",
       "      <td>Avengers: Age of Ultron</td>\n",
       "      <td>330600000</td>\n",
       "      <td>459005868</td>\n",
       "      <td>1403013963</td>\n",
       "      <td>2015</td>\n",
       "      <td>5</td>\n",
       "      <td>128405868</td>\n",
       "      <td>1072413963</td>\n",
       "      <td>0.388403</td>\n",
       "      <td>3.243841</td>\n",
       "    </tr>\n",
       "    <tr>\n",
       "      <th>4</th>\n",
       "      <td>Dec 15, 2017</td>\n",
       "      <td>Star Wars Ep. VIII: The Last Jedi</td>\n",
       "      <td>317000000</td>\n",
       "      <td>620181382</td>\n",
       "      <td>1316721747</td>\n",
       "      <td>2017</td>\n",
       "      <td>12</td>\n",
       "      <td>303181382</td>\n",
       "      <td>999721747</td>\n",
       "      <td>0.956408</td>\n",
       "      <td>3.153696</td>\n",
       "    </tr>\n",
       "  </tbody>\n",
       "</table>\n",
       "</div>"
      ],
      "text/plain": [
       "   release_date                                        movie  \\\n",
       "0  Dec 18, 2009                                       Avatar   \n",
       "1  May 20, 2011  Pirates of the Caribbean: On Stranger Tides   \n",
       "2   Jun 7, 2019                                 Dark Phoenix   \n",
       "3   May 1, 2015                      Avengers: Age of Ultron   \n",
       "4  Dec 15, 2017            Star Wars Ep. VIII: The Last Jedi   \n",
       "\n",
       "   production_budget  domestic_gross  worldwide_gross  release_year  month  \\\n",
       "0          425000000       760507625       2776345279          2009     12   \n",
       "1          410600000       241063875       1045663875          2011      5   \n",
       "2          350000000        42762350        149762350          2019      6   \n",
       "3          330600000       459005868       1403013963          2015      5   \n",
       "4          317000000       620181382       1316721747          2017     12   \n",
       "\n",
       "   domestic_profit  worldwide_profit  domestic_roi  worldwide_roi  \n",
       "0        335507625        2351345279      0.789430       5.532577  \n",
       "1       -169536125         635063875     -0.412899       1.546673  \n",
       "2       -307237650        -200237650     -0.877822      -0.572108  \n",
       "3        128405868        1072413963      0.388403       3.243841  \n",
       "4        303181382         999721747      0.956408       3.153696  "
      ]
     },
     "execution_count": 10,
     "metadata": {},
     "output_type": "execute_result"
    }
   ],
   "source": [
    "relevant_movies = movie_budgets[(movie_budgets['worldwide_gross'] > 0) \n",
    "                                   & (movie_budgets['production_budget'] >= 5000000) \n",
    "                                   & (movie_budgets['release_year'] < 2020) ]\n",
    "relevant_movies.head()"
   ]
  },
  {
   "cell_type": "markdown",
   "metadata": {},
   "source": [
    " **Fitering Top Movies:** \n",
    "<br> We then create a `'top_movie_budgets'` df based based on further criteria. We use Worldwide and Domestic ROI as metrics for determining top performing movies and analyze their distirbutions in the 2 boxplots below. We choose movies with ROI above the top 25th percentile range (outlined in red)."
   ]
  },
  {
   "cell_type": "code",
   "execution_count": 11,
   "metadata": {},
   "outputs": [
    {
     "data": {
      "image/png": "[encoded data removed]",
      "text/plain": [
       "<Figure size 864x576 with 2 Axes>"
      ]
     },
     "metadata": {
      "needs_background": "light"
     },
     "output_type": "display_data"
    }
   ],
   "source": [
    "wwroi = movie_budgets['worldwide_roi'].values \n",
    "domroi = movie_budgets['domestic_roi'].values \n",
    "ticks = np.arange(-2,5,0.25)\n",
    "ywwroi = 2.75\n",
    "ydomroi = 1.05\n",
    "\n",
    "fig, (ax_ww, ax_dom) = plt.subplots(1, 2, figsize = (12,8))\n",
    "plt.suptitle('Distribution of ROI', fontsize=15)\n",
    "\n",
    "# Worldwide ROI\n",
    "ax_ww.boxplot(wwroi)\n",
    "ax_ww.set_title('Worldwide', fontsize=14)\n",
    "ax_ww.set_yticks(ticks)\n",
    "ax_ww.set_ylim(-2,5)\n",
    "ax_ww.set_ylabel('ROI', fontsize=14)\n",
    "ax_ww.axhline(ywwroi , color = 'r', linestyle = \"--\", linewidth = \"2\") \n",
    "\n",
    "# Domestic ROI\n",
    "ax_dom.boxplot(domroi)\n",
    "ax_dom.set_ylim(-2,5)\n",
    "ax_dom.set_yticks(ticks)\n",
    "ax_dom.axhline(ydomroi , color = 'r', linestyle = \"--\", linewidth = \"2\") \n",
    "ax_dom.set_title('Domestic', fontsize=14)\n",
    "ax_dom.set_ylabel('ROI', fontsize=14)\n",
    "\n",
    "plt.subplots_adjust(wspace=0.5) # Add space between the two plots\n",
    "plt.rc('ytick', labelsize=10)\n",
    "plt.savefig(\"./Images/ww_dom_roi_boxplots.png\")"
   ]
  },
  {
   "cell_type": "code",
   "execution_count": 12,
   "metadata": {},
   "outputs": [],
   "source": [
    "top_movie_budgets = movie_budgets[(movie_budgets['worldwide_roi']>=2.75)\n",
    "             & (movie_budgets['domestic_roi'] >= 1.05)                 \n",
    "             & ((movie_budgets['production_budget']>=5000000)\n",
    "             & (movie_budgets['worldwide_gross']>=0))\n",
    "             & (movie_budgets['release_year'] < 2020)]"
   ]
  },
  {
   "cell_type": "code",
   "execution_count": 13,
   "metadata": {},
   "outputs": [
    {
     "data": {
      "text/html": [
       "<div>\n",
       "<style scoped>\n",
       "    .dataframe tbody tr th:only-of-type {\n",
       "        vertical-align: middle;\n",
       "    }\n",
       "\n",
       "    .dataframe tbody tr th {\n",
       "        vertical-align: top;\n",
       "    }\n",
       "\n",
       "    .dataframe thead th {\n",
       "        text-align: right;\n",
       "    }\n",
       "</style>\n",
       "<table border=\"1\" class=\"dataframe\">\n",
       "  <thead>\n",
       "    <tr style=\"text-align: right;\">\n",
       "      <th></th>\n",
       "      <th>release_date</th>\n",
       "      <th>movie</th>\n",
       "      <th>production_budget</th>\n",
       "      <th>domestic_gross</th>\n",
       "      <th>worldwide_gross</th>\n",
       "      <th>release_year</th>\n",
       "      <th>month</th>\n",
       "      <th>domestic_profit</th>\n",
       "      <th>worldwide_profit</th>\n",
       "      <th>domestic_roi</th>\n",
       "      <th>worldwide_roi</th>\n",
       "    </tr>\n",
       "  </thead>\n",
       "  <tbody>\n",
       "    <tr>\n",
       "      <th>5</th>\n",
       "      <td>Dec 18, 2015</td>\n",
       "      <td>Star Wars Ep. VII: The Force Awakens</td>\n",
       "      <td>306000000</td>\n",
       "      <td>936662225</td>\n",
       "      <td>2053311220</td>\n",
       "      <td>2015</td>\n",
       "      <td>12</td>\n",
       "      <td>630662225</td>\n",
       "      <td>1747311220</td>\n",
       "      <td>2.060988</td>\n",
       "      <td>5.710167</td>\n",
       "    </tr>\n",
       "    <tr>\n",
       "      <th>6</th>\n",
       "      <td>Apr 27, 2018</td>\n",
       "      <td>Avengers: Infinity War</td>\n",
       "      <td>300000000</td>\n",
       "      <td>678815482</td>\n",
       "      <td>2048134200</td>\n",
       "      <td>2018</td>\n",
       "      <td>4</td>\n",
       "      <td>378815482</td>\n",
       "      <td>1748134200</td>\n",
       "      <td>1.262718</td>\n",
       "      <td>5.827114</td>\n",
       "    </tr>\n",
       "    <tr>\n",
       "      <th>26</th>\n",
       "      <td>May 4, 2012</td>\n",
       "      <td>The Avengers</td>\n",
       "      <td>225000000</td>\n",
       "      <td>623279547</td>\n",
       "      <td>1517935897</td>\n",
       "      <td>2012</td>\n",
       "      <td>5</td>\n",
       "      <td>398279547</td>\n",
       "      <td>1292935897</td>\n",
       "      <td>1.770131</td>\n",
       "      <td>5.746382</td>\n",
       "    </tr>\n",
       "    <tr>\n",
       "      <th>33</th>\n",
       "      <td>Jun 12, 2015</td>\n",
       "      <td>Jurassic World</td>\n",
       "      <td>215000000</td>\n",
       "      <td>652270625</td>\n",
       "      <td>1648854864</td>\n",
       "      <td>2015</td>\n",
       "      <td>6</td>\n",
       "      <td>437270625</td>\n",
       "      <td>1433854864</td>\n",
       "      <td>2.033817</td>\n",
       "      <td>6.669092</td>\n",
       "    </tr>\n",
       "    <tr>\n",
       "      <th>41</th>\n",
       "      <td>Feb 16, 2018</td>\n",
       "      <td>Black Panther</td>\n",
       "      <td>200000000</td>\n",
       "      <td>700059566</td>\n",
       "      <td>1348258224</td>\n",
       "      <td>2018</td>\n",
       "      <td>2</td>\n",
       "      <td>500059566</td>\n",
       "      <td>1148258224</td>\n",
       "      <td>2.500298</td>\n",
       "      <td>5.741291</td>\n",
       "    </tr>\n",
       "  </tbody>\n",
       "</table>\n",
       "</div>"
      ],
      "text/plain": [
       "    release_date                                 movie  production_budget  \\\n",
       "5   Dec 18, 2015  Star Wars Ep. VII: The Force Awakens          306000000   \n",
       "6   Apr 27, 2018                Avengers: Infinity War          300000000   \n",
       "26   May 4, 2012                          The Avengers          225000000   \n",
       "33  Jun 12, 2015                        Jurassic World          215000000   \n",
       "41  Feb 16, 2018                         Black Panther          200000000   \n",
       "\n",
       "    domestic_gross  worldwide_gross  release_year  month  domestic_profit  \\\n",
       "5        936662225       2053311220          2015     12        630662225   \n",
       "6        678815482       2048134200          2018      4        378815482   \n",
       "26       623279547       1517935897          2012      5        398279547   \n",
       "33       652270625       1648854864          2015      6        437270625   \n",
       "41       700059566       1348258224          2018      2        500059566   \n",
       "\n",
       "    worldwide_profit  domestic_roi  worldwide_roi  \n",
       "5         1747311220      2.060988       5.710167  \n",
       "6         1748134200      1.262718       5.827114  \n",
       "26        1292935897      1.770131       5.746382  \n",
       "33        1433854864      2.033817       6.669092  \n",
       "41        1148258224      2.500298       5.741291  "
      ]
     },
     "execution_count": 13,
     "metadata": {},
     "output_type": "execute_result"
    }
   ],
   "source": [
    "top_movie_budgets.head()"
   ]
  },
  {
   "cell_type": "markdown",
   "metadata": {},
   "source": [
    "### ROI and Budget\n",
    "\n",
    "Here we seek to find the optimal amount of money to budget for a movie in order to ensure a positive return."
   ]
  },
  {
   "cell_type": "code",
   "execution_count": 14,
   "metadata": {
    "scrolled": true
   },
   "outputs": [
    {
     "data": {
      "text/html": [
       "<div>\n",
       "<style scoped>\n",
       "    .dataframe tbody tr th:only-of-type {\n",
       "        vertical-align: middle;\n",
       "    }\n",
       "\n",
       "    .dataframe tbody tr th {\n",
       "        vertical-align: top;\n",
       "    }\n",
       "\n",
       "    .dataframe thead th {\n",
       "        text-align: right;\n",
       "    }\n",
       "</style>\n",
       "<table border=\"1\" class=\"dataframe\">\n",
       "  <thead>\n",
       "    <tr style=\"text-align: right;\">\n",
       "      <th></th>\n",
       "      <th>release_date</th>\n",
       "      <th>movie</th>\n",
       "      <th>production_budget</th>\n",
       "      <th>domestic_gross</th>\n",
       "      <th>worldwide_gross</th>\n",
       "      <th>release_year</th>\n",
       "      <th>month</th>\n",
       "      <th>domestic_profit</th>\n",
       "      <th>worldwide_profit</th>\n",
       "      <th>domestic_roi</th>\n",
       "      <th>worldwide_roi</th>\n",
       "    </tr>\n",
       "  </thead>\n",
       "  <tbody>\n",
       "    <tr>\n",
       "      <th>0</th>\n",
       "      <td>Dec 18, 2009</td>\n",
       "      <td>Avatar</td>\n",
       "      <td>425000000</td>\n",
       "      <td>760507625</td>\n",
       "      <td>2776345279</td>\n",
       "      <td>2009</td>\n",
       "      <td>12</td>\n",
       "      <td>335507625</td>\n",
       "      <td>2351345279</td>\n",
       "      <td>0.789430</td>\n",
       "      <td>5.532577</td>\n",
       "    </tr>\n",
       "    <tr>\n",
       "      <th>1</th>\n",
       "      <td>May 20, 2011</td>\n",
       "      <td>Pirates of the Caribbean: On Stranger Tides</td>\n",
       "      <td>410600000</td>\n",
       "      <td>241063875</td>\n",
       "      <td>1045663875</td>\n",
       "      <td>2011</td>\n",
       "      <td>5</td>\n",
       "      <td>-169536125</td>\n",
       "      <td>635063875</td>\n",
       "      <td>-0.412899</td>\n",
       "      <td>1.546673</td>\n",
       "    </tr>\n",
       "    <tr>\n",
       "      <th>2</th>\n",
       "      <td>Jun 7, 2019</td>\n",
       "      <td>Dark Phoenix</td>\n",
       "      <td>350000000</td>\n",
       "      <td>42762350</td>\n",
       "      <td>149762350</td>\n",
       "      <td>2019</td>\n",
       "      <td>6</td>\n",
       "      <td>-307237650</td>\n",
       "      <td>-200237650</td>\n",
       "      <td>-0.877822</td>\n",
       "      <td>-0.572108</td>\n",
       "    </tr>\n",
       "  </tbody>\n",
       "</table>\n",
       "</div>"
      ],
      "text/plain": [
       "   release_date                                        movie  \\\n",
       "0  Dec 18, 2009                                       Avatar   \n",
       "1  May 20, 2011  Pirates of the Caribbean: On Stranger Tides   \n",
       "2   Jun 7, 2019                                 Dark Phoenix   \n",
       "\n",
       "   production_budget  domestic_gross  worldwide_gross  release_year  month  \\\n",
       "0          425000000       760507625       2776345279          2009     12   \n",
       "1          410600000       241063875       1045663875          2011      5   \n",
       "2          350000000        42762350        149762350          2019      6   \n",
       "\n",
       "   domestic_profit  worldwide_profit  domestic_roi  worldwide_roi  \n",
       "0        335507625        2351345279      0.789430       5.532577  \n",
       "1       -169536125         635063875     -0.412899       1.546673  \n",
       "2       -307237650        -200237650     -0.877822      -0.572108  "
      ]
     },
     "execution_count": 14,
     "metadata": {},
     "output_type": "execute_result"
    }
   ],
   "source": [
    "relevant_movies.head(3)"
   ]
  },
  {
   "cell_type": "markdown",
   "metadata": {},
   "source": [
    "In order to view the relationship between budget and percentage of movies with positive ROI, we create bins for budget. The bins are sized to create bins of equal movie count, not equal budget ranges."
   ]
  },
  {
   "cell_type": "code",
   "execution_count": 15,
   "metadata": {},
   "outputs": [],
   "source": [
    "buckets_list = [4999999, 25000000, 50000000, 75000000, 100000000, 200000000, 300000000, 400000000]"
   ]
  },
  {
   "cell_type": "markdown",
   "metadata": {},
   "source": [
    "The function `bucket_percentages` uses the bucket list to return the percentage of movies in each bin that have a positive ROI."
   ]
  },
  {
   "cell_type": "code",
   "execution_count": 16,
   "metadata": {},
   "outputs": [],
   "source": [
    "def bucket_percentages(buckets):\n",
    "    per_movies_list = []\n",
    "    \n",
    "    for i in range(len(buckets)-1):\n",
    "        num_pos = relevant_movies[(relevant_movies['production_budget'] > buckets[i]) \n",
    "                                                        & (relevant_movies['production_budget'] <= buckets[i+1]) \n",
    "                                                        & (relevant_movies['worldwide_roi'] > 0)].shape[0]\n",
    "        total = relevant_movies[(relevant_movies['production_budget'] > buckets[i]) \n",
    "                                                        & (relevant_movies['production_budget'] <= buckets[i+1])].shape[0]\n",
    "        per_movies = (num_pos/total) * 100\n",
    "        per_movies_list.append(per_movies)\n",
    "    \n",
    "    return per_movies_list"
   ]
  },
  {
   "cell_type": "markdown",
   "metadata": {},
   "source": [
    "We can now visualize the percentage of movies in each budget range that have an ROI greater than 0 (i.e., movies that make money)."
   ]
  },
  {
   "cell_type": "code",
   "execution_count": 17,
   "metadata": {
    "scrolled": false
   },
   "outputs": [
    {
     "data": {
      "image/png": "[encoded data removed]",
      "text/plain": [
       "<Figure size 864x576 with 1 Axes>"
      ]
     },
     "metadata": {
      "needs_background": "light"
     },
     "output_type": "display_data"
    }
   ],
   "source": [
    "fig, ax = plt.subplots(figsize=(12,8))\n",
    "\n",
    "x = [('5 - 25'), ('25 - 50'), ('50 - 75'), ('75 - 100'), ('100 - 200'), ('200 - 300'), ('300 - 400')]\n",
    "\n",
    "h = bucket_percentages(buckets_list)\n",
    "\n",
    "ax.bar(x, h, color=['blue', 'blue', 'blue', 'blue', 'green', 'green', 'blue']);\n",
    "\n",
    "ax.set_title('Production Budget vs. Percent Of Movies With Positive ROI Worldwide', \n",
    "             {'fontsize':15, 'fontweight':'bold'})\n",
    "ax.set_xlabel('Production Budget ($M)', fontsize = 14)\n",
    "ax.set_ylabel('Movies With Positive Return Worldwide(%)', fontsize = 14)\n",
    "\n",
    "plt.savefig('./Images/budget_and_positive_roi.png')\n",
    "plt.rc('xtick', labelsize=14) \n",
    "plt.rc('ytick', labelsize=14);"
   ]
  },
  {
   "cell_type": "markdown",
   "metadata": {},
   "source": [
    "**Interpretation:**\n",
    "This visual shows segments of production budget vs. the percentage of relevant movies in a given segment that have a positive ROI. There is a positive relationship between budget and the percentage of movies with a positive return, increasing to over 90% in the range of \\\\$100million - \\\\$200 million, and 95% in the range of \\\\$200 - \\\\$300 million dollars. The ideal budget range for a movie is between \\\\$100million–\\\\$300million because this range has the highest proportion of movies with ROI above 0. After \\\\$300million, the percentage of movies with a positive ROI declines, suggesting there may be a point of diminishing returns when it comes to budget."
   ]
  },
  {
   "cell_type": "markdown",
   "metadata": {},
   "source": [
    "### ROI over time\n",
    "What are the ROI trends month over month for the top movies compared to relevant movies?\n",
    "\n",
    "In the cell below, we are taking the `relevant_movies` and `top_movie_budgets`, grouping by month to get the mean of each dataframes' columns. We then drop irrelevant columns and lastly merge the data into a new dataframes' called  `merged_monthly_df`."
   ]
  },
  {
   "cell_type": "code",
   "execution_count": 18,
   "metadata": {},
   "outputs": [],
   "source": [
    "all_movies_monthly = relevant_movies.groupby('month').mean()\n",
    "all_movies_monthly.drop({'domestic_gross' \n",
    "                       , 'worldwide_gross'\n",
    "                       , 'domestic_profit'\n",
    "                       , 'worldwide_profit'}\n",
    "                      , axis=1, inplace=True)\n",
    "\n",
    "top_movies_monthly = top_movie_budgets.groupby('month').mean()\n",
    "top_movies_monthly.drop({ 'domestic_gross' \n",
    "                       , 'worldwide_gross'\n",
    "                       , 'domestic_profit'\n",
    "                       , 'worldwide_profit'}\n",
    "                      , axis=1, inplace=True)\n",
    "\n",
    "merged_monthly_df = all_movies_monthly.merge(top_movies_monthly, on ='month' )\n",
    "merged_monthly_df.reset_index(inplace= True)"
   ]
  },
  {
   "cell_type": "markdown",
   "metadata": {},
   "source": [
    "In the cell below, we are plotting the newly created DataFrame to show ROI by Month. The red line represents the Mean Worldwide ROI for Top movies and the blue line is Mean Worldwide ROI of relevant movies. "
   ]
  },
  {
   "cell_type": "code",
   "execution_count": 19,
   "metadata": {},
   "outputs": [
    {
     "name": "stderr",
     "output_type": "stream",
     "text": [
      "<ipython-input-19-25b181228328>:10: UserWarning: FixedFormatter should only be used together with FixedLocator\n",
      "  ax.set_xticklabels(months)\n"
     ]
    },
    {
     "data": {
      "image/png": "[encoded data removed]",
      "text/plain": [
       "<Figure size 864x432 with 1 Axes>"
      ]
     },
     "metadata": {
      "needs_background": "light"
     },
     "output_type": "display_data"
    }
   ],
   "source": [
    "fig, ax = plt.subplots(figsize = (12, 6))\n",
    "x = merged_monthly_df['month']\n",
    "y1 = merged_monthly_df['worldwide_roi_x']\n",
    "y2 = merged_monthly_df['worldwide_roi_y']\n",
    "months = ['Jan', 'Feb', 'Mar', 'Apr', 'May', 'Jun', 'Jul', 'Aug', 'Sep', 'Oct', 'Nov', 'Dec']\n",
    "line1, = ax.plot(x, y1)\n",
    "line2, = ax.plot(x, y2, color='red')\n",
    "ax.set_title('Mean Worldwide ROI by Month', {'fontsize':15, 'fontweight':'bold'})\n",
    "ax.set_xlabel('Month', fontsize = 14)\n",
    "ax.set_xticklabels(months)\n",
    "ax.set_xticks(list(range(1,13)))\n",
    "ax.set_ylabel('ROI', fontsize = 14)\n",
    "ax.legend([line2,line1],['Top Movies','Relevant Movies'], loc='upper left');\n",
    "plt.rc('xtick', labelsize=14) \n",
    "plt.rc('ytick', labelsize=14)\n",
    "\n",
    "plt.savefig(\"./Images/monthly_roi_graph.png\");"
   ]
  },
  {
   "cell_type": "markdown",
   "metadata": {},
   "source": [
    "**Interpretation:**\n",
    "Both top movies and relevant movies show the same pattern of ROI increases, which includes spikes in May/June and October/November. The spikes in the fall may be due to cultural events such as Halloween. Our recommendation here is to plan for releases in these months when ROI is highest. "
   ]
  },
  {
   "cell_type": "markdown",
   "metadata": {},
   "source": [
    "### Genre Distributions\n",
    "We now import and merge IMDB data, which provides genre information for movies released from 2010-2019. Using a recent range of data helps ensure that our recommendations for genre are current."
   ]
  },
  {
   "cell_type": "code",
   "execution_count": 20,
   "metadata": {},
   "outputs": [],
   "source": [
    "title_basics  = pd.read_csv(\"./Data/imdb.title.basics.csv\")\n",
    "ratings = pd.read_csv('./Data/imdb.title.ratings.csv.gz')"
   ]
  },
  {
   "cell_type": "markdown",
   "metadata": {},
   "source": [
    "Basic cleaning involves renaming columns, converting years from strings to ints, and dropping extraneous columns."
   ]
  },
  {
   "cell_type": "code",
   "execution_count": 21,
   "metadata": {},
   "outputs": [
    {
     "data": {
      "text/html": [
       "<div>\n",
       "<style scoped>\n",
       "    .dataframe tbody tr th:only-of-type {\n",
       "        vertical-align: middle;\n",
       "    }\n",
       "\n",
       "    .dataframe tbody tr th {\n",
       "        vertical-align: top;\n",
       "    }\n",
       "\n",
       "    .dataframe thead th {\n",
       "        text-align: right;\n",
       "    }\n",
       "</style>\n",
       "<table border=\"1\" class=\"dataframe\">\n",
       "  <thead>\n",
       "    <tr style=\"text-align: right;\">\n",
       "      <th></th>\n",
       "      <th>tconst</th>\n",
       "      <th>movie</th>\n",
       "      <th>original_title</th>\n",
       "      <th>release_year</th>\n",
       "      <th>runtime_minutes</th>\n",
       "      <th>genres</th>\n",
       "      <th>averagerating</th>\n",
       "      <th>numvotes</th>\n",
       "    </tr>\n",
       "  </thead>\n",
       "  <tbody>\n",
       "    <tr>\n",
       "      <th>0</th>\n",
       "      <td>tt0063540</td>\n",
       "      <td>Sunghursh</td>\n",
       "      <td>Sunghursh</td>\n",
       "      <td>2013</td>\n",
       "      <td>175.0</td>\n",
       "      <td>Action,Crime,Drama</td>\n",
       "      <td>7.0</td>\n",
       "      <td>77.0</td>\n",
       "    </tr>\n",
       "    <tr>\n",
       "      <th>1</th>\n",
       "      <td>tt0066787</td>\n",
       "      <td>One Day Before the Rainy Season</td>\n",
       "      <td>Ashad Ka Ek Din</td>\n",
       "      <td>2019</td>\n",
       "      <td>114.0</td>\n",
       "      <td>Biography,Drama</td>\n",
       "      <td>7.2</td>\n",
       "      <td>43.0</td>\n",
       "    </tr>\n",
       "    <tr>\n",
       "      <th>2</th>\n",
       "      <td>tt0069049</td>\n",
       "      <td>The Other Side of the Wind</td>\n",
       "      <td>The Other Side of the Wind</td>\n",
       "      <td>2018</td>\n",
       "      <td>122.0</td>\n",
       "      <td>Drama</td>\n",
       "      <td>6.9</td>\n",
       "      <td>4517.0</td>\n",
       "    </tr>\n",
       "    <tr>\n",
       "      <th>3</th>\n",
       "      <td>tt0069204</td>\n",
       "      <td>Sabse Bada Sukh</td>\n",
       "      <td>Sabse Bada Sukh</td>\n",
       "      <td>2018</td>\n",
       "      <td>NaN</td>\n",
       "      <td>Comedy,Drama</td>\n",
       "      <td>6.1</td>\n",
       "      <td>13.0</td>\n",
       "    </tr>\n",
       "    <tr>\n",
       "      <th>4</th>\n",
       "      <td>tt0100275</td>\n",
       "      <td>The Wandering Soap Opera</td>\n",
       "      <td>La Telenovela Errante</td>\n",
       "      <td>2017</td>\n",
       "      <td>80.0</td>\n",
       "      <td>Comedy,Drama,Fantasy</td>\n",
       "      <td>6.5</td>\n",
       "      <td>119.0</td>\n",
       "    </tr>\n",
       "  </tbody>\n",
       "</table>\n",
       "</div>"
      ],
      "text/plain": [
       "      tconst                            movie              original_title  \\\n",
       "0  tt0063540                        Sunghursh                   Sunghursh   \n",
       "1  tt0066787  One Day Before the Rainy Season             Ashad Ka Ek Din   \n",
       "2  tt0069049       The Other Side of the Wind  The Other Side of the Wind   \n",
       "3  tt0069204                  Sabse Bada Sukh             Sabse Bada Sukh   \n",
       "4  tt0100275         The Wandering Soap Opera       La Telenovela Errante   \n",
       "\n",
       "   release_year  runtime_minutes                genres  averagerating  \\\n",
       "0          2013            175.0    Action,Crime,Drama            7.0   \n",
       "1          2019            114.0       Biography,Drama            7.2   \n",
       "2          2018            122.0                 Drama            6.9   \n",
       "3          2018              NaN          Comedy,Drama            6.1   \n",
       "4          2017             80.0  Comedy,Drama,Fantasy            6.5   \n",
       "\n",
       "   numvotes  \n",
       "0      77.0  \n",
       "1      43.0  \n",
       "2    4517.0  \n",
       "3      13.0  \n",
       "4     119.0  "
      ]
     },
     "execution_count": 21,
     "metadata": {},
     "output_type": "execute_result"
    }
   ],
   "source": [
    "movies_info = title_basics.merge(ratings, how='left', on='tconst')\n",
    "movies_info.rename({'primary_title' : 'movie', \n",
    "                    'start_year' : 'release_year'}, axis =1, inplace= True)\n",
    "movies_info['release_year'] = movies_info['release_year'].astype(int)\n",
    "movies_info.head()"
   ]
  },
  {
   "cell_type": "markdown",
   "metadata": {},
   "source": [
    "We merge our IMDB data into `'top_movies_df'` in order to begin analyzing genre distributions among successful movies compared to all movies from 2010-2019. There are multiple movies with the same name in the IMDB data that are not present in The Numbers, so we merge by both `'movie'` (name) and `'release_year'`, then check that the `'original_title'` from IMDB is in fact the same name as the movie listed in The Numbers. This returns 155 movies representing the most successful movies from this recent decade."
   ]
  },
  {
   "cell_type": "code",
   "execution_count": 22,
   "metadata": {
    "scrolled": true
   },
   "outputs": [
    {
     "data": {
      "text/html": [
       "<div>\n",
       "<style scoped>\n",
       "    .dataframe tbody tr th:only-of-type {\n",
       "        vertical-align: middle;\n",
       "    }\n",
       "\n",
       "    .dataframe tbody tr th {\n",
       "        vertical-align: top;\n",
       "    }\n",
       "\n",
       "    .dataframe thead th {\n",
       "        text-align: right;\n",
       "    }\n",
       "</style>\n",
       "<table border=\"1\" class=\"dataframe\">\n",
       "  <thead>\n",
       "    <tr style=\"text-align: right;\">\n",
       "      <th></th>\n",
       "      <th>release_date</th>\n",
       "      <th>movie</th>\n",
       "      <th>production_budget</th>\n",
       "      <th>domestic_gross</th>\n",
       "      <th>worldwide_gross</th>\n",
       "      <th>release_year</th>\n",
       "      <th>month</th>\n",
       "      <th>domestic_profit</th>\n",
       "      <th>worldwide_profit</th>\n",
       "      <th>domestic_roi</th>\n",
       "      <th>worldwide_roi</th>\n",
       "      <th>tconst</th>\n",
       "      <th>runtime_minutes</th>\n",
       "      <th>genres</th>\n",
       "      <th>averagerating</th>\n",
       "      <th>numvotes</th>\n",
       "    </tr>\n",
       "  </thead>\n",
       "  <tbody>\n",
       "    <tr>\n",
       "      <th>1</th>\n",
       "      <td>Apr 27, 2018</td>\n",
       "      <td>Avengers: Infinity War</td>\n",
       "      <td>300000000</td>\n",
       "      <td>678815482</td>\n",
       "      <td>2048134200</td>\n",
       "      <td>2018</td>\n",
       "      <td>4</td>\n",
       "      <td>378815482</td>\n",
       "      <td>1748134200</td>\n",
       "      <td>1.262718</td>\n",
       "      <td>5.827114</td>\n",
       "      <td>tt4154756</td>\n",
       "      <td>149.0</td>\n",
       "      <td>Action,Adventure,Sci-Fi</td>\n",
       "      <td>8.5</td>\n",
       "      <td>670926.0</td>\n",
       "    </tr>\n",
       "    <tr>\n",
       "      <th>2</th>\n",
       "      <td>May 4, 2012</td>\n",
       "      <td>The Avengers</td>\n",
       "      <td>225000000</td>\n",
       "      <td>623279547</td>\n",
       "      <td>1517935897</td>\n",
       "      <td>2012</td>\n",
       "      <td>5</td>\n",
       "      <td>398279547</td>\n",
       "      <td>1292935897</td>\n",
       "      <td>1.770131</td>\n",
       "      <td>5.746382</td>\n",
       "      <td>tt0848228</td>\n",
       "      <td>143.0</td>\n",
       "      <td>Action,Adventure,Sci-Fi</td>\n",
       "      <td>8.1</td>\n",
       "      <td>1183655.0</td>\n",
       "    </tr>\n",
       "    <tr>\n",
       "      <th>3</th>\n",
       "      <td>Jun 12, 2015</td>\n",
       "      <td>Jurassic World</td>\n",
       "      <td>215000000</td>\n",
       "      <td>652270625</td>\n",
       "      <td>1648854864</td>\n",
       "      <td>2015</td>\n",
       "      <td>6</td>\n",
       "      <td>437270625</td>\n",
       "      <td>1433854864</td>\n",
       "      <td>2.033817</td>\n",
       "      <td>6.669092</td>\n",
       "      <td>tt0369610</td>\n",
       "      <td>124.0</td>\n",
       "      <td>Action,Adventure,Sci-Fi</td>\n",
       "      <td>7.0</td>\n",
       "      <td>539338.0</td>\n",
       "    </tr>\n",
       "    <tr>\n",
       "      <th>4</th>\n",
       "      <td>Feb 16, 2018</td>\n",
       "      <td>Black Panther</td>\n",
       "      <td>200000000</td>\n",
       "      <td>700059566</td>\n",
       "      <td>1348258224</td>\n",
       "      <td>2018</td>\n",
       "      <td>2</td>\n",
       "      <td>500059566</td>\n",
       "      <td>1148258224</td>\n",
       "      <td>2.500298</td>\n",
       "      <td>5.741291</td>\n",
       "      <td>tt1825683</td>\n",
       "      <td>134.0</td>\n",
       "      <td>Action,Adventure,Sci-Fi</td>\n",
       "      <td>7.3</td>\n",
       "      <td>516148.0</td>\n",
       "    </tr>\n",
       "    <tr>\n",
       "      <th>6</th>\n",
       "      <td>Jun 15, 2018</td>\n",
       "      <td>Incredibles 2</td>\n",
       "      <td>200000000</td>\n",
       "      <td>608581744</td>\n",
       "      <td>1242520711</td>\n",
       "      <td>2018</td>\n",
       "      <td>6</td>\n",
       "      <td>408581744</td>\n",
       "      <td>1042520711</td>\n",
       "      <td>2.042909</td>\n",
       "      <td>5.212604</td>\n",
       "      <td>tt3606756</td>\n",
       "      <td>118.0</td>\n",
       "      <td>Action,Adventure,Animation</td>\n",
       "      <td>7.7</td>\n",
       "      <td>203510.0</td>\n",
       "    </tr>\n",
       "  </tbody>\n",
       "</table>\n",
       "</div>"
      ],
      "text/plain": [
       "   release_date                   movie  production_budget  domestic_gross  \\\n",
       "1  Apr 27, 2018  Avengers: Infinity War          300000000       678815482   \n",
       "2   May 4, 2012            The Avengers          225000000       623279547   \n",
       "3  Jun 12, 2015          Jurassic World          215000000       652270625   \n",
       "4  Feb 16, 2018           Black Panther          200000000       700059566   \n",
       "6  Jun 15, 2018           Incredibles 2          200000000       608581744   \n",
       "\n",
       "   worldwide_gross  release_year  month  domestic_profit  worldwide_profit  \\\n",
       "1       2048134200          2018      4        378815482        1748134200   \n",
       "2       1517935897          2012      5        398279547        1292935897   \n",
       "3       1648854864          2015      6        437270625        1433854864   \n",
       "4       1348258224          2018      2        500059566        1148258224   \n",
       "6       1242520711          2018      6        408581744        1042520711   \n",
       "\n",
       "   domestic_roi  worldwide_roi     tconst  runtime_minutes  \\\n",
       "1      1.262718       5.827114  tt4154756            149.0   \n",
       "2      1.770131       5.746382  tt0848228            143.0   \n",
       "3      2.033817       6.669092  tt0369610            124.0   \n",
       "4      2.500298       5.741291  tt1825683            134.0   \n",
       "6      2.042909       5.212604  tt3606756            118.0   \n",
       "\n",
       "                       genres  averagerating   numvotes  \n",
       "1     Action,Adventure,Sci-Fi            8.5   670926.0  \n",
       "2     Action,Adventure,Sci-Fi            8.1  1183655.0  \n",
       "3     Action,Adventure,Sci-Fi            7.0   539338.0  \n",
       "4     Action,Adventure,Sci-Fi            7.3   516148.0  \n",
       "6  Action,Adventure,Animation            7.7   203510.0  "
      ]
     },
     "execution_count": 22,
     "metadata": {},
     "output_type": "execute_result"
    }
   ],
   "source": [
    "top_movies_df = top_movie_budgets.merge(movies_info, how='left', on =['movie','release_year'])\n",
    "top_movies_df = top_movies_df[top_movies_df['movie']== top_movies_df['original_title']]\n",
    "top_movies_df.drop('original_title', axis=1, inplace=True)\n",
    "top_movies_df.head()"
   ]
  },
  {
   "cell_type": "code",
   "execution_count": 23,
   "metadata": {},
   "outputs": [
    {
     "name": "stdout",
     "output_type": "stream",
     "text": [
      "<class 'pandas.core.frame.DataFrame'>\n",
      "Int64Index: 240 entries, 1 to 780\n",
      "Data columns (total 16 columns):\n",
      " #   Column             Non-Null Count  Dtype  \n",
      "---  ------             --------------  -----  \n",
      " 0   release_date       240 non-null    object \n",
      " 1   movie              240 non-null    object \n",
      " 2   production_budget  240 non-null    int64  \n",
      " 3   domestic_gross     240 non-null    int64  \n",
      " 4   worldwide_gross    240 non-null    int64  \n",
      " 5   release_year       240 non-null    int64  \n",
      " 6   month              240 non-null    int64  \n",
      " 7   domestic_profit    240 non-null    int64  \n",
      " 8   worldwide_profit   240 non-null    int64  \n",
      " 9   domestic_roi       240 non-null    float64\n",
      " 10  worldwide_roi      240 non-null    float64\n",
      " 11  tconst             240 non-null    object \n",
      " 12  runtime_minutes    240 non-null    float64\n",
      " 13  genres             240 non-null    object \n",
      " 14  averagerating      238 non-null    float64\n",
      " 15  numvotes           238 non-null    float64\n",
      "dtypes: float64(5), int64(7), object(4)\n",
      "memory usage: 31.9+ KB\n"
     ]
    }
   ],
   "source": [
    "top_movies_df.info()"
   ]
  },
  {
   "cell_type": "markdown",
   "metadata": {},
   "source": [
    "According to the IMDB documentation for this dataset, movies can have up to 3 listed `'genres'`. Many movies have `'Horror,Mystery,Thriller'`, for example. We decide to count each instance of a genre to calculate the popularity of genres overall and for top movies."
   ]
  },
  {
   "cell_type": "code",
   "execution_count": 24,
   "metadata": {},
   "outputs": [
    {
     "data": {
      "text/plain": [
       "Horror,Mystery,Thriller       22\n",
       "Comedy,Drama                  14\n",
       "Adventure,Animation,Comedy    13\n",
       "Comedy,Romance                12\n",
       "Comedy,Drama,Romance          11\n",
       "                              ..\n",
       "Documentary,Music              1\n",
       "Drama,Fantasy,Music            1\n",
       "Fantasy                        1\n",
       "Comedy,Drama,Family            1\n",
       "Documentary                    1\n",
       "Name: genres, Length: 88, dtype: int64"
      ]
     },
     "execution_count": 24,
     "metadata": {},
     "output_type": "execute_result"
    }
   ],
   "source": [
    "top_movies_df.genres.value_counts()"
   ]
  },
  {
   "cell_type": "markdown",
   "metadata": {},
   "source": [
    "In order to count each genre, we will expand each movie into multiple rows, one for each of its listed genres.\n",
    "\n",
    "First, we obtain a list of the column names without the target `'genres'` column."
   ]
  },
  {
   "cell_type": "code",
   "execution_count": 25,
   "metadata": {
    "scrolled": true
   },
   "outputs": [
    {
     "data": {
      "text/plain": [
       "['release_date',\n",
       " 'movie',\n",
       " 'production_budget',\n",
       " 'domestic_gross',\n",
       " 'worldwide_gross',\n",
       " 'release_year',\n",
       " 'month',\n",
       " 'domestic_profit',\n",
       " 'worldwide_profit',\n",
       " 'domestic_roi',\n",
       " 'worldwide_roi',\n",
       " 'tconst',\n",
       " 'runtime_minutes',\n",
       " 'averagerating',\n",
       " 'numvotes']"
      ]
     },
     "execution_count": 25,
     "metadata": {},
     "output_type": "execute_result"
    }
   ],
   "source": [
    "top_movies_df_columns = list(top_movies_df.columns)\n",
    "top_movies_df_columns.remove('genres')\n",
    "top_movies_df_columns"
   ]
  },
  {
   "cell_type": "markdown",
   "metadata": {},
   "source": [
    "We drop all `NaN` values in `'genres'` before splitting the `strings`. Next we convert these new values into a Pandas Series, before melting them back into the `top_movies_df` DataFrame."
   ]
  },
  {
   "cell_type": "code",
   "execution_count": 26,
   "metadata": {},
   "outputs": [],
   "source": [
    "top_movies_df.dropna(subset=['genres'], inplace=True)\n",
    "top_movies_df['genres'] = top_movies_df['genres'].map(lambda x: x.split(\",\"))\n",
    "\n",
    "top_movies_df = top_movies_df.genres.apply(pd.Series) \\\n",
    "    .merge(top_movies_df, right_index = True, left_index = True) \\\n",
    "    .drop([\"genres\"], axis = 1) \\\n",
    "    .melt(id_vars = top_movies_df_columns , value_name = \"genres\") \\\n",
    "    .dropna()"
   ]
  },
  {
   "cell_type": "code",
   "execution_count": 27,
   "metadata": {
    "scrolled": true
   },
   "outputs": [
    {
     "data": {
      "text/html": [
       "<div>\n",
       "<style scoped>\n",
       "    .dataframe tbody tr th:only-of-type {\n",
       "        vertical-align: middle;\n",
       "    }\n",
       "\n",
       "    .dataframe tbody tr th {\n",
       "        vertical-align: top;\n",
       "    }\n",
       "\n",
       "    .dataframe thead th {\n",
       "        text-align: right;\n",
       "    }\n",
       "</style>\n",
       "<table border=\"1\" class=\"dataframe\">\n",
       "  <thead>\n",
       "    <tr style=\"text-align: right;\">\n",
       "      <th></th>\n",
       "      <th>release_date</th>\n",
       "      <th>movie</th>\n",
       "      <th>production_budget</th>\n",
       "      <th>domestic_gross</th>\n",
       "      <th>worldwide_gross</th>\n",
       "      <th>release_year</th>\n",
       "      <th>month</th>\n",
       "      <th>domestic_profit</th>\n",
       "      <th>worldwide_profit</th>\n",
       "      <th>domestic_roi</th>\n",
       "      <th>worldwide_roi</th>\n",
       "      <th>tconst</th>\n",
       "      <th>runtime_minutes</th>\n",
       "      <th>averagerating</th>\n",
       "      <th>numvotes</th>\n",
       "      <th>variable</th>\n",
       "      <th>genres</th>\n",
       "    </tr>\n",
       "  </thead>\n",
       "  <tbody>\n",
       "    <tr>\n",
       "      <th>0</th>\n",
       "      <td>Apr 27, 2018</td>\n",
       "      <td>Avengers: Infinity War</td>\n",
       "      <td>300000000</td>\n",
       "      <td>678815482</td>\n",
       "      <td>2048134200</td>\n",
       "      <td>2018</td>\n",
       "      <td>4</td>\n",
       "      <td>378815482</td>\n",
       "      <td>1748134200</td>\n",
       "      <td>1.262718</td>\n",
       "      <td>5.827114</td>\n",
       "      <td>tt4154756</td>\n",
       "      <td>149.0</td>\n",
       "      <td>8.5</td>\n",
       "      <td>670926.0</td>\n",
       "      <td>0</td>\n",
       "      <td>Action</td>\n",
       "    </tr>\n",
       "    <tr>\n",
       "      <th>1</th>\n",
       "      <td>May 4, 2012</td>\n",
       "      <td>The Avengers</td>\n",
       "      <td>225000000</td>\n",
       "      <td>623279547</td>\n",
       "      <td>1517935897</td>\n",
       "      <td>2012</td>\n",
       "      <td>5</td>\n",
       "      <td>398279547</td>\n",
       "      <td>1292935897</td>\n",
       "      <td>1.770131</td>\n",
       "      <td>5.746382</td>\n",
       "      <td>tt0848228</td>\n",
       "      <td>143.0</td>\n",
       "      <td>8.1</td>\n",
       "      <td>1183655.0</td>\n",
       "      <td>0</td>\n",
       "      <td>Action</td>\n",
       "    </tr>\n",
       "    <tr>\n",
       "      <th>2</th>\n",
       "      <td>Jun 12, 2015</td>\n",
       "      <td>Jurassic World</td>\n",
       "      <td>215000000</td>\n",
       "      <td>652270625</td>\n",
       "      <td>1648854864</td>\n",
       "      <td>2015</td>\n",
       "      <td>6</td>\n",
       "      <td>437270625</td>\n",
       "      <td>1433854864</td>\n",
       "      <td>2.033817</td>\n",
       "      <td>6.669092</td>\n",
       "      <td>tt0369610</td>\n",
       "      <td>124.0</td>\n",
       "      <td>7.0</td>\n",
       "      <td>539338.0</td>\n",
       "      <td>0</td>\n",
       "      <td>Action</td>\n",
       "    </tr>\n",
       "    <tr>\n",
       "      <th>3</th>\n",
       "      <td>Feb 16, 2018</td>\n",
       "      <td>Black Panther</td>\n",
       "      <td>200000000</td>\n",
       "      <td>700059566</td>\n",
       "      <td>1348258224</td>\n",
       "      <td>2018</td>\n",
       "      <td>2</td>\n",
       "      <td>500059566</td>\n",
       "      <td>1148258224</td>\n",
       "      <td>2.500298</td>\n",
       "      <td>5.741291</td>\n",
       "      <td>tt1825683</td>\n",
       "      <td>134.0</td>\n",
       "      <td>7.3</td>\n",
       "      <td>516148.0</td>\n",
       "      <td>0</td>\n",
       "      <td>Action</td>\n",
       "    </tr>\n",
       "    <tr>\n",
       "      <th>4</th>\n",
       "      <td>Jun 15, 2018</td>\n",
       "      <td>Incredibles 2</td>\n",
       "      <td>200000000</td>\n",
       "      <td>608581744</td>\n",
       "      <td>1242520711</td>\n",
       "      <td>2018</td>\n",
       "      <td>6</td>\n",
       "      <td>408581744</td>\n",
       "      <td>1042520711</td>\n",
       "      <td>2.042909</td>\n",
       "      <td>5.212604</td>\n",
       "      <td>tt3606756</td>\n",
       "      <td>118.0</td>\n",
       "      <td>7.7</td>\n",
       "      <td>203510.0</td>\n",
       "      <td>0</td>\n",
       "      <td>Action</td>\n",
       "    </tr>\n",
       "  </tbody>\n",
       "</table>\n",
       "</div>"
      ],
      "text/plain": [
       "   release_date                   movie  production_budget  domestic_gross  \\\n",
       "0  Apr 27, 2018  Avengers: Infinity War          300000000       678815482   \n",
       "1   May 4, 2012            The Avengers          225000000       623279547   \n",
       "2  Jun 12, 2015          Jurassic World          215000000       652270625   \n",
       "3  Feb 16, 2018           Black Panther          200000000       700059566   \n",
       "4  Jun 15, 2018           Incredibles 2          200000000       608581744   \n",
       "\n",
       "   worldwide_gross  release_year  month  domestic_profit  worldwide_profit  \\\n",
       "0       2048134200          2018      4        378815482        1748134200   \n",
       "1       1517935897          2012      5        398279547        1292935897   \n",
       "2       1648854864          2015      6        437270625        1433854864   \n",
       "3       1348258224          2018      2        500059566        1148258224   \n",
       "4       1242520711          2018      6        408581744        1042520711   \n",
       "\n",
       "   domestic_roi  worldwide_roi     tconst  runtime_minutes  averagerating  \\\n",
       "0      1.262718       5.827114  tt4154756            149.0            8.5   \n",
       "1      1.770131       5.746382  tt0848228            143.0            8.1   \n",
       "2      2.033817       6.669092  tt0369610            124.0            7.0   \n",
       "3      2.500298       5.741291  tt1825683            134.0            7.3   \n",
       "4      2.042909       5.212604  tt3606756            118.0            7.7   \n",
       "\n",
       "    numvotes variable  genres  \n",
       "0   670926.0        0  Action  \n",
       "1  1183655.0        0  Action  \n",
       "2   539338.0        0  Action  \n",
       "3   516148.0        0  Action  \n",
       "4   203510.0        0  Action  "
      ]
     },
     "execution_count": 27,
     "metadata": {},
     "output_type": "execute_result"
    }
   ],
   "source": [
    "top_movies_df.head()"
   ]
  },
  {
   "cell_type": "markdown",
   "metadata": {},
   "source": [
    "We can now obtain a count of every time each genre is listed among the genres for all top movies."
   ]
  },
  {
   "cell_type": "code",
   "execution_count": 28,
   "metadata": {},
   "outputs": [
    {
     "data": {
      "text/plain": [
       "Drama          121\n",
       "Comedy          95\n",
       "Horror          50\n",
       "Thriller        48\n",
       "Adventure       43\n",
       "Action          42\n",
       "Mystery         42\n",
       "Romance         37\n",
       "Biography       27\n",
       "Sci-Fi          25\n",
       "Crime           25\n",
       "Animation       19\n",
       "Fantasy         14\n",
       "Family          13\n",
       "Music            9\n",
       "History          6\n",
       "Sport            4\n",
       "Musical          2\n",
       "Documentary      2\n",
       "War              1\n",
       "Western          1\n",
       "Name: genres, dtype: int64"
      ]
     },
     "execution_count": 28,
     "metadata": {},
     "output_type": "execute_result"
    }
   ],
   "source": [
    "top_movies_df.genres.value_counts()"
   ]
  },
  {
   "cell_type": "markdown",
   "metadata": {},
   "source": [
    "We now perform the same operation on the full IMDB `movies_info` DataFrame in order to compare the genre distributions of the top movies to the distribution for all movies."
   ]
  },
  {
   "cell_type": "code",
   "execution_count": 29,
   "metadata": {},
   "outputs": [
    {
     "data": {
      "text/html": [
       "<div>\n",
       "<style scoped>\n",
       "    .dataframe tbody tr th:only-of-type {\n",
       "        vertical-align: middle;\n",
       "    }\n",
       "\n",
       "    .dataframe tbody tr th {\n",
       "        vertical-align: top;\n",
       "    }\n",
       "\n",
       "    .dataframe thead th {\n",
       "        text-align: right;\n",
       "    }\n",
       "</style>\n",
       "<table border=\"1\" class=\"dataframe\">\n",
       "  <thead>\n",
       "    <tr style=\"text-align: right;\">\n",
       "      <th></th>\n",
       "      <th>movie</th>\n",
       "      <th>release_year</th>\n",
       "      <th>genres</th>\n",
       "    </tr>\n",
       "  </thead>\n",
       "  <tbody>\n",
       "    <tr>\n",
       "      <th>0</th>\n",
       "      <td>Sunghursh</td>\n",
       "      <td>2013</td>\n",
       "      <td>Action,Crime,Drama</td>\n",
       "    </tr>\n",
       "    <tr>\n",
       "      <th>1</th>\n",
       "      <td>One Day Before the Rainy Season</td>\n",
       "      <td>2019</td>\n",
       "      <td>Biography,Drama</td>\n",
       "    </tr>\n",
       "    <tr>\n",
       "      <th>2</th>\n",
       "      <td>The Other Side of the Wind</td>\n",
       "      <td>2018</td>\n",
       "      <td>Drama</td>\n",
       "    </tr>\n",
       "    <tr>\n",
       "      <th>3</th>\n",
       "      <td>Sabse Bada Sukh</td>\n",
       "      <td>2018</td>\n",
       "      <td>Comedy,Drama</td>\n",
       "    </tr>\n",
       "    <tr>\n",
       "      <th>4</th>\n",
       "      <td>The Wandering Soap Opera</td>\n",
       "      <td>2017</td>\n",
       "      <td>Comedy,Drama,Fantasy</td>\n",
       "    </tr>\n",
       "  </tbody>\n",
       "</table>\n",
       "</div>"
      ],
      "text/plain": [
       "                             movie  release_year                genres\n",
       "0                        Sunghursh          2013    Action,Crime,Drama\n",
       "1  One Day Before the Rainy Season          2019       Biography,Drama\n",
       "2       The Other Side of the Wind          2018                 Drama\n",
       "3                  Sabse Bada Sukh          2018          Comedy,Drama\n",
       "4         The Wandering Soap Opera          2017  Comedy,Drama,Fantasy"
      ]
     },
     "execution_count": 29,
     "metadata": {},
     "output_type": "execute_result"
    }
   ],
   "source": [
    "movies_info.drop(['tconst', 'original_title', 'runtime_minutes', 'averagerating', 'numvotes'], axis=1, inplace=True)\n",
    "movies_info.head()"
   ]
  },
  {
   "cell_type": "code",
   "execution_count": null,
   "metadata": {},
   "outputs": [],
   "source": [
    "movies_info_columns = list(movies_info.columns)\n",
    "movies_info_columns.remove('genres')\n",
    "movies_info_columns\n",
    "\n",
    "movies_info.dropna(subset=['genres'], inplace=True)\n",
    "movies_info['genres'] = movies_info['genres'].map(lambda x: x.split(\",\"))\n",
    "\n",
    "movies_info = movies_info.genres.apply(pd.Series) \\\n",
    "    .merge(movies_info, right_index = True, left_index = True) \\\n",
    "    .drop([\"genres\"], axis = 1) \\\n",
    "    .melt(id_vars = movies_info_columns , value_name = \"genres\") \\\n",
    "    .dropna()"
   ]
  },
  {
   "cell_type": "code",
   "execution_count": null,
   "metadata": {
    "scrolled": false
   },
   "outputs": [],
   "source": [
    "movies_info.head()"
   ]
  },
  {
   "cell_type": "code",
   "execution_count": null,
   "metadata": {},
   "outputs": [],
   "source": [
    "movies_info.genres.value_counts()"
   ]
  },
  {
   "cell_type": "markdown",
   "metadata": {},
   "source": [
    "In order to visualize the distributions, we create a `'compare_genres_df'` by merging together the counts and percentages for top movies and all movies."
   ]
  },
  {
   "cell_type": "code",
   "execution_count": null,
   "metadata": {},
   "outputs": [],
   "source": [
    "all_genres_df = movies_info.groupby('genres')['genres'].count()\n",
    "all_genres_df = pd.Series.to_frame(all_genres_df) \n",
    "all_genres_df.rename(columns={'genres': 'count_all'}, inplace=True)\n",
    "all_genres_df.reset_index(inplace=True)\n",
    "all_genres_df.head()"
   ]
  },
  {
   "cell_type": "code",
   "execution_count": null,
   "metadata": {},
   "outputs": [],
   "source": [
    "top_genres_df = top_movies_df.groupby('genres')['genres'].count()\n",
    "top_genres_df = pd.Series.to_frame(top_genres_df)\n",
    "top_genres_df.rename(columns={'genres': 'count_top'}, inplace=True)\n",
    "top_genres_df.reset_index(inplace=True)\n",
    "top_genres_df.head()"
   ]
  },
  {
   "cell_type": "code",
   "execution_count": null,
   "metadata": {},
   "outputs": [],
   "source": [
    "compare_genres_df = top_genres_df.merge(all_genres_df, how='left')\n",
    "compare_genres_df"
   ]
  },
  {
   "cell_type": "code",
   "execution_count": null,
   "metadata": {},
   "outputs": [],
   "source": [
    "count_top_sum = compare_genres_df.count_top.sum()\n",
    "count_all_sum = compare_genres_df.count_all.sum()\n",
    "compare_genres_df['percentage_top'] = compare_genres_df['count_top'].map(lambda x: 100*(x/count_top_sum))\n",
    "compare_genres_df['percentage_all'] = compare_genres_df['count_all'].map(lambda x: 100*(x/count_all_sum))\n",
    "\n",
    "compare_genres_df.head()"
   ]
  },
  {
   "cell_type": "markdown",
   "metadata": {},
   "source": [
    "Now we can visualize the distribution of genres among the previously identified subset of most financially successful \"top movies\" and compare it to the distribution among movies overall."
   ]
  },
  {
   "cell_type": "code",
   "execution_count": null,
   "metadata": {},
   "outputs": [],
   "source": [
    "xlabels = list(compare_genres_df['genres'])\n",
    "top_genre_percentages = list(compare_genres_df['percentage_top'])\n",
    "all_genre_percentages = list(compare_genres_df['percentage_all'])\n",
    "\n",
    "x = np.arange(len(xlabels))\n",
    "width = 0.35\n",
    "\n",
    "fig, ax = plt.subplots(figsize=(20, 10))\n",
    "ax.bar(x - width/2, top_genre_percentages, width, label='Top movies', color='limegreen')\n",
    "ax.bar(x + width/2, all_genre_percentages, width, label='All movies', color='cornflowerblue')\n",
    "\n",
    "ax.set_title('Distribution of Genres', size=30)\n",
    "ax.set_ylabel('Movies (%)', size=25)\n",
    "ax.tick_params(axis='y', labelsize=20)\n",
    "ax.set_xticks(x)\n",
    "ax.set_xticklabels(xlabels, size=15, rotation=45)\n",
    "ax.set_xlabel('Genres', size=25)\n",
    "ax.legend(fontsize=20)\n",
    "\n",
    "fig.tight_layout()\n",
    "\n",
    "plt.savefig('./Images/distribution_of_genres.png')\n",
    "plt.show()"
   ]
  },
  {
   "cell_type": "markdown",
   "metadata": {},
   "source": [
    "**Interpretation:**\n",
    "Dramas and documentaries are the two most common genres for movies overall, but documentaries are rarely present among the most financially successful movies. Comedies are present at higher rates among top movies than in the general movie population, as are action/adventure and horror/thriller/mystery. We recommend focusing production in the genres that are more prevalent among top movies than in general, but still including dramas as these are the most prevalent genre."
   ]
  },
  {
   "cell_type": "markdown",
   "metadata": {},
   "source": [
    "## Conclusions"
   ]
  },
  {
   "cell_type": "markdown",
   "metadata": {},
   "source": [
    "This analysis leads to three main recommendations for Microsoft in their new movie production venture:\n",
    " - **Optimal budget range is \\\\$100 million–\\\\$300 million for the best chance of a positive ROI.** This range has the highest proportion of movies with ROI above 0.\n",
    " - **Maximize ROI by releasing movies in May, June, October and November.** We recommend planning for these months due to the spikes in worldwide ROI seen for both our subsets of Relevant and Top movies.\n",
    " - **Prioritize production of dramas and comedies.** Although documentaries are very popular among all movies, these are rarely financially successful. Other genres more prevalent among top movies include action/adventure and horror/thriller/mystery."
   ]
  },
  {
   "cell_type": "markdown",
   "metadata": {},
   "source": [
    "#### Next Steps:"
   ]
  },
  {
   "cell_type": "markdown",
   "metadata": {},
   "source": [
    "With further analysis of the data, we may be able to give further insight and more specific recommendations on the following:\n",
    " - **ROI by month with number of movies released.** Are the trends in ROI over the course of a year affected by the number of movies released each month?\n",
    " - **ROI by genre over time.** Is there a spike in winter because of Christmas movies? Which genres drive the summer spike?\n",
    " - **Genre popularity over time to identify historical trends.** Are certain genres more popular in certain months? Are there historical trends showing rising or falling popularity of genres?"
   ]
  }
 ],
 "metadata": {
  "kernelspec": {
   "display_name": "Python 3",
   "language": "python",
   "name": "python3"
  },
  "language_info": {
   "codemirror_mode": {
    "name": "ipython",
    "version": 3
   },
   "file_extension": ".py",
   "mimetype": "text/x-python",
   "name": "python",
   "nbconvert_exporter": "python",
   "pygments_lexer": "ipython3",
   "version": "3.8.5"
  }
 },
 "nbformat": 4,
 "nbformat_minor": 4
}
