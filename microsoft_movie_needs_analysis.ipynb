{
 "cells": [
  {
   "cell_type": "markdown",
   "metadata": {},
   "source": [
    "# Microsoft Movie Needs Analysis"
   ]
  },
  {
   "cell_type": "markdown",
   "metadata": {},
   "source": [
    "**Authors:** Lorela Blaka, Eric Denbin, Jesse Markowitz"
   ]
  },
  {
   "cell_type": "markdown",
   "metadata": {},
   "source": [
    "## Overview"
   ]
  },
  {
   "cell_type": "markdown",
   "metadata": {},
   "source": [
    "Microsoft bleep blop bloop"
   ]
  },
  {
   "cell_type": "markdown",
   "metadata": {},
   "source": [
    "### Business Problem"
   ]
  },
  {
   "cell_type": "markdown",
   "metadata": {},
   "source": [
    "Microsoft blah blah blah..."
   ]
  },
  {
   "cell_type": "markdown",
   "metadata": {},
   "source": [
    "## Data Understanding"
   ]
  },
  {
   "cell_type": "markdown",
   "metadata": {},
   "source": [
    "\"The Numbers\" is a movie blog focused on data. It publicly available datasets containing historical financial information from the first movies to the latest. IMDB has several datasets available of movie details such as cast, crew, runtime, genre, and ratings."
   ]
  },
  {
   "cell_type": "code",
   "execution_count": 1,
   "metadata": {},
   "outputs": [],
   "source": [
    "import pandas as pd\n",
    "import numpy as np\n",
    "import datetime as datetime\n",
    "import matplotlib.pyplot as plt"
   ]
  },
  {
   "cell_type": "markdown",
   "metadata": {},
   "source": [
    "### Analyzing financial data from The Numbers\n",
    "This data set details production budget, as well as domestic and worldwide gross revenue. It also specifies the exact release date for each movie."
   ]
  },
  {
   "cell_type": "code",
   "execution_count": 2,
   "metadata": {},
   "outputs": [
    {
     "data": {
      "text/html": [
       "<div>\n",
       "<style scoped>\n",
       "    .dataframe tbody tr th:only-of-type {\n",
       "        vertical-align: middle;\n",
       "    }\n",
       "\n",
       "    .dataframe tbody tr th {\n",
       "        vertical-align: top;\n",
       "    }\n",
       "\n",
       "    .dataframe thead th {\n",
       "        text-align: right;\n",
       "    }\n",
       "</style>\n",
       "<table border=\"1\" class=\"dataframe\">\n",
       "  <thead>\n",
       "    <tr style=\"text-align: right;\">\n",
       "      <th></th>\n",
       "      <th>id</th>\n",
       "      <th>release_date</th>\n",
       "      <th>movie</th>\n",
       "      <th>production_budget</th>\n",
       "      <th>domestic_gross</th>\n",
       "      <th>worldwide_gross</th>\n",
       "    </tr>\n",
       "  </thead>\n",
       "  <tbody>\n",
       "    <tr>\n",
       "      <th>0</th>\n",
       "      <td>1</td>\n",
       "      <td>Dec 18, 2009</td>\n",
       "      <td>Avatar</td>\n",
       "      <td>$425,000,000</td>\n",
       "      <td>$760,507,625</td>\n",
       "      <td>$2,776,345,279</td>\n",
       "    </tr>\n",
       "    <tr>\n",
       "      <th>1</th>\n",
       "      <td>2</td>\n",
       "      <td>May 20, 2011</td>\n",
       "      <td>Pirates of the Caribbean: On Stranger Tides</td>\n",
       "      <td>$410,600,000</td>\n",
       "      <td>$241,063,875</td>\n",
       "      <td>$1,045,663,875</td>\n",
       "    </tr>\n",
       "    <tr>\n",
       "      <th>2</th>\n",
       "      <td>3</td>\n",
       "      <td>Jun 7, 2019</td>\n",
       "      <td>Dark Phoenix</td>\n",
       "      <td>$350,000,000</td>\n",
       "      <td>$42,762,350</td>\n",
       "      <td>$149,762,350</td>\n",
       "    </tr>\n",
       "    <tr>\n",
       "      <th>3</th>\n",
       "      <td>4</td>\n",
       "      <td>May 1, 2015</td>\n",
       "      <td>Avengers: Age of Ultron</td>\n",
       "      <td>$330,600,000</td>\n",
       "      <td>$459,005,868</td>\n",
       "      <td>$1,403,013,963</td>\n",
       "    </tr>\n",
       "    <tr>\n",
       "      <th>4</th>\n",
       "      <td>5</td>\n",
       "      <td>Dec 15, 2017</td>\n",
       "      <td>Star Wars Ep. VIII: The Last Jedi</td>\n",
       "      <td>$317,000,000</td>\n",
       "      <td>$620,181,382</td>\n",
       "      <td>$1,316,721,747</td>\n",
       "    </tr>\n",
       "  </tbody>\n",
       "</table>\n",
       "</div>"
      ],
      "text/plain": [
       "   id  release_date                                        movie  \\\n",
       "0   1  Dec 18, 2009                                       Avatar   \n",
       "1   2  May 20, 2011  Pirates of the Caribbean: On Stranger Tides   \n",
       "2   3   Jun 7, 2019                                 Dark Phoenix   \n",
       "3   4   May 1, 2015                      Avengers: Age of Ultron   \n",
       "4   5  Dec 15, 2017            Star Wars Ep. VIII: The Last Jedi   \n",
       "\n",
       "  production_budget domestic_gross worldwide_gross  \n",
       "0      $425,000,000   $760,507,625  $2,776,345,279  \n",
       "1      $410,600,000   $241,063,875  $1,045,663,875  \n",
       "2      $350,000,000    $42,762,350    $149,762,350  \n",
       "3      $330,600,000   $459,005,868  $1,403,013,963  \n",
       "4      $317,000,000   $620,181,382  $1,316,721,747  "
      ]
     },
     "execution_count": 2,
     "metadata": {},
     "output_type": "execute_result"
    }
   ],
   "source": [
    "movie_budgets = pd.read_csv('unzippedData/tn.movie_budgets.csv')\n",
    "movie_budgets.head()"
   ]
  },
  {
   "cell_type": "markdown",
   "metadata": {},
   "source": [
    "The dates are `strings`, so we add a `'release_year'` column with the year as `int` type. We also drop `'id'`."
   ]
  },
  {
   "cell_type": "code",
   "execution_count": 3,
   "metadata": {},
   "outputs": [],
   "source": [
    "movie_budgets['release_year'] = movie_budgets['release_date'].map(lambda x: int(x[-4:]))\n",
    "movie_budgets.drop('id', axis=1, inplace=True)"
   ]
  },
  {
   "cell_type": "markdown",
   "metadata": {},
   "source": [
    "All financial datapoints are also given as `strings`, so we convert to `ints`, then add columns for profit and ROI, both domestic and worldwide."
   ]
  },
  {
   "cell_type": "code",
   "execution_count": 4,
   "metadata": {},
   "outputs": [],
   "source": [
    "# lambda function starts index at 1 to remove $ in value, converts to int \n",
    "movie_budgets['worldwide_gross'] = movie_budgets['worldwide_gross'].map(lambda x: int(x[1:].replace(\",\",\"\")))\n",
    "movie_budgets['production_budget'] = movie_budgets['production_budget'].map(lambda x: int(x[1:].replace(\",\",\"\")))\n",
    "movie_budgets['domestic_gross'] = movie_budgets['domestic_gross'].map(lambda x: int(x[1:].replace(\",\",\"\")))"
   ]
  },
  {
   "cell_type": "code",
   "execution_count": 5,
   "metadata": {},
   "outputs": [],
   "source": [
    "movie_budgets[\"domestic_profit\"] = movie_budgets[\"domestic_gross\"] - movie_budgets[\"production_budget\"]\n",
    "movie_budgets[\"worldwide_profit\"] = movie_budgets[\"worldwide_gross\"] - movie_budgets[\"production_budget\"]"
   ]
  },
  {
   "cell_type": "code",
   "execution_count": 6,
   "metadata": {},
   "outputs": [],
   "source": [
    "movie_budgets[\"domestic_roi\"] = movie_budgets[\"domestic_profit\"]/movie_budgets['production_budget']\n",
    "movie_budgets[\"worldwide_roi\"] = movie_budgets[\"worldwide_profit\"]/movie_budgets[\"production_budget\"]"
   ]
  },
  {
   "cell_type": "code",
   "execution_count": 7,
   "metadata": {},
   "outputs": [
    {
     "data": {
      "text/html": [
       "<div>\n",
       "<style scoped>\n",
       "    .dataframe tbody tr th:only-of-type {\n",
       "        vertical-align: middle;\n",
       "    }\n",
       "\n",
       "    .dataframe tbody tr th {\n",
       "        vertical-align: top;\n",
       "    }\n",
       "\n",
       "    .dataframe thead th {\n",
       "        text-align: right;\n",
       "    }\n",
       "</style>\n",
       "<table border=\"1\" class=\"dataframe\">\n",
       "  <thead>\n",
       "    <tr style=\"text-align: right;\">\n",
       "      <th></th>\n",
       "      <th>release_date</th>\n",
       "      <th>movie</th>\n",
       "      <th>production_budget</th>\n",
       "      <th>domestic_gross</th>\n",
       "      <th>worldwide_gross</th>\n",
       "      <th>release_year</th>\n",
       "      <th>domestic_profit</th>\n",
       "      <th>worldwide_profit</th>\n",
       "      <th>domestic_roi</th>\n",
       "      <th>worldwide_roi</th>\n",
       "    </tr>\n",
       "  </thead>\n",
       "  <tbody>\n",
       "    <tr>\n",
       "      <th>0</th>\n",
       "      <td>Dec 18, 2009</td>\n",
       "      <td>Avatar</td>\n",
       "      <td>425000000</td>\n",
       "      <td>760507625</td>\n",
       "      <td>2776345279</td>\n",
       "      <td>2009</td>\n",
       "      <td>335507625</td>\n",
       "      <td>2351345279</td>\n",
       "      <td>0.789430</td>\n",
       "      <td>5.532577</td>\n",
       "    </tr>\n",
       "    <tr>\n",
       "      <th>1</th>\n",
       "      <td>May 20, 2011</td>\n",
       "      <td>Pirates of the Caribbean: On Stranger Tides</td>\n",
       "      <td>410600000</td>\n",
       "      <td>241063875</td>\n",
       "      <td>1045663875</td>\n",
       "      <td>2011</td>\n",
       "      <td>-169536125</td>\n",
       "      <td>635063875</td>\n",
       "      <td>-0.412899</td>\n",
       "      <td>1.546673</td>\n",
       "    </tr>\n",
       "    <tr>\n",
       "      <th>2</th>\n",
       "      <td>Jun 7, 2019</td>\n",
       "      <td>Dark Phoenix</td>\n",
       "      <td>350000000</td>\n",
       "      <td>42762350</td>\n",
       "      <td>149762350</td>\n",
       "      <td>2019</td>\n",
       "      <td>-307237650</td>\n",
       "      <td>-200237650</td>\n",
       "      <td>-0.877822</td>\n",
       "      <td>-0.572108</td>\n",
       "    </tr>\n",
       "    <tr>\n",
       "      <th>3</th>\n",
       "      <td>May 1, 2015</td>\n",
       "      <td>Avengers: Age of Ultron</td>\n",
       "      <td>330600000</td>\n",
       "      <td>459005868</td>\n",
       "      <td>1403013963</td>\n",
       "      <td>2015</td>\n",
       "      <td>128405868</td>\n",
       "      <td>1072413963</td>\n",
       "      <td>0.388403</td>\n",
       "      <td>3.243841</td>\n",
       "    </tr>\n",
       "    <tr>\n",
       "      <th>4</th>\n",
       "      <td>Dec 15, 2017</td>\n",
       "      <td>Star Wars Ep. VIII: The Last Jedi</td>\n",
       "      <td>317000000</td>\n",
       "      <td>620181382</td>\n",
       "      <td>1316721747</td>\n",
       "      <td>2017</td>\n",
       "      <td>303181382</td>\n",
       "      <td>999721747</td>\n",
       "      <td>0.956408</td>\n",
       "      <td>3.153696</td>\n",
       "    </tr>\n",
       "  </tbody>\n",
       "</table>\n",
       "</div>"
      ],
      "text/plain": [
       "   release_date                                        movie  \\\n",
       "0  Dec 18, 2009                                       Avatar   \n",
       "1  May 20, 2011  Pirates of the Caribbean: On Stranger Tides   \n",
       "2   Jun 7, 2019                                 Dark Phoenix   \n",
       "3   May 1, 2015                      Avengers: Age of Ultron   \n",
       "4  Dec 15, 2017            Star Wars Ep. VIII: The Last Jedi   \n",
       "\n",
       "   production_budget  domestic_gross  worldwide_gross  release_year  \\\n",
       "0          425000000       760507625       2776345279          2009   \n",
       "1          410600000       241063875       1045663875          2011   \n",
       "2          350000000        42762350        149762350          2019   \n",
       "3          330600000       459005868       1403013963          2015   \n",
       "4          317000000       620181382       1316721747          2017   \n",
       "\n",
       "   domestic_profit  worldwide_profit  domestic_roi  worldwide_roi  \n",
       "0        335507625        2351345279      0.789430       5.532577  \n",
       "1       -169536125         635063875     -0.412899       1.546673  \n",
       "2       -307237650        -200237650     -0.877822      -0.572108  \n",
       "3        128405868        1072413963      0.388403       3.243841  \n",
       "4        303181382         999721747      0.956408       3.153696  "
      ]
     },
     "execution_count": 7,
     "metadata": {},
     "output_type": "execute_result"
    }
   ],
   "source": [
    "movie_budgets.head()"
   ]
  },
  {
   "cell_type": "markdown",
   "metadata": {},
   "source": [
    "Analyzing percentiles shows just how difficult it can be to make money in this business! Notice that the 50th percentile for both domestic and worldwide ROI are close to 0. And yet, the 25th percentile for budget is \\\\$5 million."
   ]
  },
  {
   "cell_type": "code",
   "execution_count": 8,
   "metadata": {
    "scrolled": false
   },
   "outputs": [
    {
     "data": {
      "text/html": [
       "<div>\n",
       "<style scoped>\n",
       "    .dataframe tbody tr th:only-of-type {\n",
       "        vertical-align: middle;\n",
       "    }\n",
       "\n",
       "    .dataframe tbody tr th {\n",
       "        vertical-align: top;\n",
       "    }\n",
       "\n",
       "    .dataframe thead th {\n",
       "        text-align: right;\n",
       "    }\n",
       "</style>\n",
       "<table border=\"1\" class=\"dataframe\">\n",
       "  <thead>\n",
       "    <tr style=\"text-align: right;\">\n",
       "      <th></th>\n",
       "      <th>production_budget</th>\n",
       "      <th>domestic_gross</th>\n",
       "      <th>worldwide_gross</th>\n",
       "      <th>release_year</th>\n",
       "      <th>domestic_profit</th>\n",
       "      <th>worldwide_profit</th>\n",
       "      <th>domestic_roi</th>\n",
       "      <th>worldwide_roi</th>\n",
       "    </tr>\n",
       "  </thead>\n",
       "  <tbody>\n",
       "    <tr>\n",
       "      <th>count</th>\n",
       "      <td>5.782000e+03</td>\n",
       "      <td>5.782000e+03</td>\n",
       "      <td>5.782000e+03</td>\n",
       "      <td>5782.000000</td>\n",
       "      <td>5.782000e+03</td>\n",
       "      <td>5.782000e+03</td>\n",
       "      <td>5782.000000</td>\n",
       "      <td>5782.000000</td>\n",
       "    </tr>\n",
       "    <tr>\n",
       "      <th>mean</th>\n",
       "      <td>3.158776e+07</td>\n",
       "      <td>4.187333e+07</td>\n",
       "      <td>9.148746e+07</td>\n",
       "      <td>2003.967139</td>\n",
       "      <td>1.028557e+07</td>\n",
       "      <td>5.989970e+07</td>\n",
       "      <td>1.983540</td>\n",
       "      <td>3.800161</td>\n",
       "    </tr>\n",
       "    <tr>\n",
       "      <th>std</th>\n",
       "      <td>4.181208e+07</td>\n",
       "      <td>6.824060e+07</td>\n",
       "      <td>1.747200e+08</td>\n",
       "      <td>12.724386</td>\n",
       "      <td>4.992137e+07</td>\n",
       "      <td>1.460889e+08</td>\n",
       "      <td>26.086591</td>\n",
       "      <td>29.530282</td>\n",
       "    </tr>\n",
       "    <tr>\n",
       "      <th>min</th>\n",
       "      <td>1.100000e+03</td>\n",
       "      <td>0.000000e+00</td>\n",
       "      <td>0.000000e+00</td>\n",
       "      <td>1915.000000</td>\n",
       "      <td>-3.072376e+08</td>\n",
       "      <td>-2.002376e+08</td>\n",
       "      <td>-1.000000</td>\n",
       "      <td>-1.000000</td>\n",
       "    </tr>\n",
       "    <tr>\n",
       "      <th>25%</th>\n",
       "      <td>5.000000e+06</td>\n",
       "      <td>1.429534e+06</td>\n",
       "      <td>4.125415e+06</td>\n",
       "      <td>2000.000000</td>\n",
       "      <td>-9.132757e+06</td>\n",
       "      <td>-2.189071e+06</td>\n",
       "      <td>-0.794367</td>\n",
       "      <td>-0.507704</td>\n",
       "    </tr>\n",
       "    <tr>\n",
       "      <th>50%</th>\n",
       "      <td>1.700000e+07</td>\n",
       "      <td>1.722594e+07</td>\n",
       "      <td>2.798445e+07</td>\n",
       "      <td>2007.000000</td>\n",
       "      <td>-3.487755e+05</td>\n",
       "      <td>8.550286e+06</td>\n",
       "      <td>-0.121674</td>\n",
       "      <td>0.708310</td>\n",
       "    </tr>\n",
       "    <tr>\n",
       "      <th>75%</th>\n",
       "      <td>4.000000e+07</td>\n",
       "      <td>5.234866e+07</td>\n",
       "      <td>9.764584e+07</td>\n",
       "      <td>2012.000000</td>\n",
       "      <td>1.778144e+07</td>\n",
       "      <td>6.096850e+07</td>\n",
       "      <td>1.058148</td>\n",
       "      <td>2.758346</td>\n",
       "    </tr>\n",
       "    <tr>\n",
       "      <th>max</th>\n",
       "      <td>4.250000e+08</td>\n",
       "      <td>9.366622e+08</td>\n",
       "      <td>2.776345e+09</td>\n",
       "      <td>2020.000000</td>\n",
       "      <td>6.306622e+08</td>\n",
       "      <td>2.351345e+09</td>\n",
       "      <td>1799.000000</td>\n",
       "      <td>1799.000000</td>\n",
       "    </tr>\n",
       "  </tbody>\n",
       "</table>\n",
       "</div>"
      ],
      "text/plain": [
       "       production_budget  domestic_gross  worldwide_gross  release_year  \\\n",
       "count       5.782000e+03    5.782000e+03     5.782000e+03   5782.000000   \n",
       "mean        3.158776e+07    4.187333e+07     9.148746e+07   2003.967139   \n",
       "std         4.181208e+07    6.824060e+07     1.747200e+08     12.724386   \n",
       "min         1.100000e+03    0.000000e+00     0.000000e+00   1915.000000   \n",
       "25%         5.000000e+06    1.429534e+06     4.125415e+06   2000.000000   \n",
       "50%         1.700000e+07    1.722594e+07     2.798445e+07   2007.000000   \n",
       "75%         4.000000e+07    5.234866e+07     9.764584e+07   2012.000000   \n",
       "max         4.250000e+08    9.366622e+08     2.776345e+09   2020.000000   \n",
       "\n",
       "       domestic_profit  worldwide_profit  domestic_roi  worldwide_roi  \n",
       "count     5.782000e+03      5.782000e+03   5782.000000    5782.000000  \n",
       "mean      1.028557e+07      5.989970e+07      1.983540       3.800161  \n",
       "std       4.992137e+07      1.460889e+08     26.086591      29.530282  \n",
       "min      -3.072376e+08     -2.002376e+08     -1.000000      -1.000000  \n",
       "25%      -9.132757e+06     -2.189071e+06     -0.794367      -0.507704  \n",
       "50%      -3.487755e+05      8.550286e+06     -0.121674       0.708310  \n",
       "75%       1.778144e+07      6.096850e+07      1.058148       2.758346  \n",
       "max       6.306622e+08      2.351345e+09   1799.000000    1799.000000  "
      ]
     },
     "execution_count": 8,
     "metadata": {},
     "output_type": "execute_result"
    }
   ],
   "source": [
    "movie_budgets.describe()"
   ]
  },
  {
   "cell_type": "markdown",
   "metadata": {},
   "source": [
    "#### Identifying successful movies\n",
    "Successful movies are defined as those with a worldwide ROI greater than or equal to 5. \n",
    "\n",
    "We filter for movies with a production budget above the 25th percentile (greater than or equal to \\\\$5 million). A worldwide gross greater than \\\\$0 avoids movies that were either never released or only released on streaming services such as Netflix. \n",
    "\n",
    "Finally, we include movies released only during or after 2010 to ensure our data is a culturally relevant as possible. We disqualify movies released after 2019 to avoid complicating our data with the effects of the global covid-19 pandemic."
   ]
  },
  {
   "cell_type": "code",
   "execution_count": 9,
   "metadata": {},
   "outputs": [],
   "source": [
    "top_movie_budgets = movie_budgets[(movie_budgets['worldwide_roi']>=2.75) \n",
    "            &   (movie_budgets['domestic_roi'] >= 1)                 \n",
    "             & ((movie_budgets['production_budget']>=5000000)\n",
    "             & (movie_budgets['worldwide_gross']>=0))\n",
    "              & (movie_budgets['release_year'] < 2020)]"
   ]
  },
  {
   "cell_type": "code",
   "execution_count": 10,
   "metadata": {},
   "outputs": [
    {
     "data": {
      "text/html": [
       "<div>\n",
       "<style scoped>\n",
       "    .dataframe tbody tr th:only-of-type {\n",
       "        vertical-align: middle;\n",
       "    }\n",
       "\n",
       "    .dataframe tbody tr th {\n",
       "        vertical-align: top;\n",
       "    }\n",
       "\n",
       "    .dataframe thead th {\n",
       "        text-align: right;\n",
       "    }\n",
       "</style>\n",
       "<table border=\"1\" class=\"dataframe\">\n",
       "  <thead>\n",
       "    <tr style=\"text-align: right;\">\n",
       "      <th></th>\n",
       "      <th>release_date</th>\n",
       "      <th>movie</th>\n",
       "      <th>production_budget</th>\n",
       "      <th>domestic_gross</th>\n",
       "      <th>worldwide_gross</th>\n",
       "      <th>release_year</th>\n",
       "      <th>domestic_profit</th>\n",
       "      <th>worldwide_profit</th>\n",
       "      <th>domestic_roi</th>\n",
       "      <th>worldwide_roi</th>\n",
       "    </tr>\n",
       "  </thead>\n",
       "  <tbody>\n",
       "    <tr>\n",
       "      <th>3</th>\n",
       "      <td>May 1, 2015</td>\n",
       "      <td>Avengers: Age of Ultron</td>\n",
       "      <td>330600000</td>\n",
       "      <td>459005868</td>\n",
       "      <td>1403013963</td>\n",
       "      <td>2015</td>\n",
       "      <td>128405868</td>\n",
       "      <td>1072413963</td>\n",
       "      <td>0.388403</td>\n",
       "      <td>3.243841</td>\n",
       "    </tr>\n",
       "    <tr>\n",
       "      <th>4</th>\n",
       "      <td>Dec 15, 2017</td>\n",
       "      <td>Star Wars Ep. VIII: The Last Jedi</td>\n",
       "      <td>317000000</td>\n",
       "      <td>620181382</td>\n",
       "      <td>1316721747</td>\n",
       "      <td>2017</td>\n",
       "      <td>303181382</td>\n",
       "      <td>999721747</td>\n",
       "      <td>0.956408</td>\n",
       "      <td>3.153696</td>\n",
       "    </tr>\n",
       "    <tr>\n",
       "      <th>5</th>\n",
       "      <td>Dec 18, 2015</td>\n",
       "      <td>Star Wars Ep. VII: The Force Awakens</td>\n",
       "      <td>306000000</td>\n",
       "      <td>936662225</td>\n",
       "      <td>2053311220</td>\n",
       "      <td>2015</td>\n",
       "      <td>630662225</td>\n",
       "      <td>1747311220</td>\n",
       "      <td>2.060988</td>\n",
       "      <td>5.710167</td>\n",
       "    </tr>\n",
       "    <tr>\n",
       "      <th>6</th>\n",
       "      <td>Apr 27, 2018</td>\n",
       "      <td>Avengers: Infinity War</td>\n",
       "      <td>300000000</td>\n",
       "      <td>678815482</td>\n",
       "      <td>2048134200</td>\n",
       "      <td>2018</td>\n",
       "      <td>378815482</td>\n",
       "      <td>1748134200</td>\n",
       "      <td>1.262718</td>\n",
       "      <td>5.827114</td>\n",
       "    </tr>\n",
       "    <tr>\n",
       "      <th>10</th>\n",
       "      <td>Jul 20, 2012</td>\n",
       "      <td>The Dark Knight Rises</td>\n",
       "      <td>275000000</td>\n",
       "      <td>448139099</td>\n",
       "      <td>1084439099</td>\n",
       "      <td>2012</td>\n",
       "      <td>173139099</td>\n",
       "      <td>809439099</td>\n",
       "      <td>0.629597</td>\n",
       "      <td>2.943415</td>\n",
       "    </tr>\n",
       "  </tbody>\n",
       "</table>\n",
       "</div>"
      ],
      "text/plain": [
       "    release_date                                 movie  production_budget  \\\n",
       "3    May 1, 2015               Avengers: Age of Ultron          330600000   \n",
       "4   Dec 15, 2017     Star Wars Ep. VIII: The Last Jedi          317000000   \n",
       "5   Dec 18, 2015  Star Wars Ep. VII: The Force Awakens          306000000   \n",
       "6   Apr 27, 2018                Avengers: Infinity War          300000000   \n",
       "10  Jul 20, 2012                 The Dark Knight Rises          275000000   \n",
       "\n",
       "    domestic_gross  worldwide_gross  release_year  domestic_profit  \\\n",
       "3        459005868       1403013963          2015        128405868   \n",
       "4        620181382       1316721747          2017        303181382   \n",
       "5        936662225       2053311220          2015        630662225   \n",
       "6        678815482       2048134200          2018        378815482   \n",
       "10       448139099       1084439099          2012        173139099   \n",
       "\n",
       "    worldwide_profit  domestic_roi  worldwide_roi  \n",
       "3         1072413963      0.388403       3.243841  \n",
       "4          999721747      0.956408       3.153696  \n",
       "5         1747311220      2.060988       5.710167  \n",
       "6         1748134200      1.262718       5.827114  \n",
       "10         809439099      0.629597       2.943415  "
      ]
     },
     "execution_count": 10,
     "metadata": {},
     "output_type": "execute_result"
    }
   ],
   "source": [
    "top_movie_budgets.head()"
   ]
  },
  {
   "cell_type": "markdown",
   "metadata": {},
   "source": [
    "### ROI and Budget\n",
    "Finding the sweet spot of spending and return."
   ]
  },
  {
   "cell_type": "code",
   "execution_count": 15,
   "metadata": {},
   "outputs": [
    {
     "data": {
      "text/plain": [
       "(4196, 10)"
      ]
     },
     "execution_count": 15,
     "metadata": {},
     "output_type": "execute_result"
    }
   ],
   "source": [
    "relevant_movies = movie_budgets[(movie_budgets['worldwide_gross'] > 0) \n",
    "                                   & (movie_budgets['domestic_gross'] > 0) \n",
    "                                   & (movie_budgets['production_budget'] >= 5000000) \n",
    "                                   & (movie_budgets['release_year'] < 2020) ]\n",
    "relevant_movies.head()\n",
    "relevant_movies.shape"
   ]
  },
  {
   "cell_type": "code",
   "execution_count": 16,
   "metadata": {},
   "outputs": [
    {
     "data": {
      "text/plain": [
       "34.88707352234503"
      ]
     },
     "execution_count": 16,
     "metadata": {},
     "output_type": "execute_result"
    }
   ],
   "source": [
    "# Calculating the percentage of movies with a negative roi in the production budget segment 5 to 25 million\n",
    "num_movies_5_to_25_with_neg_return_ww = relevant_movies[(relevant_movies['production_budget'] >= 5000000) & (relevant_movies['production_budget'] <= 25000000) & (relevant_movies['worldwide_roi'] <= 0)].shape[0]\n",
    "num_movies_5_to_25_with_neg_return_ww\n",
    "per_movies_5_to_25_with_neg_return_ww = (num_movies_5_to_25_with_neg_return_ww/(num_movies_5_to_25_with_neg_return_ww + (relevant_movies[(relevant_movies['production_budget'] >= 5000000) & (relevant_movies['production_budget'] <= 25000000) & (relevant_movies['worldwide_roi'] > 0)].shape[0]))) * 100\n",
    "per_movies_5_to_25_with_neg_return_ww"
   ]
  },
  {
   "cell_type": "code",
   "execution_count": 17,
   "metadata": {},
   "outputs": [
    {
     "data": {
      "text/plain": [
       "30.33492822966507"
      ]
     },
     "execution_count": 17,
     "metadata": {},
     "output_type": "execute_result"
    }
   ],
   "source": [
    "# Calculating the percentage of movies with a negative roi in the production budget segment 25 to 50 million\n",
    "num_movies_25_to_50_with_neg_return_ww = relevant_movies[(relevant_movies['production_budget'] > 25000000) & (relevant_movies['production_budget'] <= 50000000) & (relevant_movies['worldwide_roi'] <= 0)].shape[0]\n",
    "num_movies_25_to_50_with_neg_return_ww\n",
    "per_movies_25_to_50_with_neg_return_ww = (num_movies_25_to_50_with_neg_return_ww/(num_movies_25_to_50_with_neg_return_ww + (relevant_movies[(relevant_movies['production_budget'] > 25000000) & (relevant_movies['production_budget'] <= 50000000) & (relevant_movies['worldwide_roi'] > 0)].shape[0]))) * 100\n",
    "per_movies_25_to_50_with_neg_return_ww"
   ]
  },
  {
   "cell_type": "code",
   "execution_count": 18,
   "metadata": {},
   "outputs": [
    {
     "data": {
      "text/plain": [
       "25.49889135254989"
      ]
     },
     "execution_count": 18,
     "metadata": {},
     "output_type": "execute_result"
    }
   ],
   "source": [
    "# Calculating the percentage of movies with a negative roi in the production budget segment 50 to 75 million\n",
    "num_movies_50_to_75_with_neg_return_ww = relevant_movies[(relevant_movies['production_budget'] > 50000000) & (relevant_movies['production_budget'] <= 75000000) & (relevant_movies['worldwide_roi'] <= 0)].shape[0]\n",
    "num_movies_50_to_75_with_neg_return_ww\n",
    "per_movies_50_to_75_with_neg_return_ww = (num_movies_50_to_75_with_neg_return_ww/(num_movies_50_to_75_with_neg_return_ww + (relevant_movies[(relevant_movies['production_budget'] > 50000000) & (relevant_movies['production_budget'] <= 75000000) & (relevant_movies['worldwide_roi'] > 0)].shape[0]))) * 100\n",
    "per_movies_50_to_75_with_neg_return_ww"
   ]
  },
  {
   "cell_type": "code",
   "execution_count": 19,
   "metadata": {},
   "outputs": [
    {
     "data": {
      "text/plain": [
       "19.06614785992218"
      ]
     },
     "execution_count": 19,
     "metadata": {},
     "output_type": "execute_result"
    }
   ],
   "source": [
    "# Calculating the percentage of movies with a negative roi in the production budget segment 75 to 100 million\n",
    "num_movies_75_to_100_with_neg_return_ww = relevant_movies[(relevant_movies['production_budget'] > 75000000) & (relevant_movies['production_budget'] <= 100000000) & (relevant_movies['worldwide_roi'] <= 0)].shape[0]\n",
    "num_movies_75_to_100_with_neg_return_ww\n",
    "per_movies_75_to_100_with_neg_return_ww = (num_movies_75_to_100_with_neg_return_ww/(num_movies_75_to_100_with_neg_return_ww + (relevant_movies[(relevant_movies['production_budget'] > 75000000) & (relevant_movies['production_budget'] <= 100000000) & (relevant_movies['worldwide_roi'] > 0)].shape[0]))) * 100\n",
    "per_movies_75_to_100_with_neg_return_ww"
   ]
  },
  {
   "cell_type": "code",
   "execution_count": 20,
   "metadata": {},
   "outputs": [
    {
     "data": {
      "text/plain": [
       "6.853582554517133"
      ]
     },
     "execution_count": 20,
     "metadata": {},
     "output_type": "execute_result"
    }
   ],
   "source": [
    "# Calculating the percentage of movies with a negative roi in the production budget segment 100 to 200 million\n",
    "num_movies_100_to_200_with_neg_return_ww = relevant_movies[(relevant_movies['production_budget'] > 100000000) & (relevant_movies['production_budget'] <= 200000000) & (relevant_movies['worldwide_roi'] <= 0)].shape[0]\n",
    "num_movies_100_to_200_with_neg_return_ww\n",
    "per_movies_100_to_200_with_neg_return_ww = (num_movies_100_to_200_with_neg_return_ww/(num_movies_100_to_200_with_neg_return_ww + (relevant_movies[(relevant_movies['production_budget'] > 100000000) & (relevant_movies['production_budget'] <= 200000000) & (relevant_movies['worldwide_roi'] > 0)].shape[0]))) * 100\n",
    "per_movies_100_to_200_with_neg_return_ww"
   ]
  },
  {
   "cell_type": "code",
   "execution_count": 21,
   "metadata": {},
   "outputs": [
    {
     "data": {
      "text/plain": [
       "2.857142857142857"
      ]
     },
     "execution_count": 21,
     "metadata": {},
     "output_type": "execute_result"
    }
   ],
   "source": [
    "# Calculating the percentage of movies with a negative roi in the production budget segment 200 to 300 million\n",
    "num_movies_200_to_300_with_neg_return_ww = relevant_movies[(relevant_movies['production_budget'] > 200000000) & (relevant_movies['production_budget'] <= 300000000) & (relevant_movies['worldwide_roi'] <= 0)].shape[0]\n",
    "num_movies_200_to_300_with_neg_return_ww\n",
    "per_movies_200_to_300_with_neg_return_ww = (num_movies_200_to_300_with_neg_return_ww/(num_movies_200_to_300_with_neg_return_ww + (relevant_movies[(relevant_movies['production_budget'] > 200000000) & (relevant_movies['production_budget'] <= 300000000) & (relevant_movies['worldwide_roi'] > 0)].shape[0]))) * 100\n",
    "per_movies_200_to_300_with_neg_return_ww"
   ]
  },
  {
   "cell_type": "code",
   "execution_count": 22,
   "metadata": {},
   "outputs": [
    {
     "data": {
      "text/plain": [
       "25.0"
      ]
     },
     "execution_count": 22,
     "metadata": {},
     "output_type": "execute_result"
    }
   ],
   "source": [
    "# Calculating the percentage of movies with a negative roi in the production budget segment 300 to 400 million\n",
    "num_movies_300_to_400_with_neg_return_ww = relevant_movies[(relevant_movies['production_budget'] > 300000000) & (relevant_movies['production_budget'] <= 400000000) & (relevant_movies['worldwide_roi'] <= 0)].shape[0]\n",
    "num_movies_300_to_400_with_neg_return_ww\n",
    "per_movies_300_to_400_with_neg_return_ww = (num_movies_300_to_400_with_neg_return_ww/(num_movies_300_to_400_with_neg_return_ww + (relevant_movies[(relevant_movies['production_budget'] > 300000000) & (relevant_movies['production_budget'] <= 400000000) & (relevant_movies['worldwide_roi'] > 0)].shape[0]))) * 100\n",
    "per_movies_300_to_400_with_neg_return_ww"
   ]
  },
  {
   "cell_type": "code",
   "execution_count": 23,
   "metadata": {},
   "outputs": [
    {
     "data": {
      "text/plain": [
       "''"
      ]
     },
     "execution_count": 23,
     "metadata": {},
     "output_type": "execute_result"
    },
    {
     "data": {
      "image/png": "[encoded data removed]",
      "text/plain": [
       "<Figure size 576x576 with 1 Axes>"
      ]
     },
     "metadata": {
      "needs_background": "light"
     },
     "output_type": "display_data"
    }
   ],
   "source": [
    "fig, ax = plt.subplots(figsize=(8,8))\n",
    "\n",
    "x = [('5 - 25'), ('25 - 50'), ('50 - 75'), ('75 - 100'), ('100 - 200'), ('200 - 300'), ('300 - 400')]\n",
    "\n",
    "h = [(100 - per_movies_5_to_25_with_neg_return_ww), \n",
    "     (100 - per_movies_25_to_50_with_neg_return_ww), \n",
    "     (100 - per_movies_50_to_75_with_neg_return_ww),\n",
    "     (100 - per_movies_75_to_100_with_neg_return_ww), \n",
    "     (100 - per_movies_100_to_200_with_neg_return_ww), \n",
    "     (100 - per_movies_200_to_300_with_neg_return_ww), \n",
    "     (100 - per_movies_300_to_400_with_neg_return_ww)]\n",
    "\n",
    "ax.bar(x, h, color=['blue', 'blue', 'blue', 'blue', 'green', 'green', 'blue']);\n",
    "\n",
    "ax.set_title('Production Budget vs. Percent Of Movies With Positive ROI', {'fontsize':15, 'fontweight':'bold'})\n",
    "ax.set_xlabel('Production Budget ($M)', fontsize = 14)\n",
    "ax.set_ylabel('Movies With Positive Return(%)', fontsize = 14)\n",
    "\n",
    "plt.grid(False)\n",
    "plt.rc('xtick', labelsize=10) \n",
    "plt.rc('ytick', labelsize=10)\n",
    "\n",
    ";"
   ]
  },
  {
   "cell_type": "markdown",
   "metadata": {},
   "source": [
    "### ROI over time\n",
    "What are the trends over the course of a year with ROI of top movies?"
   ]
  },
  {
   "cell_type": "code",
   "execution_count": null,
   "metadata": {},
   "outputs": [],
   "source": []
  },
  {
   "cell_type": "markdown",
   "metadata": {},
   "source": [
    "### Genre Distributions\n",
    "We now import and merge IMDB data, which provides genre information for movies released from 2010-2019."
   ]
  },
  {
   "cell_type": "code",
   "execution_count": 12,
   "metadata": {},
   "outputs": [],
   "source": [
    "title_basics  = pd.read_csv(\"unzippedData/imdb.title.basics.csv\")\n",
    "ratings = pd.read_csv('imdb.title.ratings.csv.gz')"
   ]
  },
  {
   "cell_type": "markdown",
   "metadata": {},
   "source": [
    "Basic cleaning involves renaming columns, converting years from strings to ints, and dropping extraneous columns."
   ]
  },
  {
   "cell_type": "code",
   "execution_count": 13,
   "metadata": {},
   "outputs": [
    {
     "data": {
      "text/html": [
       "<div>\n",
       "<style scoped>\n",
       "    .dataframe tbody tr th:only-of-type {\n",
       "        vertical-align: middle;\n",
       "    }\n",
       "\n",
       "    .dataframe tbody tr th {\n",
       "        vertical-align: top;\n",
       "    }\n",
       "\n",
       "    .dataframe thead th {\n",
       "        text-align: right;\n",
       "    }\n",
       "</style>\n",
       "<table border=\"1\" class=\"dataframe\">\n",
       "  <thead>\n",
       "    <tr style=\"text-align: right;\">\n",
       "      <th></th>\n",
       "      <th>tconst</th>\n",
       "      <th>movie</th>\n",
       "      <th>original_title</th>\n",
       "      <th>release_year</th>\n",
       "      <th>runtime_minutes</th>\n",
       "      <th>genres</th>\n",
       "      <th>averagerating</th>\n",
       "      <th>numvotes</th>\n",
       "    </tr>\n",
       "  </thead>\n",
       "  <tbody>\n",
       "    <tr>\n",
       "      <th>0</th>\n",
       "      <td>tt0063540</td>\n",
       "      <td>Sunghursh</td>\n",
       "      <td>Sunghursh</td>\n",
       "      <td>2013</td>\n",
       "      <td>175.0</td>\n",
       "      <td>Action,Crime,Drama</td>\n",
       "      <td>7.0</td>\n",
       "      <td>77.0</td>\n",
       "    </tr>\n",
       "    <tr>\n",
       "      <th>1</th>\n",
       "      <td>tt0066787</td>\n",
       "      <td>One Day Before the Rainy Season</td>\n",
       "      <td>Ashad Ka Ek Din</td>\n",
       "      <td>2019</td>\n",
       "      <td>114.0</td>\n",
       "      <td>Biography,Drama</td>\n",
       "      <td>7.2</td>\n",
       "      <td>43.0</td>\n",
       "    </tr>\n",
       "    <tr>\n",
       "      <th>2</th>\n",
       "      <td>tt0069049</td>\n",
       "      <td>The Other Side of the Wind</td>\n",
       "      <td>The Other Side of the Wind</td>\n",
       "      <td>2018</td>\n",
       "      <td>122.0</td>\n",
       "      <td>Drama</td>\n",
       "      <td>6.9</td>\n",
       "      <td>4517.0</td>\n",
       "    </tr>\n",
       "    <tr>\n",
       "      <th>3</th>\n",
       "      <td>tt0069204</td>\n",
       "      <td>Sabse Bada Sukh</td>\n",
       "      <td>Sabse Bada Sukh</td>\n",
       "      <td>2018</td>\n",
       "      <td>NaN</td>\n",
       "      <td>Comedy,Drama</td>\n",
       "      <td>6.1</td>\n",
       "      <td>13.0</td>\n",
       "    </tr>\n",
       "    <tr>\n",
       "      <th>4</th>\n",
       "      <td>tt0100275</td>\n",
       "      <td>The Wandering Soap Opera</td>\n",
       "      <td>La Telenovela Errante</td>\n",
       "      <td>2017</td>\n",
       "      <td>80.0</td>\n",
       "      <td>Comedy,Drama,Fantasy</td>\n",
       "      <td>6.5</td>\n",
       "      <td>119.0</td>\n",
       "    </tr>\n",
       "  </tbody>\n",
       "</table>\n",
       "</div>"
      ],
      "text/plain": [
       "      tconst                            movie              original_title  \\\n",
       "0  tt0063540                        Sunghursh                   Sunghursh   \n",
       "1  tt0066787  One Day Before the Rainy Season             Ashad Ka Ek Din   \n",
       "2  tt0069049       The Other Side of the Wind  The Other Side of the Wind   \n",
       "3  tt0069204                  Sabse Bada Sukh             Sabse Bada Sukh   \n",
       "4  tt0100275         The Wandering Soap Opera       La Telenovela Errante   \n",
       "\n",
       "   release_year  runtime_minutes                genres  averagerating  \\\n",
       "0          2013            175.0    Action,Crime,Drama            7.0   \n",
       "1          2019            114.0       Biography,Drama            7.2   \n",
       "2          2018            122.0                 Drama            6.9   \n",
       "3          2018              NaN          Comedy,Drama            6.1   \n",
       "4          2017             80.0  Comedy,Drama,Fantasy            6.5   \n",
       "\n",
       "   numvotes  \n",
       "0      77.0  \n",
       "1      43.0  \n",
       "2    4517.0  \n",
       "3      13.0  \n",
       "4     119.0  "
      ]
     },
     "execution_count": 13,
     "metadata": {},
     "output_type": "execute_result"
    }
   ],
   "source": [
    "movies_info = title_basics.merge(ratings, how='left', on='tconst')\n",
    "movies_info.rename({'primary_title' : 'movie', \n",
    "                    'start_year' : 'release_year'}, axis =1, inplace= True)\n",
    "movies_info['release_year'] = movies_info['release_year'].astype(int)\n",
    "movies_info.head()"
   ]
  },
  {
   "cell_type": "markdown",
   "metadata": {},
   "source": [
    "We merge our IMDB data into `'top_movies_df'` in order to begin analyzing genre distributions among successful movies compared to all movies from 2010-2019. There are multiple movies with the same name in the IMDB data that are not present in The Numbers, so we merge by both `'movie'` (name) and `'release_year'`, then check that the `'original_title'` from IMDB is in fact the same name as the movie listed in The Numbers. This returns 155 movies representing the most successful movies from this recent decade."
   ]
  },
  {
   "cell_type": "code",
   "execution_count": 14,
   "metadata": {
    "scrolled": true
   },
   "outputs": [
    {
     "data": {
      "text/html": [
       "<div>\n",
       "<style scoped>\n",
       "    .dataframe tbody tr th:only-of-type {\n",
       "        vertical-align: middle;\n",
       "    }\n",
       "\n",
       "    .dataframe tbody tr th {\n",
       "        vertical-align: top;\n",
       "    }\n",
       "\n",
       "    .dataframe thead th {\n",
       "        text-align: right;\n",
       "    }\n",
       "</style>\n",
       "<table border=\"1\" class=\"dataframe\">\n",
       "  <thead>\n",
       "    <tr style=\"text-align: right;\">\n",
       "      <th></th>\n",
       "      <th>release_date</th>\n",
       "      <th>movie</th>\n",
       "      <th>production_budget</th>\n",
       "      <th>domestic_gross</th>\n",
       "      <th>worldwide_gross</th>\n",
       "      <th>release_year</th>\n",
       "      <th>domestic_profit</th>\n",
       "      <th>worldwide_profit</th>\n",
       "      <th>domestic_roi</th>\n",
       "      <th>worldwide_roi</th>\n",
       "      <th>tconst</th>\n",
       "      <th>runtime_minutes</th>\n",
       "      <th>genres</th>\n",
       "      <th>averagerating</th>\n",
       "      <th>numvotes</th>\n",
       "    </tr>\n",
       "  </thead>\n",
       "  <tbody>\n",
       "    <tr>\n",
       "      <th>0</th>\n",
       "      <td>May 1, 2015</td>\n",
       "      <td>Avengers: Age of Ultron</td>\n",
       "      <td>330600000</td>\n",
       "      <td>459005868</td>\n",
       "      <td>1403013963</td>\n",
       "      <td>2015</td>\n",
       "      <td>128405868</td>\n",
       "      <td>1072413963</td>\n",
       "      <td>0.388403</td>\n",
       "      <td>3.243841</td>\n",
       "      <td>tt2395427</td>\n",
       "      <td>141.0</td>\n",
       "      <td>Action,Adventure,Sci-Fi</td>\n",
       "      <td>7.3</td>\n",
       "      <td>665594.0</td>\n",
       "    </tr>\n",
       "    <tr>\n",
       "      <th>3</th>\n",
       "      <td>Apr 27, 2018</td>\n",
       "      <td>Avengers: Infinity War</td>\n",
       "      <td>300000000</td>\n",
       "      <td>678815482</td>\n",
       "      <td>2048134200</td>\n",
       "      <td>2018</td>\n",
       "      <td>378815482</td>\n",
       "      <td>1748134200</td>\n",
       "      <td>1.262718</td>\n",
       "      <td>5.827114</td>\n",
       "      <td>tt4154756</td>\n",
       "      <td>149.0</td>\n",
       "      <td>Action,Adventure,Sci-Fi</td>\n",
       "      <td>8.5</td>\n",
       "      <td>670926.0</td>\n",
       "    </tr>\n",
       "    <tr>\n",
       "      <th>4</th>\n",
       "      <td>Jul 20, 2012</td>\n",
       "      <td>The Dark Knight Rises</td>\n",
       "      <td>275000000</td>\n",
       "      <td>448139099</td>\n",
       "      <td>1084439099</td>\n",
       "      <td>2012</td>\n",
       "      <td>173139099</td>\n",
       "      <td>809439099</td>\n",
       "      <td>0.629597</td>\n",
       "      <td>2.943415</td>\n",
       "      <td>tt1345836</td>\n",
       "      <td>164.0</td>\n",
       "      <td>Action,Thriller</td>\n",
       "      <td>8.4</td>\n",
       "      <td>1387769.0</td>\n",
       "    </tr>\n",
       "    <tr>\n",
       "      <th>5</th>\n",
       "      <td>May 6, 2016</td>\n",
       "      <td>Captain America: Civil War</td>\n",
       "      <td>250000000</td>\n",
       "      <td>408084349</td>\n",
       "      <td>1140069413</td>\n",
       "      <td>2016</td>\n",
       "      <td>158084349</td>\n",
       "      <td>890069413</td>\n",
       "      <td>0.632337</td>\n",
       "      <td>3.560278</td>\n",
       "      <td>tt3498820</td>\n",
       "      <td>147.0</td>\n",
       "      <td>Action,Adventure,Sci-Fi</td>\n",
       "      <td>7.8</td>\n",
       "      <td>583507.0</td>\n",
       "    </tr>\n",
       "    <tr>\n",
       "      <th>6</th>\n",
       "      <td>Mar 25, 2016</td>\n",
       "      <td>Batman v Superman: Dawn of Justice</td>\n",
       "      <td>250000000</td>\n",
       "      <td>330360194</td>\n",
       "      <td>867500281</td>\n",
       "      <td>2016</td>\n",
       "      <td>80360194</td>\n",
       "      <td>617500281</td>\n",
       "      <td>0.321441</td>\n",
       "      <td>2.470001</td>\n",
       "      <td>tt2975590</td>\n",
       "      <td>151.0</td>\n",
       "      <td>Action,Adventure,Fantasy</td>\n",
       "      <td>6.5</td>\n",
       "      <td>576909.0</td>\n",
       "    </tr>\n",
       "  </tbody>\n",
       "</table>\n",
       "</div>"
      ],
      "text/plain": [
       "   release_date                               movie  production_budget  \\\n",
       "0   May 1, 2015             Avengers: Age of Ultron          330600000   \n",
       "3  Apr 27, 2018              Avengers: Infinity War          300000000   \n",
       "4  Jul 20, 2012               The Dark Knight Rises          275000000   \n",
       "5   May 6, 2016          Captain America: Civil War          250000000   \n",
       "6  Mar 25, 2016  Batman v Superman: Dawn of Justice          250000000   \n",
       "\n",
       "   domestic_gross  worldwide_gross  release_year  domestic_profit  \\\n",
       "0       459005868       1403013963          2015        128405868   \n",
       "3       678815482       2048134200          2018        378815482   \n",
       "4       448139099       1084439099          2012        173139099   \n",
       "5       408084349       1140069413          2016        158084349   \n",
       "6       330360194        867500281          2016         80360194   \n",
       "\n",
       "   worldwide_profit  domestic_roi  worldwide_roi     tconst  runtime_minutes  \\\n",
       "0        1072413963      0.388403       3.243841  tt2395427            141.0   \n",
       "3        1748134200      1.262718       5.827114  tt4154756            149.0   \n",
       "4         809439099      0.629597       2.943415  tt1345836            164.0   \n",
       "5         890069413      0.632337       3.560278  tt3498820            147.0   \n",
       "6         617500281      0.321441       2.470001  tt2975590            151.0   \n",
       "\n",
       "                     genres  averagerating   numvotes  \n",
       "0   Action,Adventure,Sci-Fi            7.3   665594.0  \n",
       "3   Action,Adventure,Sci-Fi            8.5   670926.0  \n",
       "4           Action,Thriller            8.4  1387769.0  \n",
       "5   Action,Adventure,Sci-Fi            7.8   583507.0  \n",
       "6  Action,Adventure,Fantasy            6.5   576909.0  "
      ]
     },
     "execution_count": 14,
     "metadata": {},
     "output_type": "execute_result"
    }
   ],
   "source": [
    "top_movies_df = top_movie_budgets.merge(movies_info, how='left', on =['movie','release_year'])\n",
    "top_movies_df = top_movies_df[top_movies_df['movie']== top_movies_df['original_title']]\n",
    "top_movies_df.drop('original_title', axis=1, inplace=True)\n",
    "top_movies_df.head()"
   ]
  },
  {
   "cell_type": "code",
   "execution_count": 15,
   "metadata": {},
   "outputs": [
    {
     "name": "stdout",
     "output_type": "stream",
     "text": [
      "<class 'pandas.core.frame.DataFrame'>\n",
      "Int64Index: 458 entries, 0 to 561\n",
      "Data columns (total 15 columns):\n",
      " #   Column             Non-Null Count  Dtype  \n",
      "---  ------             --------------  -----  \n",
      " 0   release_date       458 non-null    object \n",
      " 1   movie              458 non-null    object \n",
      " 2   production_budget  458 non-null    int64  \n",
      " 3   domestic_gross     458 non-null    int64  \n",
      " 4   worldwide_gross    458 non-null    int64  \n",
      " 5   release_year       458 non-null    int64  \n",
      " 6   domestic_profit    458 non-null    int64  \n",
      " 7   worldwide_profit   458 non-null    int64  \n",
      " 8   domestic_roi       458 non-null    float64\n",
      " 9   worldwide_roi      458 non-null    float64\n",
      " 10  tconst             458 non-null    object \n",
      " 11  runtime_minutes    457 non-null    float64\n",
      " 12  genres             457 non-null    object \n",
      " 13  averagerating      454 non-null    float64\n",
      " 14  numvotes           454 non-null    float64\n",
      "dtypes: float64(5), int64(6), object(4)\n",
      "memory usage: 57.2+ KB\n"
     ]
    }
   ],
   "source": [
    "top_movies_df.info()"
   ]
  },
  {
   "cell_type": "code",
   "execution_count": 16,
   "metadata": {},
   "outputs": [
    {
     "data": {
      "text/plain": [
       "['release_date',\n",
       " 'movie',\n",
       " 'production_budget',\n",
       " 'domestic_gross',\n",
       " 'worldwide_gross',\n",
       " 'release_year',\n",
       " 'domestic_profit',\n",
       " 'worldwide_profit',\n",
       " 'domestic_roi',\n",
       " 'worldwide_roi',\n",
       " 'tconst',\n",
       " 'runtime_minutes',\n",
       " 'averagerating',\n",
       " 'numvotes']"
      ]
     },
     "execution_count": 16,
     "metadata": {},
     "output_type": "execute_result"
    }
   ],
   "source": [
    "top_movies_df_columns = list(top_movies_df.columns)\n",
    "top_movies_df_columns.remove('genres')\n",
    "top_movies_df_columns"
   ]
  },
  {
   "cell_type": "code",
   "execution_count": 17,
   "metadata": {},
   "outputs": [],
   "source": [
    "top_movies_df.dropna(subset=['genres'], inplace=True)\n",
    "top_movies_df['genres'] = top_movies_df['genres'].map(lambda x: x.split(\",\"))\n",
    "\n",
    "top_movies_df = top_movies_df.genres.apply(pd.Series) \\\n",
    "    .merge(top_movies_df, right_index = True, left_index = True) \\\n",
    "    .drop([\"genres\"], axis = 1) \\\n",
    "    .melt(id_vars = top_movies_df_columns , value_name = \"genres\") \\\n",
    "    .dropna()"
   ]
  },
  {
   "cell_type": "code",
   "execution_count": 18,
   "metadata": {
    "scrolled": true
   },
   "outputs": [
    {
     "data": {
      "text/html": [
       "<div>\n",
       "<style scoped>\n",
       "    .dataframe tbody tr th:only-of-type {\n",
       "        vertical-align: middle;\n",
       "    }\n",
       "\n",
       "    .dataframe tbody tr th {\n",
       "        vertical-align: top;\n",
       "    }\n",
       "\n",
       "    .dataframe thead th {\n",
       "        text-align: right;\n",
       "    }\n",
       "</style>\n",
       "<table border=\"1\" class=\"dataframe\">\n",
       "  <thead>\n",
       "    <tr style=\"text-align: right;\">\n",
       "      <th></th>\n",
       "      <th>release_date</th>\n",
       "      <th>movie</th>\n",
       "      <th>production_budget</th>\n",
       "      <th>domestic_gross</th>\n",
       "      <th>worldwide_gross</th>\n",
       "      <th>release_year</th>\n",
       "      <th>domestic_profit</th>\n",
       "      <th>worldwide_profit</th>\n",
       "      <th>domestic_roi</th>\n",
       "      <th>worldwide_roi</th>\n",
       "      <th>tconst</th>\n",
       "      <th>runtime_minutes</th>\n",
       "      <th>averagerating</th>\n",
       "      <th>numvotes</th>\n",
       "      <th>variable</th>\n",
       "      <th>genres</th>\n",
       "    </tr>\n",
       "  </thead>\n",
       "  <tbody>\n",
       "    <tr>\n",
       "      <th>0</th>\n",
       "      <td>May 1, 2015</td>\n",
       "      <td>Avengers: Age of Ultron</td>\n",
       "      <td>330600000</td>\n",
       "      <td>459005868</td>\n",
       "      <td>1403013963</td>\n",
       "      <td>2015</td>\n",
       "      <td>128405868</td>\n",
       "      <td>1072413963</td>\n",
       "      <td>0.388403</td>\n",
       "      <td>3.243841</td>\n",
       "      <td>tt2395427</td>\n",
       "      <td>141.0</td>\n",
       "      <td>7.3</td>\n",
       "      <td>665594.0</td>\n",
       "      <td>0</td>\n",
       "      <td>Action</td>\n",
       "    </tr>\n",
       "    <tr>\n",
       "      <th>1</th>\n",
       "      <td>Apr 27, 2018</td>\n",
       "      <td>Avengers: Infinity War</td>\n",
       "      <td>300000000</td>\n",
       "      <td>678815482</td>\n",
       "      <td>2048134200</td>\n",
       "      <td>2018</td>\n",
       "      <td>378815482</td>\n",
       "      <td>1748134200</td>\n",
       "      <td>1.262718</td>\n",
       "      <td>5.827114</td>\n",
       "      <td>tt4154756</td>\n",
       "      <td>149.0</td>\n",
       "      <td>8.5</td>\n",
       "      <td>670926.0</td>\n",
       "      <td>0</td>\n",
       "      <td>Action</td>\n",
       "    </tr>\n",
       "    <tr>\n",
       "      <th>2</th>\n",
       "      <td>Jul 20, 2012</td>\n",
       "      <td>The Dark Knight Rises</td>\n",
       "      <td>275000000</td>\n",
       "      <td>448139099</td>\n",
       "      <td>1084439099</td>\n",
       "      <td>2012</td>\n",
       "      <td>173139099</td>\n",
       "      <td>809439099</td>\n",
       "      <td>0.629597</td>\n",
       "      <td>2.943415</td>\n",
       "      <td>tt1345836</td>\n",
       "      <td>164.0</td>\n",
       "      <td>8.4</td>\n",
       "      <td>1387769.0</td>\n",
       "      <td>0</td>\n",
       "      <td>Action</td>\n",
       "    </tr>\n",
       "    <tr>\n",
       "      <th>3</th>\n",
       "      <td>May 6, 2016</td>\n",
       "      <td>Captain America: Civil War</td>\n",
       "      <td>250000000</td>\n",
       "      <td>408084349</td>\n",
       "      <td>1140069413</td>\n",
       "      <td>2016</td>\n",
       "      <td>158084349</td>\n",
       "      <td>890069413</td>\n",
       "      <td>0.632337</td>\n",
       "      <td>3.560278</td>\n",
       "      <td>tt3498820</td>\n",
       "      <td>147.0</td>\n",
       "      <td>7.8</td>\n",
       "      <td>583507.0</td>\n",
       "      <td>0</td>\n",
       "      <td>Action</td>\n",
       "    </tr>\n",
       "    <tr>\n",
       "      <th>4</th>\n",
       "      <td>Mar 25, 2016</td>\n",
       "      <td>Batman v Superman: Dawn of Justice</td>\n",
       "      <td>250000000</td>\n",
       "      <td>330360194</td>\n",
       "      <td>867500281</td>\n",
       "      <td>2016</td>\n",
       "      <td>80360194</td>\n",
       "      <td>617500281</td>\n",
       "      <td>0.321441</td>\n",
       "      <td>2.470001</td>\n",
       "      <td>tt2975590</td>\n",
       "      <td>151.0</td>\n",
       "      <td>6.5</td>\n",
       "      <td>576909.0</td>\n",
       "      <td>0</td>\n",
       "      <td>Action</td>\n",
       "    </tr>\n",
       "  </tbody>\n",
       "</table>\n",
       "</div>"
      ],
      "text/plain": [
       "   release_date                               movie  production_budget  \\\n",
       "0   May 1, 2015             Avengers: Age of Ultron          330600000   \n",
       "1  Apr 27, 2018              Avengers: Infinity War          300000000   \n",
       "2  Jul 20, 2012               The Dark Knight Rises          275000000   \n",
       "3   May 6, 2016          Captain America: Civil War          250000000   \n",
       "4  Mar 25, 2016  Batman v Superman: Dawn of Justice          250000000   \n",
       "\n",
       "   domestic_gross  worldwide_gross  release_year  domestic_profit  \\\n",
       "0       459005868       1403013963          2015        128405868   \n",
       "1       678815482       2048134200          2018        378815482   \n",
       "2       448139099       1084439099          2012        173139099   \n",
       "3       408084349       1140069413          2016        158084349   \n",
       "4       330360194        867500281          2016         80360194   \n",
       "\n",
       "   worldwide_profit  domestic_roi  worldwide_roi     tconst  runtime_minutes  \\\n",
       "0        1072413963      0.388403       3.243841  tt2395427            141.0   \n",
       "1        1748134200      1.262718       5.827114  tt4154756            149.0   \n",
       "2         809439099      0.629597       2.943415  tt1345836            164.0   \n",
       "3         890069413      0.632337       3.560278  tt3498820            147.0   \n",
       "4         617500281      0.321441       2.470001  tt2975590            151.0   \n",
       "\n",
       "   averagerating   numvotes variable  genres  \n",
       "0            7.3   665594.0        0  Action  \n",
       "1            8.5   670926.0        0  Action  \n",
       "2            8.4  1387769.0        0  Action  \n",
       "3            7.8   583507.0        0  Action  \n",
       "4            6.5   576909.0        0  Action  "
      ]
     },
     "execution_count": 18,
     "metadata": {},
     "output_type": "execute_result"
    }
   ],
   "source": [
    "top_movies_df.head()"
   ]
  },
  {
   "cell_type": "code",
   "execution_count": 19,
   "metadata": {},
   "outputs": [
    {
     "data": {
      "text/plain": [
       "Drama          189\n",
       "Comedy         170\n",
       "Adventure      142\n",
       "Action         140\n",
       "Thriller        84\n",
       "Horror          63\n",
       "Romance         57\n",
       "Mystery         54\n",
       "Sci-Fi          53\n",
       "Crime           51\n",
       "Animation       47\n",
       "Biography       44\n",
       "Fantasy         36\n",
       "Family          24\n",
       "History         13\n",
       "Music           12\n",
       "Sport            7\n",
       "Musical          4\n",
       "War              3\n",
       "Documentary      3\n",
       "Western          2\n",
       "Name: genres, dtype: int64"
      ]
     },
     "execution_count": 19,
     "metadata": {},
     "output_type": "execute_result"
    }
   ],
   "source": [
    "top_movies_df.genres.value_counts()"
   ]
  },
  {
   "cell_type": "code",
   "execution_count": 20,
   "metadata": {},
   "outputs": [
    {
     "data": {
      "text/html": [
       "<div>\n",
       "<style scoped>\n",
       "    .dataframe tbody tr th:only-of-type {\n",
       "        vertical-align: middle;\n",
       "    }\n",
       "\n",
       "    .dataframe tbody tr th {\n",
       "        vertical-align: top;\n",
       "    }\n",
       "\n",
       "    .dataframe thead th {\n",
       "        text-align: right;\n",
       "    }\n",
       "</style>\n",
       "<table border=\"1\" class=\"dataframe\">\n",
       "  <thead>\n",
       "    <tr style=\"text-align: right;\">\n",
       "      <th></th>\n",
       "      <th>tconst</th>\n",
       "      <th>movie</th>\n",
       "      <th>original_title</th>\n",
       "      <th>release_year</th>\n",
       "      <th>runtime_minutes</th>\n",
       "      <th>genres</th>\n",
       "      <th>averagerating</th>\n",
       "      <th>numvotes</th>\n",
       "    </tr>\n",
       "  </thead>\n",
       "  <tbody>\n",
       "    <tr>\n",
       "      <th>0</th>\n",
       "      <td>tt0063540</td>\n",
       "      <td>Sunghursh</td>\n",
       "      <td>Sunghursh</td>\n",
       "      <td>2013</td>\n",
       "      <td>175.0</td>\n",
       "      <td>Action,Crime,Drama</td>\n",
       "      <td>7.0</td>\n",
       "      <td>77.0</td>\n",
       "    </tr>\n",
       "    <tr>\n",
       "      <th>1</th>\n",
       "      <td>tt0066787</td>\n",
       "      <td>One Day Before the Rainy Season</td>\n",
       "      <td>Ashad Ka Ek Din</td>\n",
       "      <td>2019</td>\n",
       "      <td>114.0</td>\n",
       "      <td>Biography,Drama</td>\n",
       "      <td>7.2</td>\n",
       "      <td>43.0</td>\n",
       "    </tr>\n",
       "    <tr>\n",
       "      <th>2</th>\n",
       "      <td>tt0069049</td>\n",
       "      <td>The Other Side of the Wind</td>\n",
       "      <td>The Other Side of the Wind</td>\n",
       "      <td>2018</td>\n",
       "      <td>122.0</td>\n",
       "      <td>Drama</td>\n",
       "      <td>6.9</td>\n",
       "      <td>4517.0</td>\n",
       "    </tr>\n",
       "    <tr>\n",
       "      <th>3</th>\n",
       "      <td>tt0069204</td>\n",
       "      <td>Sabse Bada Sukh</td>\n",
       "      <td>Sabse Bada Sukh</td>\n",
       "      <td>2018</td>\n",
       "      <td>NaN</td>\n",
       "      <td>Comedy,Drama</td>\n",
       "      <td>6.1</td>\n",
       "      <td>13.0</td>\n",
       "    </tr>\n",
       "    <tr>\n",
       "      <th>4</th>\n",
       "      <td>tt0100275</td>\n",
       "      <td>The Wandering Soap Opera</td>\n",
       "      <td>La Telenovela Errante</td>\n",
       "      <td>2017</td>\n",
       "      <td>80.0</td>\n",
       "      <td>Comedy,Drama,Fantasy</td>\n",
       "      <td>6.5</td>\n",
       "      <td>119.0</td>\n",
       "    </tr>\n",
       "  </tbody>\n",
       "</table>\n",
       "</div>"
      ],
      "text/plain": [
       "      tconst                            movie              original_title  \\\n",
       "0  tt0063540                        Sunghursh                   Sunghursh   \n",
       "1  tt0066787  One Day Before the Rainy Season             Ashad Ka Ek Din   \n",
       "2  tt0069049       The Other Side of the Wind  The Other Side of the Wind   \n",
       "3  tt0069204                  Sabse Bada Sukh             Sabse Bada Sukh   \n",
       "4  tt0100275         The Wandering Soap Opera       La Telenovela Errante   \n",
       "\n",
       "   release_year  runtime_minutes                genres  averagerating  \\\n",
       "0          2013            175.0    Action,Crime,Drama            7.0   \n",
       "1          2019            114.0       Biography,Drama            7.2   \n",
       "2          2018            122.0                 Drama            6.9   \n",
       "3          2018              NaN          Comedy,Drama            6.1   \n",
       "4          2017             80.0  Comedy,Drama,Fantasy            6.5   \n",
       "\n",
       "   numvotes  \n",
       "0      77.0  \n",
       "1      43.0  \n",
       "2    4517.0  \n",
       "3      13.0  \n",
       "4     119.0  "
      ]
     },
     "execution_count": 20,
     "metadata": {},
     "output_type": "execute_result"
    }
   ],
   "source": [
    "movies_info.head()"
   ]
  },
  {
   "cell_type": "code",
   "execution_count": 21,
   "metadata": {},
   "outputs": [],
   "source": [
    "movies_info.drop(['tconst', 'original_title', 'runtime_minutes', 'averagerating', 'numvotes'], axis=1, inplace=True)"
   ]
  },
  {
   "cell_type": "code",
   "execution_count": 22,
   "metadata": {},
   "outputs": [
    {
     "data": {
      "text/html": [
       "<div>\n",
       "<style scoped>\n",
       "    .dataframe tbody tr th:only-of-type {\n",
       "        vertical-align: middle;\n",
       "    }\n",
       "\n",
       "    .dataframe tbody tr th {\n",
       "        vertical-align: top;\n",
       "    }\n",
       "\n",
       "    .dataframe thead th {\n",
       "        text-align: right;\n",
       "    }\n",
       "</style>\n",
       "<table border=\"1\" class=\"dataframe\">\n",
       "  <thead>\n",
       "    <tr style=\"text-align: right;\">\n",
       "      <th></th>\n",
       "      <th>movie</th>\n",
       "      <th>release_year</th>\n",
       "      <th>genres</th>\n",
       "    </tr>\n",
       "  </thead>\n",
       "  <tbody>\n",
       "    <tr>\n",
       "      <th>0</th>\n",
       "      <td>Sunghursh</td>\n",
       "      <td>2013</td>\n",
       "      <td>Action,Crime,Drama</td>\n",
       "    </tr>\n",
       "    <tr>\n",
       "      <th>1</th>\n",
       "      <td>One Day Before the Rainy Season</td>\n",
       "      <td>2019</td>\n",
       "      <td>Biography,Drama</td>\n",
       "    </tr>\n",
       "    <tr>\n",
       "      <th>2</th>\n",
       "      <td>The Other Side of the Wind</td>\n",
       "      <td>2018</td>\n",
       "      <td>Drama</td>\n",
       "    </tr>\n",
       "    <tr>\n",
       "      <th>3</th>\n",
       "      <td>Sabse Bada Sukh</td>\n",
       "      <td>2018</td>\n",
       "      <td>Comedy,Drama</td>\n",
       "    </tr>\n",
       "    <tr>\n",
       "      <th>4</th>\n",
       "      <td>The Wandering Soap Opera</td>\n",
       "      <td>2017</td>\n",
       "      <td>Comedy,Drama,Fantasy</td>\n",
       "    </tr>\n",
       "  </tbody>\n",
       "</table>\n",
       "</div>"
      ],
      "text/plain": [
       "                             movie  release_year                genres\n",
       "0                        Sunghursh          2013    Action,Crime,Drama\n",
       "1  One Day Before the Rainy Season          2019       Biography,Drama\n",
       "2       The Other Side of the Wind          2018                 Drama\n",
       "3                  Sabse Bada Sukh          2018          Comedy,Drama\n",
       "4         The Wandering Soap Opera          2017  Comedy,Drama,Fantasy"
      ]
     },
     "execution_count": 22,
     "metadata": {},
     "output_type": "execute_result"
    }
   ],
   "source": [
    "movies_info.head()"
   ]
  },
  {
   "cell_type": "code",
   "execution_count": 23,
   "metadata": {},
   "outputs": [],
   "source": [
    "movies_info_columns = list(movies_info.columns)\n",
    "movies_info_columns.remove('genres')\n",
    "movies_info_columns\n",
    "\n",
    "movies_info.dropna(subset=['genres'], inplace=True)\n",
    "movies_info['genres'] = movies_info['genres'].map(lambda x: x.split(\",\"))\n",
    "\n",
    "movies_info = movies_info.genres.apply(pd.Series) \\\n",
    "    .merge(movies_info, right_index = True, left_index = True) \\\n",
    "    .drop([\"genres\"], axis = 1) \\\n",
    "    .melt(id_vars = movies_info_columns , value_name = \"genres\") \\\n",
    "    .dropna()"
   ]
  },
  {
   "cell_type": "code",
   "execution_count": 24,
   "metadata": {
    "scrolled": false
   },
   "outputs": [
    {
     "data": {
      "text/html": [
       "<div>\n",
       "<style scoped>\n",
       "    .dataframe tbody tr th:only-of-type {\n",
       "        vertical-align: middle;\n",
       "    }\n",
       "\n",
       "    .dataframe tbody tr th {\n",
       "        vertical-align: top;\n",
       "    }\n",
       "\n",
       "    .dataframe thead th {\n",
       "        text-align: right;\n",
       "    }\n",
       "</style>\n",
       "<table border=\"1\" class=\"dataframe\">\n",
       "  <thead>\n",
       "    <tr style=\"text-align: right;\">\n",
       "      <th></th>\n",
       "      <th>movie</th>\n",
       "      <th>release_year</th>\n",
       "      <th>variable</th>\n",
       "      <th>genres</th>\n",
       "    </tr>\n",
       "  </thead>\n",
       "  <tbody>\n",
       "    <tr>\n",
       "      <th>0</th>\n",
       "      <td>Sunghursh</td>\n",
       "      <td>2013</td>\n",
       "      <td>0</td>\n",
       "      <td>Action</td>\n",
       "    </tr>\n",
       "    <tr>\n",
       "      <th>1</th>\n",
       "      <td>One Day Before the Rainy Season</td>\n",
       "      <td>2019</td>\n",
       "      <td>0</td>\n",
       "      <td>Biography</td>\n",
       "    </tr>\n",
       "    <tr>\n",
       "      <th>2</th>\n",
       "      <td>The Other Side of the Wind</td>\n",
       "      <td>2018</td>\n",
       "      <td>0</td>\n",
       "      <td>Drama</td>\n",
       "    </tr>\n",
       "    <tr>\n",
       "      <th>3</th>\n",
       "      <td>Sabse Bada Sukh</td>\n",
       "      <td>2018</td>\n",
       "      <td>0</td>\n",
       "      <td>Comedy</td>\n",
       "    </tr>\n",
       "    <tr>\n",
       "      <th>4</th>\n",
       "      <td>The Wandering Soap Opera</td>\n",
       "      <td>2017</td>\n",
       "      <td>0</td>\n",
       "      <td>Comedy</td>\n",
       "    </tr>\n",
       "  </tbody>\n",
       "</table>\n",
       "</div>"
      ],
      "text/plain": [
       "                             movie  release_year variable     genres\n",
       "0                        Sunghursh          2013        0     Action\n",
       "1  One Day Before the Rainy Season          2019        0  Biography\n",
       "2       The Other Side of the Wind          2018        0      Drama\n",
       "3                  Sabse Bada Sukh          2018        0     Comedy\n",
       "4         The Wandering Soap Opera          2017        0     Comedy"
      ]
     },
     "execution_count": 24,
     "metadata": {},
     "output_type": "execute_result"
    }
   ],
   "source": [
    "movies_info.head()"
   ]
  },
  {
   "cell_type": "code",
   "execution_count": 25,
   "metadata": {},
   "outputs": [
    {
     "data": {
      "text/plain": [
       "Documentary    51640\n",
       "Drama          49883\n",
       "Comedy         25312\n",
       "Thriller       11883\n",
       "Horror         10805\n",
       "Action         10335\n",
       "Romance         9372\n",
       "Biography       8722\n",
       "Crime           6753\n",
       "Adventure       6465\n",
       "Family          6227\n",
       "History         6225\n",
       "Mystery         4659\n",
       "Music           4314\n",
       "Fantasy         3516\n",
       "Sci-Fi          3365\n",
       "Animation       2799\n",
       "Sport           2234\n",
       "News            1551\n",
       "Musical         1430\n",
       "War             1405\n",
       "Western          467\n",
       "Reality-TV        98\n",
       "Talk-Show         50\n",
       "Adult             25\n",
       "Short             11\n",
       "Game-Show          4\n",
       "Name: genres, dtype: int64"
      ]
     },
     "execution_count": 25,
     "metadata": {},
     "output_type": "execute_result"
    }
   ],
   "source": [
    "movies_info.genres.value_counts()"
   ]
  },
  {
   "cell_type": "code",
   "execution_count": 26,
   "metadata": {},
   "outputs": [
    {
     "data": {
      "text/html": [
       "<div>\n",
       "<style scoped>\n",
       "    .dataframe tbody tr th:only-of-type {\n",
       "        vertical-align: middle;\n",
       "    }\n",
       "\n",
       "    .dataframe tbody tr th {\n",
       "        vertical-align: top;\n",
       "    }\n",
       "\n",
       "    .dataframe thead th {\n",
       "        text-align: right;\n",
       "    }\n",
       "</style>\n",
       "<table border=\"1\" class=\"dataframe\">\n",
       "  <thead>\n",
       "    <tr style=\"text-align: right;\">\n",
       "      <th></th>\n",
       "      <th>genres</th>\n",
       "      <th>count_all</th>\n",
       "    </tr>\n",
       "  </thead>\n",
       "  <tbody>\n",
       "    <tr>\n",
       "      <th>0</th>\n",
       "      <td>Action</td>\n",
       "      <td>10335</td>\n",
       "    </tr>\n",
       "    <tr>\n",
       "      <th>1</th>\n",
       "      <td>Adult</td>\n",
       "      <td>25</td>\n",
       "    </tr>\n",
       "    <tr>\n",
       "      <th>2</th>\n",
       "      <td>Adventure</td>\n",
       "      <td>6465</td>\n",
       "    </tr>\n",
       "    <tr>\n",
       "      <th>3</th>\n",
       "      <td>Animation</td>\n",
       "      <td>2799</td>\n",
       "    </tr>\n",
       "    <tr>\n",
       "      <th>4</th>\n",
       "      <td>Biography</td>\n",
       "      <td>8722</td>\n",
       "    </tr>\n",
       "  </tbody>\n",
       "</table>\n",
       "</div>"
      ],
      "text/plain": [
       "      genres  count_all\n",
       "0     Action      10335\n",
       "1      Adult         25\n",
       "2  Adventure       6465\n",
       "3  Animation       2799\n",
       "4  Biography       8722"
      ]
     },
     "execution_count": 26,
     "metadata": {},
     "output_type": "execute_result"
    }
   ],
   "source": [
    "all_genres_df = movies_info.groupby('genres')['genres'].count()\n",
    "all_genres_df = pd.Series.to_frame(all_genres_df) \n",
    "all_genres_df.rename(columns={'genres': 'count_all'}, inplace=True)\n",
    "all_genres_df.reset_index(inplace=True)\n",
    "all_genres_df.head()"
   ]
  },
  {
   "cell_type": "code",
   "execution_count": 27,
   "metadata": {},
   "outputs": [
    {
     "data": {
      "text/html": [
       "<div>\n",
       "<style scoped>\n",
       "    .dataframe tbody tr th:only-of-type {\n",
       "        vertical-align: middle;\n",
       "    }\n",
       "\n",
       "    .dataframe tbody tr th {\n",
       "        vertical-align: top;\n",
       "    }\n",
       "\n",
       "    .dataframe thead th {\n",
       "        text-align: right;\n",
       "    }\n",
       "</style>\n",
       "<table border=\"1\" class=\"dataframe\">\n",
       "  <thead>\n",
       "    <tr style=\"text-align: right;\">\n",
       "      <th></th>\n",
       "      <th>genres</th>\n",
       "      <th>count_top</th>\n",
       "    </tr>\n",
       "  </thead>\n",
       "  <tbody>\n",
       "    <tr>\n",
       "      <th>0</th>\n",
       "      <td>Action</td>\n",
       "      <td>140</td>\n",
       "    </tr>\n",
       "    <tr>\n",
       "      <th>1</th>\n",
       "      <td>Adventure</td>\n",
       "      <td>142</td>\n",
       "    </tr>\n",
       "    <tr>\n",
       "      <th>2</th>\n",
       "      <td>Animation</td>\n",
       "      <td>47</td>\n",
       "    </tr>\n",
       "    <tr>\n",
       "      <th>3</th>\n",
       "      <td>Biography</td>\n",
       "      <td>44</td>\n",
       "    </tr>\n",
       "    <tr>\n",
       "      <th>4</th>\n",
       "      <td>Comedy</td>\n",
       "      <td>170</td>\n",
       "    </tr>\n",
       "  </tbody>\n",
       "</table>\n",
       "</div>"
      ],
      "text/plain": [
       "      genres  count_top\n",
       "0     Action        140\n",
       "1  Adventure        142\n",
       "2  Animation         47\n",
       "3  Biography         44\n",
       "4     Comedy        170"
      ]
     },
     "execution_count": 27,
     "metadata": {},
     "output_type": "execute_result"
    }
   ],
   "source": [
    "top_genres_df = top_movies_df.groupby('genres')['genres'].count()\n",
    "top_genres_df = pd.Series.to_frame(top_genres_df)\n",
    "top_genres_df.rename(columns={'genres': 'count_top'}, inplace=True)\n",
    "top_genres_df.reset_index(inplace=True)\n",
    "top_genres_df.head()"
   ]
  },
  {
   "cell_type": "code",
   "execution_count": 28,
   "metadata": {},
   "outputs": [
    {
     "data": {
      "text/html": [
       "<div>\n",
       "<style scoped>\n",
       "    .dataframe tbody tr th:only-of-type {\n",
       "        vertical-align: middle;\n",
       "    }\n",
       "\n",
       "    .dataframe tbody tr th {\n",
       "        vertical-align: top;\n",
       "    }\n",
       "\n",
       "    .dataframe thead th {\n",
       "        text-align: right;\n",
       "    }\n",
       "</style>\n",
       "<table border=\"1\" class=\"dataframe\">\n",
       "  <thead>\n",
       "    <tr style=\"text-align: right;\">\n",
       "      <th></th>\n",
       "      <th>genres</th>\n",
       "      <th>count_top</th>\n",
       "      <th>count_all</th>\n",
       "    </tr>\n",
       "  </thead>\n",
       "  <tbody>\n",
       "    <tr>\n",
       "      <th>0</th>\n",
       "      <td>Action</td>\n",
       "      <td>140</td>\n",
       "      <td>10335</td>\n",
       "    </tr>\n",
       "    <tr>\n",
       "      <th>1</th>\n",
       "      <td>Adventure</td>\n",
       "      <td>142</td>\n",
       "      <td>6465</td>\n",
       "    </tr>\n",
       "    <tr>\n",
       "      <th>2</th>\n",
       "      <td>Animation</td>\n",
       "      <td>47</td>\n",
       "      <td>2799</td>\n",
       "    </tr>\n",
       "    <tr>\n",
       "      <th>3</th>\n",
       "      <td>Biography</td>\n",
       "      <td>44</td>\n",
       "      <td>8722</td>\n",
       "    </tr>\n",
       "    <tr>\n",
       "      <th>4</th>\n",
       "      <td>Comedy</td>\n",
       "      <td>170</td>\n",
       "      <td>25312</td>\n",
       "    </tr>\n",
       "    <tr>\n",
       "      <th>5</th>\n",
       "      <td>Crime</td>\n",
       "      <td>51</td>\n",
       "      <td>6753</td>\n",
       "    </tr>\n",
       "    <tr>\n",
       "      <th>6</th>\n",
       "      <td>Documentary</td>\n",
       "      <td>3</td>\n",
       "      <td>51640</td>\n",
       "    </tr>\n",
       "    <tr>\n",
       "      <th>7</th>\n",
       "      <td>Drama</td>\n",
       "      <td>189</td>\n",
       "      <td>49883</td>\n",
       "    </tr>\n",
       "    <tr>\n",
       "      <th>8</th>\n",
       "      <td>Family</td>\n",
       "      <td>24</td>\n",
       "      <td>6227</td>\n",
       "    </tr>\n",
       "    <tr>\n",
       "      <th>9</th>\n",
       "      <td>Fantasy</td>\n",
       "      <td>36</td>\n",
       "      <td>3516</td>\n",
       "    </tr>\n",
       "    <tr>\n",
       "      <th>10</th>\n",
       "      <td>History</td>\n",
       "      <td>13</td>\n",
       "      <td>6225</td>\n",
       "    </tr>\n",
       "    <tr>\n",
       "      <th>11</th>\n",
       "      <td>Horror</td>\n",
       "      <td>63</td>\n",
       "      <td>10805</td>\n",
       "    </tr>\n",
       "    <tr>\n",
       "      <th>12</th>\n",
       "      <td>Music</td>\n",
       "      <td>12</td>\n",
       "      <td>4314</td>\n",
       "    </tr>\n",
       "    <tr>\n",
       "      <th>13</th>\n",
       "      <td>Musical</td>\n",
       "      <td>4</td>\n",
       "      <td>1430</td>\n",
       "    </tr>\n",
       "    <tr>\n",
       "      <th>14</th>\n",
       "      <td>Mystery</td>\n",
       "      <td>54</td>\n",
       "      <td>4659</td>\n",
       "    </tr>\n",
       "    <tr>\n",
       "      <th>15</th>\n",
       "      <td>Romance</td>\n",
       "      <td>57</td>\n",
       "      <td>9372</td>\n",
       "    </tr>\n",
       "    <tr>\n",
       "      <th>16</th>\n",
       "      <td>Sci-Fi</td>\n",
       "      <td>53</td>\n",
       "      <td>3365</td>\n",
       "    </tr>\n",
       "    <tr>\n",
       "      <th>17</th>\n",
       "      <td>Sport</td>\n",
       "      <td>7</td>\n",
       "      <td>2234</td>\n",
       "    </tr>\n",
       "    <tr>\n",
       "      <th>18</th>\n",
       "      <td>Thriller</td>\n",
       "      <td>84</td>\n",
       "      <td>11883</td>\n",
       "    </tr>\n",
       "    <tr>\n",
       "      <th>19</th>\n",
       "      <td>War</td>\n",
       "      <td>3</td>\n",
       "      <td>1405</td>\n",
       "    </tr>\n",
       "    <tr>\n",
       "      <th>20</th>\n",
       "      <td>Western</td>\n",
       "      <td>2</td>\n",
       "      <td>467</td>\n",
       "    </tr>\n",
       "  </tbody>\n",
       "</table>\n",
       "</div>"
      ],
      "text/plain": [
       "         genres  count_top  count_all\n",
       "0        Action        140      10335\n",
       "1     Adventure        142       6465\n",
       "2     Animation         47       2799\n",
       "3     Biography         44       8722\n",
       "4        Comedy        170      25312\n",
       "5         Crime         51       6753\n",
       "6   Documentary          3      51640\n",
       "7         Drama        189      49883\n",
       "8        Family         24       6227\n",
       "9       Fantasy         36       3516\n",
       "10      History         13       6225\n",
       "11       Horror         63      10805\n",
       "12        Music         12       4314\n",
       "13      Musical          4       1430\n",
       "14      Mystery         54       4659\n",
       "15      Romance         57       9372\n",
       "16       Sci-Fi         53       3365\n",
       "17        Sport          7       2234\n",
       "18     Thriller         84      11883\n",
       "19          War          3       1405\n",
       "20      Western          2        467"
      ]
     },
     "execution_count": 28,
     "metadata": {},
     "output_type": "execute_result"
    }
   ],
   "source": [
    "compare_genres_df = top_genres_df.merge(all_genres_df, how='left')\n",
    "compare_genres_df"
   ]
  },
  {
   "cell_type": "code",
   "execution_count": 29,
   "metadata": {},
   "outputs": [
    {
     "data": {
      "text/html": [
       "<div>\n",
       "<style scoped>\n",
       "    .dataframe tbody tr th:only-of-type {\n",
       "        vertical-align: middle;\n",
       "    }\n",
       "\n",
       "    .dataframe tbody tr th {\n",
       "        vertical-align: top;\n",
       "    }\n",
       "\n",
       "    .dataframe thead th {\n",
       "        text-align: right;\n",
       "    }\n",
       "</style>\n",
       "<table border=\"1\" class=\"dataframe\">\n",
       "  <thead>\n",
       "    <tr style=\"text-align: right;\">\n",
       "      <th></th>\n",
       "      <th>genres</th>\n",
       "      <th>count_top</th>\n",
       "      <th>count_all</th>\n",
       "      <th>percentage_top</th>\n",
       "      <th>percentage_all</th>\n",
       "    </tr>\n",
       "  </thead>\n",
       "  <tbody>\n",
       "    <tr>\n",
       "      <th>0</th>\n",
       "      <td>Action</td>\n",
       "      <td>140</td>\n",
       "      <td>10335</td>\n",
       "      <td>11.686144</td>\n",
       "      <td>4.536655</td>\n",
       "    </tr>\n",
       "    <tr>\n",
       "      <th>1</th>\n",
       "      <td>Adventure</td>\n",
       "      <td>142</td>\n",
       "      <td>6465</td>\n",
       "      <td>11.853088</td>\n",
       "      <td>2.837879</td>\n",
       "    </tr>\n",
       "    <tr>\n",
       "      <th>2</th>\n",
       "      <td>Animation</td>\n",
       "      <td>47</td>\n",
       "      <td>2799</td>\n",
       "      <td>3.923205</td>\n",
       "      <td>1.228650</td>\n",
       "    </tr>\n",
       "    <tr>\n",
       "      <th>3</th>\n",
       "      <td>Biography</td>\n",
       "      <td>44</td>\n",
       "      <td>8722</td>\n",
       "      <td>3.672788</td>\n",
       "      <td>3.828612</td>\n",
       "    </tr>\n",
       "    <tr>\n",
       "      <th>4</th>\n",
       "      <td>Comedy</td>\n",
       "      <td>170</td>\n",
       "      <td>25312</td>\n",
       "      <td>14.190317</td>\n",
       "      <td>11.110965</td>\n",
       "    </tr>\n",
       "  </tbody>\n",
       "</table>\n",
       "</div>"
      ],
      "text/plain": [
       "      genres  count_top  count_all  percentage_top  percentage_all\n",
       "0     Action        140      10335       11.686144        4.536655\n",
       "1  Adventure        142       6465       11.853088        2.837879\n",
       "2  Animation         47       2799        3.923205        1.228650\n",
       "3  Biography         44       8722        3.672788        3.828612\n",
       "4     Comedy        170      25312       14.190317       11.110965"
      ]
     },
     "execution_count": 29,
     "metadata": {},
     "output_type": "execute_result"
    }
   ],
   "source": [
    "count_top_sum = compare_genres_df.count_top.sum()\n",
    "count_all_sum = compare_genres_df.count_all.sum()\n",
    "compare_genres_df['percentage_top'] = compare_genres_df['count_top'].map(lambda x: 100*(x/count_top_sum))\n",
    "compare_genres_df['percentage_all'] = compare_genres_df['count_all'].map(lambda x: 100*(x/count_all_sum))\n",
    "\n",
    "compare_genres_df.head()"
   ]
  },
  {
   "cell_type": "code",
   "execution_count": 30,
   "metadata": {},
   "outputs": [
    {
     "data": {
      "image/png": "[encoded data removed]",
      "text/plain": [
       "<Figure size 1440x720 with 1 Axes>"
      ]
     },
     "metadata": {
      "needs_background": "light"
     },
     "output_type": "display_data"
    }
   ],
   "source": [
    "import matplotlib.pyplot as plt\n",
    "import numpy as np\n",
    "\n",
    "xlabels = list(compare_genres_df['genres'])\n",
    "top_genre_percentages = list(compare_genres_df['percentage_top'])\n",
    "all_genre_percentages = list(compare_genres_df['percentage_all'])\n",
    "\n",
    "x = np.arange(len(xlabels))\n",
    "width = 0.35\n",
    "\n",
    "fig, ax = plt.subplots(figsize=(20, 10))\n",
    "ax.bar(x - width/2, top_genre_percentages, width, label='Top movies', color='limegreen')\n",
    "ax.bar(x + width/2, all_genre_percentages, width, label='All movies', color='cornflowerblue')\n",
    "\n",
    "ax.set_title('Distribution of Genres', size=30)\n",
    "ax.set_ylabel('Movies (%)', size=25)\n",
    "ax.tick_params(axis='y', labelsize=20)\n",
    "ax.set_xticks(x)\n",
    "ax.set_xticklabels(xlabels, size=15, rotation=45)\n",
    "ax.set_xlabel('Genres', size=25)\n",
    "ax.legend(fontsize=20)\n",
    "\n",
    "fig.tight_layout()\n",
    "\n",
    "plt.savefig('./distribution_of_genres.png')\n",
    "plt.show()"
   ]
  },
  {
   "cell_type": "code",
   "execution_count": 30,
   "metadata": {},
   "outputs": [],
   "source": [
    "relevant_movies = movie_budgets[(movie_budgets['worldwide_gross'] > 0) \n",
    "                                   & (movie_budgets['domestic_gross'] > 0) \n",
    "                                   & (movie_budgets['production_budget'] >= 5000000) \n",
    "                                   & (movie_budgets['release_year'] != 2020) ]"
   ]
  },
  {
   "cell_type": "code",
   "execution_count": null,
   "metadata": {},
   "outputs": [],
   "source": []
  },
  {
   "cell_type": "code",
   "execution_count": null,
   "metadata": {},
   "outputs": [],
   "source": []
  },
  {
   "cell_type": "code",
   "execution_count": null,
   "metadata": {},
   "outputs": [],
   "source": []
  },
  {
   "cell_type": "code",
   "execution_count": null,
   "metadata": {},
   "outputs": [],
   "source": []
  },
  {
   "cell_type": "code",
   "execution_count": null,
   "metadata": {},
   "outputs": [],
   "source": []
  }
 ],
 "metadata": {
  "kernelspec": {
   "display_name": "Python 3",
   "language": "python",
   "name": "python3"
  },
  "language_info": {
   "codemirror_mode": {
    "name": "ipython",
    "version": 3
   },
   "file_extension": ".py",
   "mimetype": "text/x-python",
   "name": "python",
   "nbconvert_exporter": "python",
   "pygments_lexer": "ipython3",
   "version": "3.8.5"
  }
 },
 "nbformat": 4,
 "nbformat_minor": 4
}
