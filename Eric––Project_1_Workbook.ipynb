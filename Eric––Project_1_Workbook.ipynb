{
 "cells": [
  {
   "cell_type": "code",
   "execution_count": 1,
   "metadata": {},
   "outputs": [
    {
     "name": "stdout",
     "output_type": "stream",
     "text": [
      "Eric––Project_1_Workbook.ipynb     jmark_working_nb.ipynb\r\n",
      "README.md                          lorela_working_nb.ipynb\r\n",
      "imdb.title.crew.csv.gz             top_movie_list.txt\r\n",
      "imdb.title.ratings.csv.gz          \u001b[34munzippedData\u001b[m\u001b[m\r\n"
     ]
    }
   ],
   "source": [
    "! ls"
   ]
  },
  {
   "cell_type": "code",
   "execution_count": 2,
   "metadata": {},
   "outputs": [],
   "source": [
    "! cd unzippedData"
   ]
  },
  {
   "cell_type": "code",
   "execution_count": 3,
   "metadata": {},
   "outputs": [
    {
     "name": "stdout",
     "output_type": "stream",
     "text": [
      "Eric––Project_1_Workbook.ipynb     jmark_working_nb.ipynb\r\n",
      "README.md                          lorela_working_nb.ipynb\r\n",
      "imdb.title.crew.csv.gz             top_movie_list.txt\r\n",
      "imdb.title.ratings.csv.gz          \u001b[34munzippedData\u001b[m\u001b[m\r\n"
     ]
    }
   ],
   "source": [
    "! ls"
   ]
  },
  {
   "cell_type": "code",
   "execution_count": 4,
   "metadata": {},
   "outputs": [
    {
     "name": "stdout",
     "output_type": "stream",
     "text": [
      "/bin/bash: line 0: cd: /unzippedData: No such file or directory\r\n"
     ]
    }
   ],
   "source": [
    "! cd /unzippedData"
   ]
  },
  {
   "cell_type": "code",
   "execution_count": 5,
   "metadata": {},
   "outputs": [
    {
     "name": "stdout",
     "output_type": "stream",
     "text": [
      "Eric––Project_1_Workbook.ipynb     jmark_working_nb.ipynb\r\n",
      "README.md                          lorela_working_nb.ipynb\r\n",
      "imdb.title.crew.csv.gz             top_movie_list.txt\r\n",
      "imdb.title.ratings.csv.gz          \u001b[34munzippedData\u001b[m\u001b[m\r\n"
     ]
    }
   ],
   "source": [
    "! ls"
   ]
  },
  {
   "cell_type": "code",
   "execution_count": 6,
   "metadata": {},
   "outputs": [
    {
     "name": "stdout",
     "output_type": "stream",
     "text": [
      "/Users/ericdenbin/Documents/flatiron_ds/phase_1/phase_1_project/lej_project1/unzippedData\n"
     ]
    }
   ],
   "source": [
    "cd unzippedData"
   ]
  },
  {
   "cell_type": "code",
   "execution_count": 7,
   "metadata": {},
   "outputs": [
    {
     "name": "stdout",
     "output_type": "stream",
     "text": [
      "bom.movie_gross.csv       imdb.title.basics.csv     rt.reviews.tsv\r\n",
      "imdb.name.basics.csv      imdb.title.principals.csv tmdb.movies.csv\r\n",
      "imdb.title.akas.csv       rt.movie_info.tsv         tn.movie_budgets.csv\r\n"
     ]
    }
   ],
   "source": [
    "! ls"
   ]
  },
  {
   "cell_type": "code",
   "execution_count": null,
   "metadata": {},
   "outputs": [],
   "source": [
    "#Importing pandas\n",
    "\n",
    "import pandas as pd\n",
    "\n",
    "#Importing data\n",
    "\n",
    "name_df = pd.read_csv(\"imdb.name.basics.csv\")\n",
    "\n",
    "title_akas_df = pd.read_csv(\"imdb.title.akas.csv\")\n",
    "\n",
    "tmdb_movies_df = pd.read_csv(\"tmdb.movies.csv\")\n",
    "\n",
    "title_basics_df = pd.read_csv(\"imdb.title.basics.csv\")\n",
    "\n",
    "title_principals_df = pd.read_csv(\"imdb.title.principals.csv\")"
   ]
  },
  {
   "cell_type": "code",
   "execution_count": null,
   "metadata": {},
   "outputs": [],
   "source": [
    "cd .."
   ]
  },
  {
   "cell_type": "code",
   "execution_count": null,
   "metadata": {},
   "outputs": [],
   "source": [
    "title_crew_df = pd.read_csv(\"imdb.title.crew.csv.gz\")"
   ]
  },
  {
   "cell_type": "code",
   "execution_count": null,
   "metadata": {},
   "outputs": [],
   "source": [
    "title_ratings_df = pd.read_csv(\"imdb.title.ratings.csv.gz\")"
   ]
  },
  {
   "cell_type": "code",
   "execution_count": null,
   "metadata": {},
   "outputs": [],
   "source": []
  },
  {
   "cell_type": "code",
   "execution_count": null,
   "metadata": {},
   "outputs": [],
   "source": [
    "name_df.head(10)"
   ]
  },
  {
   "cell_type": "code",
   "execution_count": null,
   "metadata": {},
   "outputs": [],
   "source": [
    "title_basics_df.head(10)"
   ]
  },
  {
   "cell_type": "code",
   "execution_count": null,
   "metadata": {},
   "outputs": [],
   "source": [
    "title_principals_df.head(10)"
   ]
  },
  {
   "cell_type": "code",
   "execution_count": null,
   "metadata": {},
   "outputs": [],
   "source": [
    "title_principals_df.info()"
   ]
  },
  {
   "cell_type": "code",
   "execution_count": null,
   "metadata": {},
   "outputs": [],
   "source": []
  },
  {
   "cell_type": "code",
   "execution_count": null,
   "metadata": {},
   "outputs": [],
   "source": []
  },
  {
   "cell_type": "code",
   "execution_count": null,
   "metadata": {},
   "outputs": [],
   "source": []
  },
  {
   "cell_type": "code",
   "execution_count": null,
   "metadata": {},
   "outputs": [],
   "source": [
    "title_crew_df.head(10)"
   ]
  },
  {
   "cell_type": "code",
   "execution_count": null,
   "metadata": {},
   "outputs": [],
   "source": [
    "title_ratings_df.head(10)"
   ]
  },
  {
   "cell_type": "code",
   "execution_count": null,
   "metadata": {},
   "outputs": [],
   "source": [
    "title_basics_df.head(10)"
   ]
  },
  {
   "cell_type": "code",
   "execution_count": null,
   "metadata": {},
   "outputs": [],
   "source": [
    "basics_ratings_df = title_basics_df.merge(title_ratings_df, on = 'tconst', how = 'left')\n",
    "basics_ratings_df.head()"
   ]
  },
  {
   "cell_type": "code",
   "execution_count": null,
   "metadata": {},
   "outputs": [],
   "source": [
    "basics_ratings_df.info()"
   ]
  },
  {
   "cell_type": "code",
   "execution_count": null,
   "metadata": {},
   "outputs": [],
   "source": [
    "basics_ratings_prin_df = basics_ratings_df.merge(title_principals_df, on='tconst', how='right')\n",
    "\n",
    "basics_ratings_prin_df.head(10)\n",
    "\n"
   ]
  },
  {
   "cell_type": "code",
   "execution_count": null,
   "metadata": {},
   "outputs": [],
   "source": [
    "basics_ratings_prin_df.head(10)"
   ]
  },
  {
   "cell_type": "code",
   "execution_count": null,
   "metadata": {},
   "outputs": [],
   "source": [
    "basics_ratings_prin_df.shape"
   ]
  },
  {
   "cell_type": "code",
   "execution_count": null,
   "metadata": {},
   "outputs": [],
   "source": [
    "# Creating a complete df with title basics, title ratings, title principals, and name basics\n",
    "\n",
    "complete_df = basics_ratings_prin_df.merge(name_df, on='nconst', how='left')\n",
    "complete_df.head(10)"
   ]
  },
  {
   "cell_type": "code",
   "execution_count": null,
   "metadata": {},
   "outputs": [],
   "source": [
    "complete_df.info()"
   ]
  },
  {
   "cell_type": "code",
   "execution_count": null,
   "metadata": {},
   "outputs": [],
   "source": [
    "complete_df.shape"
   ]
  },
  {
   "cell_type": "code",
   "execution_count": null,
   "metadata": {},
   "outputs": [],
   "source": [
    "name_df.shape"
   ]
  },
  {
   "cell_type": "code",
   "execution_count": null,
   "metadata": {},
   "outputs": [],
   "source": [
    "name_df.info()"
   ]
  },
  {
   "cell_type": "code",
   "execution_count": null,
   "metadata": {},
   "outputs": [],
   "source": [
    "name_df.describe()"
   ]
  },
  {
   "cell_type": "code",
   "execution_count": null,
   "metadata": {},
   "outputs": [],
   "source": []
  },
  {
   "cell_type": "code",
   "execution_count": null,
   "metadata": {},
   "outputs": [],
   "source": []
  },
  {
   "cell_type": "code",
   "execution_count": null,
   "metadata": {},
   "outputs": [],
   "source": []
  },
  {
   "cell_type": "code",
   "execution_count": null,
   "metadata": {},
   "outputs": [],
   "source": [
    "# Defining top performing movies \n",
    "    # highest grossing and highest ROI\n",
    "    \n",
    "    # action: clean, filter, analyze this dataset\n",
    "\n",
    "    # get the list of value counts of top genres (and actors, directors, studios, writers) based on this new dataset created \n",
    "        # look back on other (top_critic=1,  i.e. rating >4)\n",
    "    \n",
    "    # draw correlations between the top performing movies and genre, directors, studios, writers, actors, ratings\n",
    "    \n",
    "    # also looking into movies performing poorly (given enough time)"
   ]
  },
  {
   "cell_type": "code",
   "execution_count": null,
   "metadata": {},
   "outputs": [],
   "source": [
    "cd unzippedData"
   ]
  },
  {
   "cell_type": "code",
   "execution_count": null,
   "metadata": {},
   "outputs": [],
   "source": [
    "movie_budgets_df = pd.read_csv(\"tn.movie_budgets.csv\")\n",
    "\n",
    "movie_gross_df = pd.read_csv(\"bom.movie_gross.csv\")"
   ]
  },
  {
   "cell_type": "code",
   "execution_count": null,
   "metadata": {},
   "outputs": [],
   "source": [
    "movie_budgets_df.head()"
   ]
  },
  {
   "cell_type": "code",
   "execution_count": null,
   "metadata": {},
   "outputs": [],
   "source": [
    "# Engineering two new features for the movie budgets dataframe called domestic profit and worldwide profit, \n",
    "# which is the production budget subtracted from domestic gross and worldwide gross, respectively\n",
    "\n",
    "#First we have to clean the columns, removing the dollar sign and commas and creating integers\n",
    "\n",
    "movie_budgets_df['domestic_gross'] = movie_budgets_df['domestic_gross'].map(lambda x: x[1:])\n",
    "\n"
   ]
  },
  {
   "cell_type": "code",
   "execution_count": null,
   "metadata": {
    "scrolled": false
   },
   "outputs": [],
   "source": [
    "movie_budgets_df.head()"
   ]
  },
  {
   "cell_type": "code",
   "execution_count": null,
   "metadata": {},
   "outputs": [],
   "source": [
    "movie_budgets_df['domestic_gross'] = movie_budgets_df['domestic_gross'].map(lambda x: int(x.replace(\",\",\"\")))"
   ]
  },
  {
   "cell_type": "code",
   "execution_count": null,
   "metadata": {},
   "outputs": [],
   "source": [
    "movie_budgets_df.head()"
   ]
  },
  {
   "cell_type": "code",
   "execution_count": null,
   "metadata": {},
   "outputs": [],
   "source": [
    "type(movie_budgets_df['domestic_gross'][1])"
   ]
  },
  {
   "cell_type": "code",
   "execution_count": null,
   "metadata": {},
   "outputs": [],
   "source": [
    "movie_budgets_df['worldwide_gross'] = movie_budgets_df['worldwide_gross'].map(lambda x: int(x[1:].replace(\",\",\"\")))"
   ]
  },
  {
   "cell_type": "code",
   "execution_count": null,
   "metadata": {},
   "outputs": [],
   "source": [
    "type(movie_budgets_df['worldwide_gross'][1])"
   ]
  },
  {
   "cell_type": "code",
   "execution_count": null,
   "metadata": {},
   "outputs": [],
   "source": [
    "movie_budgets_df['production_budget'] = movie_budgets_df['production_budget'].map(lambda x: int(x[1:].replace(\",\",\"\")))"
   ]
  },
  {
   "cell_type": "code",
   "execution_count": null,
   "metadata": {},
   "outputs": [],
   "source": [
    "type(movie_budgets_df['production_budget'][1])"
   ]
  },
  {
   "cell_type": "code",
   "execution_count": null,
   "metadata": {},
   "outputs": [],
   "source": []
  },
  {
   "cell_type": "code",
   "execution_count": null,
   "metadata": {},
   "outputs": [],
   "source": [
    "movie_budgets_df['domestic_profit'] = movie_budgets_df['domestic_gross'] - movie_budgets_df['production_budget']\n",
    "\n",
    "movie_budgets_df['worldwide_profit'] = movie_budgets_df['worldwide_gross'] - movie_budgets_df['production_budget']\n"
   ]
  },
  {
   "cell_type": "code",
   "execution_count": null,
   "metadata": {},
   "outputs": [],
   "source": [
    "movie_budgets_df.head()"
   ]
  },
  {
   "cell_type": "code",
   "execution_count": null,
   "metadata": {},
   "outputs": [],
   "source": [
    "movie_budgets_df['domestic_profit_to_budget_ratio'] = movie_budgets_df['domestic_profit']/movie_budgets_df['production_budget']"
   ]
  },
  {
   "cell_type": "code",
   "execution_count": null,
   "metadata": {},
   "outputs": [],
   "source": [
    "movie_budgets_df['worldwide_profit_to_budget_ratio'] = movie_budgets_df['worldwide_profit']/movie_budgets_df['production_budget']"
   ]
  },
  {
   "cell_type": "code",
   "execution_count": null,
   "metadata": {},
   "outputs": [],
   "source": [
    "movie_budgets_df.head(10)"
   ]
  },
  {
   "cell_type": "code",
   "execution_count": null,
   "metadata": {},
   "outputs": [],
   "source": []
  },
  {
   "cell_type": "code",
   "execution_count": null,
   "metadata": {},
   "outputs": [],
   "source": []
  },
  {
   "cell_type": "code",
   "execution_count": null,
   "metadata": {},
   "outputs": [],
   "source": []
  },
  {
   "cell_type": "code",
   "execution_count": null,
   "metadata": {},
   "outputs": [],
   "source": [
    "movie_gross_df.head()"
   ]
  },
  {
   "cell_type": "code",
   "execution_count": null,
   "metadata": {},
   "outputs": [],
   "source": [
    "type(movie_gross_df['domestic_gross'][1])"
   ]
  },
  {
   "cell_type": "code",
   "execution_count": null,
   "metadata": {},
   "outputs": [],
   "source": [
    "type(movie_gross_df['foreign_gross'][1])"
   ]
  },
  {
   "cell_type": "code",
   "execution_count": null,
   "metadata": {},
   "outputs": [],
   "source": [
    "movie_gross_df['foreign_gross'].replace('1,131.6', '1131600000', inplace=True)"
   ]
  },
  {
   "cell_type": "code",
   "execution_count": null,
   "metadata": {},
   "outputs": [],
   "source": [
    "movie_gross_df[movie_gross_df['foreign_gross'] == '1131600000']"
   ]
  },
  {
   "cell_type": "code",
   "execution_count": null,
   "metadata": {},
   "outputs": [],
   "source": [
    "movie_gross_df[movie_gross_df['foreign_gross'] == '1,019.4']"
   ]
  },
  {
   "cell_type": "code",
   "execution_count": null,
   "metadata": {},
   "outputs": [],
   "source": [
    "movie_gross_df['foreign_gross'].replace('1,019.4', \"1019400000\", inplace=True)"
   ]
  },
  {
   "cell_type": "code",
   "execution_count": null,
   "metadata": {},
   "outputs": [],
   "source": [
    "movie_gross_df[movie_gross_df['foreign_gross'] == '1,163.0']"
   ]
  },
  {
   "cell_type": "code",
   "execution_count": null,
   "metadata": {},
   "outputs": [],
   "source": [
    "movie_gross_df['foreign_gross'].replace('1,163.0', \"1163000000\", inplace=True)"
   ]
  },
  {
   "cell_type": "code",
   "execution_count": null,
   "metadata": {},
   "outputs": [],
   "source": [
    "movie_gross_df['foreign_gross'].replace('1,010.0', \"1010000000\", inplace=True)"
   ]
  },
  {
   "cell_type": "code",
   "execution_count": null,
   "metadata": {},
   "outputs": [],
   "source": [
    "movie_gross_df['foreign_gross'].replace('1,369.5', \"1369500000\", inplace=True)"
   ]
  },
  {
   "cell_type": "code",
   "execution_count": null,
   "metadata": {},
   "outputs": [],
   "source": [
    "movie_gross_df['foreign_gross'] = movie_gross_df['foreign_gross'].map(lambda x: float(x))"
   ]
  },
  {
   "cell_type": "code",
   "execution_count": null,
   "metadata": {},
   "outputs": [],
   "source": [
    "movie_gross_df['worldwide_gross'] = movie_gross_df['domestic_gross'] + movie_gross_df['foreign_gross']"
   ]
  },
  {
   "cell_type": "code",
   "execution_count": null,
   "metadata": {},
   "outputs": [],
   "source": [
    "movie_gross_df.head()"
   ]
  },
  {
   "cell_type": "code",
   "execution_count": null,
   "metadata": {},
   "outputs": [],
   "source": [
    "movie_gross_df = movie_gross_df.drop('worldwide_gross', axis=1)"
   ]
  },
  {
   "cell_type": "code",
   "execution_count": null,
   "metadata": {},
   "outputs": [],
   "source": [
    "movie_gross_df.head()"
   ]
  },
  {
   "cell_type": "code",
   "execution_count": null,
   "metadata": {},
   "outputs": [],
   "source": [
    "m_gross_sort_foreign_gross_df = movie_gross_df.sort_values('foreign_gross', ascending = False)\n",
    "\n",
    "m_gross_sort_foreign_gross_df.head()"
   ]
  },
  {
   "cell_type": "code",
   "execution_count": null,
   "metadata": {},
   "outputs": [],
   "source": [
    "m_budgets_sort_worldwide_gross_df = movie_budgets_df.sort_values('worldwide_gross', ascending = False)"
   ]
  },
  {
   "cell_type": "code",
   "execution_count": null,
   "metadata": {},
   "outputs": [],
   "source": [
    "m_budgets_sort_worldwide_gross_df.head()"
   ]
  },
  {
   "cell_type": "code",
   "execution_count": null,
   "metadata": {},
   "outputs": [],
   "source": [
    "movie_budgets_df[\"worldwide_roi\"] = movie_budgets_df[\"worldwide_profit\"]/movie_budgets_df[\"worldwide_gross\"]\n",
    "\n",
    "movie_budgets_df[\"domestic_roi\"] = movie_budgets_df[\"domestic_profit\"]/movie_budgets_df['domestic_gross']"
   ]
  },
  {
   "cell_type": "code",
   "execution_count": null,
   "metadata": {},
   "outputs": [],
   "source": [
    "movie_budgets_df.head()"
   ]
  },
  {
   "cell_type": "code",
   "execution_count": null,
   "metadata": {},
   "outputs": [],
   "source": [
    "movie_budgets_df.drop(\"domestic_roi\", axis=1, inplace=True) \n",
    "\n"
   ]
  },
  {
   "cell_type": "code",
   "execution_count": null,
   "metadata": {},
   "outputs": [],
   "source": [
    "movie_budgets_df.drop(\"worldwide_roi\", axis=1, inplace=True) \n"
   ]
  },
  {
   "cell_type": "code",
   "execution_count": null,
   "metadata": {},
   "outputs": [],
   "source": [
    "movie_budgets_df.head()"
   ]
  },
  {
   "cell_type": "code",
   "execution_count": null,
   "metadata": {},
   "outputs": [],
   "source": [
    "movie_budgets_df[\"worldwide_profit_to_rev\"] = movie_budgets_df[\"worldwide_profit\"]/movie_budgets_df[\"worldwide_gross\"]\n",
    "\n",
    "movie_budgets_df[\"domestic_profit_to_rev\"] = movie_budgets_df[\"domestic_profit\"]/movie_budgets_df['domestic_gross']"
   ]
  },
  {
   "cell_type": "code",
   "execution_count": null,
   "metadata": {},
   "outputs": [],
   "source": [
    "\n",
    "movie_budgets_df.head()"
   ]
  },
  {
   "cell_type": "code",
   "execution_count": null,
   "metadata": {},
   "outputs": [],
   "source": [
    "movie_gross_df['worldwide_gross'] = movie_gross_df['domestic_gross'] + movie_gross_df['foreign_gross']\n",
    "movie_gross_df.head()"
   ]
  },
  {
   "cell_type": "code",
   "execution_count": null,
   "metadata": {},
   "outputs": [],
   "source": [
    "movie_budgets_df.info()"
   ]
  },
  {
   "cell_type": "code",
   "execution_count": null,
   "metadata": {},
   "outputs": [],
   "source": [
    "movie_gross_df.info()"
   ]
  },
  {
   "cell_type": "code",
   "execution_count": null,
   "metadata": {},
   "outputs": [],
   "source": [
    "m_budgets_100m = movie_budgets_df[(movie_budgets_df['domestic_profit_to_budget_ratio'] > 0) & (movie_budgets_df['production_budget'] > 50000000)]"
   ]
  },
  {
   "cell_type": "code",
   "execution_count": null,
   "metadata": {},
   "outputs": [],
   "source": [
    "import matplotlib.pyplot as plt\n",
    "import numpy as np\n",
    "\n",
    "fig, ax = plt.subplots()\n",
    "\n",
    "X = movie_budgets_df['production_budget']\n",
    "\n",
    "Y = movie_budgets_df['domestic_profit_to_budget_ratio']\n",
    "\n",
    "ax.scatter(X, Y)\n",
    "ax.set_title('Production Budget vs. Domestic ROI')\n",
    "ax.set_xlabel('Production Budget')\n",
    "ax.set_ylabel('Domestic ROI')\n",
    "\n",
    "plt.xlim(0, 500000000)\n",
    "plt.ylim(-5, 20)\n",
    "\n",
    "z = np.polyfit(X, Y, 1) #create trendline \n",
    "p = np.poly1d(z)  \n",
    "plt.plot(X,p(X),\"r--\") #plot trendline"
   ]
  },
  {
   "cell_type": "code",
   "execution_count": null,
   "metadata": {},
   "outputs": [],
   "source": [
    "import matplotlib.pyplot as plt\n",
    "\n",
    "fig, ax = plt.subplots()\n",
    "\n",
    "X = m_budgets_100m['production_budget']\n",
    "\n",
    "Y = m_budgets_100m['worldwide_profit_to_budget_ratio']\n",
    "\n",
    "ax.scatter(X, Y)\n",
    "ax.set_title('Production Budget vs. Worldwide ROI')\n",
    "ax.set_xlabel('Production Budget')\n",
    "ax.set_ylabel('Worldwide ROI')\n",
    "\n",
    "plt.xlim(0, 500000000)\n",
    "plt.ylim(-2, 20)\n",
    "\n",
    "z = np.polyfit(X, Y, 1) #create trendline \n",
    "p = np.poly1d(z)  \n",
    "plt.plot(X,p(X),\"r--\") #plot trendline"
   ]
  },
  {
   "cell_type": "code",
   "execution_count": null,
   "metadata": {},
   "outputs": [],
   "source": [
    "movie_budgets_df[movie_budgets_df['domestic_profit_to_budget_ratio'] > 10]"
   ]
  },
  {
   "cell_type": "code",
   "execution_count": null,
   "metadata": {},
   "outputs": [],
   "source": [
    "relevant_movies = movie_budgets_df[(movie_budgets_df['worldwide_gross'] >= 2) & (movie_budgets_df['production_budget'] >= 5000000)]\n",
    "relevant_movies.head()"
   ]
  },
  {
   "cell_type": "code",
   "execution_count": null,
   "metadata": {},
   "outputs": [],
   "source": [
    "fig, ax = plt.subplots()\n",
    "\n",
    "X = relevant_movies['production_budget']\n",
    "\n",
    "Y = relevant_movies['domestic_profit_to_budget_ratio']\n",
    "\n",
    "ax.scatter(X, Y)\n",
    "ax.set_title('Production Budget vs. Domestic ROI')\n",
    "ax.set_xlabel('Production Budget')\n",
    "ax.set_ylabel('Domestic ROI')\n",
    "\n",
    "plt.xlim(0, 500000000)\n",
    "plt.ylim(-5, 20)\n",
    "\n",
    "z = np.polyfit(X, Y, 1) #create trendline \n",
    "p = np.poly1d(z)  \n",
    "plt.plot(X,p(X),\"r--\") #plot trendline"
   ]
  },
  {
   "cell_type": "code",
   "execution_count": null,
   "metadata": {},
   "outputs": [],
   "source": [
    "fig, ax = plt.subplots()\n",
    "\n",
    "X = relevant_movies['production_budget']\n",
    "\n",
    "Y = relevant_movies['worldwide_profit_to_budget_ratio']\n",
    "\n",
    "ax.scatter(X, Y)\n",
    "ax.set_title('Production Budget vs. Worldwide ROI')\n",
    "ax.set_xlabel('Production Budget')\n",
    "ax.set_ylabel('Worldwide ROI')\n",
    "\n",
    "plt.xlim(0, 500000000)\n",
    "plt.ylim(-5, 20)\n",
    "\n",
    "z = np.polyfit(X, Y, 1) #create trendline \n",
    "p = np.poly1d(z)  \n",
    "plt.plot(X,p(X),\"r--\") #plot trendline"
   ]
  },
  {
   "cell_type": "code",
   "execution_count": null,
   "metadata": {},
   "outputs": [],
   "source": [
    "top_movies = movie_budgets_df[(movie_budgets_df['worldwide_gross'] >= 2) & (movie_budgets_df['production_budget'] >= 5000000) & (movie_budgets_df['worldwide_profit_to_budget_ratio'] >= 5) & (movie_budgets_df['domestic_profit_to_budget_ratio'] >= 0)]\n",
    "top_movies.head()\n",
    "top_movies.shape"
   ]
  },
  {
   "cell_type": "code",
   "execution_count": null,
   "metadata": {},
   "outputs": [],
   "source": [
    "top_movies.head()"
   ]
  },
  {
   "cell_type": "code",
   "execution_count": null,
   "metadata": {},
   "outputs": [],
   "source": [
    "fig, ax = plt.subplots(figsize=(16,8))\n",
    "\n",
    "X = top_movies['production_budget']\n",
    "\n",
    "Y = top_movies['domestic_profit_to_budget_ratio']\n",
    "\n",
    "ax.scatter(X, Y)\n",
    "ax.set_title('Top Movies Production Budget vs. Domestic ROI')\n",
    "ax.set_xlabel('Production Budget')\n",
    "ax.set_ylabel('Domestic ROI')\n",
    "\n",
    "plt.xlim(0, 500000000)\n",
    "plt.ylim(-5, 20)\n",
    "\n",
    "z = np.polyfit(X, Y, 1) #create trendline \n",
    "p = np.poly1d(z)  \n",
    "plt.plot(X,p(X),\"r--\") #plot trendline"
   ]
  },
  {
   "cell_type": "code",
   "execution_count": null,
   "metadata": {},
   "outputs": [],
   "source": [
    "fig, ax = plt.subplots(figsize=(16,8))\n",
    "\n",
    "X = top_movies['production_budget']\n",
    "\n",
    "Y = top_movies['worldwide_profit_to_budget_ratio']\n",
    "\n",
    "ax.scatter(X, Y)\n",
    "ax.set_title('Production Budget vs. Worldwide ROI')\n",
    "ax.set_xlabel('Production Budget')\n",
    "ax.set_ylabel('Worldwide ROI')\n",
    "\n",
    "plt.xlim(0, 500000000)\n",
    "plt.ylim(-1, 20)\n",
    "\n",
    "z = np.polyfit(X, Y, 1) #create trendline \n",
    "p = np.poly1d(z)  \n",
    "plt.plot(X,p(X),\"r--\") #plot trendline"
   ]
  },
  {
   "cell_type": "code",
   "execution_count": null,
   "metadata": {},
   "outputs": [],
   "source": [
    "top_movies.head()"
   ]
  },
  {
   "cell_type": "code",
   "execution_count": null,
   "metadata": {},
   "outputs": [],
   "source": [
    "import datetime"
   ]
  },
  {
   "cell_type": "code",
   "execution_count": null,
   "metadata": {},
   "outputs": [],
   "source": [
    "movie_budgets_df['month'] = movie_budgets_df['release_date'].map(lambda x: datetime.datetime.strptime(x, \"%b %d, %Y\").month)"
   ]
  },
  {
   "cell_type": "code",
   "execution_count": null,
   "metadata": {},
   "outputs": [],
   "source": [
    "movie_budgets_df"
   ]
  },
  {
   "cell_type": "code",
   "execution_count": null,
   "metadata": {},
   "outputs": [],
   "source": [
    "top_movies_month = movie_budgets_df.groupby('month').mean()"
   ]
  },
  {
   "cell_type": "code",
   "execution_count": null,
   "metadata": {},
   "outputs": [],
   "source": [
    "top_movies_month.drop('id', axis=1, inplace=True)"
   ]
  },
  {
   "cell_type": "code",
   "execution_count": null,
   "metadata": {},
   "outputs": [],
   "source": [
    "top_movies_month.head()"
   ]
  },
  {
   "cell_type": "code",
   "execution_count": null,
   "metadata": {},
   "outputs": [],
   "source": [
    "top_movies_month.drop({'domestic_gross', 'worldwide_gross', 'domestic_profit', 'worldwide_profit'}, axis=1, inplace=True)"
   ]
  },
  {
   "cell_type": "code",
   "execution_count": null,
   "metadata": {},
   "outputs": [],
   "source": [
    "top_movies_month.drop({'worldwide_profit_to_rev', 'domestic_profit_to_rev'}, axis=1, inplace=True)\n",
    "top_movies_month"
   ]
  },
  {
   "cell_type": "code",
   "execution_count": null,
   "metadata": {},
   "outputs": [],
   "source": [
    "top_movies_month['movie_count'] = movie_budgets_df['month'].value_counts()\n",
    "top_movies_month"
   ]
  },
  {
   "cell_type": "code",
   "execution_count": null,
   "metadata": {},
   "outputs": [],
   "source": [
    "top_movies_month.rename({'domestic_profit_to_budget_ratio': 'domestic_roi', 'worldwide_profit_to_budget_ratio': 'worldwide_roi'}, axis=1, inplace=True)\n",
    "top_movies_month"
   ]
  },
  {
   "cell_type": "code",
   "execution_count": null,
   "metadata": {},
   "outputs": [],
   "source": [
    "top_movies_month.reset_index(inplace=True)"
   ]
  },
  {
   "cell_type": "code",
   "execution_count": null,
   "metadata": {},
   "outputs": [],
   "source": [
    "top_movies_month"
   ]
  },
  {
   "cell_type": "code",
   "execution_count": null,
   "metadata": {},
   "outputs": [],
   "source": [
    "fig, ax1 = plt.subplots(figsize = (8, 8))\n",
    "\n",
    "x = top_movies_month['month']\n",
    "h = top_movies_month['production_budget']\n",
    "y1 = top_movies_month['domestic_roi']\n",
    "y2 = top_movies_month['worldwide_roi']\n",
    "\n",
    "\n",
    "ax2 = ax1.twinx()\n",
    "#ax3 = ax2.twinx()\n",
    "\n",
    "ax1.bar(x, h, alpha = 0.5, color='green')\n",
    "#plt.locator_params(axis=x, nbins=12)\n",
    "\n",
    "line1, = ax2.plot(x, y1)\n",
    "line2, = ax2.plot(x, y2, color='red')\n",
    "\n",
    "\n",
    "ax1.set_title('Production Budget, Worldwide ROI, and Domestic ROI')\n",
    "ax1.set_xlabel('Month')\n",
    "ax1.set_ylabel('Production Budget')\n",
    "\n",
    "ax2.set_ylabel('ROI')\n",
    "ax2.legend([line1, line2],['Worldwide ROI', 'Domestic ROI'], loc='upper left');\n",
    "\n",
    "\n",
    "#\n",
    "#ax3.legend([loc='upper right');\n",
    "             \n",
    "#ax1.set_yticks([1,2,3,4,5,6,7,8,9])\n",
    "\n"
   ]
  },
  {
   "cell_type": "code",
   "execution_count": null,
   "metadata": {},
   "outputs": [],
   "source": []
  },
  {
   "cell_type": "code",
   "execution_count": null,
   "metadata": {},
   "outputs": [],
   "source": [
    "top_movies.head()"
   ]
  },
  {
   "cell_type": "code",
   "execution_count": null,
   "metadata": {},
   "outputs": [],
   "source": [
    "top_movies['month'] = top_movies['release_date'].map(lambda x: datetime.datetime.strptime(x, \"%b %d, %Y\").month)"
   ]
  },
  {
   "cell_type": "code",
   "execution_count": null,
   "metadata": {},
   "outputs": [],
   "source": [
    "t_movies_month = top_movies.groupby('month').mean()"
   ]
  },
  {
   "cell_type": "code",
   "execution_count": null,
   "metadata": {},
   "outputs": [],
   "source": []
  },
  {
   "cell_type": "code",
   "execution_count": null,
   "metadata": {},
   "outputs": [],
   "source": []
  },
  {
   "cell_type": "code",
   "execution_count": null,
   "metadata": {},
   "outputs": [],
   "source": [
    "t_movies_month.head()"
   ]
  },
  {
   "cell_type": "code",
   "execution_count": null,
   "metadata": {},
   "outputs": [],
   "source": [
    "t_movies_month.head()"
   ]
  },
  {
   "cell_type": "code",
   "execution_count": null,
   "metadata": {},
   "outputs": [],
   "source": [
    "t_movies_month.drop('id', axis=1, inplace=True)"
   ]
  },
  {
   "cell_type": "code",
   "execution_count": null,
   "metadata": {},
   "outputs": [],
   "source": [
    "t_movies_month.drop({'domestic_gross', 'worldwide_gross', 'domestic_profit', 'worldwide_profit'}, axis=1, inplace=True)"
   ]
  },
  {
   "cell_type": "code",
   "execution_count": null,
   "metadata": {},
   "outputs": [],
   "source": [
    "t_movies_month.rename({'domestic_profit_to_budget_ratio': 'domestic_roi', 'worldwide_profit_to_budget_ratio': 'worldwide_roi'}, axis=1, inplace=True)"
   ]
  },
  {
   "cell_type": "code",
   "execution_count": null,
   "metadata": {},
   "outputs": [],
   "source": [
    "t_movies_month.head()"
   ]
  },
  {
   "cell_type": "code",
   "execution_count": null,
   "metadata": {},
   "outputs": [],
   "source": [
    "t_movies_month.drop({'worldwide_profit_to_rev', 'domestic_profit_to_rev'}, axis=1, inplace=True)"
   ]
  },
  {
   "cell_type": "code",
   "execution_count": null,
   "metadata": {},
   "outputs": [],
   "source": [
    "t_movies_month.head()"
   ]
  },
  {
   "cell_type": "code",
   "execution_count": null,
   "metadata": {},
   "outputs": [],
   "source": [
    "t_movies_month['movie_count'] = movie_budgets_df['month'].value_counts()\n",
    "t_movies_month.head()"
   ]
  },
  {
   "cell_type": "code",
   "execution_count": null,
   "metadata": {},
   "outputs": [],
   "source": [
    "t_movies_month.reset_index(inplace=True)"
   ]
  },
  {
   "cell_type": "code",
   "execution_count": null,
   "metadata": {},
   "outputs": [],
   "source": [
    "fig, ax1 = plt.subplots(figsize = (8, 8))\n",
    "\n",
    "x = t_movies_month['month']\n",
    "h = t_movies_month['production_budget']\n",
    "y1 = t_movies_month['domestic_roi']\n",
    "y2 = t_movies_month['worldwide_roi']\n",
    "\n",
    "\n",
    "ax2 = ax1.twinx()\n",
    "#ax3 = ax2.twinx()\n",
    "\n",
    "ax1.bar(x, h, alpha = 0.5, color='green')\n",
    "#plt.locator_params(axis=x, nbins=12)\n",
    "\n",
    "line1, = ax2.plot(x, y1)\n",
    "line2, = ax2.plot(x, y2, color='red')\n",
    "\n",
    "\n",
    "ax1.set_title('Budget, Worldwide And Domestic ROI For Top Movies By Month')\n",
    "ax1.set_xlabel('Month')\n",
    "ax1.set_ylabel('Production Budget')\n",
    "\n",
    "ax2.set_ylabel('ROI')\n",
    "ax2.legend([line1, line2],['Domestic ROI', 'Worldwide ROI'], loc='upper left');"
   ]
  },
  {
   "cell_type": "code",
   "execution_count": null,
   "metadata": {},
   "outputs": [],
   "source": []
  }
 ],
 "metadata": {
  "kernelspec": {
   "display_name": "Python (learn-env)",
   "language": "python",
   "name": "learn-env"
  },
  "language_info": {
   "codemirror_mode": {
    "name": "ipython",
    "version": 3
   },
   "file_extension": ".py",
   "mimetype": "text/x-python",
   "name": "python",
   "nbconvert_exporter": "python",
   "pygments_lexer": "ipython3",
   "version": "3.8.5"
  }
 },
 "nbformat": 4,
 "nbformat_minor": 4
}
