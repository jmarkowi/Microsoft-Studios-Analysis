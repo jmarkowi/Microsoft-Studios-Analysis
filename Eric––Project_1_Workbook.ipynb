{
 "cells": [
  {
   "cell_type": "code",
   "execution_count": 1,
   "metadata": {},
   "outputs": [
    {
     "name": "stdout",
     "output_type": "stream",
     "text": [
      "Budget_Worldwide_And_Domestic_ROI_For_Top_Movies_Month.png\r\n",
      "Budget_Worldwide_And_Domestic_ROI_For_Top_Movies_Month_No_Bar.png\r\n",
      "Eric––Project_1_Workbook.ipynb\r\n",
      "README.md\r\n",
      "budget_to_pos_ROI.png\r\n",
      "budget_to_pos_ROI_Highlighted_Bars.png\r\n",
      "budget_to_pos_ROI_Highlighted_Bars_No_Grid.png\r\n",
      "distribution_of_genres.png\r\n",
      "imdb.title.crew.csv.gz\r\n",
      "imdb.title.ratings.csv.gz\r\n",
      "jmark_working_nb.ipynb\r\n",
      "lorela_working_nb.ipynb\r\n",
      "microsoft_movie_needs_analysis.ipynb\r\n",
      "top_movie_list.txt\r\n",
      "\u001b[34munzippedData\u001b[m\u001b[m\r\n"
     ]
    }
   ],
   "source": [
    "! ls"
   ]
  },
  {
   "cell_type": "code",
   "execution_count": 2,
   "metadata": {},
   "outputs": [],
   "source": [
    "! cd unzippedData"
   ]
  },
  {
   "cell_type": "code",
   "execution_count": 3,
   "metadata": {},
   "outputs": [
    {
     "name": "stdout",
     "output_type": "stream",
     "text": [
      "Budget_Worldwide_And_Domestic_ROI_For_Top_Movies_Month.png\r\n",
      "Budget_Worldwide_And_Domestic_ROI_For_Top_Movies_Month_No_Bar.png\r\n",
      "Eric––Project_1_Workbook.ipynb\r\n",
      "README.md\r\n",
      "budget_to_pos_ROI.png\r\n",
      "budget_to_pos_ROI_Highlighted_Bars.png\r\n",
      "budget_to_pos_ROI_Highlighted_Bars_No_Grid.png\r\n",
      "distribution_of_genres.png\r\n",
      "imdb.title.crew.csv.gz\r\n",
      "imdb.title.ratings.csv.gz\r\n",
      "jmark_working_nb.ipynb\r\n",
      "lorela_working_nb.ipynb\r\n",
      "microsoft_movie_needs_analysis.ipynb\r\n",
      "top_movie_list.txt\r\n",
      "\u001b[34munzippedData\u001b[m\u001b[m\r\n"
     ]
    }
   ],
   "source": [
    "! ls"
   ]
  },
  {
   "cell_type": "code",
   "execution_count": 4,
   "metadata": {},
   "outputs": [
    {
     "name": "stdout",
     "output_type": "stream",
     "text": [
      "/bin/bash: line 0: cd: /unzippedData: No such file or directory\r\n"
     ]
    }
   ],
   "source": [
    "! cd /unzippedData"
   ]
  },
  {
   "cell_type": "code",
   "execution_count": 5,
   "metadata": {},
   "outputs": [
    {
     "name": "stdout",
     "output_type": "stream",
     "text": [
      "Budget_Worldwide_And_Domestic_ROI_For_Top_Movies_Month.png\r\n",
      "Budget_Worldwide_And_Domestic_ROI_For_Top_Movies_Month_No_Bar.png\r\n",
      "Eric––Project_1_Workbook.ipynb\r\n",
      "README.md\r\n",
      "budget_to_pos_ROI.png\r\n",
      "budget_to_pos_ROI_Highlighted_Bars.png\r\n",
      "budget_to_pos_ROI_Highlighted_Bars_No_Grid.png\r\n",
      "distribution_of_genres.png\r\n",
      "imdb.title.crew.csv.gz\r\n",
      "imdb.title.ratings.csv.gz\r\n",
      "jmark_working_nb.ipynb\r\n",
      "lorela_working_nb.ipynb\r\n",
      "microsoft_movie_needs_analysis.ipynb\r\n",
      "top_movie_list.txt\r\n",
      "\u001b[34munzippedData\u001b[m\u001b[m\r\n"
     ]
    }
   ],
   "source": [
    "! ls"
   ]
  },
  {
   "cell_type": "code",
   "execution_count": 6,
   "metadata": {},
   "outputs": [
    {
     "name": "stdout",
     "output_type": "stream",
     "text": [
      "/Users/ericdenbin/Documents/flatiron_ds/phase_1/phase_1_project/lej_project1/unzippedData\n"
     ]
    }
   ],
   "source": [
    "cd unzippedData"
   ]
  },
  {
   "cell_type": "code",
   "execution_count": 7,
   "metadata": {},
   "outputs": [
    {
     "name": "stdout",
     "output_type": "stream",
     "text": [
      "Budget_Worldwide_And_Domestic_ROI_For_Top_Movies_Month\r\n",
      "bom.movie_gross.csv\r\n",
      "imdb.name.basics.csv\r\n",
      "imdb.title.akas.csv\r\n",
      "imdb.title.basics.csv\r\n",
      "imdb.title.principals.csv\r\n",
      "rt.movie_info.tsv\r\n",
      "rt.reviews.tsv\r\n",
      "tmdb.movies.csv\r\n",
      "tn.movie_budgets.csv\r\n"
     ]
    }
   ],
   "source": [
    "! ls"
   ]
  },
  {
   "cell_type": "code",
   "execution_count": 8,
   "metadata": {},
   "outputs": [],
   "source": [
    "#Importing pandas, datetime, matplotlib, and seaborn libaries\n",
    "\n",
    "import pandas as pd\n",
    "import datetime\n",
    "import seaborn as sns\n"
   ]
  },
  {
   "cell_type": "code",
   "execution_count": 9,
   "metadata": {},
   "outputs": [],
   "source": [
    "# Defining top performing movies \n",
    "    # highest grossing and highest ROI\n",
    "    \n",
    "    # action: clean, filter, analyze this dataset\n",
    "\n",
    "    # get the list of value counts of top genres (and actors, directors, studios, writers) based on this new dataset created \n",
    "        # look back on other (top_critic=1,  i.e. rating >4)\n",
    "    \n",
    "    # draw correlations between the top performing movies and genre, directors, studios, writers, actors, ratings\n",
    "    \n",
    "    # also looking into movies performing poorly (given enough time)"
   ]
  },
  {
   "cell_type": "code",
   "execution_count": 10,
   "metadata": {},
   "outputs": [
    {
     "name": "stdout",
     "output_type": "stream",
     "text": [
      "[Errno 2] No such file or directory: 'unzippedData'\n",
      "/Users/ericdenbin/Documents/flatiron_ds/phase_1/phase_1_project/lej_project1/unzippedData\n"
     ]
    }
   ],
   "source": [
    "cd unzippedData"
   ]
  },
  {
   "cell_type": "code",
   "execution_count": 11,
   "metadata": {},
   "outputs": [],
   "source": [
    "movie_budgets_df = pd.read_csv(\"tn.movie_budgets.csv\")\n",
    "\n",
    "movie_gross_df = pd.read_csv(\"bom.movie_gross.csv\")"
   ]
  },
  {
   "cell_type": "code",
   "execution_count": 12,
   "metadata": {},
   "outputs": [
    {
     "data": {
      "text/html": [
       "<div>\n",
       "<style scoped>\n",
       "    .dataframe tbody tr th:only-of-type {\n",
       "        vertical-align: middle;\n",
       "    }\n",
       "\n",
       "    .dataframe tbody tr th {\n",
       "        vertical-align: top;\n",
       "    }\n",
       "\n",
       "    .dataframe thead th {\n",
       "        text-align: right;\n",
       "    }\n",
       "</style>\n",
       "<table border=\"1\" class=\"dataframe\">\n",
       "  <thead>\n",
       "    <tr style=\"text-align: right;\">\n",
       "      <th></th>\n",
       "      <th>id</th>\n",
       "      <th>release_date</th>\n",
       "      <th>movie</th>\n",
       "      <th>production_budget</th>\n",
       "      <th>domestic_gross</th>\n",
       "      <th>worldwide_gross</th>\n",
       "    </tr>\n",
       "  </thead>\n",
       "  <tbody>\n",
       "    <tr>\n",
       "      <th>0</th>\n",
       "      <td>1</td>\n",
       "      <td>Dec 18, 2009</td>\n",
       "      <td>Avatar</td>\n",
       "      <td>$425,000,000</td>\n",
       "      <td>$760,507,625</td>\n",
       "      <td>$2,776,345,279</td>\n",
       "    </tr>\n",
       "    <tr>\n",
       "      <th>1</th>\n",
       "      <td>2</td>\n",
       "      <td>May 20, 2011</td>\n",
       "      <td>Pirates of the Caribbean: On Stranger Tides</td>\n",
       "      <td>$410,600,000</td>\n",
       "      <td>$241,063,875</td>\n",
       "      <td>$1,045,663,875</td>\n",
       "    </tr>\n",
       "    <tr>\n",
       "      <th>2</th>\n",
       "      <td>3</td>\n",
       "      <td>Jun 7, 2019</td>\n",
       "      <td>Dark Phoenix</td>\n",
       "      <td>$350,000,000</td>\n",
       "      <td>$42,762,350</td>\n",
       "      <td>$149,762,350</td>\n",
       "    </tr>\n",
       "    <tr>\n",
       "      <th>3</th>\n",
       "      <td>4</td>\n",
       "      <td>May 1, 2015</td>\n",
       "      <td>Avengers: Age of Ultron</td>\n",
       "      <td>$330,600,000</td>\n",
       "      <td>$459,005,868</td>\n",
       "      <td>$1,403,013,963</td>\n",
       "    </tr>\n",
       "    <tr>\n",
       "      <th>4</th>\n",
       "      <td>5</td>\n",
       "      <td>Dec 15, 2017</td>\n",
       "      <td>Star Wars Ep. VIII: The Last Jedi</td>\n",
       "      <td>$317,000,000</td>\n",
       "      <td>$620,181,382</td>\n",
       "      <td>$1,316,721,747</td>\n",
       "    </tr>\n",
       "  </tbody>\n",
       "</table>\n",
       "</div>"
      ],
      "text/plain": [
       "   id  release_date                                        movie  \\\n",
       "0   1  Dec 18, 2009                                       Avatar   \n",
       "1   2  May 20, 2011  Pirates of the Caribbean: On Stranger Tides   \n",
       "2   3   Jun 7, 2019                                 Dark Phoenix   \n",
       "3   4   May 1, 2015                      Avengers: Age of Ultron   \n",
       "4   5  Dec 15, 2017            Star Wars Ep. VIII: The Last Jedi   \n",
       "\n",
       "  production_budget domestic_gross worldwide_gross  \n",
       "0      $425,000,000   $760,507,625  $2,776,345,279  \n",
       "1      $410,600,000   $241,063,875  $1,045,663,875  \n",
       "2      $350,000,000    $42,762,350    $149,762,350  \n",
       "3      $330,600,000   $459,005,868  $1,403,013,963  \n",
       "4      $317,000,000   $620,181,382  $1,316,721,747  "
      ]
     },
     "execution_count": 12,
     "metadata": {},
     "output_type": "execute_result"
    }
   ],
   "source": [
    "movie_budgets_df.head()"
   ]
  },
  {
   "cell_type": "code",
   "execution_count": 13,
   "metadata": {},
   "outputs": [],
   "source": [
    "# Engineering two new features for the movie budgets dataframe called domestic profit and worldwide profit, \n",
    "# which is the production budget subtracted from domestic gross and worldwide gross, respectively\n",
    "\n",
    "#First we have to clean the columns, removing the dollar sign and commas and creating integers\n",
    "\n",
    "movie_budgets_df['domestic_gross'] = movie_budgets_df['domestic_gross'].map(lambda x: x[1:])\n",
    "\n"
   ]
  },
  {
   "cell_type": "code",
   "execution_count": 14,
   "metadata": {
    "scrolled": false
   },
   "outputs": [
    {
     "data": {
      "text/html": [
       "<div>\n",
       "<style scoped>\n",
       "    .dataframe tbody tr th:only-of-type {\n",
       "        vertical-align: middle;\n",
       "    }\n",
       "\n",
       "    .dataframe tbody tr th {\n",
       "        vertical-align: top;\n",
       "    }\n",
       "\n",
       "    .dataframe thead th {\n",
       "        text-align: right;\n",
       "    }\n",
       "</style>\n",
       "<table border=\"1\" class=\"dataframe\">\n",
       "  <thead>\n",
       "    <tr style=\"text-align: right;\">\n",
       "      <th></th>\n",
       "      <th>id</th>\n",
       "      <th>release_date</th>\n",
       "      <th>movie</th>\n",
       "      <th>production_budget</th>\n",
       "      <th>domestic_gross</th>\n",
       "      <th>worldwide_gross</th>\n",
       "    </tr>\n",
       "  </thead>\n",
       "  <tbody>\n",
       "    <tr>\n",
       "      <th>0</th>\n",
       "      <td>1</td>\n",
       "      <td>Dec 18, 2009</td>\n",
       "      <td>Avatar</td>\n",
       "      <td>$425,000,000</td>\n",
       "      <td>760,507,625</td>\n",
       "      <td>$2,776,345,279</td>\n",
       "    </tr>\n",
       "    <tr>\n",
       "      <th>1</th>\n",
       "      <td>2</td>\n",
       "      <td>May 20, 2011</td>\n",
       "      <td>Pirates of the Caribbean: On Stranger Tides</td>\n",
       "      <td>$410,600,000</td>\n",
       "      <td>241,063,875</td>\n",
       "      <td>$1,045,663,875</td>\n",
       "    </tr>\n",
       "    <tr>\n",
       "      <th>2</th>\n",
       "      <td>3</td>\n",
       "      <td>Jun 7, 2019</td>\n",
       "      <td>Dark Phoenix</td>\n",
       "      <td>$350,000,000</td>\n",
       "      <td>42,762,350</td>\n",
       "      <td>$149,762,350</td>\n",
       "    </tr>\n",
       "    <tr>\n",
       "      <th>3</th>\n",
       "      <td>4</td>\n",
       "      <td>May 1, 2015</td>\n",
       "      <td>Avengers: Age of Ultron</td>\n",
       "      <td>$330,600,000</td>\n",
       "      <td>459,005,868</td>\n",
       "      <td>$1,403,013,963</td>\n",
       "    </tr>\n",
       "    <tr>\n",
       "      <th>4</th>\n",
       "      <td>5</td>\n",
       "      <td>Dec 15, 2017</td>\n",
       "      <td>Star Wars Ep. VIII: The Last Jedi</td>\n",
       "      <td>$317,000,000</td>\n",
       "      <td>620,181,382</td>\n",
       "      <td>$1,316,721,747</td>\n",
       "    </tr>\n",
       "  </tbody>\n",
       "</table>\n",
       "</div>"
      ],
      "text/plain": [
       "   id  release_date                                        movie  \\\n",
       "0   1  Dec 18, 2009                                       Avatar   \n",
       "1   2  May 20, 2011  Pirates of the Caribbean: On Stranger Tides   \n",
       "2   3   Jun 7, 2019                                 Dark Phoenix   \n",
       "3   4   May 1, 2015                      Avengers: Age of Ultron   \n",
       "4   5  Dec 15, 2017            Star Wars Ep. VIII: The Last Jedi   \n",
       "\n",
       "  production_budget domestic_gross worldwide_gross  \n",
       "0      $425,000,000    760,507,625  $2,776,345,279  \n",
       "1      $410,600,000    241,063,875  $1,045,663,875  \n",
       "2      $350,000,000     42,762,350    $149,762,350  \n",
       "3      $330,600,000    459,005,868  $1,403,013,963  \n",
       "4      $317,000,000    620,181,382  $1,316,721,747  "
      ]
     },
     "execution_count": 14,
     "metadata": {},
     "output_type": "execute_result"
    }
   ],
   "source": [
    "movie_budgets_df.head()"
   ]
  },
  {
   "cell_type": "code",
   "execution_count": 15,
   "metadata": {},
   "outputs": [],
   "source": [
    "movie_budgets_df['domestic_gross'] = movie_budgets_df['domestic_gross'].map(lambda x: int(x.replace(\",\",\"\")))"
   ]
  },
  {
   "cell_type": "code",
   "execution_count": 16,
   "metadata": {},
   "outputs": [
    {
     "data": {
      "text/html": [
       "<div>\n",
       "<style scoped>\n",
       "    .dataframe tbody tr th:only-of-type {\n",
       "        vertical-align: middle;\n",
       "    }\n",
       "\n",
       "    .dataframe tbody tr th {\n",
       "        vertical-align: top;\n",
       "    }\n",
       "\n",
       "    .dataframe thead th {\n",
       "        text-align: right;\n",
       "    }\n",
       "</style>\n",
       "<table border=\"1\" class=\"dataframe\">\n",
       "  <thead>\n",
       "    <tr style=\"text-align: right;\">\n",
       "      <th></th>\n",
       "      <th>id</th>\n",
       "      <th>release_date</th>\n",
       "      <th>movie</th>\n",
       "      <th>production_budget</th>\n",
       "      <th>domestic_gross</th>\n",
       "      <th>worldwide_gross</th>\n",
       "    </tr>\n",
       "  </thead>\n",
       "  <tbody>\n",
       "    <tr>\n",
       "      <th>0</th>\n",
       "      <td>1</td>\n",
       "      <td>Dec 18, 2009</td>\n",
       "      <td>Avatar</td>\n",
       "      <td>$425,000,000</td>\n",
       "      <td>760507625</td>\n",
       "      <td>$2,776,345,279</td>\n",
       "    </tr>\n",
       "    <tr>\n",
       "      <th>1</th>\n",
       "      <td>2</td>\n",
       "      <td>May 20, 2011</td>\n",
       "      <td>Pirates of the Caribbean: On Stranger Tides</td>\n",
       "      <td>$410,600,000</td>\n",
       "      <td>241063875</td>\n",
       "      <td>$1,045,663,875</td>\n",
       "    </tr>\n",
       "    <tr>\n",
       "      <th>2</th>\n",
       "      <td>3</td>\n",
       "      <td>Jun 7, 2019</td>\n",
       "      <td>Dark Phoenix</td>\n",
       "      <td>$350,000,000</td>\n",
       "      <td>42762350</td>\n",
       "      <td>$149,762,350</td>\n",
       "    </tr>\n",
       "    <tr>\n",
       "      <th>3</th>\n",
       "      <td>4</td>\n",
       "      <td>May 1, 2015</td>\n",
       "      <td>Avengers: Age of Ultron</td>\n",
       "      <td>$330,600,000</td>\n",
       "      <td>459005868</td>\n",
       "      <td>$1,403,013,963</td>\n",
       "    </tr>\n",
       "    <tr>\n",
       "      <th>4</th>\n",
       "      <td>5</td>\n",
       "      <td>Dec 15, 2017</td>\n",
       "      <td>Star Wars Ep. VIII: The Last Jedi</td>\n",
       "      <td>$317,000,000</td>\n",
       "      <td>620181382</td>\n",
       "      <td>$1,316,721,747</td>\n",
       "    </tr>\n",
       "  </tbody>\n",
       "</table>\n",
       "</div>"
      ],
      "text/plain": [
       "   id  release_date                                        movie  \\\n",
       "0   1  Dec 18, 2009                                       Avatar   \n",
       "1   2  May 20, 2011  Pirates of the Caribbean: On Stranger Tides   \n",
       "2   3   Jun 7, 2019                                 Dark Phoenix   \n",
       "3   4   May 1, 2015                      Avengers: Age of Ultron   \n",
       "4   5  Dec 15, 2017            Star Wars Ep. VIII: The Last Jedi   \n",
       "\n",
       "  production_budget  domestic_gross worldwide_gross  \n",
       "0      $425,000,000       760507625  $2,776,345,279  \n",
       "1      $410,600,000       241063875  $1,045,663,875  \n",
       "2      $350,000,000        42762350    $149,762,350  \n",
       "3      $330,600,000       459005868  $1,403,013,963  \n",
       "4      $317,000,000       620181382  $1,316,721,747  "
      ]
     },
     "execution_count": 16,
     "metadata": {},
     "output_type": "execute_result"
    }
   ],
   "source": [
    "movie_budgets_df.head()"
   ]
  },
  {
   "cell_type": "code",
   "execution_count": 17,
   "metadata": {},
   "outputs": [
    {
     "data": {
      "text/plain": [
       "numpy.int64"
      ]
     },
     "execution_count": 17,
     "metadata": {},
     "output_type": "execute_result"
    }
   ],
   "source": [
    "type(movie_budgets_df['domestic_gross'][1])"
   ]
  },
  {
   "cell_type": "code",
   "execution_count": 18,
   "metadata": {},
   "outputs": [],
   "source": [
    "movie_budgets_df['worldwide_gross'] = movie_budgets_df['worldwide_gross'].map(lambda x: int(x[1:].replace(\",\",\"\")))"
   ]
  },
  {
   "cell_type": "code",
   "execution_count": 19,
   "metadata": {},
   "outputs": [
    {
     "data": {
      "text/plain": [
       "numpy.int64"
      ]
     },
     "execution_count": 19,
     "metadata": {},
     "output_type": "execute_result"
    }
   ],
   "source": [
    "type(movie_budgets_df['worldwide_gross'][1])"
   ]
  },
  {
   "cell_type": "code",
   "execution_count": 20,
   "metadata": {},
   "outputs": [],
   "source": [
    "movie_budgets_df['production_budget'] = movie_budgets_df['production_budget'].map(lambda x: int(x[1:].replace(\",\",\"\")))"
   ]
  },
  {
   "cell_type": "code",
   "execution_count": 21,
   "metadata": {},
   "outputs": [
    {
     "data": {
      "text/plain": [
       "numpy.int64"
      ]
     },
     "execution_count": 21,
     "metadata": {},
     "output_type": "execute_result"
    }
   ],
   "source": [
    "type(movie_budgets_df['production_budget'][1])"
   ]
  },
  {
   "cell_type": "code",
   "execution_count": null,
   "metadata": {},
   "outputs": [],
   "source": []
  },
  {
   "cell_type": "code",
   "execution_count": 22,
   "metadata": {},
   "outputs": [],
   "source": [
    "movie_budgets_df['domestic_profit'] = movie_budgets_df['domestic_gross'] - movie_budgets_df['production_budget']\n",
    "\n",
    "movie_budgets_df['worldwide_profit'] = movie_budgets_df['worldwide_gross'] - movie_budgets_df['production_budget']\n"
   ]
  },
  {
   "cell_type": "code",
   "execution_count": 23,
   "metadata": {},
   "outputs": [
    {
     "data": {
      "text/html": [
       "<div>\n",
       "<style scoped>\n",
       "    .dataframe tbody tr th:only-of-type {\n",
       "        vertical-align: middle;\n",
       "    }\n",
       "\n",
       "    .dataframe tbody tr th {\n",
       "        vertical-align: top;\n",
       "    }\n",
       "\n",
       "    .dataframe thead th {\n",
       "        text-align: right;\n",
       "    }\n",
       "</style>\n",
       "<table border=\"1\" class=\"dataframe\">\n",
       "  <thead>\n",
       "    <tr style=\"text-align: right;\">\n",
       "      <th></th>\n",
       "      <th>id</th>\n",
       "      <th>release_date</th>\n",
       "      <th>movie</th>\n",
       "      <th>production_budget</th>\n",
       "      <th>domestic_gross</th>\n",
       "      <th>worldwide_gross</th>\n",
       "      <th>domestic_profit</th>\n",
       "      <th>worldwide_profit</th>\n",
       "    </tr>\n",
       "  </thead>\n",
       "  <tbody>\n",
       "    <tr>\n",
       "      <th>0</th>\n",
       "      <td>1</td>\n",
       "      <td>Dec 18, 2009</td>\n",
       "      <td>Avatar</td>\n",
       "      <td>425000000</td>\n",
       "      <td>760507625</td>\n",
       "      <td>2776345279</td>\n",
       "      <td>335507625</td>\n",
       "      <td>2351345279</td>\n",
       "    </tr>\n",
       "    <tr>\n",
       "      <th>1</th>\n",
       "      <td>2</td>\n",
       "      <td>May 20, 2011</td>\n",
       "      <td>Pirates of the Caribbean: On Stranger Tides</td>\n",
       "      <td>410600000</td>\n",
       "      <td>241063875</td>\n",
       "      <td>1045663875</td>\n",
       "      <td>-169536125</td>\n",
       "      <td>635063875</td>\n",
       "    </tr>\n",
       "    <tr>\n",
       "      <th>2</th>\n",
       "      <td>3</td>\n",
       "      <td>Jun 7, 2019</td>\n",
       "      <td>Dark Phoenix</td>\n",
       "      <td>350000000</td>\n",
       "      <td>42762350</td>\n",
       "      <td>149762350</td>\n",
       "      <td>-307237650</td>\n",
       "      <td>-200237650</td>\n",
       "    </tr>\n",
       "    <tr>\n",
       "      <th>3</th>\n",
       "      <td>4</td>\n",
       "      <td>May 1, 2015</td>\n",
       "      <td>Avengers: Age of Ultron</td>\n",
       "      <td>330600000</td>\n",
       "      <td>459005868</td>\n",
       "      <td>1403013963</td>\n",
       "      <td>128405868</td>\n",
       "      <td>1072413963</td>\n",
       "    </tr>\n",
       "    <tr>\n",
       "      <th>4</th>\n",
       "      <td>5</td>\n",
       "      <td>Dec 15, 2017</td>\n",
       "      <td>Star Wars Ep. VIII: The Last Jedi</td>\n",
       "      <td>317000000</td>\n",
       "      <td>620181382</td>\n",
       "      <td>1316721747</td>\n",
       "      <td>303181382</td>\n",
       "      <td>999721747</td>\n",
       "    </tr>\n",
       "  </tbody>\n",
       "</table>\n",
       "</div>"
      ],
      "text/plain": [
       "   id  release_date                                        movie  \\\n",
       "0   1  Dec 18, 2009                                       Avatar   \n",
       "1   2  May 20, 2011  Pirates of the Caribbean: On Stranger Tides   \n",
       "2   3   Jun 7, 2019                                 Dark Phoenix   \n",
       "3   4   May 1, 2015                      Avengers: Age of Ultron   \n",
       "4   5  Dec 15, 2017            Star Wars Ep. VIII: The Last Jedi   \n",
       "\n",
       "   production_budget  domestic_gross  worldwide_gross  domestic_profit  \\\n",
       "0          425000000       760507625       2776345279        335507625   \n",
       "1          410600000       241063875       1045663875       -169536125   \n",
       "2          350000000        42762350        149762350       -307237650   \n",
       "3          330600000       459005868       1403013963        128405868   \n",
       "4          317000000       620181382       1316721747        303181382   \n",
       "\n",
       "   worldwide_profit  \n",
       "0        2351345279  \n",
       "1         635063875  \n",
       "2        -200237650  \n",
       "3        1072413963  \n",
       "4         999721747  "
      ]
     },
     "execution_count": 23,
     "metadata": {},
     "output_type": "execute_result"
    }
   ],
   "source": [
    "movie_budgets_df.head()"
   ]
  },
  {
   "cell_type": "code",
   "execution_count": 24,
   "metadata": {},
   "outputs": [],
   "source": [
    "movie_budgets_df['domestic_roi'] = movie_budgets_df['domestic_profit']/movie_budgets_df['production_budget']"
   ]
  },
  {
   "cell_type": "code",
   "execution_count": 25,
   "metadata": {},
   "outputs": [],
   "source": [
    "movie_budgets_df['worldwide_roi'] = movie_budgets_df['worldwide_profit']/movie_budgets_df['production_budget']"
   ]
  },
  {
   "cell_type": "code",
   "execution_count": 26,
   "metadata": {},
   "outputs": [
    {
     "data": {
      "text/html": [
       "<div>\n",
       "<style scoped>\n",
       "    .dataframe tbody tr th:only-of-type {\n",
       "        vertical-align: middle;\n",
       "    }\n",
       "\n",
       "    .dataframe tbody tr th {\n",
       "        vertical-align: top;\n",
       "    }\n",
       "\n",
       "    .dataframe thead th {\n",
       "        text-align: right;\n",
       "    }\n",
       "</style>\n",
       "<table border=\"1\" class=\"dataframe\">\n",
       "  <thead>\n",
       "    <tr style=\"text-align: right;\">\n",
       "      <th></th>\n",
       "      <th>id</th>\n",
       "      <th>release_date</th>\n",
       "      <th>movie</th>\n",
       "      <th>production_budget</th>\n",
       "      <th>domestic_gross</th>\n",
       "      <th>worldwide_gross</th>\n",
       "      <th>domestic_profit</th>\n",
       "      <th>worldwide_profit</th>\n",
       "      <th>domestic_roi</th>\n",
       "      <th>worldwide_roi</th>\n",
       "    </tr>\n",
       "  </thead>\n",
       "  <tbody>\n",
       "    <tr>\n",
       "      <th>0</th>\n",
       "      <td>1</td>\n",
       "      <td>Dec 18, 2009</td>\n",
       "      <td>Avatar</td>\n",
       "      <td>425000000</td>\n",
       "      <td>760507625</td>\n",
       "      <td>2776345279</td>\n",
       "      <td>335507625</td>\n",
       "      <td>2351345279</td>\n",
       "      <td>0.789430</td>\n",
       "      <td>5.532577</td>\n",
       "    </tr>\n",
       "    <tr>\n",
       "      <th>1</th>\n",
       "      <td>2</td>\n",
       "      <td>May 20, 2011</td>\n",
       "      <td>Pirates of the Caribbean: On Stranger Tides</td>\n",
       "      <td>410600000</td>\n",
       "      <td>241063875</td>\n",
       "      <td>1045663875</td>\n",
       "      <td>-169536125</td>\n",
       "      <td>635063875</td>\n",
       "      <td>-0.412899</td>\n",
       "      <td>1.546673</td>\n",
       "    </tr>\n",
       "    <tr>\n",
       "      <th>2</th>\n",
       "      <td>3</td>\n",
       "      <td>Jun 7, 2019</td>\n",
       "      <td>Dark Phoenix</td>\n",
       "      <td>350000000</td>\n",
       "      <td>42762350</td>\n",
       "      <td>149762350</td>\n",
       "      <td>-307237650</td>\n",
       "      <td>-200237650</td>\n",
       "      <td>-0.877822</td>\n",
       "      <td>-0.572108</td>\n",
       "    </tr>\n",
       "    <tr>\n",
       "      <th>3</th>\n",
       "      <td>4</td>\n",
       "      <td>May 1, 2015</td>\n",
       "      <td>Avengers: Age of Ultron</td>\n",
       "      <td>330600000</td>\n",
       "      <td>459005868</td>\n",
       "      <td>1403013963</td>\n",
       "      <td>128405868</td>\n",
       "      <td>1072413963</td>\n",
       "      <td>0.388403</td>\n",
       "      <td>3.243841</td>\n",
       "    </tr>\n",
       "    <tr>\n",
       "      <th>4</th>\n",
       "      <td>5</td>\n",
       "      <td>Dec 15, 2017</td>\n",
       "      <td>Star Wars Ep. VIII: The Last Jedi</td>\n",
       "      <td>317000000</td>\n",
       "      <td>620181382</td>\n",
       "      <td>1316721747</td>\n",
       "      <td>303181382</td>\n",
       "      <td>999721747</td>\n",
       "      <td>0.956408</td>\n",
       "      <td>3.153696</td>\n",
       "    </tr>\n",
       "    <tr>\n",
       "      <th>5</th>\n",
       "      <td>6</td>\n",
       "      <td>Dec 18, 2015</td>\n",
       "      <td>Star Wars Ep. VII: The Force Awakens</td>\n",
       "      <td>306000000</td>\n",
       "      <td>936662225</td>\n",
       "      <td>2053311220</td>\n",
       "      <td>630662225</td>\n",
       "      <td>1747311220</td>\n",
       "      <td>2.060988</td>\n",
       "      <td>5.710167</td>\n",
       "    </tr>\n",
       "    <tr>\n",
       "      <th>6</th>\n",
       "      <td>7</td>\n",
       "      <td>Apr 27, 2018</td>\n",
       "      <td>Avengers: Infinity War</td>\n",
       "      <td>300000000</td>\n",
       "      <td>678815482</td>\n",
       "      <td>2048134200</td>\n",
       "      <td>378815482</td>\n",
       "      <td>1748134200</td>\n",
       "      <td>1.262718</td>\n",
       "      <td>5.827114</td>\n",
       "    </tr>\n",
       "    <tr>\n",
       "      <th>7</th>\n",
       "      <td>8</td>\n",
       "      <td>May 24, 2007</td>\n",
       "      <td>Pirates of the Caribbean: At Worldâs End</td>\n",
       "      <td>300000000</td>\n",
       "      <td>309420425</td>\n",
       "      <td>963420425</td>\n",
       "      <td>9420425</td>\n",
       "      <td>663420425</td>\n",
       "      <td>0.031401</td>\n",
       "      <td>2.211401</td>\n",
       "    </tr>\n",
       "    <tr>\n",
       "      <th>8</th>\n",
       "      <td>9</td>\n",
       "      <td>Nov 17, 2017</td>\n",
       "      <td>Justice League</td>\n",
       "      <td>300000000</td>\n",
       "      <td>229024295</td>\n",
       "      <td>655945209</td>\n",
       "      <td>-70975705</td>\n",
       "      <td>355945209</td>\n",
       "      <td>-0.236586</td>\n",
       "      <td>1.186484</td>\n",
       "    </tr>\n",
       "    <tr>\n",
       "      <th>9</th>\n",
       "      <td>10</td>\n",
       "      <td>Nov 6, 2015</td>\n",
       "      <td>Spectre</td>\n",
       "      <td>300000000</td>\n",
       "      <td>200074175</td>\n",
       "      <td>879620923</td>\n",
       "      <td>-99925825</td>\n",
       "      <td>579620923</td>\n",
       "      <td>-0.333086</td>\n",
       "      <td>1.932070</td>\n",
       "    </tr>\n",
       "  </tbody>\n",
       "</table>\n",
       "</div>"
      ],
      "text/plain": [
       "   id  release_date                                        movie  \\\n",
       "0   1  Dec 18, 2009                                       Avatar   \n",
       "1   2  May 20, 2011  Pirates of the Caribbean: On Stranger Tides   \n",
       "2   3   Jun 7, 2019                                 Dark Phoenix   \n",
       "3   4   May 1, 2015                      Avengers: Age of Ultron   \n",
       "4   5  Dec 15, 2017            Star Wars Ep. VIII: The Last Jedi   \n",
       "5   6  Dec 18, 2015         Star Wars Ep. VII: The Force Awakens   \n",
       "6   7  Apr 27, 2018                       Avengers: Infinity War   \n",
       "7   8  May 24, 2007   Pirates of the Caribbean: At Worldâs End   \n",
       "8   9  Nov 17, 2017                               Justice League   \n",
       "9  10   Nov 6, 2015                                      Spectre   \n",
       "\n",
       "   production_budget  domestic_gross  worldwide_gross  domestic_profit  \\\n",
       "0          425000000       760507625       2776345279        335507625   \n",
       "1          410600000       241063875       1045663875       -169536125   \n",
       "2          350000000        42762350        149762350       -307237650   \n",
       "3          330600000       459005868       1403013963        128405868   \n",
       "4          317000000       620181382       1316721747        303181382   \n",
       "5          306000000       936662225       2053311220        630662225   \n",
       "6          300000000       678815482       2048134200        378815482   \n",
       "7          300000000       309420425        963420425          9420425   \n",
       "8          300000000       229024295        655945209        -70975705   \n",
       "9          300000000       200074175        879620923        -99925825   \n",
       "\n",
       "   worldwide_profit  domestic_roi  worldwide_roi  \n",
       "0        2351345279      0.789430       5.532577  \n",
       "1         635063875     -0.412899       1.546673  \n",
       "2        -200237650     -0.877822      -0.572108  \n",
       "3        1072413963      0.388403       3.243841  \n",
       "4         999721747      0.956408       3.153696  \n",
       "5        1747311220      2.060988       5.710167  \n",
       "6        1748134200      1.262718       5.827114  \n",
       "7         663420425      0.031401       2.211401  \n",
       "8         355945209     -0.236586       1.186484  \n",
       "9         579620923     -0.333086       1.932070  "
      ]
     },
     "execution_count": 26,
     "metadata": {},
     "output_type": "execute_result"
    }
   ],
   "source": [
    "movie_budgets_df.head(10)"
   ]
  },
  {
   "cell_type": "code",
   "execution_count": null,
   "metadata": {},
   "outputs": [],
   "source": []
  },
  {
   "cell_type": "code",
   "execution_count": null,
   "metadata": {},
   "outputs": [],
   "source": []
  },
  {
   "cell_type": "code",
   "execution_count": null,
   "metadata": {},
   "outputs": [],
   "source": []
  },
  {
   "cell_type": "code",
   "execution_count": 27,
   "metadata": {},
   "outputs": [
    {
     "data": {
      "text/html": [
       "<div>\n",
       "<style scoped>\n",
       "    .dataframe tbody tr th:only-of-type {\n",
       "        vertical-align: middle;\n",
       "    }\n",
       "\n",
       "    .dataframe tbody tr th {\n",
       "        vertical-align: top;\n",
       "    }\n",
       "\n",
       "    .dataframe thead th {\n",
       "        text-align: right;\n",
       "    }\n",
       "</style>\n",
       "<table border=\"1\" class=\"dataframe\">\n",
       "  <thead>\n",
       "    <tr style=\"text-align: right;\">\n",
       "      <th></th>\n",
       "      <th>id</th>\n",
       "      <th>release_date</th>\n",
       "      <th>movie</th>\n",
       "      <th>production_budget</th>\n",
       "      <th>domestic_gross</th>\n",
       "      <th>worldwide_gross</th>\n",
       "      <th>domestic_profit</th>\n",
       "      <th>worldwide_profit</th>\n",
       "      <th>domestic_roi</th>\n",
       "      <th>worldwide_roi</th>\n",
       "    </tr>\n",
       "  </thead>\n",
       "  <tbody>\n",
       "    <tr>\n",
       "      <th>0</th>\n",
       "      <td>1</td>\n",
       "      <td>Dec 18, 2009</td>\n",
       "      <td>Avatar</td>\n",
       "      <td>425000000</td>\n",
       "      <td>760507625</td>\n",
       "      <td>2776345279</td>\n",
       "      <td>335507625</td>\n",
       "      <td>2351345279</td>\n",
       "      <td>0.789430</td>\n",
       "      <td>5.532577</td>\n",
       "    </tr>\n",
       "    <tr>\n",
       "      <th>1</th>\n",
       "      <td>2</td>\n",
       "      <td>May 20, 2011</td>\n",
       "      <td>Pirates of the Caribbean: On Stranger Tides</td>\n",
       "      <td>410600000</td>\n",
       "      <td>241063875</td>\n",
       "      <td>1045663875</td>\n",
       "      <td>-169536125</td>\n",
       "      <td>635063875</td>\n",
       "      <td>-0.412899</td>\n",
       "      <td>1.546673</td>\n",
       "    </tr>\n",
       "    <tr>\n",
       "      <th>2</th>\n",
       "      <td>3</td>\n",
       "      <td>Jun 7, 2019</td>\n",
       "      <td>Dark Phoenix</td>\n",
       "      <td>350000000</td>\n",
       "      <td>42762350</td>\n",
       "      <td>149762350</td>\n",
       "      <td>-307237650</td>\n",
       "      <td>-200237650</td>\n",
       "      <td>-0.877822</td>\n",
       "      <td>-0.572108</td>\n",
       "    </tr>\n",
       "    <tr>\n",
       "      <th>3</th>\n",
       "      <td>4</td>\n",
       "      <td>May 1, 2015</td>\n",
       "      <td>Avengers: Age of Ultron</td>\n",
       "      <td>330600000</td>\n",
       "      <td>459005868</td>\n",
       "      <td>1403013963</td>\n",
       "      <td>128405868</td>\n",
       "      <td>1072413963</td>\n",
       "      <td>0.388403</td>\n",
       "      <td>3.243841</td>\n",
       "    </tr>\n",
       "    <tr>\n",
       "      <th>4</th>\n",
       "      <td>5</td>\n",
       "      <td>Dec 15, 2017</td>\n",
       "      <td>Star Wars Ep. VIII: The Last Jedi</td>\n",
       "      <td>317000000</td>\n",
       "      <td>620181382</td>\n",
       "      <td>1316721747</td>\n",
       "      <td>303181382</td>\n",
       "      <td>999721747</td>\n",
       "      <td>0.956408</td>\n",
       "      <td>3.153696</td>\n",
       "    </tr>\n",
       "  </tbody>\n",
       "</table>\n",
       "</div>"
      ],
      "text/plain": [
       "   id  release_date                                        movie  \\\n",
       "0   1  Dec 18, 2009                                       Avatar   \n",
       "1   2  May 20, 2011  Pirates of the Caribbean: On Stranger Tides   \n",
       "2   3   Jun 7, 2019                                 Dark Phoenix   \n",
       "3   4   May 1, 2015                      Avengers: Age of Ultron   \n",
       "4   5  Dec 15, 2017            Star Wars Ep. VIII: The Last Jedi   \n",
       "\n",
       "   production_budget  domestic_gross  worldwide_gross  domestic_profit  \\\n",
       "0          425000000       760507625       2776345279        335507625   \n",
       "1          410600000       241063875       1045663875       -169536125   \n",
       "2          350000000        42762350        149762350       -307237650   \n",
       "3          330600000       459005868       1403013963        128405868   \n",
       "4          317000000       620181382       1316721747        303181382   \n",
       "\n",
       "   worldwide_profit  domestic_roi  worldwide_roi  \n",
       "0        2351345279      0.789430       5.532577  \n",
       "1         635063875     -0.412899       1.546673  \n",
       "2        -200237650     -0.877822      -0.572108  \n",
       "3        1072413963      0.388403       3.243841  \n",
       "4         999721747      0.956408       3.153696  "
      ]
     },
     "execution_count": 27,
     "metadata": {},
     "output_type": "execute_result"
    }
   ],
   "source": [
    "movie_budgets_df.head()"
   ]
  },
  {
   "cell_type": "code",
   "execution_count": 28,
   "metadata": {},
   "outputs": [],
   "source": [
    "movie_budgets_df[\"worldwide_profit_margin\"] = movie_budgets_df[\"worldwide_profit\"]/movie_budgets_df[\"worldwide_gross\"]\n",
    "\n",
    "movie_budgets_df[\"domestic_profit_margin\"] = movie_budgets_df[\"domestic_profit\"]/movie_budgets_df['domestic_gross']"
   ]
  },
  {
   "cell_type": "code",
   "execution_count": 29,
   "metadata": {},
   "outputs": [
    {
     "data": {
      "text/html": [
       "<div>\n",
       "<style scoped>\n",
       "    .dataframe tbody tr th:only-of-type {\n",
       "        vertical-align: middle;\n",
       "    }\n",
       "\n",
       "    .dataframe tbody tr th {\n",
       "        vertical-align: top;\n",
       "    }\n",
       "\n",
       "    .dataframe thead th {\n",
       "        text-align: right;\n",
       "    }\n",
       "</style>\n",
       "<table border=\"1\" class=\"dataframe\">\n",
       "  <thead>\n",
       "    <tr style=\"text-align: right;\">\n",
       "      <th></th>\n",
       "      <th>id</th>\n",
       "      <th>release_date</th>\n",
       "      <th>movie</th>\n",
       "      <th>production_budget</th>\n",
       "      <th>domestic_gross</th>\n",
       "      <th>worldwide_gross</th>\n",
       "      <th>domestic_profit</th>\n",
       "      <th>worldwide_profit</th>\n",
       "      <th>domestic_roi</th>\n",
       "      <th>worldwide_roi</th>\n",
       "      <th>worldwide_profit_margin</th>\n",
       "      <th>domestic_profit_margin</th>\n",
       "    </tr>\n",
       "  </thead>\n",
       "  <tbody>\n",
       "    <tr>\n",
       "      <th>0</th>\n",
       "      <td>1</td>\n",
       "      <td>Dec 18, 2009</td>\n",
       "      <td>Avatar</td>\n",
       "      <td>425000000</td>\n",
       "      <td>760507625</td>\n",
       "      <td>2776345279</td>\n",
       "      <td>335507625</td>\n",
       "      <td>2351345279</td>\n",
       "      <td>0.789430</td>\n",
       "      <td>5.532577</td>\n",
       "      <td>0.846921</td>\n",
       "      <td>0.441163</td>\n",
       "    </tr>\n",
       "    <tr>\n",
       "      <th>1</th>\n",
       "      <td>2</td>\n",
       "      <td>May 20, 2011</td>\n",
       "      <td>Pirates of the Caribbean: On Stranger Tides</td>\n",
       "      <td>410600000</td>\n",
       "      <td>241063875</td>\n",
       "      <td>1045663875</td>\n",
       "      <td>-169536125</td>\n",
       "      <td>635063875</td>\n",
       "      <td>-0.412899</td>\n",
       "      <td>1.546673</td>\n",
       "      <td>0.607331</td>\n",
       "      <td>-0.703283</td>\n",
       "    </tr>\n",
       "    <tr>\n",
       "      <th>2</th>\n",
       "      <td>3</td>\n",
       "      <td>Jun 7, 2019</td>\n",
       "      <td>Dark Phoenix</td>\n",
       "      <td>350000000</td>\n",
       "      <td>42762350</td>\n",
       "      <td>149762350</td>\n",
       "      <td>-307237650</td>\n",
       "      <td>-200237650</td>\n",
       "      <td>-0.877822</td>\n",
       "      <td>-0.572108</td>\n",
       "      <td>-1.337036</td>\n",
       "      <td>-7.184770</td>\n",
       "    </tr>\n",
       "    <tr>\n",
       "      <th>3</th>\n",
       "      <td>4</td>\n",
       "      <td>May 1, 2015</td>\n",
       "      <td>Avengers: Age of Ultron</td>\n",
       "      <td>330600000</td>\n",
       "      <td>459005868</td>\n",
       "      <td>1403013963</td>\n",
       "      <td>128405868</td>\n",
       "      <td>1072413963</td>\n",
       "      <td>0.388403</td>\n",
       "      <td>3.243841</td>\n",
       "      <td>0.764364</td>\n",
       "      <td>0.279748</td>\n",
       "    </tr>\n",
       "    <tr>\n",
       "      <th>4</th>\n",
       "      <td>5</td>\n",
       "      <td>Dec 15, 2017</td>\n",
       "      <td>Star Wars Ep. VIII: The Last Jedi</td>\n",
       "      <td>317000000</td>\n",
       "      <td>620181382</td>\n",
       "      <td>1316721747</td>\n",
       "      <td>303181382</td>\n",
       "      <td>999721747</td>\n",
       "      <td>0.956408</td>\n",
       "      <td>3.153696</td>\n",
       "      <td>0.759251</td>\n",
       "      <td>0.488859</td>\n",
       "    </tr>\n",
       "  </tbody>\n",
       "</table>\n",
       "</div>"
      ],
      "text/plain": [
       "   id  release_date                                        movie  \\\n",
       "0   1  Dec 18, 2009                                       Avatar   \n",
       "1   2  May 20, 2011  Pirates of the Caribbean: On Stranger Tides   \n",
       "2   3   Jun 7, 2019                                 Dark Phoenix   \n",
       "3   4   May 1, 2015                      Avengers: Age of Ultron   \n",
       "4   5  Dec 15, 2017            Star Wars Ep. VIII: The Last Jedi   \n",
       "\n",
       "   production_budget  domestic_gross  worldwide_gross  domestic_profit  \\\n",
       "0          425000000       760507625       2776345279        335507625   \n",
       "1          410600000       241063875       1045663875       -169536125   \n",
       "2          350000000        42762350        149762350       -307237650   \n",
       "3          330600000       459005868       1403013963        128405868   \n",
       "4          317000000       620181382       1316721747        303181382   \n",
       "\n",
       "   worldwide_profit  domestic_roi  worldwide_roi  worldwide_profit_margin  \\\n",
       "0        2351345279      0.789430       5.532577                 0.846921   \n",
       "1         635063875     -0.412899       1.546673                 0.607331   \n",
       "2        -200237650     -0.877822      -0.572108                -1.337036   \n",
       "3        1072413963      0.388403       3.243841                 0.764364   \n",
       "4         999721747      0.956408       3.153696                 0.759251   \n",
       "\n",
       "   domestic_profit_margin  \n",
       "0                0.441163  \n",
       "1               -0.703283  \n",
       "2               -7.184770  \n",
       "3                0.279748  \n",
       "4                0.488859  "
      ]
     },
     "execution_count": 29,
     "metadata": {},
     "output_type": "execute_result"
    }
   ],
   "source": [
    "\n",
    "movie_budgets_df.head()"
   ]
  },
  {
   "cell_type": "code",
   "execution_count": 30,
   "metadata": {},
   "outputs": [],
   "source": [
    "movie_budgets_df['month'] = movie_budgets_df['release_date'].map(lambda x: datetime.datetime.strptime(x, \"%b %d, %Y\").month)\n",
    "\n",
    "movie_budgets_df['year'] = movie_budgets_df['release_date'].map(lambda x: datetime.datetime.strptime(x, \"%b %d, %Y\").year)"
   ]
  },
  {
   "cell_type": "code",
   "execution_count": null,
   "metadata": {},
   "outputs": [],
   "source": []
  },
  {
   "cell_type": "code",
   "execution_count": 31,
   "metadata": {},
   "outputs": [
    {
     "name": "stdout",
     "output_type": "stream",
     "text": [
      "<class 'pandas.core.frame.DataFrame'>\n",
      "RangeIndex: 5782 entries, 0 to 5781\n",
      "Data columns (total 14 columns):\n",
      " #   Column                   Non-Null Count  Dtype  \n",
      "---  ------                   --------------  -----  \n",
      " 0   id                       5782 non-null   int64  \n",
      " 1   release_date             5782 non-null   object \n",
      " 2   movie                    5782 non-null   object \n",
      " 3   production_budget        5782 non-null   int64  \n",
      " 4   domestic_gross           5782 non-null   int64  \n",
      " 5   worldwide_gross          5782 non-null   int64  \n",
      " 6   domestic_profit          5782 non-null   int64  \n",
      " 7   worldwide_profit         5782 non-null   int64  \n",
      " 8   domestic_roi             5782 non-null   float64\n",
      " 9   worldwide_roi            5782 non-null   float64\n",
      " 10  worldwide_profit_margin  5782 non-null   float64\n",
      " 11  domestic_profit_margin   5782 non-null   float64\n",
      " 12  month                    5782 non-null   int64  \n",
      " 13  year                     5782 non-null   int64  \n",
      "dtypes: float64(4), int64(8), object(2)\n",
      "memory usage: 632.5+ KB\n"
     ]
    }
   ],
   "source": [
    "movie_budgets_df.info()"
   ]
  },
  {
   "cell_type": "code",
   "execution_count": 32,
   "metadata": {},
   "outputs": [
    {
     "data": {
      "text/plain": [
       "[<matplotlib.lines.Line2D at 0x7ff00e8d7490>]"
      ]
     },
     "execution_count": 32,
     "metadata": {},
     "output_type": "execute_result"
    },
    {
     "data": {
      "image/png": "[encoded data removed]",
      "text/plain": [
       "<Figure size 1152x576 with 1 Axes>"
      ]
     },
     "metadata": {
      "needs_background": "light"
     },
     "output_type": "display_data"
    }
   ],
   "source": [
    "import matplotlib.pyplot as plt\n",
    "import numpy as np\n",
    "\n",
    "fig, ax = plt.subplots(figsize = (16,8))\n",
    "\n",
    "X = movie_budgets_df['production_budget']\n",
    "\n",
    "Y = movie_budgets_df['domestic_roi']\n",
    "\n",
    "ax.scatter(X, Y)\n",
    "ax.set_title('Production Budget vs. Domestic ROI')\n",
    "ax.set_xlabel('Production Budget')\n",
    "ax.set_ylabel('Domestic ROI')\n",
    "\n",
    "plt.xlim(0, 500000000)\n",
    "plt.ylim(-5, 20)\n",
    "plt.grid()\n",
    "\n",
    "z = np.polyfit(X, Y, 1) #create trendline \n",
    "p = np.poly1d(z)  \n",
    "plt.plot(X,p(X),\"r--\") #plot trendline"
   ]
  },
  {
   "cell_type": "code",
   "execution_count": null,
   "metadata": {},
   "outputs": [],
   "source": []
  },
  {
   "cell_type": "code",
   "execution_count": 33,
   "metadata": {},
   "outputs": [
    {
     "data": {
      "text/plain": [
       "[<matplotlib.lines.Line2D at 0x7ff013072a00>]"
      ]
     },
     "execution_count": 33,
     "metadata": {},
     "output_type": "execute_result"
    },
    {
     "data": {
      "image/png": "[encoded data removed]",
      "text/plain": [
       "<Figure size 1152x576 with 1 Axes>"
      ]
     },
     "metadata": {
      "needs_background": "light"
     },
     "output_type": "display_data"
    }
   ],
   "source": [
    "fig, ax = plt.subplots(figsize = (16,8))\n",
    "\n",
    "X = movie_budgets_df['production_budget']\n",
    "\n",
    "Y = movie_budgets_df['worldwide_roi']\n",
    "\n",
    "ax.scatter(X, Y)\n",
    "ax.set_title('Production Budget vs. Worldwide ROI')\n",
    "ax.set_xlabel('Production Budget')\n",
    "ax.set_ylabel('Worldwide ROI')\n",
    "\n",
    "plt.xlim(0, 500000000)\n",
    "plt.ylim(-5, 20)\n",
    "plt.grid()\n",
    "\n",
    "z = np.polyfit(X, Y, 1) #create trendline \n",
    "p = np.poly1d(z)  \n",
    "plt.plot(X,p(X),\"r--\") #plot trendline"
   ]
  },
  {
   "cell_type": "code",
   "execution_count": null,
   "metadata": {},
   "outputs": [],
   "source": []
  },
  {
   "cell_type": "code",
   "execution_count": null,
   "metadata": {},
   "outputs": [],
   "source": []
  },
  {
   "cell_type": "code",
   "execution_count": null,
   "metadata": {},
   "outputs": [],
   "source": []
  },
  {
   "cell_type": "code",
   "execution_count": 34,
   "metadata": {},
   "outputs": [
    {
     "data": {
      "text/html": [
       "<div>\n",
       "<style scoped>\n",
       "    .dataframe tbody tr th:only-of-type {\n",
       "        vertical-align: middle;\n",
       "    }\n",
       "\n",
       "    .dataframe tbody tr th {\n",
       "        vertical-align: top;\n",
       "    }\n",
       "\n",
       "    .dataframe thead th {\n",
       "        text-align: right;\n",
       "    }\n",
       "</style>\n",
       "<table border=\"1\" class=\"dataframe\">\n",
       "  <thead>\n",
       "    <tr style=\"text-align: right;\">\n",
       "      <th></th>\n",
       "      <th>id</th>\n",
       "      <th>release_date</th>\n",
       "      <th>movie</th>\n",
       "      <th>production_budget</th>\n",
       "      <th>domestic_gross</th>\n",
       "      <th>worldwide_gross</th>\n",
       "      <th>domestic_profit</th>\n",
       "      <th>worldwide_profit</th>\n",
       "      <th>domestic_roi</th>\n",
       "      <th>worldwide_roi</th>\n",
       "      <th>worldwide_profit_margin</th>\n",
       "      <th>domestic_profit_margin</th>\n",
       "      <th>month</th>\n",
       "      <th>year</th>\n",
       "    </tr>\n",
       "  </thead>\n",
       "  <tbody>\n",
       "    <tr>\n",
       "      <th>0</th>\n",
       "      <td>1</td>\n",
       "      <td>Dec 18, 2009</td>\n",
       "      <td>Avatar</td>\n",
       "      <td>425000000</td>\n",
       "      <td>760507625</td>\n",
       "      <td>2776345279</td>\n",
       "      <td>335507625</td>\n",
       "      <td>2351345279</td>\n",
       "      <td>0.789430</td>\n",
       "      <td>5.532577</td>\n",
       "      <td>0.846921</td>\n",
       "      <td>0.441163</td>\n",
       "      <td>12</td>\n",
       "      <td>2009</td>\n",
       "    </tr>\n",
       "    <tr>\n",
       "      <th>1</th>\n",
       "      <td>2</td>\n",
       "      <td>May 20, 2011</td>\n",
       "      <td>Pirates of the Caribbean: On Stranger Tides</td>\n",
       "      <td>410600000</td>\n",
       "      <td>241063875</td>\n",
       "      <td>1045663875</td>\n",
       "      <td>-169536125</td>\n",
       "      <td>635063875</td>\n",
       "      <td>-0.412899</td>\n",
       "      <td>1.546673</td>\n",
       "      <td>0.607331</td>\n",
       "      <td>-0.703283</td>\n",
       "      <td>5</td>\n",
       "      <td>2011</td>\n",
       "    </tr>\n",
       "    <tr>\n",
       "      <th>2</th>\n",
       "      <td>3</td>\n",
       "      <td>Jun 7, 2019</td>\n",
       "      <td>Dark Phoenix</td>\n",
       "      <td>350000000</td>\n",
       "      <td>42762350</td>\n",
       "      <td>149762350</td>\n",
       "      <td>-307237650</td>\n",
       "      <td>-200237650</td>\n",
       "      <td>-0.877822</td>\n",
       "      <td>-0.572108</td>\n",
       "      <td>-1.337036</td>\n",
       "      <td>-7.184770</td>\n",
       "      <td>6</td>\n",
       "      <td>2019</td>\n",
       "    </tr>\n",
       "    <tr>\n",
       "      <th>3</th>\n",
       "      <td>4</td>\n",
       "      <td>May 1, 2015</td>\n",
       "      <td>Avengers: Age of Ultron</td>\n",
       "      <td>330600000</td>\n",
       "      <td>459005868</td>\n",
       "      <td>1403013963</td>\n",
       "      <td>128405868</td>\n",
       "      <td>1072413963</td>\n",
       "      <td>0.388403</td>\n",
       "      <td>3.243841</td>\n",
       "      <td>0.764364</td>\n",
       "      <td>0.279748</td>\n",
       "      <td>5</td>\n",
       "      <td>2015</td>\n",
       "    </tr>\n",
       "    <tr>\n",
       "      <th>4</th>\n",
       "      <td>5</td>\n",
       "      <td>Dec 15, 2017</td>\n",
       "      <td>Star Wars Ep. VIII: The Last Jedi</td>\n",
       "      <td>317000000</td>\n",
       "      <td>620181382</td>\n",
       "      <td>1316721747</td>\n",
       "      <td>303181382</td>\n",
       "      <td>999721747</td>\n",
       "      <td>0.956408</td>\n",
       "      <td>3.153696</td>\n",
       "      <td>0.759251</td>\n",
       "      <td>0.488859</td>\n",
       "      <td>12</td>\n",
       "      <td>2017</td>\n",
       "    </tr>\n",
       "  </tbody>\n",
       "</table>\n",
       "</div>"
      ],
      "text/plain": [
       "   id  release_date                                        movie  \\\n",
       "0   1  Dec 18, 2009                                       Avatar   \n",
       "1   2  May 20, 2011  Pirates of the Caribbean: On Stranger Tides   \n",
       "2   3   Jun 7, 2019                                 Dark Phoenix   \n",
       "3   4   May 1, 2015                      Avengers: Age of Ultron   \n",
       "4   5  Dec 15, 2017            Star Wars Ep. VIII: The Last Jedi   \n",
       "\n",
       "   production_budget  domestic_gross  worldwide_gross  domestic_profit  \\\n",
       "0          425000000       760507625       2776345279        335507625   \n",
       "1          410600000       241063875       1045663875       -169536125   \n",
       "2          350000000        42762350        149762350       -307237650   \n",
       "3          330600000       459005868       1403013963        128405868   \n",
       "4          317000000       620181382       1316721747        303181382   \n",
       "\n",
       "   worldwide_profit  domestic_roi  worldwide_roi  worldwide_profit_margin  \\\n",
       "0        2351345279      0.789430       5.532577                 0.846921   \n",
       "1         635063875     -0.412899       1.546673                 0.607331   \n",
       "2        -200237650     -0.877822      -0.572108                -1.337036   \n",
       "3        1072413963      0.388403       3.243841                 0.764364   \n",
       "4         999721747      0.956408       3.153696                 0.759251   \n",
       "\n",
       "   domestic_profit_margin  month  year  \n",
       "0                0.441163     12  2009  \n",
       "1               -0.703283      5  2011  \n",
       "2               -7.184770      6  2019  \n",
       "3                0.279748      5  2015  \n",
       "4                0.488859     12  2017  "
      ]
     },
     "execution_count": 34,
     "metadata": {},
     "output_type": "execute_result"
    }
   ],
   "source": [
    "relevant_movies = movie_budgets_df[(movie_budgets_df['worldwide_gross'] > 0) & (movie_budgets_df['domestic_gross'] > 0) & (movie_budgets_df['production_budget'] >= 5000000) & (movie_budgets_df['year'] != 2020) ]\n",
    "relevant_movies.head()"
   ]
  },
  {
   "cell_type": "code",
   "execution_count": null,
   "metadata": {},
   "outputs": [],
   "source": []
  },
  {
   "cell_type": "code",
   "execution_count": null,
   "metadata": {},
   "outputs": [],
   "source": []
  },
  {
   "cell_type": "code",
   "execution_count": 35,
   "metadata": {},
   "outputs": [
    {
     "data": {
      "image/png": "[encoded data removed]",
      "text/plain": [
       "<Figure size 1152x576 with 1 Axes>"
      ]
     },
     "metadata": {
      "needs_background": "light"
     },
     "output_type": "display_data"
    }
   ],
   "source": [
    "# Segment of Production Budget vs. Domestic ROI where production budget is between 5 and 525 million dollars.\n",
    "\n",
    "fig, ax = plt.subplots(figsize = (16,8))\n",
    "\n",
    "X = relevant_movies['production_budget']\n",
    "\n",
    "Y = relevant_movies['domestic_roi']\n",
    "\n",
    "ax.scatter(X, Y)\n",
    "ax.set_title('Production Budget vs. Domestic ROI')\n",
    "ax.set_xlabel('Production Budget')\n",
    "ax.set_ylabel('Domestic ROI')\n",
    "ynew = 0\n",
    "ax.axhline(ynew, color = 'r', linestyle = \"-\", linewidth = \"2\")\n",
    "\n",
    "plt.xlim(2500000, 25000000)\n",
    "plt.ylim(-2, 20)\n",
    "plt.grid();\n",
    "\n"
   ]
  },
  {
   "cell_type": "code",
   "execution_count": null,
   "metadata": {},
   "outputs": [],
   "source": []
  },
  {
   "cell_type": "code",
   "execution_count": 36,
   "metadata": {},
   "outputs": [
    {
     "data": {
      "text/plain": [
       "985"
      ]
     },
     "execution_count": 36,
     "metadata": {},
     "output_type": "execute_result"
    }
   ],
   "source": [
    "num_movies_5_to_25_with_neg_return_dom = relevant_movies[(relevant_movies['production_budget'] >= 5000000) & (relevant_movies['production_budget'] <= 25000000) & (relevant_movies['domestic_roi'] <= 0)].shape[0]\n",
    "num_movies_5_to_25_with_neg_return_dom\n"
   ]
  },
  {
   "cell_type": "code",
   "execution_count": null,
   "metadata": {},
   "outputs": [],
   "source": []
  },
  {
   "cell_type": "code",
   "execution_count": 37,
   "metadata": {},
   "outputs": [
    {
     "data": {
      "text/plain": [
       "47.33301297453147"
      ]
     },
     "execution_count": 37,
     "metadata": {},
     "output_type": "execute_result"
    }
   ],
   "source": [
    "per_movies_5_to_25_with_neg_return_dom = (num_movies_5_to_25_with_neg_return_dom/(num_movies_5_to_25_with_neg_return_dom + (relevant_movies[(relevant_movies['production_budget'] >= 5000000) & (relevant_movies['production_budget'] <= 25000000) & (relevant_movies['domestic_roi'] > 0)].shape[0]))) * 100\n",
    "per_movies_5_to_25_with_neg_return_dom"
   ]
  },
  {
   "cell_type": "code",
   "execution_count": null,
   "metadata": {},
   "outputs": [],
   "source": []
  },
  {
   "cell_type": "code",
   "execution_count": 38,
   "metadata": {},
   "outputs": [
    {
     "data": {
      "image/png": "[encoded data removed]",
      "text/plain": [
       "<Figure size 1152x576 with 1 Axes>"
      ]
     },
     "metadata": {
      "needs_background": "light"
     },
     "output_type": "display_data"
    }
   ],
   "source": [
    "# Segment of Production Budget vs. Domestic ROI where production budget is between 25 and 50 million dollars.\n",
    "\n",
    "fig, ax = plt.subplots(figsize = (16,8))\n",
    "\n",
    "X = relevant_movies['production_budget']\n",
    "\n",
    "Y = relevant_movies['domestic_roi']\n",
    "\n",
    "ax.scatter(X, Y)\n",
    "ax.set_title('Production Budget vs. Domestic ROI')\n",
    "ax.set_xlabel('Production Budget')\n",
    "ax.set_ylabel('Domestic ROI')\n",
    "ynew = 0\n",
    "ax.axhline(ynew, color = 'r', linestyle = \"-\", linewidth = \"2\")\n",
    "\n",
    "plt.xlim(25000000, 50000000)\n",
    "plt.ylim(-2, 20)\n",
    "plt.grid();\n"
   ]
  },
  {
   "cell_type": "code",
   "execution_count": null,
   "metadata": {},
   "outputs": [],
   "source": []
  },
  {
   "cell_type": "code",
   "execution_count": 39,
   "metadata": {},
   "outputs": [
    {
     "data": {
      "text/plain": [
       "511"
      ]
     },
     "execution_count": 39,
     "metadata": {},
     "output_type": "execute_result"
    }
   ],
   "source": [
    "num_movies_25_to_50_with_neg_return_dom = relevant_movies[(relevant_movies['production_budget'] > 25000000) & (relevant_movies['production_budget'] <= 50000000) & (relevant_movies['domestic_roi'] <= 0)].shape[0]\n",
    "num_movies_25_to_50_with_neg_return_dom"
   ]
  },
  {
   "cell_type": "code",
   "execution_count": null,
   "metadata": {},
   "outputs": [],
   "source": []
  },
  {
   "cell_type": "code",
   "execution_count": 40,
   "metadata": {},
   "outputs": [
    {
     "data": {
      "text/plain": [
       "48.899521531100476"
      ]
     },
     "execution_count": 40,
     "metadata": {},
     "output_type": "execute_result"
    }
   ],
   "source": [
    "per_movies_25_to_50_with_neg_return_dom = (num_movies_25_to_50_with_neg_return_dom/(num_movies_25_to_50_with_neg_return_dom + (relevant_movies[(relevant_movies['production_budget'] > 25000000) & (relevant_movies['production_budget'] <= 50000000) & (relevant_movies['domestic_roi'] > 0)].shape[0]))) * 100\n",
    "per_movies_25_to_50_with_neg_return_dom"
   ]
  },
  {
   "cell_type": "code",
   "execution_count": null,
   "metadata": {},
   "outputs": [],
   "source": []
  },
  {
   "cell_type": "code",
   "execution_count": 41,
   "metadata": {},
   "outputs": [
    {
     "data": {
      "image/png": "[encoded data removed]",
      "text/plain": [
       "<Figure size 1152x576 with 1 Axes>"
      ]
     },
     "metadata": {
      "needs_background": "light"
     },
     "output_type": "display_data"
    }
   ],
   "source": [
    "# Segment of Production Budget vs. Domestic ROI where production budget is between 50 and 75 million dollars.\n",
    "\n",
    "fig, ax = plt.subplots(figsize = (16,8))\n",
    "\n",
    "X = relevant_movies['production_budget']\n",
    "\n",
    "Y = relevant_movies['domestic_roi']\n",
    "\n",
    "ax.scatter(X, Y)\n",
    "ax.set_title('Production Budget vs. Domestic ROI')\n",
    "ax.set_xlabel('Production Budget')\n",
    "ax.set_ylabel('Domestic ROI')\n",
    "ynew = 0\n",
    "ax.axhline(ynew, color = 'r', linestyle = \"-\", linewidth = \"2\")\n",
    "\n",
    "plt.xlim(50000000, 75000000)\n",
    "plt.ylim(-2, 20)\n",
    "plt.grid();\n"
   ]
  },
  {
   "cell_type": "code",
   "execution_count": null,
   "metadata": {},
   "outputs": [],
   "source": []
  },
  {
   "cell_type": "code",
   "execution_count": 42,
   "metadata": {},
   "outputs": [
    {
     "data": {
      "text/plain": [
       "248"
      ]
     },
     "execution_count": 42,
     "metadata": {},
     "output_type": "execute_result"
    }
   ],
   "source": [
    "num_movies_50_to_75_with_neg_return_dom = relevant_movies[(relevant_movies['production_budget'] > 50000000) & (relevant_movies['production_budget'] <= 75000000) & (relevant_movies['domestic_roi'] <= 0)].shape[0]\n",
    "num_movies_50_to_75_with_neg_return_dom"
   ]
  },
  {
   "cell_type": "code",
   "execution_count": null,
   "metadata": {},
   "outputs": [],
   "source": []
  },
  {
   "cell_type": "code",
   "execution_count": 43,
   "metadata": {},
   "outputs": [
    {
     "data": {
      "text/plain": [
       "54.988913525498894"
      ]
     },
     "execution_count": 43,
     "metadata": {},
     "output_type": "execute_result"
    }
   ],
   "source": [
    "per_movies_50_to_75_with_neg_return_dom = (num_movies_50_to_75_with_neg_return_dom/(num_movies_50_to_75_with_neg_return_dom + (relevant_movies[(relevant_movies['production_budget'] > 50000000) & (relevant_movies['production_budget'] <= 75000000) & (relevant_movies['domestic_roi'] > 0)].shape[0]))) * 100\n",
    "per_movies_50_to_75_with_neg_return_dom"
   ]
  },
  {
   "cell_type": "code",
   "execution_count": null,
   "metadata": {},
   "outputs": [],
   "source": []
  },
  {
   "cell_type": "code",
   "execution_count": 44,
   "metadata": {},
   "outputs": [
    {
     "data": {
      "image/png": "[encoded data removed]",
      "text/plain": [
       "<Figure size 1152x576 with 1 Axes>"
      ]
     },
     "metadata": {
      "needs_background": "light"
     },
     "output_type": "display_data"
    }
   ],
   "source": [
    "# Segment of Production Budget vs. Domestic ROI where production budget is between 75 and 100 million dollars.\n",
    "\n",
    "fig, ax = plt.subplots(figsize = (16,8))\n",
    "\n",
    "X = relevant_movies['production_budget']\n",
    "\n",
    "Y = relevant_movies['domestic_roi']\n",
    "\n",
    "ax.scatter(X, Y)\n",
    "ax.set_title('Production Budget vs. Domestic ROI')\n",
    "ax.set_xlabel('Production Budget')\n",
    "ax.set_ylabel('Domestic ROI')\n",
    "ynew = 0\n",
    "ax.axhline(ynew, color = 'r', linestyle = \"-\", linewidth = \"2\")\n",
    "\n",
    "plt.xlim(75000000, 100000000)\n",
    "plt.ylim(-2, 20)\n",
    "plt.grid();\n",
    "\n"
   ]
  },
  {
   "cell_type": "code",
   "execution_count": null,
   "metadata": {},
   "outputs": [],
   "source": []
  },
  {
   "cell_type": "code",
   "execution_count": 45,
   "metadata": {},
   "outputs": [
    {
     "data": {
      "text/plain": [
       "137"
      ]
     },
     "execution_count": 45,
     "metadata": {},
     "output_type": "execute_result"
    }
   ],
   "source": [
    "num_movies_75_to_100_with_neg_return_dom = relevant_movies[(relevant_movies['production_budget'] > 75000000) & (relevant_movies['production_budget'] <= 100000000) & (relevant_movies['domestic_roi'] <= 0)].shape[0]\n",
    "num_movies_75_to_100_with_neg_return_dom\n"
   ]
  },
  {
   "cell_type": "code",
   "execution_count": null,
   "metadata": {},
   "outputs": [],
   "source": []
  },
  {
   "cell_type": "code",
   "execution_count": 46,
   "metadata": {},
   "outputs": [
    {
     "data": {
      "text/plain": [
       "53.30739299610895"
      ]
     },
     "execution_count": 46,
     "metadata": {},
     "output_type": "execute_result"
    }
   ],
   "source": [
    "per_movies_75_to_100_with_neg_return_dom = (num_movies_75_to_100_with_neg_return_dom/(num_movies_75_to_100_with_neg_return_dom + (relevant_movies[(relevant_movies['production_budget'] > 75000000) & (relevant_movies['production_budget'] <= 100000000) & (relevant_movies['domestic_roi'] > 0)].shape[0]))) * 100\n",
    "per_movies_75_to_100_with_neg_return_dom"
   ]
  },
  {
   "cell_type": "code",
   "execution_count": null,
   "metadata": {},
   "outputs": [],
   "source": []
  },
  {
   "cell_type": "code",
   "execution_count": 47,
   "metadata": {},
   "outputs": [
    {
     "data": {
      "image/png": "[encoded data removed]",
      "text/plain": [
       "<Figure size 1152x576 with 1 Axes>"
      ]
     },
     "metadata": {
      "needs_background": "light"
     },
     "output_type": "display_data"
    }
   ],
   "source": [
    "# Segment of Production Budget vs. Domestic ROI where production budget is between 100 and 200 million dollars.\n",
    "\n",
    "fig, ax = plt.subplots(figsize = (16,8))\n",
    "\n",
    "X = relevant_movies['production_budget']\n",
    "\n",
    "Y = relevant_movies['domestic_roi']\n",
    "\n",
    "ax.scatter(X, Y)\n",
    "ax.set_title('Production Budget vs. Domestic ROI')\n",
    "ax.set_xlabel('Production Budget')\n",
    "ax.set_ylabel('Domestic ROI')\n",
    "ynew = 0\n",
    "ax.axhline(ynew, color = 'r', linestyle = \"-\", linewidth = \"2\")\n",
    "\n",
    "plt.xlim(100000000, 200000000)\n",
    "plt.ylim(-2, 20)\n",
    "plt.grid();"
   ]
  },
  {
   "cell_type": "code",
   "execution_count": null,
   "metadata": {},
   "outputs": [],
   "source": []
  },
  {
   "cell_type": "code",
   "execution_count": 48,
   "metadata": {},
   "outputs": [
    {
     "data": {
      "text/plain": [
       "161"
      ]
     },
     "execution_count": 48,
     "metadata": {},
     "output_type": "execute_result"
    }
   ],
   "source": [
    "num_movies_100_to_200_with_neg_return_dom = relevant_movies[(relevant_movies['production_budget'] > 100000000) & (relevant_movies['production_budget'] <= 200000000) & (relevant_movies['domestic_roi'] <= 0)].shape[0]\n",
    "num_movies_100_to_200_with_neg_return_dom"
   ]
  },
  {
   "cell_type": "code",
   "execution_count": null,
   "metadata": {},
   "outputs": [],
   "source": []
  },
  {
   "cell_type": "code",
   "execution_count": 49,
   "metadata": {},
   "outputs": [
    {
     "data": {
      "text/plain": [
       "50.155763239875384"
      ]
     },
     "execution_count": 49,
     "metadata": {},
     "output_type": "execute_result"
    }
   ],
   "source": [
    "per_movies_100_to_200_with_neg_return_dom = (num_movies_100_to_200_with_neg_return_dom/(num_movies_100_to_200_with_neg_return_dom + (relevant_movies[(relevant_movies['production_budget'] > 100000000) & (relevant_movies['production_budget'] <= 200000000) & (relevant_movies['domestic_roi'] > 0)].shape[0]))) * 100\n",
    "per_movies_100_to_200_with_neg_return_dom"
   ]
  },
  {
   "cell_type": "code",
   "execution_count": null,
   "metadata": {},
   "outputs": [],
   "source": []
  },
  {
   "cell_type": "code",
   "execution_count": 50,
   "metadata": {},
   "outputs": [
    {
     "data": {
      "image/png": "[encoded data removed]",
      "text/plain": [
       "<Figure size 1152x576 with 1 Axes>"
      ]
     },
     "metadata": {
      "needs_background": "light"
     },
     "output_type": "display_data"
    }
   ],
   "source": [
    "# Segment of Production Budget vs. Domestic ROI where production budget is between 200 and 300 million dollars.\n",
    "\n",
    "fig, ax = plt.subplots(figsize = (16,8))\n",
    "\n",
    "X = relevant_movies['production_budget']\n",
    "\n",
    "Y = relevant_movies['domestic_roi']\n",
    "\n",
    "ax.scatter(X, Y)\n",
    "ax.set_title('Production Budget vs. Domestic ROI')\n",
    "ax.set_xlabel('Production Budget')\n",
    "ax.set_ylabel('Domestic ROI')\n",
    "ynew = 0\n",
    "ax.axhline(ynew, color = 'r', linestyle = \"-\", linewidth = \"2\")\n",
    "\n",
    "plt.xlim(200000000, 300000000)\n",
    "plt.ylim(-2, 20)\n",
    "plt.grid();"
   ]
  },
  {
   "cell_type": "code",
   "execution_count": null,
   "metadata": {},
   "outputs": [],
   "source": []
  },
  {
   "cell_type": "code",
   "execution_count": 51,
   "metadata": {},
   "outputs": [
    {
     "data": {
      "text/plain": [
       "16"
      ]
     },
     "execution_count": 51,
     "metadata": {},
     "output_type": "execute_result"
    }
   ],
   "source": [
    "num_movies_200_to_300_with_neg_return_dom = relevant_movies[(relevant_movies['production_budget'] > 200000000) & (relevant_movies['production_budget'] <= 300000000) & (relevant_movies['domestic_roi'] <= 0)].shape[0]\n",
    "num_movies_200_to_300_with_neg_return_dom"
   ]
  },
  {
   "cell_type": "code",
   "execution_count": null,
   "metadata": {},
   "outputs": [],
   "source": []
  },
  {
   "cell_type": "code",
   "execution_count": 52,
   "metadata": {},
   "outputs": [
    {
     "data": {
      "text/plain": [
       "45.714285714285715"
      ]
     },
     "execution_count": 52,
     "metadata": {},
     "output_type": "execute_result"
    }
   ],
   "source": [
    "per_movies_200_to_300_with_neg_return_dom = (num_movies_200_to_300_with_neg_return_dom/(num_movies_200_to_300_with_neg_return_dom + (relevant_movies[(relevant_movies['production_budget'] > 200000000) & (relevant_movies['production_budget'] <= 300000000) & (relevant_movies['domestic_roi'] > 0)].shape[0]))) * 100\n",
    "per_movies_200_to_300_with_neg_return_dom"
   ]
  },
  {
   "cell_type": "code",
   "execution_count": null,
   "metadata": {},
   "outputs": [],
   "source": []
  },
  {
   "cell_type": "code",
   "execution_count": 53,
   "metadata": {},
   "outputs": [
    {
     "data": {
      "image/png": "[encoded data removed]",
      "text/plain": [
       "<Figure size 1152x576 with 1 Axes>"
      ]
     },
     "metadata": {
      "needs_background": "light"
     },
     "output_type": "display_data"
    }
   ],
   "source": [
    "# Segment of Production Budget vs. Domestic ROI where production budget is between 300 and 400 million dollars.\n",
    "\n",
    "fig, ax = plt.subplots(figsize = (16,8))\n",
    "\n",
    "X = relevant_movies['production_budget']\n",
    "\n",
    "Y = relevant_movies['domestic_roi']\n",
    "\n",
    "ax.scatter(X, Y)\n",
    "ax.set_title('Production Budget vs. Domestic ROI')\n",
    "ax.set_xlabel('Production Budget')\n",
    "ax.set_ylabel('Domestic ROI')\n",
    "ynew = 0\n",
    "ax.axhline(ynew, color = 'r', linestyle = \"-\", linewidth = \"2\")\n",
    "\n",
    "plt.xlim(300000000, 400000000)\n",
    "plt.ylim(-2, 20)\n",
    "plt.grid();"
   ]
  },
  {
   "cell_type": "code",
   "execution_count": null,
   "metadata": {},
   "outputs": [],
   "source": []
  },
  {
   "cell_type": "code",
   "execution_count": 54,
   "metadata": {},
   "outputs": [
    {
     "data": {
      "text/plain": [
       "1"
      ]
     },
     "execution_count": 54,
     "metadata": {},
     "output_type": "execute_result"
    }
   ],
   "source": [
    "num_movies_300_to_400_with_neg_return_dom = relevant_movies[(relevant_movies['production_budget'] > 300000000) & (relevant_movies['production_budget'] <= 400000000) & (relevant_movies['domestic_roi'] <= 0)].shape[0]\n",
    "num_movies_300_to_400_with_neg_return_dom"
   ]
  },
  {
   "cell_type": "code",
   "execution_count": null,
   "metadata": {},
   "outputs": [],
   "source": []
  },
  {
   "cell_type": "code",
   "execution_count": 55,
   "metadata": {},
   "outputs": [
    {
     "data": {
      "text/plain": [
       "25.0"
      ]
     },
     "execution_count": 55,
     "metadata": {},
     "output_type": "execute_result"
    }
   ],
   "source": [
    "per_movies_300_to_400_with_neg_return_dom = (num_movies_300_to_400_with_neg_return_dom/(num_movies_300_to_400_with_neg_return_dom + (relevant_movies[(relevant_movies['production_budget'] > 300000000) & (relevant_movies['production_budget'] <= 400000000) & (relevant_movies['domestic_roi'] > 0)].shape[0]))) * 100\n",
    "per_movies_300_to_400_with_neg_return_dom"
   ]
  },
  {
   "cell_type": "code",
   "execution_count": null,
   "metadata": {},
   "outputs": [],
   "source": []
  },
  {
   "cell_type": "code",
   "execution_count": 56,
   "metadata": {},
   "outputs": [
    {
     "data": {
      "image/png": "[encoded data removed]",
      "text/plain": [
       "<Figure size 1152x576 with 1 Axes>"
      ]
     },
     "metadata": {
      "needs_background": "light"
     },
     "output_type": "display_data"
    }
   ],
   "source": [
    "# Segment of Production Budget vs. Worldwide ROI where production budget is between 5 and 25 million dollars.\n",
    "\n",
    "fig, ax = plt.subplots(figsize = (16,8))\n",
    "\n",
    "X = relevant_movies['production_budget']\n",
    "\n",
    "Y = relevant_movies['worldwide_roi']\n",
    "\n",
    "ax.scatter(X, Y)\n",
    "ax.set_title('Production Budget vs. Worldwide ROI')\n",
    "ax.set_xlabel('Production Budget')\n",
    "ax.set_ylabel('Worldwide ROI')\n",
    "ynew = 0\n",
    "ax.axhline(ynew, color = 'r', linestyle = \"-\", linewidth = \"2\")\n",
    "\n",
    "plt.xlim(2500000, 25000000)\n",
    "plt.ylim(-5, 20)\n",
    "plt.grid();\n",
    "\n"
   ]
  },
  {
   "cell_type": "code",
   "execution_count": null,
   "metadata": {},
   "outputs": [],
   "source": []
  },
  {
   "cell_type": "code",
   "execution_count": 57,
   "metadata": {},
   "outputs": [
    {
     "data": {
      "text/plain": [
       "726"
      ]
     },
     "execution_count": 57,
     "metadata": {},
     "output_type": "execute_result"
    }
   ],
   "source": [
    "num_movies_5_to_25_with_neg_return_ww = relevant_movies[(relevant_movies['production_budget'] >= 5000000) & (relevant_movies['production_budget'] <= 25000000) & (relevant_movies['worldwide_roi'] <= 0)].shape[0]\n",
    "num_movies_5_to_25_with_neg_return_ww"
   ]
  },
  {
   "cell_type": "code",
   "execution_count": null,
   "metadata": {},
   "outputs": [],
   "source": []
  },
  {
   "cell_type": "code",
   "execution_count": 58,
   "metadata": {},
   "outputs": [
    {
     "data": {
      "text/plain": [
       "34.88707352234503"
      ]
     },
     "execution_count": 58,
     "metadata": {},
     "output_type": "execute_result"
    }
   ],
   "source": [
    "per_movies_5_to_25_with_neg_return_ww = (num_movies_5_to_25_with_neg_return_ww/(num_movies_5_to_25_with_neg_return_ww + (relevant_movies[(relevant_movies['production_budget'] >= 5000000) & (relevant_movies['production_budget'] <= 25000000) & (relevant_movies['worldwide_roi'] > 0)].shape[0]))) * 100\n",
    "per_movies_5_to_25_with_neg_return_ww"
   ]
  },
  {
   "cell_type": "code",
   "execution_count": null,
   "metadata": {},
   "outputs": [],
   "source": []
  },
  {
   "cell_type": "code",
   "execution_count": 59,
   "metadata": {},
   "outputs": [
    {
     "data": {
      "image/png": "[encoded data removed]",
      "text/plain": [
       "<Figure size 1152x576 with 1 Axes>"
      ]
     },
     "metadata": {
      "needs_background": "light"
     },
     "output_type": "display_data"
    }
   ],
   "source": [
    "# Segment of Production Budget vs. Worldwide ROI where production budget is between 25 and 50 million dollars.\n",
    "\n",
    "fig, ax = plt.subplots(figsize = (16,8))\n",
    "\n",
    "X = relevant_movies['production_budget']\n",
    "\n",
    "Y = relevant_movies['worldwide_roi']\n",
    "\n",
    "ax.scatter(X, Y)\n",
    "ax.set_title('Production Budget vs. Worldwide ROI')\n",
    "ax.set_xlabel('Production Budget')\n",
    "ax.set_ylabel('Worldwide ROI')\n",
    "ynew = 0\n",
    "ax.axhline(ynew, color = 'r', linestyle = \"-\", linewidth = \"2\")\n",
    "\n",
    "plt.xlim(25000000, 50000000)\n",
    "plt.ylim(-5, 20)\n",
    "plt.grid();\n",
    "\n"
   ]
  },
  {
   "cell_type": "code",
   "execution_count": null,
   "metadata": {},
   "outputs": [],
   "source": []
  },
  {
   "cell_type": "code",
   "execution_count": 60,
   "metadata": {},
   "outputs": [
    {
     "data": {
      "text/plain": [
       "317"
      ]
     },
     "execution_count": 60,
     "metadata": {},
     "output_type": "execute_result"
    }
   ],
   "source": [
    "num_movies_25_to_50_with_neg_return_ww = relevant_movies[(relevant_movies['production_budget'] > 25000000) & (relevant_movies['production_budget'] <= 50000000) & (relevant_movies['worldwide_roi'] <= 0)].shape[0]\n",
    "num_movies_25_to_50_with_neg_return_ww"
   ]
  },
  {
   "cell_type": "code",
   "execution_count": null,
   "metadata": {},
   "outputs": [],
   "source": []
  },
  {
   "cell_type": "code",
   "execution_count": 61,
   "metadata": {},
   "outputs": [
    {
     "data": {
      "text/plain": [
       "30.33492822966507"
      ]
     },
     "execution_count": 61,
     "metadata": {},
     "output_type": "execute_result"
    }
   ],
   "source": [
    "per_movies_25_to_50_with_neg_return_ww = (num_movies_25_to_50_with_neg_return_ww/(num_movies_25_to_50_with_neg_return_ww + (relevant_movies[(relevant_movies['production_budget'] > 25000000) & (relevant_movies['production_budget'] <= 50000000) & (relevant_movies['worldwide_roi'] > 0)].shape[0]))) * 100\n",
    "per_movies_25_to_50_with_neg_return_ww"
   ]
  },
  {
   "cell_type": "code",
   "execution_count": null,
   "metadata": {},
   "outputs": [],
   "source": []
  },
  {
   "cell_type": "code",
   "execution_count": 62,
   "metadata": {},
   "outputs": [
    {
     "data": {
      "image/png": "[encoded data removed]",
      "text/plain": [
       "<Figure size 1152x576 with 1 Axes>"
      ]
     },
     "metadata": {
      "needs_background": "light"
     },
     "output_type": "display_data"
    }
   ],
   "source": [
    "# Segment of Production Budget vs. Worldwide ROI where production budget is between 50 and 75 million dollars.\n",
    "\n",
    "fig, ax = plt.subplots(figsize = (16,8))\n",
    "\n",
    "X = relevant_movies['production_budget']\n",
    "\n",
    "Y = relevant_movies['worldwide_roi']\n",
    "\n",
    "ax.scatter(X, Y)\n",
    "ax.set_title('Production Budget vs. Worldwide ROI')\n",
    "ax.set_xlabel('Production Budget')\n",
    "ax.set_ylabel('Worldwide ROI')\n",
    "ynew = 0\n",
    "ax.axhline(ynew, color = 'r', linestyle = \"-\", linewidth = \"2\")\n",
    "\n",
    "plt.xlim(50000000, 75000000)\n",
    "plt.ylim(-5, 20)\n",
    "plt.grid();\n"
   ]
  },
  {
   "cell_type": "code",
   "execution_count": null,
   "metadata": {},
   "outputs": [],
   "source": []
  },
  {
   "cell_type": "code",
   "execution_count": 63,
   "metadata": {},
   "outputs": [
    {
     "data": {
      "text/plain": [
       "115"
      ]
     },
     "execution_count": 63,
     "metadata": {},
     "output_type": "execute_result"
    }
   ],
   "source": [
    "num_movies_50_to_75_with_neg_return_ww = relevant_movies[(relevant_movies['production_budget'] > 50000000) & (relevant_movies['production_budget'] <= 75000000) & (relevant_movies['worldwide_roi'] <= 0)].shape[0]\n",
    "num_movies_50_to_75_with_neg_return_ww"
   ]
  },
  {
   "cell_type": "code",
   "execution_count": null,
   "metadata": {},
   "outputs": [],
   "source": []
  },
  {
   "cell_type": "code",
   "execution_count": 64,
   "metadata": {},
   "outputs": [
    {
     "data": {
      "text/plain": [
       "25.49889135254989"
      ]
     },
     "execution_count": 64,
     "metadata": {},
     "output_type": "execute_result"
    }
   ],
   "source": [
    "per_movies_50_to_75_with_neg_return_ww = (num_movies_50_to_75_with_neg_return_ww/(num_movies_50_to_75_with_neg_return_ww + (relevant_movies[(relevant_movies['production_budget'] > 50000000) & (relevant_movies['production_budget'] <= 75000000) & (relevant_movies['worldwide_roi'] > 0)].shape[0]))) * 100\n",
    "per_movies_50_to_75_with_neg_return_ww"
   ]
  },
  {
   "cell_type": "code",
   "execution_count": null,
   "metadata": {},
   "outputs": [],
   "source": []
  },
  {
   "cell_type": "code",
   "execution_count": 65,
   "metadata": {},
   "outputs": [
    {
     "data": {
      "image/png": "[encoded data removed]",
      "text/plain": [
       "<Figure size 1152x576 with 1 Axes>"
      ]
     },
     "metadata": {
      "needs_background": "light"
     },
     "output_type": "display_data"
    }
   ],
   "source": [
    "# Segment of Production Budget vs. Worldwide ROI where production budget is between 75 and 100 million dollars.\n",
    "\n",
    "fig, ax = plt.subplots(figsize = (16,8))\n",
    "\n",
    "X = relevant_movies['production_budget']\n",
    "\n",
    "Y = relevant_movies['worldwide_roi']\n",
    "\n",
    "ax.scatter(X, Y)\n",
    "ax.set_title('Production Budget vs. Worldwide ROI')\n",
    "ax.set_xlabel('Production Budget')\n",
    "ax.set_ylabel('Worldwide ROI')\n",
    "ynew = 0\n",
    "ax.axhline(ynew, color = 'r', linestyle = \"-\", linewidth = \"2\")\n",
    "\n",
    "plt.xlim(75000000, 100000000)\n",
    "plt.ylim(-5, 20)\n",
    "plt.grid();\n"
   ]
  },
  {
   "cell_type": "code",
   "execution_count": null,
   "metadata": {},
   "outputs": [],
   "source": []
  },
  {
   "cell_type": "code",
   "execution_count": 66,
   "metadata": {},
   "outputs": [
    {
     "data": {
      "text/plain": [
       "49"
      ]
     },
     "execution_count": 66,
     "metadata": {},
     "output_type": "execute_result"
    }
   ],
   "source": [
    "num_movies_75_to_100_with_neg_return_ww = relevant_movies[(relevant_movies['production_budget'] > 75000000) & (relevant_movies['production_budget'] <= 100000000) & (relevant_movies['worldwide_roi'] <= 0)].shape[0]\n",
    "num_movies_75_to_100_with_neg_return_ww"
   ]
  },
  {
   "cell_type": "code",
   "execution_count": null,
   "metadata": {},
   "outputs": [],
   "source": []
  },
  {
   "cell_type": "code",
   "execution_count": 67,
   "metadata": {},
   "outputs": [
    {
     "data": {
      "text/plain": [
       "19.06614785992218"
      ]
     },
     "execution_count": 67,
     "metadata": {},
     "output_type": "execute_result"
    }
   ],
   "source": [
    "per_movies_75_to_100_with_neg_return_ww = (num_movies_75_to_100_with_neg_return_ww/(num_movies_75_to_100_with_neg_return_ww + (relevant_movies[(relevant_movies['production_budget'] > 75000000) & (relevant_movies['production_budget'] <= 100000000) & (relevant_movies['worldwide_roi'] > 0)].shape[0]))) * 100\n",
    "per_movies_75_to_100_with_neg_return_ww"
   ]
  },
  {
   "cell_type": "code",
   "execution_count": null,
   "metadata": {},
   "outputs": [],
   "source": []
  },
  {
   "cell_type": "code",
   "execution_count": 68,
   "metadata": {},
   "outputs": [
    {
     "data": {
      "image/png": "[encoded data removed]",
      "text/plain": [
       "<Figure size 1152x576 with 1 Axes>"
      ]
     },
     "metadata": {
      "needs_background": "light"
     },
     "output_type": "display_data"
    }
   ],
   "source": [
    "# Segment of Production Budget vs. Worldwide ROI where production budget is between 100 and 200 million dollars.\n",
    "\n",
    "fig, ax = plt.subplots(figsize = (16,8))\n",
    "\n",
    "X = relevant_movies['production_budget']\n",
    "\n",
    "Y = relevant_movies['worldwide_roi']\n",
    "\n",
    "ax.scatter(X, Y)\n",
    "ax.set_title('Production Budget vs. Worldwide ROI')\n",
    "ax.set_xlabel('Production Budget')\n",
    "ax.set_ylabel('Worldwide ROI')\n",
    "ynew = 0\n",
    "ax.axhline(ynew, color = 'r', linestyle = \"-\", linewidth = \"2\")\n",
    "\n",
    "plt.xlim(100000000, 200000000)\n",
    "plt.ylim(-5, 20)\n",
    "plt.grid();\n"
   ]
  },
  {
   "cell_type": "code",
   "execution_count": null,
   "metadata": {},
   "outputs": [],
   "source": []
  },
  {
   "cell_type": "code",
   "execution_count": 69,
   "metadata": {},
   "outputs": [
    {
     "data": {
      "text/plain": [
       "22"
      ]
     },
     "execution_count": 69,
     "metadata": {},
     "output_type": "execute_result"
    }
   ],
   "source": [
    "num_movies_100_to_200_with_neg_return_ww = relevant_movies[(relevant_movies['production_budget'] > 100000000) & (relevant_movies['production_budget'] <= 200000000) & (relevant_movies['worldwide_roi'] <= 0)].shape[0]\n",
    "num_movies_100_to_200_with_neg_return_ww"
   ]
  },
  {
   "cell_type": "code",
   "execution_count": null,
   "metadata": {},
   "outputs": [],
   "source": []
  },
  {
   "cell_type": "code",
   "execution_count": 70,
   "metadata": {},
   "outputs": [
    {
     "data": {
      "text/plain": [
       "6.853582554517133"
      ]
     },
     "execution_count": 70,
     "metadata": {},
     "output_type": "execute_result"
    }
   ],
   "source": [
    "per_movies_100_to_200_with_neg_return_ww = (num_movies_100_to_200_with_neg_return_ww/(num_movies_100_to_200_with_neg_return_ww + (relevant_movies[(relevant_movies['production_budget'] > 100000000) & (relevant_movies['production_budget'] <= 200000000) & (relevant_movies['worldwide_roi'] > 0)].shape[0]))) * 100\n",
    "per_movies_100_to_200_with_neg_return_ww"
   ]
  },
  {
   "cell_type": "code",
   "execution_count": null,
   "metadata": {},
   "outputs": [],
   "source": []
  },
  {
   "cell_type": "code",
   "execution_count": 71,
   "metadata": {},
   "outputs": [
    {
     "data": {
      "image/png": "[encoded data removed]",
      "text/plain": [
       "<Figure size 1152x576 with 1 Axes>"
      ]
     },
     "metadata": {
      "needs_background": "light"
     },
     "output_type": "display_data"
    }
   ],
   "source": [
    "# Segment of Production Budget vs. Worldwide ROI where production budget is between 200 and 300 million dollars.\n",
    "\n",
    "fig, ax = plt.subplots(figsize = (16,8))\n",
    "\n",
    "X = relevant_movies['production_budget']\n",
    "\n",
    "Y = relevant_movies['worldwide_roi']\n",
    "\n",
    "ax.scatter(X, Y)\n",
    "ax.set_title('Production Budget vs. Worldwide ROI')\n",
    "ax.set_xlabel('Production Budget')\n",
    "ax.set_ylabel('Worldwide ROI')\n",
    "ynew = 0\n",
    "ax.axhline(ynew, color = 'r', linestyle = \"-\", linewidth = \"2\")\n",
    "\n",
    "plt.xlim(200000000, 300000000)\n",
    "plt.ylim(-5, 20)\n",
    "plt.grid();"
   ]
  },
  {
   "cell_type": "code",
   "execution_count": null,
   "metadata": {},
   "outputs": [],
   "source": []
  },
  {
   "cell_type": "code",
   "execution_count": 72,
   "metadata": {},
   "outputs": [
    {
     "data": {
      "text/plain": [
       "1"
      ]
     },
     "execution_count": 72,
     "metadata": {},
     "output_type": "execute_result"
    }
   ],
   "source": [
    "num_movies_200_to_300_with_neg_return_ww = relevant_movies[(relevant_movies['production_budget'] > 200000000) & (relevant_movies['production_budget'] <= 300000000) & (relevant_movies['worldwide_roi'] <= 0)].shape[0]\n",
    "num_movies_200_to_300_with_neg_return_ww"
   ]
  },
  {
   "cell_type": "code",
   "execution_count": null,
   "metadata": {},
   "outputs": [],
   "source": []
  },
  {
   "cell_type": "code",
   "execution_count": 73,
   "metadata": {},
   "outputs": [
    {
     "data": {
      "text/plain": [
       "2.857142857142857"
      ]
     },
     "execution_count": 73,
     "metadata": {},
     "output_type": "execute_result"
    }
   ],
   "source": [
    "per_movies_200_to_300_with_neg_return_ww = (num_movies_200_to_300_with_neg_return_ww/(num_movies_200_to_300_with_neg_return_ww + (relevant_movies[(relevant_movies['production_budget'] > 200000000) & (relevant_movies['production_budget'] <= 300000000) & (relevant_movies['worldwide_roi'] > 0)].shape[0]))) * 100\n",
    "per_movies_200_to_300_with_neg_return_ww"
   ]
  },
  {
   "cell_type": "code",
   "execution_count": null,
   "metadata": {},
   "outputs": [],
   "source": []
  },
  {
   "cell_type": "code",
   "execution_count": 74,
   "metadata": {},
   "outputs": [
    {
     "data": {
      "image/png": "[encoded data removed]",
      "text/plain": [
       "<Figure size 1152x576 with 1 Axes>"
      ]
     },
     "metadata": {
      "needs_background": "light"
     },
     "output_type": "display_data"
    }
   ],
   "source": [
    "# Segment of Production Budget vs. Worldwide ROI where production budget is between 200 and 300 million dollars.\n",
    "\n",
    "fig, ax = plt.subplots(figsize = (16,8))\n",
    "\n",
    "X = relevant_movies['production_budget']\n",
    "\n",
    "Y = relevant_movies['worldwide_roi']\n",
    "\n",
    "ax.scatter(X, Y)\n",
    "ax.set_title('Production Budget vs. Worldwide ROI')\n",
    "ax.set_xlabel('Production Budget')\n",
    "ax.set_ylabel('Worldwide ROI')\n",
    "ynew = 0\n",
    "ax.axhline(ynew, color = 'r', linestyle = \"-\", linewidth = \"2\")\n",
    "\n",
    "plt.xlim(300000000, 400000000)\n",
    "plt.ylim(-5, 20)\n",
    "plt.grid();"
   ]
  },
  {
   "cell_type": "code",
   "execution_count": null,
   "metadata": {},
   "outputs": [],
   "source": []
  },
  {
   "cell_type": "code",
   "execution_count": 75,
   "metadata": {},
   "outputs": [
    {
     "data": {
      "text/plain": [
       "1"
      ]
     },
     "execution_count": 75,
     "metadata": {},
     "output_type": "execute_result"
    }
   ],
   "source": [
    "num_movies_300_to_400_with_neg_return_ww = relevant_movies[(relevant_movies['production_budget'] > 300000000) & (relevant_movies['production_budget'] <= 400000000) & (relevant_movies['worldwide_roi'] <= 0)].shape[0]\n",
    "num_movies_300_to_400_with_neg_return_ww"
   ]
  },
  {
   "cell_type": "code",
   "execution_count": null,
   "metadata": {},
   "outputs": [],
   "source": []
  },
  {
   "cell_type": "code",
   "execution_count": 76,
   "metadata": {},
   "outputs": [
    {
     "data": {
      "text/plain": [
       "25.0"
      ]
     },
     "execution_count": 76,
     "metadata": {},
     "output_type": "execute_result"
    }
   ],
   "source": [
    "per_movies_300_to_400_with_neg_return_ww = (num_movies_300_to_400_with_neg_return_ww/(num_movies_300_to_400_with_neg_return_ww + (relevant_movies[(relevant_movies['production_budget'] > 300000000) & (relevant_movies['production_budget'] <= 400000000) & (relevant_movies['worldwide_roi'] > 0)].shape[0]))) * 100\n",
    "per_movies_300_to_400_with_neg_return_ww"
   ]
  },
  {
   "cell_type": "code",
   "execution_count": null,
   "metadata": {},
   "outputs": [],
   "source": []
  },
  {
   "cell_type": "code",
   "execution_count": 77,
   "metadata": {},
   "outputs": [
    {
     "data": {
      "text/html": [
       "<div>\n",
       "<style scoped>\n",
       "    .dataframe tbody tr th:only-of-type {\n",
       "        vertical-align: middle;\n",
       "    }\n",
       "\n",
       "    .dataframe tbody tr th {\n",
       "        vertical-align: top;\n",
       "    }\n",
       "\n",
       "    .dataframe thead th {\n",
       "        text-align: right;\n",
       "    }\n",
       "</style>\n",
       "<table border=\"1\" class=\"dataframe\">\n",
       "  <thead>\n",
       "    <tr style=\"text-align: right;\">\n",
       "      <th></th>\n",
       "      <th>id</th>\n",
       "      <th>release_date</th>\n",
       "      <th>movie</th>\n",
       "      <th>production_budget</th>\n",
       "      <th>domestic_gross</th>\n",
       "      <th>worldwide_gross</th>\n",
       "      <th>domestic_profit</th>\n",
       "      <th>worldwide_profit</th>\n",
       "      <th>domestic_roi</th>\n",
       "      <th>worldwide_roi</th>\n",
       "      <th>worldwide_profit_margin</th>\n",
       "      <th>domestic_profit_margin</th>\n",
       "      <th>month</th>\n",
       "      <th>year</th>\n",
       "    </tr>\n",
       "  </thead>\n",
       "  <tbody>\n",
       "    <tr>\n",
       "      <th>0</th>\n",
       "      <td>1</td>\n",
       "      <td>Dec 18, 2009</td>\n",
       "      <td>Avatar</td>\n",
       "      <td>425000000</td>\n",
       "      <td>760507625</td>\n",
       "      <td>2776345279</td>\n",
       "      <td>335507625</td>\n",
       "      <td>2351345279</td>\n",
       "      <td>0.789430</td>\n",
       "      <td>5.532577</td>\n",
       "      <td>0.846921</td>\n",
       "      <td>0.441163</td>\n",
       "      <td>12</td>\n",
       "      <td>2009</td>\n",
       "    </tr>\n",
       "    <tr>\n",
       "      <th>1</th>\n",
       "      <td>2</td>\n",
       "      <td>May 20, 2011</td>\n",
       "      <td>Pirates of the Caribbean: On Stranger Tides</td>\n",
       "      <td>410600000</td>\n",
       "      <td>241063875</td>\n",
       "      <td>1045663875</td>\n",
       "      <td>-169536125</td>\n",
       "      <td>635063875</td>\n",
       "      <td>-0.412899</td>\n",
       "      <td>1.546673</td>\n",
       "      <td>0.607331</td>\n",
       "      <td>-0.703283</td>\n",
       "      <td>5</td>\n",
       "      <td>2011</td>\n",
       "    </tr>\n",
       "    <tr>\n",
       "      <th>2</th>\n",
       "      <td>3</td>\n",
       "      <td>Jun 7, 2019</td>\n",
       "      <td>Dark Phoenix</td>\n",
       "      <td>350000000</td>\n",
       "      <td>42762350</td>\n",
       "      <td>149762350</td>\n",
       "      <td>-307237650</td>\n",
       "      <td>-200237650</td>\n",
       "      <td>-0.877822</td>\n",
       "      <td>-0.572108</td>\n",
       "      <td>-1.337036</td>\n",
       "      <td>-7.184770</td>\n",
       "      <td>6</td>\n",
       "      <td>2019</td>\n",
       "    </tr>\n",
       "    <tr>\n",
       "      <th>3</th>\n",
       "      <td>4</td>\n",
       "      <td>May 1, 2015</td>\n",
       "      <td>Avengers: Age of Ultron</td>\n",
       "      <td>330600000</td>\n",
       "      <td>459005868</td>\n",
       "      <td>1403013963</td>\n",
       "      <td>128405868</td>\n",
       "      <td>1072413963</td>\n",
       "      <td>0.388403</td>\n",
       "      <td>3.243841</td>\n",
       "      <td>0.764364</td>\n",
       "      <td>0.279748</td>\n",
       "      <td>5</td>\n",
       "      <td>2015</td>\n",
       "    </tr>\n",
       "    <tr>\n",
       "      <th>4</th>\n",
       "      <td>5</td>\n",
       "      <td>Dec 15, 2017</td>\n",
       "      <td>Star Wars Ep. VIII: The Last Jedi</td>\n",
       "      <td>317000000</td>\n",
       "      <td>620181382</td>\n",
       "      <td>1316721747</td>\n",
       "      <td>303181382</td>\n",
       "      <td>999721747</td>\n",
       "      <td>0.956408</td>\n",
       "      <td>3.153696</td>\n",
       "      <td>0.759251</td>\n",
       "      <td>0.488859</td>\n",
       "      <td>12</td>\n",
       "      <td>2017</td>\n",
       "    </tr>\n",
       "  </tbody>\n",
       "</table>\n",
       "</div>"
      ],
      "text/plain": [
       "   id  release_date                                        movie  \\\n",
       "0   1  Dec 18, 2009                                       Avatar   \n",
       "1   2  May 20, 2011  Pirates of the Caribbean: On Stranger Tides   \n",
       "2   3   Jun 7, 2019                                 Dark Phoenix   \n",
       "3   4   May 1, 2015                      Avengers: Age of Ultron   \n",
       "4   5  Dec 15, 2017            Star Wars Ep. VIII: The Last Jedi   \n",
       "\n",
       "   production_budget  domestic_gross  worldwide_gross  domestic_profit  \\\n",
       "0          425000000       760507625       2776345279        335507625   \n",
       "1          410600000       241063875       1045663875       -169536125   \n",
       "2          350000000        42762350        149762350       -307237650   \n",
       "3          330600000       459005868       1403013963        128405868   \n",
       "4          317000000       620181382       1316721747        303181382   \n",
       "\n",
       "   worldwide_profit  domestic_roi  worldwide_roi  worldwide_profit_margin  \\\n",
       "0        2351345279      0.789430       5.532577                 0.846921   \n",
       "1         635063875     -0.412899       1.546673                 0.607331   \n",
       "2        -200237650     -0.877822      -0.572108                -1.337036   \n",
       "3        1072413963      0.388403       3.243841                 0.764364   \n",
       "4         999721747      0.956408       3.153696                 0.759251   \n",
       "\n",
       "   domestic_profit_margin  month  year  \n",
       "0                0.441163     12  2009  \n",
       "1               -0.703283      5  2011  \n",
       "2               -7.184770      6  2019  \n",
       "3                0.279748      5  2015  \n",
       "4                0.488859     12  2017  "
      ]
     },
     "execution_count": 77,
     "metadata": {},
     "output_type": "execute_result"
    }
   ],
   "source": [
    "movie_budgets_df.head()"
   ]
  },
  {
   "cell_type": "code",
   "execution_count": null,
   "metadata": {},
   "outputs": [],
   "source": []
  },
  {
   "cell_type": "code",
   "execution_count": 78,
   "metadata": {},
   "outputs": [
    {
     "data": {
      "text/html": [
       "<div>\n",
       "<style scoped>\n",
       "    .dataframe tbody tr th:only-of-type {\n",
       "        vertical-align: middle;\n",
       "    }\n",
       "\n",
       "    .dataframe tbody tr th {\n",
       "        vertical-align: top;\n",
       "    }\n",
       "\n",
       "    .dataframe thead th {\n",
       "        text-align: right;\n",
       "    }\n",
       "</style>\n",
       "<table border=\"1\" class=\"dataframe\">\n",
       "  <thead>\n",
       "    <tr style=\"text-align: right;\">\n",
       "      <th></th>\n",
       "      <th>id</th>\n",
       "      <th>release_date</th>\n",
       "      <th>movie</th>\n",
       "      <th>production_budget</th>\n",
       "      <th>domestic_gross</th>\n",
       "      <th>worldwide_gross</th>\n",
       "      <th>domestic_profit</th>\n",
       "      <th>worldwide_profit</th>\n",
       "      <th>domestic_roi</th>\n",
       "      <th>worldwide_roi</th>\n",
       "      <th>worldwide_profit_margin</th>\n",
       "      <th>domestic_profit_margin</th>\n",
       "      <th>month</th>\n",
       "      <th>year</th>\n",
       "    </tr>\n",
       "  </thead>\n",
       "  <tbody>\n",
       "    <tr>\n",
       "      <th>0</th>\n",
       "      <td>1</td>\n",
       "      <td>Dec 18, 2009</td>\n",
       "      <td>Avatar</td>\n",
       "      <td>425000000</td>\n",
       "      <td>760507625</td>\n",
       "      <td>2776345279</td>\n",
       "      <td>335507625</td>\n",
       "      <td>2351345279</td>\n",
       "      <td>0.789430</td>\n",
       "      <td>5.532577</td>\n",
       "      <td>0.846921</td>\n",
       "      <td>0.441163</td>\n",
       "      <td>12</td>\n",
       "      <td>2009</td>\n",
       "    </tr>\n",
       "    <tr>\n",
       "      <th>1</th>\n",
       "      <td>2</td>\n",
       "      <td>May 20, 2011</td>\n",
       "      <td>Pirates of the Caribbean: On Stranger Tides</td>\n",
       "      <td>410600000</td>\n",
       "      <td>241063875</td>\n",
       "      <td>1045663875</td>\n",
       "      <td>-169536125</td>\n",
       "      <td>635063875</td>\n",
       "      <td>-0.412899</td>\n",
       "      <td>1.546673</td>\n",
       "      <td>0.607331</td>\n",
       "      <td>-0.703283</td>\n",
       "      <td>5</td>\n",
       "      <td>2011</td>\n",
       "    </tr>\n",
       "    <tr>\n",
       "      <th>2</th>\n",
       "      <td>3</td>\n",
       "      <td>Jun 7, 2019</td>\n",
       "      <td>Dark Phoenix</td>\n",
       "      <td>350000000</td>\n",
       "      <td>42762350</td>\n",
       "      <td>149762350</td>\n",
       "      <td>-307237650</td>\n",
       "      <td>-200237650</td>\n",
       "      <td>-0.877822</td>\n",
       "      <td>-0.572108</td>\n",
       "      <td>-1.337036</td>\n",
       "      <td>-7.184770</td>\n",
       "      <td>6</td>\n",
       "      <td>2019</td>\n",
       "    </tr>\n",
       "    <tr>\n",
       "      <th>3</th>\n",
       "      <td>4</td>\n",
       "      <td>May 1, 2015</td>\n",
       "      <td>Avengers: Age of Ultron</td>\n",
       "      <td>330600000</td>\n",
       "      <td>459005868</td>\n",
       "      <td>1403013963</td>\n",
       "      <td>128405868</td>\n",
       "      <td>1072413963</td>\n",
       "      <td>0.388403</td>\n",
       "      <td>3.243841</td>\n",
       "      <td>0.764364</td>\n",
       "      <td>0.279748</td>\n",
       "      <td>5</td>\n",
       "      <td>2015</td>\n",
       "    </tr>\n",
       "    <tr>\n",
       "      <th>4</th>\n",
       "      <td>5</td>\n",
       "      <td>Dec 15, 2017</td>\n",
       "      <td>Star Wars Ep. VIII: The Last Jedi</td>\n",
       "      <td>317000000</td>\n",
       "      <td>620181382</td>\n",
       "      <td>1316721747</td>\n",
       "      <td>303181382</td>\n",
       "      <td>999721747</td>\n",
       "      <td>0.956408</td>\n",
       "      <td>3.153696</td>\n",
       "      <td>0.759251</td>\n",
       "      <td>0.488859</td>\n",
       "      <td>12</td>\n",
       "      <td>2017</td>\n",
       "    </tr>\n",
       "  </tbody>\n",
       "</table>\n",
       "</div>"
      ],
      "text/plain": [
       "   id  release_date                                        movie  \\\n",
       "0   1  Dec 18, 2009                                       Avatar   \n",
       "1   2  May 20, 2011  Pirates of the Caribbean: On Stranger Tides   \n",
       "2   3   Jun 7, 2019                                 Dark Phoenix   \n",
       "3   4   May 1, 2015                      Avengers: Age of Ultron   \n",
       "4   5  Dec 15, 2017            Star Wars Ep. VIII: The Last Jedi   \n",
       "\n",
       "   production_budget  domestic_gross  worldwide_gross  domestic_profit  \\\n",
       "0          425000000       760507625       2776345279        335507625   \n",
       "1          410600000       241063875       1045663875       -169536125   \n",
       "2          350000000        42762350        149762350       -307237650   \n",
       "3          330600000       459005868       1403013963        128405868   \n",
       "4          317000000       620181382       1316721747        303181382   \n",
       "\n",
       "   worldwide_profit  domestic_roi  worldwide_roi  worldwide_profit_margin  \\\n",
       "0        2351345279      0.789430       5.532577                 0.846921   \n",
       "1         635063875     -0.412899       1.546673                 0.607331   \n",
       "2        -200237650     -0.877822      -0.572108                -1.337036   \n",
       "3        1072413963      0.388403       3.243841                 0.764364   \n",
       "4         999721747      0.956408       3.153696                 0.759251   \n",
       "\n",
       "   domestic_profit_margin  month  year  \n",
       "0                0.441163     12  2009  \n",
       "1               -0.703283      5  2011  \n",
       "2               -7.184770      6  2019  \n",
       "3                0.279748      5  2015  \n",
       "4                0.488859     12  2017  "
      ]
     },
     "execution_count": 78,
     "metadata": {},
     "output_type": "execute_result"
    }
   ],
   "source": [
    "movie_budgets_df.head()"
   ]
  },
  {
   "cell_type": "code",
   "execution_count": 79,
   "metadata": {},
   "outputs": [
    {
     "data": {
      "text/plain": [
       "(784, 14)"
      ]
     },
     "execution_count": 79,
     "metadata": {},
     "output_type": "execute_result"
    }
   ],
   "source": [
    "top_movies = movie_budgets_df[(movie_budgets_df['worldwide_gross'] > 0) \n",
    "                              & (movie_budgets_df['production_budget'] >= 5000000) \n",
    "                              & (movie_budgets_df['worldwide_roi'] >= 2.75) \n",
    "                              & (movie_budgets_df['domestic_roi'] >= 1) \n",
    "                              & (movie_budgets_df['year'] != 2020)]\n",
    "top_movies.head()\n",
    "top_movies.shape\n"
   ]
  },
  {
   "cell_type": "code",
   "execution_count": 80,
   "metadata": {},
   "outputs": [
    {
     "data": {
      "text/html": [
       "<div>\n",
       "<style scoped>\n",
       "    .dataframe tbody tr th:only-of-type {\n",
       "        vertical-align: middle;\n",
       "    }\n",
       "\n",
       "    .dataframe tbody tr th {\n",
       "        vertical-align: top;\n",
       "    }\n",
       "\n",
       "    .dataframe thead th {\n",
       "        text-align: right;\n",
       "    }\n",
       "</style>\n",
       "<table border=\"1\" class=\"dataframe\">\n",
       "  <thead>\n",
       "    <tr style=\"text-align: right;\">\n",
       "      <th></th>\n",
       "      <th>id</th>\n",
       "      <th>release_date</th>\n",
       "      <th>movie</th>\n",
       "      <th>production_budget</th>\n",
       "      <th>domestic_gross</th>\n",
       "      <th>worldwide_gross</th>\n",
       "      <th>domestic_profit</th>\n",
       "      <th>worldwide_profit</th>\n",
       "      <th>domestic_roi</th>\n",
       "      <th>worldwide_roi</th>\n",
       "      <th>worldwide_profit_margin</th>\n",
       "      <th>domestic_profit_margin</th>\n",
       "      <th>month</th>\n",
       "      <th>year</th>\n",
       "    </tr>\n",
       "  </thead>\n",
       "  <tbody>\n",
       "    <tr>\n",
       "      <th>5</th>\n",
       "      <td>6</td>\n",
       "      <td>Dec 18, 2015</td>\n",
       "      <td>Star Wars Ep. VII: The Force Awakens</td>\n",
       "      <td>306000000</td>\n",
       "      <td>936662225</td>\n",
       "      <td>2053311220</td>\n",
       "      <td>630662225</td>\n",
       "      <td>1747311220</td>\n",
       "      <td>2.060988</td>\n",
       "      <td>5.710167</td>\n",
       "      <td>0.850972</td>\n",
       "      <td>0.673308</td>\n",
       "      <td>12</td>\n",
       "      <td>2015</td>\n",
       "    </tr>\n",
       "    <tr>\n",
       "      <th>6</th>\n",
       "      <td>7</td>\n",
       "      <td>Apr 27, 2018</td>\n",
       "      <td>Avengers: Infinity War</td>\n",
       "      <td>300000000</td>\n",
       "      <td>678815482</td>\n",
       "      <td>2048134200</td>\n",
       "      <td>378815482</td>\n",
       "      <td>1748134200</td>\n",
       "      <td>1.262718</td>\n",
       "      <td>5.827114</td>\n",
       "      <td>0.853525</td>\n",
       "      <td>0.558054</td>\n",
       "      <td>4</td>\n",
       "      <td>2018</td>\n",
       "    </tr>\n",
       "    <tr>\n",
       "      <th>26</th>\n",
       "      <td>27</td>\n",
       "      <td>May 4, 2012</td>\n",
       "      <td>The Avengers</td>\n",
       "      <td>225000000</td>\n",
       "      <td>623279547</td>\n",
       "      <td>1517935897</td>\n",
       "      <td>398279547</td>\n",
       "      <td>1292935897</td>\n",
       "      <td>1.770131</td>\n",
       "      <td>5.746382</td>\n",
       "      <td>0.851772</td>\n",
       "      <td>0.639006</td>\n",
       "      <td>5</td>\n",
       "      <td>2012</td>\n",
       "    </tr>\n",
       "    <tr>\n",
       "      <th>33</th>\n",
       "      <td>34</td>\n",
       "      <td>Jun 12, 2015</td>\n",
       "      <td>Jurassic World</td>\n",
       "      <td>215000000</td>\n",
       "      <td>652270625</td>\n",
       "      <td>1648854864</td>\n",
       "      <td>437270625</td>\n",
       "      <td>1433854864</td>\n",
       "      <td>2.033817</td>\n",
       "      <td>6.669092</td>\n",
       "      <td>0.869606</td>\n",
       "      <td>0.670382</td>\n",
       "      <td>6</td>\n",
       "      <td>2015</td>\n",
       "    </tr>\n",
       "    <tr>\n",
       "      <th>41</th>\n",
       "      <td>42</td>\n",
       "      <td>Feb 16, 2018</td>\n",
       "      <td>Black Panther</td>\n",
       "      <td>200000000</td>\n",
       "      <td>700059566</td>\n",
       "      <td>1348258224</td>\n",
       "      <td>500059566</td>\n",
       "      <td>1148258224</td>\n",
       "      <td>2.500298</td>\n",
       "      <td>5.741291</td>\n",
       "      <td>0.851660</td>\n",
       "      <td>0.714310</td>\n",
       "      <td>2</td>\n",
       "      <td>2018</td>\n",
       "    </tr>\n",
       "  </tbody>\n",
       "</table>\n",
       "</div>"
      ],
      "text/plain": [
       "    id  release_date                                 movie  production_budget  \\\n",
       "5    6  Dec 18, 2015  Star Wars Ep. VII: The Force Awakens          306000000   \n",
       "6    7  Apr 27, 2018                Avengers: Infinity War          300000000   \n",
       "26  27   May 4, 2012                          The Avengers          225000000   \n",
       "33  34  Jun 12, 2015                        Jurassic World          215000000   \n",
       "41  42  Feb 16, 2018                         Black Panther          200000000   \n",
       "\n",
       "    domestic_gross  worldwide_gross  domestic_profit  worldwide_profit  \\\n",
       "5        936662225       2053311220        630662225        1747311220   \n",
       "6        678815482       2048134200        378815482        1748134200   \n",
       "26       623279547       1517935897        398279547        1292935897   \n",
       "33       652270625       1648854864        437270625        1433854864   \n",
       "41       700059566       1348258224        500059566        1148258224   \n",
       "\n",
       "    domestic_roi  worldwide_roi  worldwide_profit_margin  \\\n",
       "5       2.060988       5.710167                 0.850972   \n",
       "6       1.262718       5.827114                 0.853525   \n",
       "26      1.770131       5.746382                 0.851772   \n",
       "33      2.033817       6.669092                 0.869606   \n",
       "41      2.500298       5.741291                 0.851660   \n",
       "\n",
       "    domestic_profit_margin  month  year  \n",
       "5                 0.673308     12  2015  \n",
       "6                 0.558054      4  2018  \n",
       "26                0.639006      5  2012  \n",
       "33                0.670382      6  2015  \n",
       "41                0.714310      2  2018  "
      ]
     },
     "execution_count": 80,
     "metadata": {},
     "output_type": "execute_result"
    }
   ],
   "source": [
    "top_movies.head()"
   ]
  },
  {
   "cell_type": "code",
   "execution_count": 81,
   "metadata": {},
   "outputs": [
    {
     "data": {
      "text/plain": [
       "[<matplotlib.lines.Line2D at 0x7ff0128a43a0>]"
      ]
     },
     "execution_count": 81,
     "metadata": {},
     "output_type": "execute_result"
    },
    {
     "data": {
      "image/png": "[encoded data removed]",
      "text/plain": [
       "<Figure size 1152x576 with 1 Axes>"
      ]
     },
     "metadata": {
      "needs_background": "light"
     },
     "output_type": "display_data"
    }
   ],
   "source": [
    "fig, ax = plt.subplots(figsize=(16,8))\n",
    "\n",
    "X = top_movies['production_budget']\n",
    "\n",
    "Y = top_movies['domestic_roi']\n",
    "\n",
    "ax.scatter(X, Y)\n",
    "ax.set_title('Top Movies Production Budget vs. Domestic ROI')\n",
    "ax.set_xlabel('Production Budget')\n",
    "ax.set_ylabel('Domestic ROI')\n",
    "\n",
    "plt.xlim(0, 500000000)\n",
    "plt.ylim(-1, 20)\n",
    "\n",
    "z = np.polyfit(X, Y, 1) #create trendline \n",
    "p = np.poly1d(z)  \n",
    "plt.plot(X,p(X),\"r--\") #plot trendline"
   ]
  },
  {
   "cell_type": "code",
   "execution_count": 82,
   "metadata": {},
   "outputs": [
    {
     "data": {
      "text/plain": [
       "[<matplotlib.lines.Line2D at 0x7ff01382f700>]"
      ]
     },
     "execution_count": 82,
     "metadata": {},
     "output_type": "execute_result"
    },
    {
     "data": {
      "image/png": "[encoded data removed]",
      "text/plain": [
       "<Figure size 1152x576 with 1 Axes>"
      ]
     },
     "metadata": {
      "needs_background": "light"
     },
     "output_type": "display_data"
    }
   ],
   "source": [
    "fig, ax = plt.subplots(figsize=(16,8))\n",
    "\n",
    "X = top_movies['production_budget']\n",
    "\n",
    "Y = top_movies['worldwide_roi']\n",
    "\n",
    "ax.scatter(X, Y)\n",
    "ax.set_title('Production Budget vs. Worldwide ROI')\n",
    "ax.set_xlabel('Production Budget')\n",
    "ax.set_ylabel('Worldwide ROI')\n",
    "\n",
    "plt.xlim(0, 500000000)\n",
    "plt.ylim(-1, 20)\n",
    "\n",
    "z = np.polyfit(X, Y, 1) #create trendline \n",
    "p = np.poly1d(z)  \n",
    "plt.plot(X,p(X),\"r--\") #plot trendline"
   ]
  },
  {
   "cell_type": "code",
   "execution_count": 83,
   "metadata": {},
   "outputs": [
    {
     "data": {
      "text/html": [
       "<div>\n",
       "<style scoped>\n",
       "    .dataframe tbody tr th:only-of-type {\n",
       "        vertical-align: middle;\n",
       "    }\n",
       "\n",
       "    .dataframe tbody tr th {\n",
       "        vertical-align: top;\n",
       "    }\n",
       "\n",
       "    .dataframe thead th {\n",
       "        text-align: right;\n",
       "    }\n",
       "</style>\n",
       "<table border=\"1\" class=\"dataframe\">\n",
       "  <thead>\n",
       "    <tr style=\"text-align: right;\">\n",
       "      <th></th>\n",
       "      <th>id</th>\n",
       "      <th>release_date</th>\n",
       "      <th>movie</th>\n",
       "      <th>production_budget</th>\n",
       "      <th>domestic_gross</th>\n",
       "      <th>worldwide_gross</th>\n",
       "      <th>domestic_profit</th>\n",
       "      <th>worldwide_profit</th>\n",
       "      <th>domestic_roi</th>\n",
       "      <th>worldwide_roi</th>\n",
       "      <th>worldwide_profit_margin</th>\n",
       "      <th>domestic_profit_margin</th>\n",
       "      <th>month</th>\n",
       "      <th>year</th>\n",
       "    </tr>\n",
       "  </thead>\n",
       "  <tbody>\n",
       "    <tr>\n",
       "      <th>5</th>\n",
       "      <td>6</td>\n",
       "      <td>Dec 18, 2015</td>\n",
       "      <td>Star Wars Ep. VII: The Force Awakens</td>\n",
       "      <td>306000000</td>\n",
       "      <td>936662225</td>\n",
       "      <td>2053311220</td>\n",
       "      <td>630662225</td>\n",
       "      <td>1747311220</td>\n",
       "      <td>2.060988</td>\n",
       "      <td>5.710167</td>\n",
       "      <td>0.850972</td>\n",
       "      <td>0.673308</td>\n",
       "      <td>12</td>\n",
       "      <td>2015</td>\n",
       "    </tr>\n",
       "    <tr>\n",
       "      <th>6</th>\n",
       "      <td>7</td>\n",
       "      <td>Apr 27, 2018</td>\n",
       "      <td>Avengers: Infinity War</td>\n",
       "      <td>300000000</td>\n",
       "      <td>678815482</td>\n",
       "      <td>2048134200</td>\n",
       "      <td>378815482</td>\n",
       "      <td>1748134200</td>\n",
       "      <td>1.262718</td>\n",
       "      <td>5.827114</td>\n",
       "      <td>0.853525</td>\n",
       "      <td>0.558054</td>\n",
       "      <td>4</td>\n",
       "      <td>2018</td>\n",
       "    </tr>\n",
       "    <tr>\n",
       "      <th>26</th>\n",
       "      <td>27</td>\n",
       "      <td>May 4, 2012</td>\n",
       "      <td>The Avengers</td>\n",
       "      <td>225000000</td>\n",
       "      <td>623279547</td>\n",
       "      <td>1517935897</td>\n",
       "      <td>398279547</td>\n",
       "      <td>1292935897</td>\n",
       "      <td>1.770131</td>\n",
       "      <td>5.746382</td>\n",
       "      <td>0.851772</td>\n",
       "      <td>0.639006</td>\n",
       "      <td>5</td>\n",
       "      <td>2012</td>\n",
       "    </tr>\n",
       "    <tr>\n",
       "      <th>33</th>\n",
       "      <td>34</td>\n",
       "      <td>Jun 12, 2015</td>\n",
       "      <td>Jurassic World</td>\n",
       "      <td>215000000</td>\n",
       "      <td>652270625</td>\n",
       "      <td>1648854864</td>\n",
       "      <td>437270625</td>\n",
       "      <td>1433854864</td>\n",
       "      <td>2.033817</td>\n",
       "      <td>6.669092</td>\n",
       "      <td>0.869606</td>\n",
       "      <td>0.670382</td>\n",
       "      <td>6</td>\n",
       "      <td>2015</td>\n",
       "    </tr>\n",
       "    <tr>\n",
       "      <th>41</th>\n",
       "      <td>42</td>\n",
       "      <td>Feb 16, 2018</td>\n",
       "      <td>Black Panther</td>\n",
       "      <td>200000000</td>\n",
       "      <td>700059566</td>\n",
       "      <td>1348258224</td>\n",
       "      <td>500059566</td>\n",
       "      <td>1148258224</td>\n",
       "      <td>2.500298</td>\n",
       "      <td>5.741291</td>\n",
       "      <td>0.851660</td>\n",
       "      <td>0.714310</td>\n",
       "      <td>2</td>\n",
       "      <td>2018</td>\n",
       "    </tr>\n",
       "  </tbody>\n",
       "</table>\n",
       "</div>"
      ],
      "text/plain": [
       "    id  release_date                                 movie  production_budget  \\\n",
       "5    6  Dec 18, 2015  Star Wars Ep. VII: The Force Awakens          306000000   \n",
       "6    7  Apr 27, 2018                Avengers: Infinity War          300000000   \n",
       "26  27   May 4, 2012                          The Avengers          225000000   \n",
       "33  34  Jun 12, 2015                        Jurassic World          215000000   \n",
       "41  42  Feb 16, 2018                         Black Panther          200000000   \n",
       "\n",
       "    domestic_gross  worldwide_gross  domestic_profit  worldwide_profit  \\\n",
       "5        936662225       2053311220        630662225        1747311220   \n",
       "6        678815482       2048134200        378815482        1748134200   \n",
       "26       623279547       1517935897        398279547        1292935897   \n",
       "33       652270625       1648854864        437270625        1433854864   \n",
       "41       700059566       1348258224        500059566        1148258224   \n",
       "\n",
       "    domestic_roi  worldwide_roi  worldwide_profit_margin  \\\n",
       "5       2.060988       5.710167                 0.850972   \n",
       "6       1.262718       5.827114                 0.853525   \n",
       "26      1.770131       5.746382                 0.851772   \n",
       "33      2.033817       6.669092                 0.869606   \n",
       "41      2.500298       5.741291                 0.851660   \n",
       "\n",
       "    domestic_profit_margin  month  year  \n",
       "5                 0.673308     12  2015  \n",
       "6                 0.558054      4  2018  \n",
       "26                0.639006      5  2012  \n",
       "33                0.670382      6  2015  \n",
       "41                0.714310      2  2018  "
      ]
     },
     "execution_count": 83,
     "metadata": {},
     "output_type": "execute_result"
    }
   ],
   "source": [
    "top_movies.head()"
   ]
  },
  {
   "cell_type": "code",
   "execution_count": null,
   "metadata": {},
   "outputs": [],
   "source": []
  },
  {
   "cell_type": "code",
   "execution_count": 84,
   "metadata": {},
   "outputs": [],
   "source": [
    "movies_month = movie_budgets_df.groupby('month').mean()"
   ]
  },
  {
   "cell_type": "code",
   "execution_count": 85,
   "metadata": {},
   "outputs": [],
   "source": [
    "movies_month.drop('id', axis=1, inplace=True)"
   ]
  },
  {
   "cell_type": "code",
   "execution_count": 86,
   "metadata": {},
   "outputs": [
    {
     "data": {
      "text/html": [
       "<div>\n",
       "<style scoped>\n",
       "    .dataframe tbody tr th:only-of-type {\n",
       "        vertical-align: middle;\n",
       "    }\n",
       "\n",
       "    .dataframe tbody tr th {\n",
       "        vertical-align: top;\n",
       "    }\n",
       "\n",
       "    .dataframe thead th {\n",
       "        text-align: right;\n",
       "    }\n",
       "</style>\n",
       "<table border=\"1\" class=\"dataframe\">\n",
       "  <thead>\n",
       "    <tr style=\"text-align: right;\">\n",
       "      <th></th>\n",
       "      <th>production_budget</th>\n",
       "      <th>domestic_gross</th>\n",
       "      <th>worldwide_gross</th>\n",
       "      <th>domestic_profit</th>\n",
       "      <th>worldwide_profit</th>\n",
       "      <th>domestic_roi</th>\n",
       "      <th>worldwide_roi</th>\n",
       "      <th>worldwide_profit_margin</th>\n",
       "      <th>domestic_profit_margin</th>\n",
       "      <th>year</th>\n",
       "    </tr>\n",
       "    <tr>\n",
       "      <th>month</th>\n",
       "      <th></th>\n",
       "      <th></th>\n",
       "      <th></th>\n",
       "      <th></th>\n",
       "      <th></th>\n",
       "      <th></th>\n",
       "      <th></th>\n",
       "      <th></th>\n",
       "      <th></th>\n",
       "      <th></th>\n",
       "    </tr>\n",
       "  </thead>\n",
       "  <tbody>\n",
       "    <tr>\n",
       "      <th>1</th>\n",
       "      <td>2.084349e+07</td>\n",
       "      <td>2.394962e+07</td>\n",
       "      <td>4.656382e+07</td>\n",
       "      <td>3.106128e+06</td>\n",
       "      <td>2.572033e+07</td>\n",
       "      <td>1.935052</td>\n",
       "      <td>3.198986</td>\n",
       "      <td>-inf</td>\n",
       "      <td>-inf</td>\n",
       "      <td>2003.489914</td>\n",
       "    </tr>\n",
       "    <tr>\n",
       "      <th>2</th>\n",
       "      <td>2.804642e+07</td>\n",
       "      <td>3.541465e+07</td>\n",
       "      <td>7.154453e+07</td>\n",
       "      <td>7.368234e+06</td>\n",
       "      <td>4.349811e+07</td>\n",
       "      <td>2.107934</td>\n",
       "      <td>3.547812</td>\n",
       "      <td>-inf</td>\n",
       "      <td>-inf</td>\n",
       "      <td>2004.579082</td>\n",
       "    </tr>\n",
       "    <tr>\n",
       "      <th>3</th>\n",
       "      <td>3.078208e+07</td>\n",
       "      <td>3.857299e+07</td>\n",
       "      <td>8.063337e+07</td>\n",
       "      <td>7.790907e+06</td>\n",
       "      <td>4.985129e+07</td>\n",
       "      <td>1.324664</td>\n",
       "      <td>3.449646</td>\n",
       "      <td>-inf</td>\n",
       "      <td>-inf</td>\n",
       "      <td>2005.542553</td>\n",
       "    </tr>\n",
       "    <tr>\n",
       "      <th>4</th>\n",
       "      <td>2.380283e+07</td>\n",
       "      <td>2.732840e+07</td>\n",
       "      <td>5.992026e+07</td>\n",
       "      <td>3.525568e+06</td>\n",
       "      <td>3.611743e+07</td>\n",
       "      <td>1.037507</td>\n",
       "      <td>2.776726</td>\n",
       "      <td>-inf</td>\n",
       "      <td>-inf</td>\n",
       "      <td>2005.138767</td>\n",
       "    </tr>\n",
       "    <tr>\n",
       "      <th>5</th>\n",
       "      <td>4.713520e+07</td>\n",
       "      <td>6.669795e+07</td>\n",
       "      <td>1.622680e+08</td>\n",
       "      <td>1.956275e+07</td>\n",
       "      <td>1.151328e+08</td>\n",
       "      <td>1.866915</td>\n",
       "      <td>4.351029</td>\n",
       "      <td>-inf</td>\n",
       "      <td>-inf</td>\n",
       "      <td>2003.653563</td>\n",
       "    </tr>\n",
       "  </tbody>\n",
       "</table>\n",
       "</div>"
      ],
      "text/plain": [
       "       production_budget  domestic_gross  worldwide_gross  domestic_profit  \\\n",
       "month                                                                        \n",
       "1           2.084349e+07    2.394962e+07     4.656382e+07     3.106128e+06   \n",
       "2           2.804642e+07    3.541465e+07     7.154453e+07     7.368234e+06   \n",
       "3           3.078208e+07    3.857299e+07     8.063337e+07     7.790907e+06   \n",
       "4           2.380283e+07    2.732840e+07     5.992026e+07     3.525568e+06   \n",
       "5           4.713520e+07    6.669795e+07     1.622680e+08     1.956275e+07   \n",
       "\n",
       "       worldwide_profit  domestic_roi  worldwide_roi  worldwide_profit_margin  \\\n",
       "month                                                                           \n",
       "1          2.572033e+07      1.935052       3.198986                     -inf   \n",
       "2          4.349811e+07      2.107934       3.547812                     -inf   \n",
       "3          4.985129e+07      1.324664       3.449646                     -inf   \n",
       "4          3.611743e+07      1.037507       2.776726                     -inf   \n",
       "5          1.151328e+08      1.866915       4.351029                     -inf   \n",
       "\n",
       "       domestic_profit_margin         year  \n",
       "month                                       \n",
       "1                        -inf  2003.489914  \n",
       "2                        -inf  2004.579082  \n",
       "3                        -inf  2005.542553  \n",
       "4                        -inf  2005.138767  \n",
       "5                        -inf  2003.653563  "
      ]
     },
     "execution_count": 86,
     "metadata": {},
     "output_type": "execute_result"
    }
   ],
   "source": [
    "movies_month.head()"
   ]
  },
  {
   "cell_type": "code",
   "execution_count": 87,
   "metadata": {},
   "outputs": [],
   "source": [
    "movies_month.drop({'domestic_gross', 'worldwide_gross', 'domestic_profit', 'worldwide_profit', 'worldwide_profit_margin', 'domestic_profit_margin', 'year'}, axis=1, inplace=True)"
   ]
  },
  {
   "cell_type": "code",
   "execution_count": 88,
   "metadata": {},
   "outputs": [
    {
     "data": {
      "text/html": [
       "<div>\n",
       "<style scoped>\n",
       "    .dataframe tbody tr th:only-of-type {\n",
       "        vertical-align: middle;\n",
       "    }\n",
       "\n",
       "    .dataframe tbody tr th {\n",
       "        vertical-align: top;\n",
       "    }\n",
       "\n",
       "    .dataframe thead th {\n",
       "        text-align: right;\n",
       "    }\n",
       "</style>\n",
       "<table border=\"1\" class=\"dataframe\">\n",
       "  <thead>\n",
       "    <tr style=\"text-align: right;\">\n",
       "      <th></th>\n",
       "      <th>production_budget</th>\n",
       "      <th>domestic_roi</th>\n",
       "      <th>worldwide_roi</th>\n",
       "    </tr>\n",
       "    <tr>\n",
       "      <th>month</th>\n",
       "      <th></th>\n",
       "      <th></th>\n",
       "      <th></th>\n",
       "    </tr>\n",
       "  </thead>\n",
       "  <tbody>\n",
       "    <tr>\n",
       "      <th>1</th>\n",
       "      <td>2.084349e+07</td>\n",
       "      <td>1.935052</td>\n",
       "      <td>3.198986</td>\n",
       "    </tr>\n",
       "    <tr>\n",
       "      <th>2</th>\n",
       "      <td>2.804642e+07</td>\n",
       "      <td>2.107934</td>\n",
       "      <td>3.547812</td>\n",
       "    </tr>\n",
       "    <tr>\n",
       "      <th>3</th>\n",
       "      <td>3.078208e+07</td>\n",
       "      <td>1.324664</td>\n",
       "      <td>3.449646</td>\n",
       "    </tr>\n",
       "    <tr>\n",
       "      <th>4</th>\n",
       "      <td>2.380283e+07</td>\n",
       "      <td>1.037507</td>\n",
       "      <td>2.776726</td>\n",
       "    </tr>\n",
       "    <tr>\n",
       "      <th>5</th>\n",
       "      <td>4.713520e+07</td>\n",
       "      <td>1.866915</td>\n",
       "      <td>4.351029</td>\n",
       "    </tr>\n",
       "    <tr>\n",
       "      <th>6</th>\n",
       "      <td>4.309912e+07</td>\n",
       "      <td>5.255122</td>\n",
       "      <td>6.889714</td>\n",
       "    </tr>\n",
       "    <tr>\n",
       "      <th>7</th>\n",
       "      <td>4.254616e+07</td>\n",
       "      <td>2.425521</td>\n",
       "      <td>5.040113</td>\n",
       "    </tr>\n",
       "    <tr>\n",
       "      <th>8</th>\n",
       "      <td>2.555609e+07</td>\n",
       "      <td>2.738651</td>\n",
       "      <td>4.380376</td>\n",
       "    </tr>\n",
       "    <tr>\n",
       "      <th>9</th>\n",
       "      <td>2.181290e+07</td>\n",
       "      <td>1.271824</td>\n",
       "      <td>2.824510</td>\n",
       "    </tr>\n",
       "    <tr>\n",
       "      <th>10</th>\n",
       "      <td>2.039266e+07</td>\n",
       "      <td>2.043329</td>\n",
       "      <td>4.089145</td>\n",
       "    </tr>\n",
       "    <tr>\n",
       "      <th>11</th>\n",
       "      <td>4.260006e+07</td>\n",
       "      <td>1.494223</td>\n",
       "      <td>3.503555</td>\n",
       "    </tr>\n",
       "    <tr>\n",
       "      <th>12</th>\n",
       "      <td>3.325161e+07</td>\n",
       "      <td>0.873515</td>\n",
       "      <td>2.268624</td>\n",
       "    </tr>\n",
       "  </tbody>\n",
       "</table>\n",
       "</div>"
      ],
      "text/plain": [
       "       production_budget  domestic_roi  worldwide_roi\n",
       "month                                                \n",
       "1           2.084349e+07      1.935052       3.198986\n",
       "2           2.804642e+07      2.107934       3.547812\n",
       "3           3.078208e+07      1.324664       3.449646\n",
       "4           2.380283e+07      1.037507       2.776726\n",
       "5           4.713520e+07      1.866915       4.351029\n",
       "6           4.309912e+07      5.255122       6.889714\n",
       "7           4.254616e+07      2.425521       5.040113\n",
       "8           2.555609e+07      2.738651       4.380376\n",
       "9           2.181290e+07      1.271824       2.824510\n",
       "10          2.039266e+07      2.043329       4.089145\n",
       "11          4.260006e+07      1.494223       3.503555\n",
       "12          3.325161e+07      0.873515       2.268624"
      ]
     },
     "execution_count": 88,
     "metadata": {},
     "output_type": "execute_result"
    }
   ],
   "source": [
    "movies_month"
   ]
  },
  {
   "cell_type": "code",
   "execution_count": 89,
   "metadata": {},
   "outputs": [
    {
     "data": {
      "text/html": [
       "<div>\n",
       "<style scoped>\n",
       "    .dataframe tbody tr th:only-of-type {\n",
       "        vertical-align: middle;\n",
       "    }\n",
       "\n",
       "    .dataframe tbody tr th {\n",
       "        vertical-align: top;\n",
       "    }\n",
       "\n",
       "    .dataframe thead th {\n",
       "        text-align: right;\n",
       "    }\n",
       "</style>\n",
       "<table border=\"1\" class=\"dataframe\">\n",
       "  <thead>\n",
       "    <tr style=\"text-align: right;\">\n",
       "      <th></th>\n",
       "      <th>production_budget</th>\n",
       "      <th>domestic_roi</th>\n",
       "      <th>worldwide_roi</th>\n",
       "      <th>movie_count</th>\n",
       "    </tr>\n",
       "    <tr>\n",
       "      <th>month</th>\n",
       "      <th></th>\n",
       "      <th></th>\n",
       "      <th></th>\n",
       "      <th></th>\n",
       "    </tr>\n",
       "  </thead>\n",
       "  <tbody>\n",
       "    <tr>\n",
       "      <th>1</th>\n",
       "      <td>2.084349e+07</td>\n",
       "      <td>1.935052</td>\n",
       "      <td>3.198986</td>\n",
       "      <td>347</td>\n",
       "    </tr>\n",
       "    <tr>\n",
       "      <th>2</th>\n",
       "      <td>2.804642e+07</td>\n",
       "      <td>2.107934</td>\n",
       "      <td>3.547812</td>\n",
       "      <td>392</td>\n",
       "    </tr>\n",
       "    <tr>\n",
       "      <th>3</th>\n",
       "      <td>3.078208e+07</td>\n",
       "      <td>1.324664</td>\n",
       "      <td>3.449646</td>\n",
       "      <td>470</td>\n",
       "    </tr>\n",
       "    <tr>\n",
       "      <th>4</th>\n",
       "      <td>2.380283e+07</td>\n",
       "      <td>1.037507</td>\n",
       "      <td>2.776726</td>\n",
       "      <td>454</td>\n",
       "    </tr>\n",
       "    <tr>\n",
       "      <th>5</th>\n",
       "      <td>4.713520e+07</td>\n",
       "      <td>1.866915</td>\n",
       "      <td>4.351029</td>\n",
       "      <td>407</td>\n",
       "    </tr>\n",
       "    <tr>\n",
       "      <th>6</th>\n",
       "      <td>4.309912e+07</td>\n",
       "      <td>5.255122</td>\n",
       "      <td>6.889714</td>\n",
       "      <td>479</td>\n",
       "    </tr>\n",
       "    <tr>\n",
       "      <th>7</th>\n",
       "      <td>4.254616e+07</td>\n",
       "      <td>2.425521</td>\n",
       "      <td>5.040113</td>\n",
       "      <td>440</td>\n",
       "    </tr>\n",
       "    <tr>\n",
       "      <th>8</th>\n",
       "      <td>2.555609e+07</td>\n",
       "      <td>2.738651</td>\n",
       "      <td>4.380376</td>\n",
       "      <td>496</td>\n",
       "    </tr>\n",
       "    <tr>\n",
       "      <th>9</th>\n",
       "      <td>2.181290e+07</td>\n",
       "      <td>1.271824</td>\n",
       "      <td>2.824510</td>\n",
       "      <td>493</td>\n",
       "    </tr>\n",
       "    <tr>\n",
       "      <th>10</th>\n",
       "      <td>2.039266e+07</td>\n",
       "      <td>2.043329</td>\n",
       "      <td>4.089145</td>\n",
       "      <td>573</td>\n",
       "    </tr>\n",
       "    <tr>\n",
       "      <th>11</th>\n",
       "      <td>4.260006e+07</td>\n",
       "      <td>1.494223</td>\n",
       "      <td>3.503555</td>\n",
       "      <td>486</td>\n",
       "    </tr>\n",
       "    <tr>\n",
       "      <th>12</th>\n",
       "      <td>3.325161e+07</td>\n",
       "      <td>0.873515</td>\n",
       "      <td>2.268624</td>\n",
       "      <td>745</td>\n",
       "    </tr>\n",
       "  </tbody>\n",
       "</table>\n",
       "</div>"
      ],
      "text/plain": [
       "       production_budget  domestic_roi  worldwide_roi  movie_count\n",
       "month                                                             \n",
       "1           2.084349e+07      1.935052       3.198986          347\n",
       "2           2.804642e+07      2.107934       3.547812          392\n",
       "3           3.078208e+07      1.324664       3.449646          470\n",
       "4           2.380283e+07      1.037507       2.776726          454\n",
       "5           4.713520e+07      1.866915       4.351029          407\n",
       "6           4.309912e+07      5.255122       6.889714          479\n",
       "7           4.254616e+07      2.425521       5.040113          440\n",
       "8           2.555609e+07      2.738651       4.380376          496\n",
       "9           2.181290e+07      1.271824       2.824510          493\n",
       "10          2.039266e+07      2.043329       4.089145          573\n",
       "11          4.260006e+07      1.494223       3.503555          486\n",
       "12          3.325161e+07      0.873515       2.268624          745"
      ]
     },
     "execution_count": 89,
     "metadata": {},
     "output_type": "execute_result"
    }
   ],
   "source": [
    "movies_month['movie_count'] = movie_budgets_df['month'].value_counts()\n",
    "movies_month"
   ]
  },
  {
   "cell_type": "code",
   "execution_count": 90,
   "metadata": {},
   "outputs": [],
   "source": [
    "#movies_month.rename({'domestic_profit_to_budget_ratio': 'domestic_roi', 'worldwide_roi': 'worldwide_roi'}, axis=1, inplace=True)\n",
    "#movies_month"
   ]
  },
  {
   "cell_type": "code",
   "execution_count": 91,
   "metadata": {},
   "outputs": [],
   "source": [
    "movies_month.reset_index(inplace=True)"
   ]
  },
  {
   "cell_type": "code",
   "execution_count": 92,
   "metadata": {},
   "outputs": [
    {
     "data": {
      "text/html": [
       "<div>\n",
       "<style scoped>\n",
       "    .dataframe tbody tr th:only-of-type {\n",
       "        vertical-align: middle;\n",
       "    }\n",
       "\n",
       "    .dataframe tbody tr th {\n",
       "        vertical-align: top;\n",
       "    }\n",
       "\n",
       "    .dataframe thead th {\n",
       "        text-align: right;\n",
       "    }\n",
       "</style>\n",
       "<table border=\"1\" class=\"dataframe\">\n",
       "  <thead>\n",
       "    <tr style=\"text-align: right;\">\n",
       "      <th></th>\n",
       "      <th>month</th>\n",
       "      <th>production_budget</th>\n",
       "      <th>domestic_roi</th>\n",
       "      <th>worldwide_roi</th>\n",
       "      <th>movie_count</th>\n",
       "    </tr>\n",
       "  </thead>\n",
       "  <tbody>\n",
       "    <tr>\n",
       "      <th>0</th>\n",
       "      <td>1</td>\n",
       "      <td>2.084349e+07</td>\n",
       "      <td>1.935052</td>\n",
       "      <td>3.198986</td>\n",
       "      <td>347</td>\n",
       "    </tr>\n",
       "    <tr>\n",
       "      <th>1</th>\n",
       "      <td>2</td>\n",
       "      <td>2.804642e+07</td>\n",
       "      <td>2.107934</td>\n",
       "      <td>3.547812</td>\n",
       "      <td>392</td>\n",
       "    </tr>\n",
       "    <tr>\n",
       "      <th>2</th>\n",
       "      <td>3</td>\n",
       "      <td>3.078208e+07</td>\n",
       "      <td>1.324664</td>\n",
       "      <td>3.449646</td>\n",
       "      <td>470</td>\n",
       "    </tr>\n",
       "    <tr>\n",
       "      <th>3</th>\n",
       "      <td>4</td>\n",
       "      <td>2.380283e+07</td>\n",
       "      <td>1.037507</td>\n",
       "      <td>2.776726</td>\n",
       "      <td>454</td>\n",
       "    </tr>\n",
       "    <tr>\n",
       "      <th>4</th>\n",
       "      <td>5</td>\n",
       "      <td>4.713520e+07</td>\n",
       "      <td>1.866915</td>\n",
       "      <td>4.351029</td>\n",
       "      <td>407</td>\n",
       "    </tr>\n",
       "    <tr>\n",
       "      <th>5</th>\n",
       "      <td>6</td>\n",
       "      <td>4.309912e+07</td>\n",
       "      <td>5.255122</td>\n",
       "      <td>6.889714</td>\n",
       "      <td>479</td>\n",
       "    </tr>\n",
       "    <tr>\n",
       "      <th>6</th>\n",
       "      <td>7</td>\n",
       "      <td>4.254616e+07</td>\n",
       "      <td>2.425521</td>\n",
       "      <td>5.040113</td>\n",
       "      <td>440</td>\n",
       "    </tr>\n",
       "    <tr>\n",
       "      <th>7</th>\n",
       "      <td>8</td>\n",
       "      <td>2.555609e+07</td>\n",
       "      <td>2.738651</td>\n",
       "      <td>4.380376</td>\n",
       "      <td>496</td>\n",
       "    </tr>\n",
       "    <tr>\n",
       "      <th>8</th>\n",
       "      <td>9</td>\n",
       "      <td>2.181290e+07</td>\n",
       "      <td>1.271824</td>\n",
       "      <td>2.824510</td>\n",
       "      <td>493</td>\n",
       "    </tr>\n",
       "    <tr>\n",
       "      <th>9</th>\n",
       "      <td>10</td>\n",
       "      <td>2.039266e+07</td>\n",
       "      <td>2.043329</td>\n",
       "      <td>4.089145</td>\n",
       "      <td>573</td>\n",
       "    </tr>\n",
       "    <tr>\n",
       "      <th>10</th>\n",
       "      <td>11</td>\n",
       "      <td>4.260006e+07</td>\n",
       "      <td>1.494223</td>\n",
       "      <td>3.503555</td>\n",
       "      <td>486</td>\n",
       "    </tr>\n",
       "    <tr>\n",
       "      <th>11</th>\n",
       "      <td>12</td>\n",
       "      <td>3.325161e+07</td>\n",
       "      <td>0.873515</td>\n",
       "      <td>2.268624</td>\n",
       "      <td>745</td>\n",
       "    </tr>\n",
       "  </tbody>\n",
       "</table>\n",
       "</div>"
      ],
      "text/plain": [
       "    month  production_budget  domestic_roi  worldwide_roi  movie_count\n",
       "0       1       2.084349e+07      1.935052       3.198986          347\n",
       "1       2       2.804642e+07      2.107934       3.547812          392\n",
       "2       3       3.078208e+07      1.324664       3.449646          470\n",
       "3       4       2.380283e+07      1.037507       2.776726          454\n",
       "4       5       4.713520e+07      1.866915       4.351029          407\n",
       "5       6       4.309912e+07      5.255122       6.889714          479\n",
       "6       7       4.254616e+07      2.425521       5.040113          440\n",
       "7       8       2.555609e+07      2.738651       4.380376          496\n",
       "8       9       2.181290e+07      1.271824       2.824510          493\n",
       "9      10       2.039266e+07      2.043329       4.089145          573\n",
       "10     11       4.260006e+07      1.494223       3.503555          486\n",
       "11     12       3.325161e+07      0.873515       2.268624          745"
      ]
     },
     "execution_count": 92,
     "metadata": {},
     "output_type": "execute_result"
    }
   ],
   "source": [
    "movies_month"
   ]
  },
  {
   "cell_type": "code",
   "execution_count": 93,
   "metadata": {},
   "outputs": [
    {
     "data": {
      "image/png": "[encoded data removed]",
      "text/plain": [
       "<Figure size 576x576 with 2 Axes>"
      ]
     },
     "metadata": {
      "needs_background": "light"
     },
     "output_type": "display_data"
    }
   ],
   "source": [
    "fig, ax1 = plt.subplots(figsize = (8, 8))\n",
    "\n",
    "x = movies_month['month']\n",
    "h = movies_month['production_budget']\n",
    "y1 = movies_month['domestic_roi']\n",
    "y2 = movies_month['worldwide_roi']\n",
    "\n",
    "\n",
    "ax2 = ax1.twinx()\n",
    "#ax3 = ax2.twinx()\n",
    "\n",
    "ax1.bar(x, h, alpha = 0.25, color='green')\n",
    "#plt.locator_params(axis=x, nbins=12)\n",
    "\n",
    "line1, = ax2.plot(x, y1)\n",
    "line2, = ax2.plot(x, y2, color='red')\n",
    "\n",
    "\n",
    "ax1.set_title('Production Budget, Worldwide ROI, and Domestic ROI')\n",
    "ax1.set_xlabel('Month')\n",
    "ax1.set_ylabel('Production Budget')\n",
    "\n",
    "ax2.set_ylabel('ROI')\n",
    "ax2.legend([line1, line2],['Worldwide ROI', 'Domestic ROI'], loc='upper left');\n",
    "\n",
    "\n",
    "#\n",
    "#ax3.legend([loc='upper right');\n",
    "             \n",
    "#ax1.set_yticks([1,2,3,4,5,6,7,8,9])\n",
    "\n"
   ]
  },
  {
   "cell_type": "code",
   "execution_count": null,
   "metadata": {},
   "outputs": [],
   "source": []
  },
  {
   "cell_type": "code",
   "execution_count": 94,
   "metadata": {},
   "outputs": [
    {
     "data": {
      "text/html": [
       "<div>\n",
       "<style scoped>\n",
       "    .dataframe tbody tr th:only-of-type {\n",
       "        vertical-align: middle;\n",
       "    }\n",
       "\n",
       "    .dataframe tbody tr th {\n",
       "        vertical-align: top;\n",
       "    }\n",
       "\n",
       "    .dataframe thead th {\n",
       "        text-align: right;\n",
       "    }\n",
       "</style>\n",
       "<table border=\"1\" class=\"dataframe\">\n",
       "  <thead>\n",
       "    <tr style=\"text-align: right;\">\n",
       "      <th></th>\n",
       "      <th>id</th>\n",
       "      <th>release_date</th>\n",
       "      <th>movie</th>\n",
       "      <th>production_budget</th>\n",
       "      <th>domestic_gross</th>\n",
       "      <th>worldwide_gross</th>\n",
       "      <th>domestic_profit</th>\n",
       "      <th>worldwide_profit</th>\n",
       "      <th>domestic_roi</th>\n",
       "      <th>worldwide_roi</th>\n",
       "      <th>worldwide_profit_margin</th>\n",
       "      <th>domestic_profit_margin</th>\n",
       "      <th>month</th>\n",
       "      <th>year</th>\n",
       "    </tr>\n",
       "  </thead>\n",
       "  <tbody>\n",
       "    <tr>\n",
       "      <th>5</th>\n",
       "      <td>6</td>\n",
       "      <td>Dec 18, 2015</td>\n",
       "      <td>Star Wars Ep. VII: The Force Awakens</td>\n",
       "      <td>306000000</td>\n",
       "      <td>936662225</td>\n",
       "      <td>2053311220</td>\n",
       "      <td>630662225</td>\n",
       "      <td>1747311220</td>\n",
       "      <td>2.060988</td>\n",
       "      <td>5.710167</td>\n",
       "      <td>0.850972</td>\n",
       "      <td>0.673308</td>\n",
       "      <td>12</td>\n",
       "      <td>2015</td>\n",
       "    </tr>\n",
       "    <tr>\n",
       "      <th>6</th>\n",
       "      <td>7</td>\n",
       "      <td>Apr 27, 2018</td>\n",
       "      <td>Avengers: Infinity War</td>\n",
       "      <td>300000000</td>\n",
       "      <td>678815482</td>\n",
       "      <td>2048134200</td>\n",
       "      <td>378815482</td>\n",
       "      <td>1748134200</td>\n",
       "      <td>1.262718</td>\n",
       "      <td>5.827114</td>\n",
       "      <td>0.853525</td>\n",
       "      <td>0.558054</td>\n",
       "      <td>4</td>\n",
       "      <td>2018</td>\n",
       "    </tr>\n",
       "    <tr>\n",
       "      <th>26</th>\n",
       "      <td>27</td>\n",
       "      <td>May 4, 2012</td>\n",
       "      <td>The Avengers</td>\n",
       "      <td>225000000</td>\n",
       "      <td>623279547</td>\n",
       "      <td>1517935897</td>\n",
       "      <td>398279547</td>\n",
       "      <td>1292935897</td>\n",
       "      <td>1.770131</td>\n",
       "      <td>5.746382</td>\n",
       "      <td>0.851772</td>\n",
       "      <td>0.639006</td>\n",
       "      <td>5</td>\n",
       "      <td>2012</td>\n",
       "    </tr>\n",
       "    <tr>\n",
       "      <th>33</th>\n",
       "      <td>34</td>\n",
       "      <td>Jun 12, 2015</td>\n",
       "      <td>Jurassic World</td>\n",
       "      <td>215000000</td>\n",
       "      <td>652270625</td>\n",
       "      <td>1648854864</td>\n",
       "      <td>437270625</td>\n",
       "      <td>1433854864</td>\n",
       "      <td>2.033817</td>\n",
       "      <td>6.669092</td>\n",
       "      <td>0.869606</td>\n",
       "      <td>0.670382</td>\n",
       "      <td>6</td>\n",
       "      <td>2015</td>\n",
       "    </tr>\n",
       "    <tr>\n",
       "      <th>41</th>\n",
       "      <td>42</td>\n",
       "      <td>Feb 16, 2018</td>\n",
       "      <td>Black Panther</td>\n",
       "      <td>200000000</td>\n",
       "      <td>700059566</td>\n",
       "      <td>1348258224</td>\n",
       "      <td>500059566</td>\n",
       "      <td>1148258224</td>\n",
       "      <td>2.500298</td>\n",
       "      <td>5.741291</td>\n",
       "      <td>0.851660</td>\n",
       "      <td>0.714310</td>\n",
       "      <td>2</td>\n",
       "      <td>2018</td>\n",
       "    </tr>\n",
       "  </tbody>\n",
       "</table>\n",
       "</div>"
      ],
      "text/plain": [
       "    id  release_date                                 movie  production_budget  \\\n",
       "5    6  Dec 18, 2015  Star Wars Ep. VII: The Force Awakens          306000000   \n",
       "6    7  Apr 27, 2018                Avengers: Infinity War          300000000   \n",
       "26  27   May 4, 2012                          The Avengers          225000000   \n",
       "33  34  Jun 12, 2015                        Jurassic World          215000000   \n",
       "41  42  Feb 16, 2018                         Black Panther          200000000   \n",
       "\n",
       "    domestic_gross  worldwide_gross  domestic_profit  worldwide_profit  \\\n",
       "5        936662225       2053311220        630662225        1747311220   \n",
       "6        678815482       2048134200        378815482        1748134200   \n",
       "26       623279547       1517935897        398279547        1292935897   \n",
       "33       652270625       1648854864        437270625        1433854864   \n",
       "41       700059566       1348258224        500059566        1148258224   \n",
       "\n",
       "    domestic_roi  worldwide_roi  worldwide_profit_margin  \\\n",
       "5       2.060988       5.710167                 0.850972   \n",
       "6       1.262718       5.827114                 0.853525   \n",
       "26      1.770131       5.746382                 0.851772   \n",
       "33      2.033817       6.669092                 0.869606   \n",
       "41      2.500298       5.741291                 0.851660   \n",
       "\n",
       "    domestic_profit_margin  month  year  \n",
       "5                 0.673308     12  2015  \n",
       "6                 0.558054      4  2018  \n",
       "26                0.639006      5  2012  \n",
       "33                0.670382      6  2015  \n",
       "41                0.714310      2  2018  "
      ]
     },
     "execution_count": 94,
     "metadata": {},
     "output_type": "execute_result"
    }
   ],
   "source": [
    "top_movies.head()"
   ]
  },
  {
   "cell_type": "code",
   "execution_count": 95,
   "metadata": {},
   "outputs": [
    {
     "data": {
      "text/plain": [
       "(784, 14)"
      ]
     },
     "execution_count": 95,
     "metadata": {},
     "output_type": "execute_result"
    }
   ],
   "source": [
    "top_movies.shape"
   ]
  },
  {
   "cell_type": "code",
   "execution_count": 96,
   "metadata": {},
   "outputs": [],
   "source": [
    "top_movies_month = top_movies.groupby('month').mean()"
   ]
  },
  {
   "cell_type": "code",
   "execution_count": null,
   "metadata": {},
   "outputs": [],
   "source": []
  },
  {
   "cell_type": "code",
   "execution_count": null,
   "metadata": {},
   "outputs": [],
   "source": []
  },
  {
   "cell_type": "code",
   "execution_count": 97,
   "metadata": {},
   "outputs": [
    {
     "data": {
      "text/html": [
       "<div>\n",
       "<style scoped>\n",
       "    .dataframe tbody tr th:only-of-type {\n",
       "        vertical-align: middle;\n",
       "    }\n",
       "\n",
       "    .dataframe tbody tr th {\n",
       "        vertical-align: top;\n",
       "    }\n",
       "\n",
       "    .dataframe thead th {\n",
       "        text-align: right;\n",
       "    }\n",
       "</style>\n",
       "<table border=\"1\" class=\"dataframe\">\n",
       "  <thead>\n",
       "    <tr style=\"text-align: right;\">\n",
       "      <th></th>\n",
       "      <th>id</th>\n",
       "      <th>production_budget</th>\n",
       "      <th>domestic_gross</th>\n",
       "      <th>worldwide_gross</th>\n",
       "      <th>domestic_profit</th>\n",
       "      <th>worldwide_profit</th>\n",
       "      <th>domestic_roi</th>\n",
       "      <th>worldwide_roi</th>\n",
       "      <th>worldwide_profit_margin</th>\n",
       "      <th>domestic_profit_margin</th>\n",
       "      <th>year</th>\n",
       "    </tr>\n",
       "    <tr>\n",
       "      <th>month</th>\n",
       "      <th></th>\n",
       "      <th></th>\n",
       "      <th></th>\n",
       "      <th></th>\n",
       "      <th></th>\n",
       "      <th></th>\n",
       "      <th></th>\n",
       "      <th></th>\n",
       "      <th></th>\n",
       "      <th></th>\n",
       "      <th></th>\n",
       "    </tr>\n",
       "  </thead>\n",
       "  <tbody>\n",
       "    <tr>\n",
       "      <th>1</th>\n",
       "      <td>62.111111</td>\n",
       "      <td>1.530889e+07</td>\n",
       "      <td>6.043391e+07</td>\n",
       "      <td>1.067433e+08</td>\n",
       "      <td>4.512502e+07</td>\n",
       "      <td>9.143441e+07</td>\n",
       "      <td>3.613247</td>\n",
       "      <td>7.187499</td>\n",
       "      <td>0.841025</td>\n",
       "      <td>0.721858</td>\n",
       "      <td>2007.511111</td>\n",
       "    </tr>\n",
       "    <tr>\n",
       "      <th>2</th>\n",
       "      <td>60.762712</td>\n",
       "      <td>2.602712e+07</td>\n",
       "      <td>9.876946e+07</td>\n",
       "      <td>1.790130e+08</td>\n",
       "      <td>7.274234e+07</td>\n",
       "      <td>1.529858e+08</td>\n",
       "      <td>3.896533</td>\n",
       "      <td>6.531677</td>\n",
       "      <td>0.830403</td>\n",
       "      <td>0.723726</td>\n",
       "      <td>2006.084746</td>\n",
       "    </tr>\n",
       "    <tr>\n",
       "      <th>3</th>\n",
       "      <td>54.825397</td>\n",
       "      <td>2.935079e+07</td>\n",
       "      <td>1.036613e+08</td>\n",
       "      <td>2.063581e+08</td>\n",
       "      <td>7.431054e+07</td>\n",
       "      <td>1.770073e+08</td>\n",
       "      <td>3.768023</td>\n",
       "      <td>7.124758</td>\n",
       "      <td>0.839426</td>\n",
       "      <td>0.722721</td>\n",
       "      <td>2003.888889</td>\n",
       "    </tr>\n",
       "    <tr>\n",
       "      <th>4</th>\n",
       "      <td>58.852941</td>\n",
       "      <td>2.844118e+07</td>\n",
       "      <td>9.223844e+07</td>\n",
       "      <td>1.944605e+08</td>\n",
       "      <td>6.379726e+07</td>\n",
       "      <td>1.660193e+08</td>\n",
       "      <td>4.519145</td>\n",
       "      <td>8.048194</td>\n",
       "      <td>0.831628</td>\n",
       "      <td>0.718286</td>\n",
       "      <td>2005.029412</td>\n",
       "    </tr>\n",
       "    <tr>\n",
       "      <th>5</th>\n",
       "      <td>50.574074</td>\n",
       "      <td>5.079635e+07</td>\n",
       "      <td>1.867348e+08</td>\n",
       "      <td>4.051728e+08</td>\n",
       "      <td>1.359384e+08</td>\n",
       "      <td>3.543765e+08</td>\n",
       "      <td>4.472478</td>\n",
       "      <td>9.222615</td>\n",
       "      <td>0.869761</td>\n",
       "      <td>0.740407</td>\n",
       "      <td>2001.703704</td>\n",
       "    </tr>\n",
       "  </tbody>\n",
       "</table>\n",
       "</div>"
      ],
      "text/plain": [
       "              id  production_budget  domestic_gross  worldwide_gross  \\\n",
       "month                                                                  \n",
       "1      62.111111       1.530889e+07    6.043391e+07     1.067433e+08   \n",
       "2      60.762712       2.602712e+07    9.876946e+07     1.790130e+08   \n",
       "3      54.825397       2.935079e+07    1.036613e+08     2.063581e+08   \n",
       "4      58.852941       2.844118e+07    9.223844e+07     1.944605e+08   \n",
       "5      50.574074       5.079635e+07    1.867348e+08     4.051728e+08   \n",
       "\n",
       "       domestic_profit  worldwide_profit  domestic_roi  worldwide_roi  \\\n",
       "month                                                                   \n",
       "1         4.512502e+07      9.143441e+07      3.613247       7.187499   \n",
       "2         7.274234e+07      1.529858e+08      3.896533       6.531677   \n",
       "3         7.431054e+07      1.770073e+08      3.768023       7.124758   \n",
       "4         6.379726e+07      1.660193e+08      4.519145       8.048194   \n",
       "5         1.359384e+08      3.543765e+08      4.472478       9.222615   \n",
       "\n",
       "       worldwide_profit_margin  domestic_profit_margin         year  \n",
       "month                                                                \n",
       "1                     0.841025                0.721858  2007.511111  \n",
       "2                     0.830403                0.723726  2006.084746  \n",
       "3                     0.839426                0.722721  2003.888889  \n",
       "4                     0.831628                0.718286  2005.029412  \n",
       "5                     0.869761                0.740407  2001.703704  "
      ]
     },
     "execution_count": 97,
     "metadata": {},
     "output_type": "execute_result"
    }
   ],
   "source": [
    "top_movies_month.head()"
   ]
  },
  {
   "cell_type": "code",
   "execution_count": 98,
   "metadata": {},
   "outputs": [
    {
     "data": {
      "text/html": [
       "<div>\n",
       "<style scoped>\n",
       "    .dataframe tbody tr th:only-of-type {\n",
       "        vertical-align: middle;\n",
       "    }\n",
       "\n",
       "    .dataframe tbody tr th {\n",
       "        vertical-align: top;\n",
       "    }\n",
       "\n",
       "    .dataframe thead th {\n",
       "        text-align: right;\n",
       "    }\n",
       "</style>\n",
       "<table border=\"1\" class=\"dataframe\">\n",
       "  <thead>\n",
       "    <tr style=\"text-align: right;\">\n",
       "      <th></th>\n",
       "      <th>id</th>\n",
       "      <th>production_budget</th>\n",
       "      <th>domestic_gross</th>\n",
       "      <th>worldwide_gross</th>\n",
       "      <th>domestic_profit</th>\n",
       "      <th>worldwide_profit</th>\n",
       "      <th>domestic_roi</th>\n",
       "      <th>worldwide_roi</th>\n",
       "      <th>worldwide_profit_margin</th>\n",
       "      <th>domestic_profit_margin</th>\n",
       "      <th>year</th>\n",
       "    </tr>\n",
       "    <tr>\n",
       "      <th>month</th>\n",
       "      <th></th>\n",
       "      <th></th>\n",
       "      <th></th>\n",
       "      <th></th>\n",
       "      <th></th>\n",
       "      <th></th>\n",
       "      <th></th>\n",
       "      <th></th>\n",
       "      <th></th>\n",
       "      <th></th>\n",
       "      <th></th>\n",
       "    </tr>\n",
       "  </thead>\n",
       "  <tbody>\n",
       "    <tr>\n",
       "      <th>1</th>\n",
       "      <td>62.111111</td>\n",
       "      <td>1.530889e+07</td>\n",
       "      <td>6.043391e+07</td>\n",
       "      <td>1.067433e+08</td>\n",
       "      <td>4.512502e+07</td>\n",
       "      <td>9.143441e+07</td>\n",
       "      <td>3.613247</td>\n",
       "      <td>7.187499</td>\n",
       "      <td>0.841025</td>\n",
       "      <td>0.721858</td>\n",
       "      <td>2007.511111</td>\n",
       "    </tr>\n",
       "    <tr>\n",
       "      <th>2</th>\n",
       "      <td>60.762712</td>\n",
       "      <td>2.602712e+07</td>\n",
       "      <td>9.876946e+07</td>\n",
       "      <td>1.790130e+08</td>\n",
       "      <td>7.274234e+07</td>\n",
       "      <td>1.529858e+08</td>\n",
       "      <td>3.896533</td>\n",
       "      <td>6.531677</td>\n",
       "      <td>0.830403</td>\n",
       "      <td>0.723726</td>\n",
       "      <td>2006.084746</td>\n",
       "    </tr>\n",
       "    <tr>\n",
       "      <th>3</th>\n",
       "      <td>54.825397</td>\n",
       "      <td>2.935079e+07</td>\n",
       "      <td>1.036613e+08</td>\n",
       "      <td>2.063581e+08</td>\n",
       "      <td>7.431054e+07</td>\n",
       "      <td>1.770073e+08</td>\n",
       "      <td>3.768023</td>\n",
       "      <td>7.124758</td>\n",
       "      <td>0.839426</td>\n",
       "      <td>0.722721</td>\n",
       "      <td>2003.888889</td>\n",
       "    </tr>\n",
       "    <tr>\n",
       "      <th>4</th>\n",
       "      <td>58.852941</td>\n",
       "      <td>2.844118e+07</td>\n",
       "      <td>9.223844e+07</td>\n",
       "      <td>1.944605e+08</td>\n",
       "      <td>6.379726e+07</td>\n",
       "      <td>1.660193e+08</td>\n",
       "      <td>4.519145</td>\n",
       "      <td>8.048194</td>\n",
       "      <td>0.831628</td>\n",
       "      <td>0.718286</td>\n",
       "      <td>2005.029412</td>\n",
       "    </tr>\n",
       "    <tr>\n",
       "      <th>5</th>\n",
       "      <td>50.574074</td>\n",
       "      <td>5.079635e+07</td>\n",
       "      <td>1.867348e+08</td>\n",
       "      <td>4.051728e+08</td>\n",
       "      <td>1.359384e+08</td>\n",
       "      <td>3.543765e+08</td>\n",
       "      <td>4.472478</td>\n",
       "      <td>9.222615</td>\n",
       "      <td>0.869761</td>\n",
       "      <td>0.740407</td>\n",
       "      <td>2001.703704</td>\n",
       "    </tr>\n",
       "  </tbody>\n",
       "</table>\n",
       "</div>"
      ],
      "text/plain": [
       "              id  production_budget  domestic_gross  worldwide_gross  \\\n",
       "month                                                                  \n",
       "1      62.111111       1.530889e+07    6.043391e+07     1.067433e+08   \n",
       "2      60.762712       2.602712e+07    9.876946e+07     1.790130e+08   \n",
       "3      54.825397       2.935079e+07    1.036613e+08     2.063581e+08   \n",
       "4      58.852941       2.844118e+07    9.223844e+07     1.944605e+08   \n",
       "5      50.574074       5.079635e+07    1.867348e+08     4.051728e+08   \n",
       "\n",
       "       domestic_profit  worldwide_profit  domestic_roi  worldwide_roi  \\\n",
       "month                                                                   \n",
       "1         4.512502e+07      9.143441e+07      3.613247       7.187499   \n",
       "2         7.274234e+07      1.529858e+08      3.896533       6.531677   \n",
       "3         7.431054e+07      1.770073e+08      3.768023       7.124758   \n",
       "4         6.379726e+07      1.660193e+08      4.519145       8.048194   \n",
       "5         1.359384e+08      3.543765e+08      4.472478       9.222615   \n",
       "\n",
       "       worldwide_profit_margin  domestic_profit_margin         year  \n",
       "month                                                                \n",
       "1                     0.841025                0.721858  2007.511111  \n",
       "2                     0.830403                0.723726  2006.084746  \n",
       "3                     0.839426                0.722721  2003.888889  \n",
       "4                     0.831628                0.718286  2005.029412  \n",
       "5                     0.869761                0.740407  2001.703704  "
      ]
     },
     "execution_count": 98,
     "metadata": {},
     "output_type": "execute_result"
    }
   ],
   "source": [
    "top_movies_month.head()"
   ]
  },
  {
   "cell_type": "code",
   "execution_count": 99,
   "metadata": {},
   "outputs": [],
   "source": [
    "top_movies_month.drop('id', axis=1, inplace=True)"
   ]
  },
  {
   "cell_type": "code",
   "execution_count": 100,
   "metadata": {},
   "outputs": [],
   "source": [
    "top_movies_month.drop({'domestic_gross', 'worldwide_gross', 'domestic_profit', 'worldwide_profit'}, axis=1, inplace=True)"
   ]
  },
  {
   "cell_type": "code",
   "execution_count": 101,
   "metadata": {},
   "outputs": [],
   "source": [
    "#top_movies_month.rename({'domestic_profit_to_budget_ratio': 'domestic_roi', 'worldwide_profit_to_budget_ratio': 'worldwide_roi'}, axis=1, inplace=True)"
   ]
  },
  {
   "cell_type": "code",
   "execution_count": 102,
   "metadata": {},
   "outputs": [
    {
     "data": {
      "text/html": [
       "<div>\n",
       "<style scoped>\n",
       "    .dataframe tbody tr th:only-of-type {\n",
       "        vertical-align: middle;\n",
       "    }\n",
       "\n",
       "    .dataframe tbody tr th {\n",
       "        vertical-align: top;\n",
       "    }\n",
       "\n",
       "    .dataframe thead th {\n",
       "        text-align: right;\n",
       "    }\n",
       "</style>\n",
       "<table border=\"1\" class=\"dataframe\">\n",
       "  <thead>\n",
       "    <tr style=\"text-align: right;\">\n",
       "      <th></th>\n",
       "      <th>production_budget</th>\n",
       "      <th>domestic_roi</th>\n",
       "      <th>worldwide_roi</th>\n",
       "      <th>worldwide_profit_margin</th>\n",
       "      <th>domestic_profit_margin</th>\n",
       "      <th>year</th>\n",
       "    </tr>\n",
       "    <tr>\n",
       "      <th>month</th>\n",
       "      <th></th>\n",
       "      <th></th>\n",
       "      <th></th>\n",
       "      <th></th>\n",
       "      <th></th>\n",
       "      <th></th>\n",
       "    </tr>\n",
       "  </thead>\n",
       "  <tbody>\n",
       "    <tr>\n",
       "      <th>1</th>\n",
       "      <td>1.530889e+07</td>\n",
       "      <td>3.613247</td>\n",
       "      <td>7.187499</td>\n",
       "      <td>0.841025</td>\n",
       "      <td>0.721858</td>\n",
       "      <td>2007.511111</td>\n",
       "    </tr>\n",
       "    <tr>\n",
       "      <th>2</th>\n",
       "      <td>2.602712e+07</td>\n",
       "      <td>3.896533</td>\n",
       "      <td>6.531677</td>\n",
       "      <td>0.830403</td>\n",
       "      <td>0.723726</td>\n",
       "      <td>2006.084746</td>\n",
       "    </tr>\n",
       "    <tr>\n",
       "      <th>3</th>\n",
       "      <td>2.935079e+07</td>\n",
       "      <td>3.768023</td>\n",
       "      <td>7.124758</td>\n",
       "      <td>0.839426</td>\n",
       "      <td>0.722721</td>\n",
       "      <td>2003.888889</td>\n",
       "    </tr>\n",
       "    <tr>\n",
       "      <th>4</th>\n",
       "      <td>2.844118e+07</td>\n",
       "      <td>4.519145</td>\n",
       "      <td>8.048194</td>\n",
       "      <td>0.831628</td>\n",
       "      <td>0.718286</td>\n",
       "      <td>2005.029412</td>\n",
       "    </tr>\n",
       "    <tr>\n",
       "      <th>5</th>\n",
       "      <td>5.079635e+07</td>\n",
       "      <td>4.472478</td>\n",
       "      <td>9.222615</td>\n",
       "      <td>0.869761</td>\n",
       "      <td>0.740407</td>\n",
       "      <td>2001.703704</td>\n",
       "    </tr>\n",
       "  </tbody>\n",
       "</table>\n",
       "</div>"
      ],
      "text/plain": [
       "       production_budget  domestic_roi  worldwide_roi  \\\n",
       "month                                                   \n",
       "1           1.530889e+07      3.613247       7.187499   \n",
       "2           2.602712e+07      3.896533       6.531677   \n",
       "3           2.935079e+07      3.768023       7.124758   \n",
       "4           2.844118e+07      4.519145       8.048194   \n",
       "5           5.079635e+07      4.472478       9.222615   \n",
       "\n",
       "       worldwide_profit_margin  domestic_profit_margin         year  \n",
       "month                                                                \n",
       "1                     0.841025                0.721858  2007.511111  \n",
       "2                     0.830403                0.723726  2006.084746  \n",
       "3                     0.839426                0.722721  2003.888889  \n",
       "4                     0.831628                0.718286  2005.029412  \n",
       "5                     0.869761                0.740407  2001.703704  "
      ]
     },
     "execution_count": 102,
     "metadata": {},
     "output_type": "execute_result"
    }
   ],
   "source": [
    "top_movies_month.head()"
   ]
  },
  {
   "cell_type": "code",
   "execution_count": 103,
   "metadata": {},
   "outputs": [],
   "source": [
    "top_movies_month.drop({'worldwide_profit_margin', 'domestic_profit_margin'}, axis=1, inplace=True)"
   ]
  },
  {
   "cell_type": "code",
   "execution_count": 104,
   "metadata": {},
   "outputs": [
    {
     "data": {
      "text/html": [
       "<div>\n",
       "<style scoped>\n",
       "    .dataframe tbody tr th:only-of-type {\n",
       "        vertical-align: middle;\n",
       "    }\n",
       "\n",
       "    .dataframe tbody tr th {\n",
       "        vertical-align: top;\n",
       "    }\n",
       "\n",
       "    .dataframe thead th {\n",
       "        text-align: right;\n",
       "    }\n",
       "</style>\n",
       "<table border=\"1\" class=\"dataframe\">\n",
       "  <thead>\n",
       "    <tr style=\"text-align: right;\">\n",
       "      <th></th>\n",
       "      <th>production_budget</th>\n",
       "      <th>domestic_roi</th>\n",
       "      <th>worldwide_roi</th>\n",
       "      <th>year</th>\n",
       "    </tr>\n",
       "    <tr>\n",
       "      <th>month</th>\n",
       "      <th></th>\n",
       "      <th></th>\n",
       "      <th></th>\n",
       "      <th></th>\n",
       "    </tr>\n",
       "  </thead>\n",
       "  <tbody>\n",
       "    <tr>\n",
       "      <th>1</th>\n",
       "      <td>1.530889e+07</td>\n",
       "      <td>3.613247</td>\n",
       "      <td>7.187499</td>\n",
       "      <td>2007.511111</td>\n",
       "    </tr>\n",
       "    <tr>\n",
       "      <th>2</th>\n",
       "      <td>2.602712e+07</td>\n",
       "      <td>3.896533</td>\n",
       "      <td>6.531677</td>\n",
       "      <td>2006.084746</td>\n",
       "    </tr>\n",
       "    <tr>\n",
       "      <th>3</th>\n",
       "      <td>2.935079e+07</td>\n",
       "      <td>3.768023</td>\n",
       "      <td>7.124758</td>\n",
       "      <td>2003.888889</td>\n",
       "    </tr>\n",
       "    <tr>\n",
       "      <th>4</th>\n",
       "      <td>2.844118e+07</td>\n",
       "      <td>4.519145</td>\n",
       "      <td>8.048194</td>\n",
       "      <td>2005.029412</td>\n",
       "    </tr>\n",
       "    <tr>\n",
       "      <th>5</th>\n",
       "      <td>5.079635e+07</td>\n",
       "      <td>4.472478</td>\n",
       "      <td>9.222615</td>\n",
       "      <td>2001.703704</td>\n",
       "    </tr>\n",
       "    <tr>\n",
       "      <th>6</th>\n",
       "      <td>4.160889e+07</td>\n",
       "      <td>4.649156</td>\n",
       "      <td>9.265867</td>\n",
       "      <td>1999.333333</td>\n",
       "    </tr>\n",
       "    <tr>\n",
       "      <th>7</th>\n",
       "      <td>3.930441e+07</td>\n",
       "      <td>3.617786</td>\n",
       "      <td>7.720248</td>\n",
       "      <td>2002.382353</td>\n",
       "    </tr>\n",
       "    <tr>\n",
       "      <th>8</th>\n",
       "      <td>2.102732e+07</td>\n",
       "      <td>3.683140</td>\n",
       "      <td>6.859137</td>\n",
       "      <td>2005.763636</td>\n",
       "    </tr>\n",
       "    <tr>\n",
       "      <th>9</th>\n",
       "      <td>1.771042e+07</td>\n",
       "      <td>4.194985</td>\n",
       "      <td>7.795637</td>\n",
       "      <td>2003.583333</td>\n",
       "    </tr>\n",
       "    <tr>\n",
       "      <th>10</th>\n",
       "      <td>2.017769e+07</td>\n",
       "      <td>4.824035</td>\n",
       "      <td>9.851593</td>\n",
       "      <td>2000.323077</td>\n",
       "    </tr>\n",
       "    <tr>\n",
       "      <th>11</th>\n",
       "      <td>3.616944e+07</td>\n",
       "      <td>3.568169</td>\n",
       "      <td>8.168003</td>\n",
       "      <td>2003.200000</td>\n",
       "    </tr>\n",
       "    <tr>\n",
       "      <th>12</th>\n",
       "      <td>3.917257e+07</td>\n",
       "      <td>4.008360</td>\n",
       "      <td>7.783143</td>\n",
       "      <td>1998.442478</td>\n",
       "    </tr>\n",
       "  </tbody>\n",
       "</table>\n",
       "</div>"
      ],
      "text/plain": [
       "       production_budget  domestic_roi  worldwide_roi         year\n",
       "month                                                             \n",
       "1           1.530889e+07      3.613247       7.187499  2007.511111\n",
       "2           2.602712e+07      3.896533       6.531677  2006.084746\n",
       "3           2.935079e+07      3.768023       7.124758  2003.888889\n",
       "4           2.844118e+07      4.519145       8.048194  2005.029412\n",
       "5           5.079635e+07      4.472478       9.222615  2001.703704\n",
       "6           4.160889e+07      4.649156       9.265867  1999.333333\n",
       "7           3.930441e+07      3.617786       7.720248  2002.382353\n",
       "8           2.102732e+07      3.683140       6.859137  2005.763636\n",
       "9           1.771042e+07      4.194985       7.795637  2003.583333\n",
       "10          2.017769e+07      4.824035       9.851593  2000.323077\n",
       "11          3.616944e+07      3.568169       8.168003  2003.200000\n",
       "12          3.917257e+07      4.008360       7.783143  1998.442478"
      ]
     },
     "execution_count": 104,
     "metadata": {},
     "output_type": "execute_result"
    }
   ],
   "source": [
    "top_movies_month"
   ]
  },
  {
   "cell_type": "code",
   "execution_count": 105,
   "metadata": {},
   "outputs": [
    {
     "data": {
      "text/html": [
       "<div>\n",
       "<style scoped>\n",
       "    .dataframe tbody tr th:only-of-type {\n",
       "        vertical-align: middle;\n",
       "    }\n",
       "\n",
       "    .dataframe tbody tr th {\n",
       "        vertical-align: top;\n",
       "    }\n",
       "\n",
       "    .dataframe thead th {\n",
       "        text-align: right;\n",
       "    }\n",
       "</style>\n",
       "<table border=\"1\" class=\"dataframe\">\n",
       "  <thead>\n",
       "    <tr style=\"text-align: right;\">\n",
       "      <th></th>\n",
       "      <th>production_budget</th>\n",
       "      <th>domestic_roi</th>\n",
       "      <th>worldwide_roi</th>\n",
       "      <th>year</th>\n",
       "      <th>movie_count</th>\n",
       "    </tr>\n",
       "    <tr>\n",
       "      <th>month</th>\n",
       "      <th></th>\n",
       "      <th></th>\n",
       "      <th></th>\n",
       "      <th></th>\n",
       "      <th></th>\n",
       "    </tr>\n",
       "  </thead>\n",
       "  <tbody>\n",
       "    <tr>\n",
       "      <th>1</th>\n",
       "      <td>1.530889e+07</td>\n",
       "      <td>3.613247</td>\n",
       "      <td>7.187499</td>\n",
       "      <td>2007.511111</td>\n",
       "      <td>45</td>\n",
       "    </tr>\n",
       "    <tr>\n",
       "      <th>2</th>\n",
       "      <td>2.602712e+07</td>\n",
       "      <td>3.896533</td>\n",
       "      <td>6.531677</td>\n",
       "      <td>2006.084746</td>\n",
       "      <td>59</td>\n",
       "    </tr>\n",
       "    <tr>\n",
       "      <th>3</th>\n",
       "      <td>2.935079e+07</td>\n",
       "      <td>3.768023</td>\n",
       "      <td>7.124758</td>\n",
       "      <td>2003.888889</td>\n",
       "      <td>63</td>\n",
       "    </tr>\n",
       "    <tr>\n",
       "      <th>4</th>\n",
       "      <td>2.844118e+07</td>\n",
       "      <td>4.519145</td>\n",
       "      <td>8.048194</td>\n",
       "      <td>2005.029412</td>\n",
       "      <td>34</td>\n",
       "    </tr>\n",
       "    <tr>\n",
       "      <th>5</th>\n",
       "      <td>5.079635e+07</td>\n",
       "      <td>4.472478</td>\n",
       "      <td>9.222615</td>\n",
       "      <td>2001.703704</td>\n",
       "      <td>54</td>\n",
       "    </tr>\n",
       "    <tr>\n",
       "      <th>6</th>\n",
       "      <td>4.160889e+07</td>\n",
       "      <td>4.649156</td>\n",
       "      <td>9.265867</td>\n",
       "      <td>1999.333333</td>\n",
       "      <td>90</td>\n",
       "    </tr>\n",
       "    <tr>\n",
       "      <th>7</th>\n",
       "      <td>3.930441e+07</td>\n",
       "      <td>3.617786</td>\n",
       "      <td>7.720248</td>\n",
       "      <td>2002.382353</td>\n",
       "      <td>68</td>\n",
       "    </tr>\n",
       "    <tr>\n",
       "      <th>8</th>\n",
       "      <td>2.102732e+07</td>\n",
       "      <td>3.683140</td>\n",
       "      <td>6.859137</td>\n",
       "      <td>2005.763636</td>\n",
       "      <td>55</td>\n",
       "    </tr>\n",
       "    <tr>\n",
       "      <th>9</th>\n",
       "      <td>1.771042e+07</td>\n",
       "      <td>4.194985</td>\n",
       "      <td>7.795637</td>\n",
       "      <td>2003.583333</td>\n",
       "      <td>48</td>\n",
       "    </tr>\n",
       "    <tr>\n",
       "      <th>10</th>\n",
       "      <td>2.017769e+07</td>\n",
       "      <td>4.824035</td>\n",
       "      <td>9.851593</td>\n",
       "      <td>2000.323077</td>\n",
       "      <td>65</td>\n",
       "    </tr>\n",
       "    <tr>\n",
       "      <th>11</th>\n",
       "      <td>3.616944e+07</td>\n",
       "      <td>3.568169</td>\n",
       "      <td>8.168003</td>\n",
       "      <td>2003.200000</td>\n",
       "      <td>90</td>\n",
       "    </tr>\n",
       "    <tr>\n",
       "      <th>12</th>\n",
       "      <td>3.917257e+07</td>\n",
       "      <td>4.008360</td>\n",
       "      <td>7.783143</td>\n",
       "      <td>1998.442478</td>\n",
       "      <td>113</td>\n",
       "    </tr>\n",
       "  </tbody>\n",
       "</table>\n",
       "</div>"
      ],
      "text/plain": [
       "       production_budget  domestic_roi  worldwide_roi         year  \\\n",
       "month                                                                \n",
       "1           1.530889e+07      3.613247       7.187499  2007.511111   \n",
       "2           2.602712e+07      3.896533       6.531677  2006.084746   \n",
       "3           2.935079e+07      3.768023       7.124758  2003.888889   \n",
       "4           2.844118e+07      4.519145       8.048194  2005.029412   \n",
       "5           5.079635e+07      4.472478       9.222615  2001.703704   \n",
       "6           4.160889e+07      4.649156       9.265867  1999.333333   \n",
       "7           3.930441e+07      3.617786       7.720248  2002.382353   \n",
       "8           2.102732e+07      3.683140       6.859137  2005.763636   \n",
       "9           1.771042e+07      4.194985       7.795637  2003.583333   \n",
       "10          2.017769e+07      4.824035       9.851593  2000.323077   \n",
       "11          3.616944e+07      3.568169       8.168003  2003.200000   \n",
       "12          3.917257e+07      4.008360       7.783143  1998.442478   \n",
       "\n",
       "       movie_count  \n",
       "month               \n",
       "1               45  \n",
       "2               59  \n",
       "3               63  \n",
       "4               34  \n",
       "5               54  \n",
       "6               90  \n",
       "7               68  \n",
       "8               55  \n",
       "9               48  \n",
       "10              65  \n",
       "11              90  \n",
       "12             113  "
      ]
     },
     "execution_count": 105,
     "metadata": {},
     "output_type": "execute_result"
    }
   ],
   "source": [
    "top_movies_month['movie_count'] = top_movies['month'].value_counts()\n",
    "top_movies_month"
   ]
  },
  {
   "cell_type": "code",
   "execution_count": 106,
   "metadata": {},
   "outputs": [],
   "source": [
    "top_movies_month.reset_index(inplace=True)"
   ]
  },
  {
   "cell_type": "code",
   "execution_count": 107,
   "metadata": {},
   "outputs": [
    {
     "name": "stderr",
     "output_type": "stream",
     "text": [
      "<ipython-input-107-58475d7dccfa>:19: UserWarning: FixedFormatter should only be used together with FixedLocator\n",
      "  ax1.set_xticklabels(months, size = 12)\n"
     ]
    },
    {
     "data": {
      "image/png": "[encoded data removed]",
      "text/plain": [
       "<Figure size 864x576 with 2 Axes>"
      ]
     },
     "metadata": {
      "needs_background": "light"
     },
     "output_type": "display_data"
    }
   ],
   "source": [
    "fig, ax1 = plt.subplots(figsize = (12, 8))\n",
    "\n",
    "x = top_movies_month['month']\n",
    "h = top_movies_month['production_budget']\n",
    "y1 = top_movies_month['domestic_roi']\n",
    "y2 = top_movies_month['worldwide_roi']\n",
    "\n",
    "months = ['Jan', 'Feb', 'Mar', 'Apr', 'May', 'Jun', 'Jul', 'Aug', 'Sep', 'Oct', 'Nov', 'Dec']\n",
    "\n",
    "ax2 = ax1.twinx()\n",
    "\n",
    "ax1.bar(x, h, alpha = 0.25, color=['blue', 'blue', 'blue', 'blue', 'green', 'green', 'blue', 'blue', 'blue','green', 'blue', 'blue'])\n",
    "\n",
    "line1, = ax2.plot(x, y1)\n",
    "line2, = ax2.plot(x, y2, color='red')\n",
    "\n",
    "ax1.set_title('Mean Budget, Worldwide And Domestic ROI For Top Movies By Month', {'fontsize':15, 'fontweight':'bold'}, backgroundcolor = 'white')\n",
    "ax1.set_xlabel('Month', fontsize = 15)\n",
    "ax1.set_xticklabels(months, size = 12)\n",
    "ax1.set_ylabel('Mean Production Budget($10M)', fontsize = 15)\n",
    "ax1.set_xticks(list(range(1,13)))\n",
    "\n",
    "ax2.set_ylabel('ROI', fontsize = 15)\n",
    "ax2.legend([line1, line2],['Mean Domestic ROI', 'Mean Worldwide ROI'], loc='upper left')\n",
    "\n",
    "plt.rc('xtick', labelsize=10) \n",
    "plt.rc('ytick', labelsize=10)\n",
    "\n",
    "plt.savefig('/Users/ericdenbin/Documents/flatiron_ds/phase_1/phase_1_project/lej_project1/Budget_Worldwide_And_Domestic_ROI_For_Top_Movies_Month.png', bbox_inches='tight');"
   ]
  },
  {
   "cell_type": "code",
   "execution_count": 108,
   "metadata": {},
   "outputs": [
    {
     "name": "stderr",
     "output_type": "stream",
     "text": [
      "<ipython-input-108-da7f42878f46>:19: UserWarning: FixedFormatter should only be used together with FixedLocator\n",
      "  ax.set_xticklabels(months, size = 12)\n"
     ]
    },
    {
     "data": {
      "image/png": "[encoded data removed]",
      "text/plain": [
       "<Figure size 864x576 with 1 Axes>"
      ]
     },
     "metadata": {
      "needs_background": "light"
     },
     "output_type": "display_data"
    }
   ],
   "source": [
    "fig, ax = plt.subplots(figsize = (12, 8))\n",
    "\n",
    "x = top_movies_month['month']\n",
    "h = top_movies_month['production_budget']\n",
    "y1 = top_movies_month['domestic_roi']\n",
    "y2 = top_movies_month['worldwide_roi']\n",
    "\n",
    "months = ['Jan', 'Feb', 'Mar', 'Apr', 'May', 'Jun', 'Jul', 'Aug', 'Sep', 'Oct', 'Nov', 'Dec']\n",
    "\n",
    "#ax1 = ax.twinx()\n",
    "\n",
    "#ax1.bar(x, h, alpha = 0.25, color='green')\n",
    "\n",
    "line1, = ax.plot(x, y1)\n",
    "line2, = ax.plot(x, y2, color='red')\n",
    "\n",
    "ax.set_title('Mean Worldwide And Domestic ROI By Month For Successful Movies', {'fontsize':15, 'fontweight':'bold'})\n",
    "ax.set_xlabel('Month', fontsize = 15)\n",
    "ax.set_xticklabels(months, size = 12)\n",
    "ax.set_ylabel('ROI', fontsize = 15)\n",
    "ax.set_xticks(list(range(1,13)))\n",
    "\n",
    "ax.legend([line1, line2],['Mean Domestic ROI', 'Mean Worldwide ROI'], loc='upper left')\n",
    "\n",
    "#ax1.set_ylabel('ROI', fontsize = 15)\n",
    "plt.grid(False)\n",
    "plt.rc('xtick', labelsize=10) \n",
    "plt.rc('ytick', labelsize=10)\n",
    "\n",
    "#fig = ax.get_figure()\n",
    "plt.savefig('/Users/ericdenbin/Documents/flatiron_ds/phase_1/phase_1_project/lej_project1/Budget_Worldwide_And_Domestic_ROI_For_Top_Movies_Month_No_Bar.png', bbox_inches='tight');"
   ]
  },
  {
   "cell_type": "code",
   "execution_count": 109,
   "metadata": {},
   "outputs": [
    {
     "data": {
      "text/plain": [
       "''"
      ]
     },
     "execution_count": 109,
     "metadata": {},
     "output_type": "execute_result"
    },
    {
     "data": {
      "image/png": "[encoded data removed]",
      "text/plain": [
       "<Figure size 576x576 with 1 Axes>"
      ]
     },
     "metadata": {
      "needs_background": "light"
     },
     "output_type": "display_data"
    }
   ],
   "source": [
    "fig, ax = plt.subplots(figsize=(8,8))\n",
    "\n",
    "x = [('5 - 25'), ('25 - 50'), ('50 - 75'), ('75 - 100'), ('100 - 200'), ('200 - 300'), ('300 - 400')]\n",
    "\n",
    "h = [per_movies_5_to_25_with_neg_return_ww, per_movies_25_to_50_with_neg_return_ww, per_movies_50_to_75_with_neg_return_ww,\n",
    "     per_movies_75_to_100_with_neg_return_ww, per_movies_100_to_200_with_neg_return_ww, per_movies_200_to_300_with_neg_return_ww,\n",
    "    per_movies_300_to_400_with_neg_return_ww]\n",
    "\n",
    "ax.bar(x, h);\n",
    "\n",
    "ax.set_title('Production Budget vs. Percent Of Movies With Negative Return', {'fontsize':17, 'fontweight':'bold'})\n",
    "ax.set_xlabel('Production Budget ($M)', fontsize = 15)\n",
    "ax.set_ylabel('Percent Of Movies With Negative Return', fontsize = 15)\n",
    "\n",
    "\n",
    "plt.rc('xtick', labelsize=10) \n",
    "plt.rc('ytick', labelsize=10)\n",
    "\n",
    ";"
   ]
  },
  {
   "cell_type": "code",
   "execution_count": 110,
   "metadata": {},
   "outputs": [
    {
     "data": {
      "image/png": "[encoded data removed]",
      "text/plain": [
       "<Figure size 576x576 with 1 Axes>"
      ]
     },
     "metadata": {
      "needs_background": "light"
     },
     "output_type": "display_data"
    }
   ],
   "source": [
    "fig, ax = plt.subplots(figsize=(8,8))\n",
    "\n",
    "x = [('5 - 25'), ('25 - 50'), ('50 - 75'), ('75 - 100'), ('100 - 200'), ('200 - 300'), ('300 - 400')]\n",
    "\n",
    "h = [(100 - per_movies_5_to_25_with_neg_return_ww), \n",
    "     (100 - per_movies_25_to_50_with_neg_return_ww), \n",
    "     (100 - per_movies_50_to_75_with_neg_return_ww),\n",
    "     (100 - per_movies_75_to_100_with_neg_return_ww), \n",
    "     (100 - per_movies_100_to_200_with_neg_return_ww), \n",
    "     (100 - per_movies_200_to_300_with_neg_return_ww), \n",
    "     (100 - per_movies_300_to_400_with_neg_return_ww)]\n",
    "\n",
    "ax.bar(x, h, color=['blue', 'blue', 'blue', 'blue', 'green', 'green', 'blue']);\n",
    "\n",
    "ax.set_title('Production Budget vs. Percent Of Movies With Positive ROI', {'fontsize':15, 'fontweight':'bold'})\n",
    "ax.set_xlabel('Production Budget ($M)', fontsize = 14)\n",
    "ax.set_ylabel('Movies With Positive Return(%)', fontsize = 14)\n",
    "\n",
    "plt.grid(False)\n",
    "plt.rc('xtick', labelsize=10) \n",
    "plt.rc('ytick', labelsize=10)\n",
    "\n",
    "\n",
    "plt.savefig('/Users/ericdenbin/Documents/flatiron_ds/phase_1/phase_1_project/lej_project1/budget_to_pos_ROI_Highlighted_Bars_No_Grid.png');"
   ]
  },
  {
   "cell_type": "code",
   "execution_count": 111,
   "metadata": {},
   "outputs": [
    {
     "data": {
      "text/plain": [
       "''"
      ]
     },
     "execution_count": 111,
     "metadata": {},
     "output_type": "execute_result"
    },
    {
     "data": {
      "image/png": "[encoded data removed]",
      "text/plain": [
       "<Figure size 576x576 with 1 Axes>"
      ]
     },
     "metadata": {
      "needs_background": "light"
     },
     "output_type": "display_data"
    }
   ],
   "source": [
    "fig, ax = plt.subplots(figsize=(8,8))\n",
    "\n",
    "x = [('5 - 25'), ('25 - 50'), ('50 - 75'), ('75 - 100'), ('100 - 200'), ('200 - 300'), ('300 - 400')]\n",
    "\n",
    "h = [(100 - per_movies_5_to_25_with_neg_return_ww), \n",
    "     (100 - per_movies_25_to_50_with_neg_return_ww), \n",
    "     (100 - per_movies_50_to_75_with_neg_return_ww),\n",
    "     (100 - per_movies_75_to_100_with_neg_return_ww), \n",
    "     (100 - per_movies_100_to_200_with_neg_return_ww), \n",
    "     (100 - per_movies_200_to_300_with_neg_return_ww), \n",
    "     (100 - per_movies_300_to_400_with_neg_return_ww)]\n",
    "\n",
    "ax.bar(x, h, color = ['blue', 'blue', 'blue', 'blue', 'red', 'red', 'blue'])\n",
    "\n",
    "ax.set_title('Production Budget vs. Percentage Of Worldwide Movies With Positive ROI', {'fontsize':15, 'fontweight':'bold'})\n",
    "ax.set_xlabel('Production Budget($M)', fontsize = 15)\n",
    "ax.set_ylabel('Percentage Of Worldwide Movies With A Positive ROI', fontsize = 15)\n",
    "\n",
    "#ax.set_facecolor('xkcd:white')\n",
    "\n",
    "plt.rc('xtick', labelsize=10) \n",
    "plt.rc('ytick', labelsize=10)\n",
    "\n",
    "plt.savefig('/Users/ericdenbin/Documents/flatiron_ds/phase_1/phase_1_project/lej_project1/budget_to_pos_ROI_Highlighted_Bars.png')\n",
    "\n",
    ";"
   ]
  },
  {
   "cell_type": "code",
   "execution_count": null,
   "metadata": {},
   "outputs": [],
   "source": []
  }
 ],
 "metadata": {
  "kernelspec": {
   "display_name": "Python (learn-env)",
   "language": "python",
   "name": "learn-env"
  },
  "language_info": {
   "codemirror_mode": {
    "name": "ipython",
    "version": 3
   },
   "file_extension": ".py",
   "mimetype": "text/x-python",
   "name": "python",
   "nbconvert_exporter": "python",
   "pygments_lexer": "ipython3",
   "version": "3.8.5"
  }
 },
 "nbformat": 4,
 "nbformat_minor": 4
}
