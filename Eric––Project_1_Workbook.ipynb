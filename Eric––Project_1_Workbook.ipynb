{
 "cells": [
  {
   "cell_type": "code",
   "execution_count": 1,
   "metadata": {},
   "outputs": [
    {
     "name": "stdout",
     "output_type": "stream",
     "text": [
      "Eric––Project_1_Workbook.ipynb       lorela_working_nb.ipynb\r\n",
      "README.md                            microsoft_movie_needs_analysis.ipynb\r\n",
      "imdb.title.crew.csv.gz               top_movie_list.txt\r\n",
      "imdb.title.ratings.csv.gz            \u001b[34munzippedData\u001b[m\u001b[m\r\n",
      "jmark_working_nb.ipynb\r\n"
     ]
    }
   ],
   "source": [
    "! ls"
   ]
  },
  {
   "cell_type": "code",
   "execution_count": 2,
   "metadata": {},
   "outputs": [],
   "source": [
    "! cd unzippedData"
   ]
  },
  {
   "cell_type": "code",
   "execution_count": 3,
   "metadata": {},
   "outputs": [
    {
     "name": "stdout",
     "output_type": "stream",
     "text": [
      "Eric––Project_1_Workbook.ipynb       lorela_working_nb.ipynb\r\n",
      "README.md                            microsoft_movie_needs_analysis.ipynb\r\n",
      "imdb.title.crew.csv.gz               top_movie_list.txt\r\n",
      "imdb.title.ratings.csv.gz            \u001b[34munzippedData\u001b[m\u001b[m\r\n",
      "jmark_working_nb.ipynb\r\n"
     ]
    }
   ],
   "source": [
    "! ls"
   ]
  },
  {
   "cell_type": "code",
   "execution_count": 4,
   "metadata": {},
   "outputs": [
    {
     "name": "stdout",
     "output_type": "stream",
     "text": [
      "/bin/bash: line 0: cd: /unzippedData: No such file or directory\r\n"
     ]
    }
   ],
   "source": [
    "! cd /unzippedData"
   ]
  },
  {
   "cell_type": "code",
   "execution_count": 5,
   "metadata": {},
   "outputs": [
    {
     "name": "stdout",
     "output_type": "stream",
     "text": [
      "Eric––Project_1_Workbook.ipynb       lorela_working_nb.ipynb\r\n",
      "README.md                            microsoft_movie_needs_analysis.ipynb\r\n",
      "imdb.title.crew.csv.gz               top_movie_list.txt\r\n",
      "imdb.title.ratings.csv.gz            \u001b[34munzippedData\u001b[m\u001b[m\r\n",
      "jmark_working_nb.ipynb\r\n"
     ]
    }
   ],
   "source": [
    "! ls"
   ]
  },
  {
   "cell_type": "code",
   "execution_count": 6,
   "metadata": {},
   "outputs": [
    {
     "name": "stdout",
     "output_type": "stream",
     "text": [
      "/Users/ericdenbin/Documents/flatiron_ds/phase_1/phase_1_project/lej_project1/unzippedData\n"
     ]
    }
   ],
   "source": [
    "cd unzippedData"
   ]
  },
  {
   "cell_type": "code",
   "execution_count": 7,
   "metadata": {},
   "outputs": [
    {
     "name": "stdout",
     "output_type": "stream",
     "text": [
      "bom.movie_gross.csv       imdb.title.basics.csv     rt.reviews.tsv\r\n",
      "imdb.name.basics.csv      imdb.title.principals.csv tmdb.movies.csv\r\n",
      "imdb.title.akas.csv       rt.movie_info.tsv         tn.movie_budgets.csv\r\n"
     ]
    }
   ],
   "source": [
    "! ls"
   ]
  },
  {
   "cell_type": "code",
   "execution_count": 8,
   "metadata": {},
   "outputs": [],
   "source": [
    "#Importing pandas\n",
    "\n",
    "import pandas as pd\n",
    "import datetime\n"
   ]
  },
  {
   "cell_type": "code",
   "execution_count": 9,
   "metadata": {},
   "outputs": [],
   "source": [
    "# Defining top performing movies \n",
    "    # highest grossing and highest ROI\n",
    "    \n",
    "    # action: clean, filter, analyze this dataset\n",
    "\n",
    "    # get the list of value counts of top genres (and actors, directors, studios, writers) based on this new dataset created \n",
    "        # look back on other (top_critic=1,  i.e. rating >4)\n",
    "    \n",
    "    # draw correlations between the top performing movies and genre, directors, studios, writers, actors, ratings\n",
    "    \n",
    "    # also looking into movies performing poorly (given enough time)"
   ]
  },
  {
   "cell_type": "code",
   "execution_count": 10,
   "metadata": {},
   "outputs": [
    {
     "name": "stdout",
     "output_type": "stream",
     "text": [
      "[Errno 2] No such file or directory: 'unzippedData'\n",
      "/Users/ericdenbin/Documents/flatiron_ds/phase_1/phase_1_project/lej_project1/unzippedData\n"
     ]
    }
   ],
   "source": [
    "cd unzippedData"
   ]
  },
  {
   "cell_type": "code",
   "execution_count": 11,
   "metadata": {},
   "outputs": [],
   "source": [
    "movie_budgets_df = pd.read_csv(\"tn.movie_budgets.csv\")\n",
    "\n",
    "movie_gross_df = pd.read_csv(\"bom.movie_gross.csv\")"
   ]
  },
  {
   "cell_type": "code",
   "execution_count": 12,
   "metadata": {},
   "outputs": [
    {
     "data": {
      "text/html": [
       "<div>\n",
       "<style scoped>\n",
       "    .dataframe tbody tr th:only-of-type {\n",
       "        vertical-align: middle;\n",
       "    }\n",
       "\n",
       "    .dataframe tbody tr th {\n",
       "        vertical-align: top;\n",
       "    }\n",
       "\n",
       "    .dataframe thead th {\n",
       "        text-align: right;\n",
       "    }\n",
       "</style>\n",
       "<table border=\"1\" class=\"dataframe\">\n",
       "  <thead>\n",
       "    <tr style=\"text-align: right;\">\n",
       "      <th></th>\n",
       "      <th>id</th>\n",
       "      <th>release_date</th>\n",
       "      <th>movie</th>\n",
       "      <th>production_budget</th>\n",
       "      <th>domestic_gross</th>\n",
       "      <th>worldwide_gross</th>\n",
       "    </tr>\n",
       "  </thead>\n",
       "  <tbody>\n",
       "    <tr>\n",
       "      <th>0</th>\n",
       "      <td>1</td>\n",
       "      <td>Dec 18, 2009</td>\n",
       "      <td>Avatar</td>\n",
       "      <td>$425,000,000</td>\n",
       "      <td>$760,507,625</td>\n",
       "      <td>$2,776,345,279</td>\n",
       "    </tr>\n",
       "    <tr>\n",
       "      <th>1</th>\n",
       "      <td>2</td>\n",
       "      <td>May 20, 2011</td>\n",
       "      <td>Pirates of the Caribbean: On Stranger Tides</td>\n",
       "      <td>$410,600,000</td>\n",
       "      <td>$241,063,875</td>\n",
       "      <td>$1,045,663,875</td>\n",
       "    </tr>\n",
       "    <tr>\n",
       "      <th>2</th>\n",
       "      <td>3</td>\n",
       "      <td>Jun 7, 2019</td>\n",
       "      <td>Dark Phoenix</td>\n",
       "      <td>$350,000,000</td>\n",
       "      <td>$42,762,350</td>\n",
       "      <td>$149,762,350</td>\n",
       "    </tr>\n",
       "    <tr>\n",
       "      <th>3</th>\n",
       "      <td>4</td>\n",
       "      <td>May 1, 2015</td>\n",
       "      <td>Avengers: Age of Ultron</td>\n",
       "      <td>$330,600,000</td>\n",
       "      <td>$459,005,868</td>\n",
       "      <td>$1,403,013,963</td>\n",
       "    </tr>\n",
       "    <tr>\n",
       "      <th>4</th>\n",
       "      <td>5</td>\n",
       "      <td>Dec 15, 2017</td>\n",
       "      <td>Star Wars Ep. VIII: The Last Jedi</td>\n",
       "      <td>$317,000,000</td>\n",
       "      <td>$620,181,382</td>\n",
       "      <td>$1,316,721,747</td>\n",
       "    </tr>\n",
       "  </tbody>\n",
       "</table>\n",
       "</div>"
      ],
      "text/plain": [
       "   id  release_date                                        movie  \\\n",
       "0   1  Dec 18, 2009                                       Avatar   \n",
       "1   2  May 20, 2011  Pirates of the Caribbean: On Stranger Tides   \n",
       "2   3   Jun 7, 2019                                 Dark Phoenix   \n",
       "3   4   May 1, 2015                      Avengers: Age of Ultron   \n",
       "4   5  Dec 15, 2017            Star Wars Ep. VIII: The Last Jedi   \n",
       "\n",
       "  production_budget domestic_gross worldwide_gross  \n",
       "0      $425,000,000   $760,507,625  $2,776,345,279  \n",
       "1      $410,600,000   $241,063,875  $1,045,663,875  \n",
       "2      $350,000,000    $42,762,350    $149,762,350  \n",
       "3      $330,600,000   $459,005,868  $1,403,013,963  \n",
       "4      $317,000,000   $620,181,382  $1,316,721,747  "
      ]
     },
     "execution_count": 12,
     "metadata": {},
     "output_type": "execute_result"
    }
   ],
   "source": [
    "movie_budgets_df.head()"
   ]
  },
  {
   "cell_type": "code",
   "execution_count": 13,
   "metadata": {},
   "outputs": [],
   "source": [
    "# Engineering two new features for the movie budgets dataframe called domestic profit and worldwide profit, \n",
    "# which is the production budget subtracted from domestic gross and worldwide gross, respectively\n",
    "\n",
    "#First we have to clean the columns, removing the dollar sign and commas and creating integers\n",
    "\n",
    "movie_budgets_df['domestic_gross'] = movie_budgets_df['domestic_gross'].map(lambda x: x[1:])\n",
    "\n"
   ]
  },
  {
   "cell_type": "code",
   "execution_count": 14,
   "metadata": {
    "scrolled": false
   },
   "outputs": [
    {
     "data": {
      "text/html": [
       "<div>\n",
       "<style scoped>\n",
       "    .dataframe tbody tr th:only-of-type {\n",
       "        vertical-align: middle;\n",
       "    }\n",
       "\n",
       "    .dataframe tbody tr th {\n",
       "        vertical-align: top;\n",
       "    }\n",
       "\n",
       "    .dataframe thead th {\n",
       "        text-align: right;\n",
       "    }\n",
       "</style>\n",
       "<table border=\"1\" class=\"dataframe\">\n",
       "  <thead>\n",
       "    <tr style=\"text-align: right;\">\n",
       "      <th></th>\n",
       "      <th>id</th>\n",
       "      <th>release_date</th>\n",
       "      <th>movie</th>\n",
       "      <th>production_budget</th>\n",
       "      <th>domestic_gross</th>\n",
       "      <th>worldwide_gross</th>\n",
       "    </tr>\n",
       "  </thead>\n",
       "  <tbody>\n",
       "    <tr>\n",
       "      <th>0</th>\n",
       "      <td>1</td>\n",
       "      <td>Dec 18, 2009</td>\n",
       "      <td>Avatar</td>\n",
       "      <td>$425,000,000</td>\n",
       "      <td>760,507,625</td>\n",
       "      <td>$2,776,345,279</td>\n",
       "    </tr>\n",
       "    <tr>\n",
       "      <th>1</th>\n",
       "      <td>2</td>\n",
       "      <td>May 20, 2011</td>\n",
       "      <td>Pirates of the Caribbean: On Stranger Tides</td>\n",
       "      <td>$410,600,000</td>\n",
       "      <td>241,063,875</td>\n",
       "      <td>$1,045,663,875</td>\n",
       "    </tr>\n",
       "    <tr>\n",
       "      <th>2</th>\n",
       "      <td>3</td>\n",
       "      <td>Jun 7, 2019</td>\n",
       "      <td>Dark Phoenix</td>\n",
       "      <td>$350,000,000</td>\n",
       "      <td>42,762,350</td>\n",
       "      <td>$149,762,350</td>\n",
       "    </tr>\n",
       "    <tr>\n",
       "      <th>3</th>\n",
       "      <td>4</td>\n",
       "      <td>May 1, 2015</td>\n",
       "      <td>Avengers: Age of Ultron</td>\n",
       "      <td>$330,600,000</td>\n",
       "      <td>459,005,868</td>\n",
       "      <td>$1,403,013,963</td>\n",
       "    </tr>\n",
       "    <tr>\n",
       "      <th>4</th>\n",
       "      <td>5</td>\n",
       "      <td>Dec 15, 2017</td>\n",
       "      <td>Star Wars Ep. VIII: The Last Jedi</td>\n",
       "      <td>$317,000,000</td>\n",
       "      <td>620,181,382</td>\n",
       "      <td>$1,316,721,747</td>\n",
       "    </tr>\n",
       "  </tbody>\n",
       "</table>\n",
       "</div>"
      ],
      "text/plain": [
       "   id  release_date                                        movie  \\\n",
       "0   1  Dec 18, 2009                                       Avatar   \n",
       "1   2  May 20, 2011  Pirates of the Caribbean: On Stranger Tides   \n",
       "2   3   Jun 7, 2019                                 Dark Phoenix   \n",
       "3   4   May 1, 2015                      Avengers: Age of Ultron   \n",
       "4   5  Dec 15, 2017            Star Wars Ep. VIII: The Last Jedi   \n",
       "\n",
       "  production_budget domestic_gross worldwide_gross  \n",
       "0      $425,000,000    760,507,625  $2,776,345,279  \n",
       "1      $410,600,000    241,063,875  $1,045,663,875  \n",
       "2      $350,000,000     42,762,350    $149,762,350  \n",
       "3      $330,600,000    459,005,868  $1,403,013,963  \n",
       "4      $317,000,000    620,181,382  $1,316,721,747  "
      ]
     },
     "execution_count": 14,
     "metadata": {},
     "output_type": "execute_result"
    }
   ],
   "source": [
    "movie_budgets_df.head()"
   ]
  },
  {
   "cell_type": "code",
   "execution_count": 15,
   "metadata": {},
   "outputs": [],
   "source": [
    "movie_budgets_df['domestic_gross'] = movie_budgets_df['domestic_gross'].map(lambda x: int(x.replace(\",\",\"\")))"
   ]
  },
  {
   "cell_type": "code",
   "execution_count": 16,
   "metadata": {},
   "outputs": [
    {
     "data": {
      "text/html": [
       "<div>\n",
       "<style scoped>\n",
       "    .dataframe tbody tr th:only-of-type {\n",
       "        vertical-align: middle;\n",
       "    }\n",
       "\n",
       "    .dataframe tbody tr th {\n",
       "        vertical-align: top;\n",
       "    }\n",
       "\n",
       "    .dataframe thead th {\n",
       "        text-align: right;\n",
       "    }\n",
       "</style>\n",
       "<table border=\"1\" class=\"dataframe\">\n",
       "  <thead>\n",
       "    <tr style=\"text-align: right;\">\n",
       "      <th></th>\n",
       "      <th>id</th>\n",
       "      <th>release_date</th>\n",
       "      <th>movie</th>\n",
       "      <th>production_budget</th>\n",
       "      <th>domestic_gross</th>\n",
       "      <th>worldwide_gross</th>\n",
       "    </tr>\n",
       "  </thead>\n",
       "  <tbody>\n",
       "    <tr>\n",
       "      <th>0</th>\n",
       "      <td>1</td>\n",
       "      <td>Dec 18, 2009</td>\n",
       "      <td>Avatar</td>\n",
       "      <td>$425,000,000</td>\n",
       "      <td>760507625</td>\n",
       "      <td>$2,776,345,279</td>\n",
       "    </tr>\n",
       "    <tr>\n",
       "      <th>1</th>\n",
       "      <td>2</td>\n",
       "      <td>May 20, 2011</td>\n",
       "      <td>Pirates of the Caribbean: On Stranger Tides</td>\n",
       "      <td>$410,600,000</td>\n",
       "      <td>241063875</td>\n",
       "      <td>$1,045,663,875</td>\n",
       "    </tr>\n",
       "    <tr>\n",
       "      <th>2</th>\n",
       "      <td>3</td>\n",
       "      <td>Jun 7, 2019</td>\n",
       "      <td>Dark Phoenix</td>\n",
       "      <td>$350,000,000</td>\n",
       "      <td>42762350</td>\n",
       "      <td>$149,762,350</td>\n",
       "    </tr>\n",
       "    <tr>\n",
       "      <th>3</th>\n",
       "      <td>4</td>\n",
       "      <td>May 1, 2015</td>\n",
       "      <td>Avengers: Age of Ultron</td>\n",
       "      <td>$330,600,000</td>\n",
       "      <td>459005868</td>\n",
       "      <td>$1,403,013,963</td>\n",
       "    </tr>\n",
       "    <tr>\n",
       "      <th>4</th>\n",
       "      <td>5</td>\n",
       "      <td>Dec 15, 2017</td>\n",
       "      <td>Star Wars Ep. VIII: The Last Jedi</td>\n",
       "      <td>$317,000,000</td>\n",
       "      <td>620181382</td>\n",
       "      <td>$1,316,721,747</td>\n",
       "    </tr>\n",
       "  </tbody>\n",
       "</table>\n",
       "</div>"
      ],
      "text/plain": [
       "   id  release_date                                        movie  \\\n",
       "0   1  Dec 18, 2009                                       Avatar   \n",
       "1   2  May 20, 2011  Pirates of the Caribbean: On Stranger Tides   \n",
       "2   3   Jun 7, 2019                                 Dark Phoenix   \n",
       "3   4   May 1, 2015                      Avengers: Age of Ultron   \n",
       "4   5  Dec 15, 2017            Star Wars Ep. VIII: The Last Jedi   \n",
       "\n",
       "  production_budget  domestic_gross worldwide_gross  \n",
       "0      $425,000,000       760507625  $2,776,345,279  \n",
       "1      $410,600,000       241063875  $1,045,663,875  \n",
       "2      $350,000,000        42762350    $149,762,350  \n",
       "3      $330,600,000       459005868  $1,403,013,963  \n",
       "4      $317,000,000       620181382  $1,316,721,747  "
      ]
     },
     "execution_count": 16,
     "metadata": {},
     "output_type": "execute_result"
    }
   ],
   "source": [
    "movie_budgets_df.head()"
   ]
  },
  {
   "cell_type": "code",
   "execution_count": 17,
   "metadata": {},
   "outputs": [
    {
     "data": {
      "text/plain": [
       "numpy.int64"
      ]
     },
     "execution_count": 17,
     "metadata": {},
     "output_type": "execute_result"
    }
   ],
   "source": [
    "type(movie_budgets_df['domestic_gross'][1])"
   ]
  },
  {
   "cell_type": "code",
   "execution_count": 18,
   "metadata": {},
   "outputs": [],
   "source": [
    "movie_budgets_df['worldwide_gross'] = movie_budgets_df['worldwide_gross'].map(lambda x: int(x[1:].replace(\",\",\"\")))"
   ]
  },
  {
   "cell_type": "code",
   "execution_count": 19,
   "metadata": {},
   "outputs": [
    {
     "data": {
      "text/plain": [
       "numpy.int64"
      ]
     },
     "execution_count": 19,
     "metadata": {},
     "output_type": "execute_result"
    }
   ],
   "source": [
    "type(movie_budgets_df['worldwide_gross'][1])"
   ]
  },
  {
   "cell_type": "code",
   "execution_count": 20,
   "metadata": {},
   "outputs": [],
   "source": [
    "movie_budgets_df['production_budget'] = movie_budgets_df['production_budget'].map(lambda x: int(x[1:].replace(\",\",\"\")))"
   ]
  },
  {
   "cell_type": "code",
   "execution_count": 21,
   "metadata": {},
   "outputs": [
    {
     "data": {
      "text/plain": [
       "numpy.int64"
      ]
     },
     "execution_count": 21,
     "metadata": {},
     "output_type": "execute_result"
    }
   ],
   "source": [
    "type(movie_budgets_df['production_budget'][1])"
   ]
  },
  {
   "cell_type": "code",
   "execution_count": null,
   "metadata": {},
   "outputs": [],
   "source": []
  },
  {
   "cell_type": "code",
   "execution_count": 22,
   "metadata": {},
   "outputs": [],
   "source": [
    "movie_budgets_df['domestic_profit'] = movie_budgets_df['domestic_gross'] - movie_budgets_df['production_budget']\n",
    "\n",
    "movie_budgets_df['worldwide_profit'] = movie_budgets_df['worldwide_gross'] - movie_budgets_df['production_budget']\n"
   ]
  },
  {
   "cell_type": "code",
   "execution_count": 23,
   "metadata": {},
   "outputs": [
    {
     "data": {
      "text/html": [
       "<div>\n",
       "<style scoped>\n",
       "    .dataframe tbody tr th:only-of-type {\n",
       "        vertical-align: middle;\n",
       "    }\n",
       "\n",
       "    .dataframe tbody tr th {\n",
       "        vertical-align: top;\n",
       "    }\n",
       "\n",
       "    .dataframe thead th {\n",
       "        text-align: right;\n",
       "    }\n",
       "</style>\n",
       "<table border=\"1\" class=\"dataframe\">\n",
       "  <thead>\n",
       "    <tr style=\"text-align: right;\">\n",
       "      <th></th>\n",
       "      <th>id</th>\n",
       "      <th>release_date</th>\n",
       "      <th>movie</th>\n",
       "      <th>production_budget</th>\n",
       "      <th>domestic_gross</th>\n",
       "      <th>worldwide_gross</th>\n",
       "      <th>domestic_profit</th>\n",
       "      <th>worldwide_profit</th>\n",
       "    </tr>\n",
       "  </thead>\n",
       "  <tbody>\n",
       "    <tr>\n",
       "      <th>0</th>\n",
       "      <td>1</td>\n",
       "      <td>Dec 18, 2009</td>\n",
       "      <td>Avatar</td>\n",
       "      <td>425000000</td>\n",
       "      <td>760507625</td>\n",
       "      <td>2776345279</td>\n",
       "      <td>335507625</td>\n",
       "      <td>2351345279</td>\n",
       "    </tr>\n",
       "    <tr>\n",
       "      <th>1</th>\n",
       "      <td>2</td>\n",
       "      <td>May 20, 2011</td>\n",
       "      <td>Pirates of the Caribbean: On Stranger Tides</td>\n",
       "      <td>410600000</td>\n",
       "      <td>241063875</td>\n",
       "      <td>1045663875</td>\n",
       "      <td>-169536125</td>\n",
       "      <td>635063875</td>\n",
       "    </tr>\n",
       "    <tr>\n",
       "      <th>2</th>\n",
       "      <td>3</td>\n",
       "      <td>Jun 7, 2019</td>\n",
       "      <td>Dark Phoenix</td>\n",
       "      <td>350000000</td>\n",
       "      <td>42762350</td>\n",
       "      <td>149762350</td>\n",
       "      <td>-307237650</td>\n",
       "      <td>-200237650</td>\n",
       "    </tr>\n",
       "    <tr>\n",
       "      <th>3</th>\n",
       "      <td>4</td>\n",
       "      <td>May 1, 2015</td>\n",
       "      <td>Avengers: Age of Ultron</td>\n",
       "      <td>330600000</td>\n",
       "      <td>459005868</td>\n",
       "      <td>1403013963</td>\n",
       "      <td>128405868</td>\n",
       "      <td>1072413963</td>\n",
       "    </tr>\n",
       "    <tr>\n",
       "      <th>4</th>\n",
       "      <td>5</td>\n",
       "      <td>Dec 15, 2017</td>\n",
       "      <td>Star Wars Ep. VIII: The Last Jedi</td>\n",
       "      <td>317000000</td>\n",
       "      <td>620181382</td>\n",
       "      <td>1316721747</td>\n",
       "      <td>303181382</td>\n",
       "      <td>999721747</td>\n",
       "    </tr>\n",
       "  </tbody>\n",
       "</table>\n",
       "</div>"
      ],
      "text/plain": [
       "   id  release_date                                        movie  \\\n",
       "0   1  Dec 18, 2009                                       Avatar   \n",
       "1   2  May 20, 2011  Pirates of the Caribbean: On Stranger Tides   \n",
       "2   3   Jun 7, 2019                                 Dark Phoenix   \n",
       "3   4   May 1, 2015                      Avengers: Age of Ultron   \n",
       "4   5  Dec 15, 2017            Star Wars Ep. VIII: The Last Jedi   \n",
       "\n",
       "   production_budget  domestic_gross  worldwide_gross  domestic_profit  \\\n",
       "0          425000000       760507625       2776345279        335507625   \n",
       "1          410600000       241063875       1045663875       -169536125   \n",
       "2          350000000        42762350        149762350       -307237650   \n",
       "3          330600000       459005868       1403013963        128405868   \n",
       "4          317000000       620181382       1316721747        303181382   \n",
       "\n",
       "   worldwide_profit  \n",
       "0        2351345279  \n",
       "1         635063875  \n",
       "2        -200237650  \n",
       "3        1072413963  \n",
       "4         999721747  "
      ]
     },
     "execution_count": 23,
     "metadata": {},
     "output_type": "execute_result"
    }
   ],
   "source": [
    "movie_budgets_df.head()"
   ]
  },
  {
   "cell_type": "code",
   "execution_count": 24,
   "metadata": {},
   "outputs": [],
   "source": [
    "movie_budgets_df['domestic_roi'] = movie_budgets_df['domestic_profit']/movie_budgets_df['production_budget']"
   ]
  },
  {
   "cell_type": "code",
   "execution_count": 25,
   "metadata": {},
   "outputs": [],
   "source": [
    "movie_budgets_df['worldwide_roi'] = movie_budgets_df['worldwide_profit']/movie_budgets_df['production_budget']"
   ]
  },
  {
   "cell_type": "code",
   "execution_count": 26,
   "metadata": {},
   "outputs": [
    {
     "data": {
      "text/html": [
       "<div>\n",
       "<style scoped>\n",
       "    .dataframe tbody tr th:only-of-type {\n",
       "        vertical-align: middle;\n",
       "    }\n",
       "\n",
       "    .dataframe tbody tr th {\n",
       "        vertical-align: top;\n",
       "    }\n",
       "\n",
       "    .dataframe thead th {\n",
       "        text-align: right;\n",
       "    }\n",
       "</style>\n",
       "<table border=\"1\" class=\"dataframe\">\n",
       "  <thead>\n",
       "    <tr style=\"text-align: right;\">\n",
       "      <th></th>\n",
       "      <th>id</th>\n",
       "      <th>release_date</th>\n",
       "      <th>movie</th>\n",
       "      <th>production_budget</th>\n",
       "      <th>domestic_gross</th>\n",
       "      <th>worldwide_gross</th>\n",
       "      <th>domestic_profit</th>\n",
       "      <th>worldwide_profit</th>\n",
       "      <th>domestic_roi</th>\n",
       "      <th>worldwide_roi</th>\n",
       "    </tr>\n",
       "  </thead>\n",
       "  <tbody>\n",
       "    <tr>\n",
       "      <th>0</th>\n",
       "      <td>1</td>\n",
       "      <td>Dec 18, 2009</td>\n",
       "      <td>Avatar</td>\n",
       "      <td>425000000</td>\n",
       "      <td>760507625</td>\n",
       "      <td>2776345279</td>\n",
       "      <td>335507625</td>\n",
       "      <td>2351345279</td>\n",
       "      <td>0.789430</td>\n",
       "      <td>5.532577</td>\n",
       "    </tr>\n",
       "    <tr>\n",
       "      <th>1</th>\n",
       "      <td>2</td>\n",
       "      <td>May 20, 2011</td>\n",
       "      <td>Pirates of the Caribbean: On Stranger Tides</td>\n",
       "      <td>410600000</td>\n",
       "      <td>241063875</td>\n",
       "      <td>1045663875</td>\n",
       "      <td>-169536125</td>\n",
       "      <td>635063875</td>\n",
       "      <td>-0.412899</td>\n",
       "      <td>1.546673</td>\n",
       "    </tr>\n",
       "    <tr>\n",
       "      <th>2</th>\n",
       "      <td>3</td>\n",
       "      <td>Jun 7, 2019</td>\n",
       "      <td>Dark Phoenix</td>\n",
       "      <td>350000000</td>\n",
       "      <td>42762350</td>\n",
       "      <td>149762350</td>\n",
       "      <td>-307237650</td>\n",
       "      <td>-200237650</td>\n",
       "      <td>-0.877822</td>\n",
       "      <td>-0.572108</td>\n",
       "    </tr>\n",
       "    <tr>\n",
       "      <th>3</th>\n",
       "      <td>4</td>\n",
       "      <td>May 1, 2015</td>\n",
       "      <td>Avengers: Age of Ultron</td>\n",
       "      <td>330600000</td>\n",
       "      <td>459005868</td>\n",
       "      <td>1403013963</td>\n",
       "      <td>128405868</td>\n",
       "      <td>1072413963</td>\n",
       "      <td>0.388403</td>\n",
       "      <td>3.243841</td>\n",
       "    </tr>\n",
       "    <tr>\n",
       "      <th>4</th>\n",
       "      <td>5</td>\n",
       "      <td>Dec 15, 2017</td>\n",
       "      <td>Star Wars Ep. VIII: The Last Jedi</td>\n",
       "      <td>317000000</td>\n",
       "      <td>620181382</td>\n",
       "      <td>1316721747</td>\n",
       "      <td>303181382</td>\n",
       "      <td>999721747</td>\n",
       "      <td>0.956408</td>\n",
       "      <td>3.153696</td>\n",
       "    </tr>\n",
       "    <tr>\n",
       "      <th>5</th>\n",
       "      <td>6</td>\n",
       "      <td>Dec 18, 2015</td>\n",
       "      <td>Star Wars Ep. VII: The Force Awakens</td>\n",
       "      <td>306000000</td>\n",
       "      <td>936662225</td>\n",
       "      <td>2053311220</td>\n",
       "      <td>630662225</td>\n",
       "      <td>1747311220</td>\n",
       "      <td>2.060988</td>\n",
       "      <td>5.710167</td>\n",
       "    </tr>\n",
       "    <tr>\n",
       "      <th>6</th>\n",
       "      <td>7</td>\n",
       "      <td>Apr 27, 2018</td>\n",
       "      <td>Avengers: Infinity War</td>\n",
       "      <td>300000000</td>\n",
       "      <td>678815482</td>\n",
       "      <td>2048134200</td>\n",
       "      <td>378815482</td>\n",
       "      <td>1748134200</td>\n",
       "      <td>1.262718</td>\n",
       "      <td>5.827114</td>\n",
       "    </tr>\n",
       "    <tr>\n",
       "      <th>7</th>\n",
       "      <td>8</td>\n",
       "      <td>May 24, 2007</td>\n",
       "      <td>Pirates of the Caribbean: At Worldâs End</td>\n",
       "      <td>300000000</td>\n",
       "      <td>309420425</td>\n",
       "      <td>963420425</td>\n",
       "      <td>9420425</td>\n",
       "      <td>663420425</td>\n",
       "      <td>0.031401</td>\n",
       "      <td>2.211401</td>\n",
       "    </tr>\n",
       "    <tr>\n",
       "      <th>8</th>\n",
       "      <td>9</td>\n",
       "      <td>Nov 17, 2017</td>\n",
       "      <td>Justice League</td>\n",
       "      <td>300000000</td>\n",
       "      <td>229024295</td>\n",
       "      <td>655945209</td>\n",
       "      <td>-70975705</td>\n",
       "      <td>355945209</td>\n",
       "      <td>-0.236586</td>\n",
       "      <td>1.186484</td>\n",
       "    </tr>\n",
       "    <tr>\n",
       "      <th>9</th>\n",
       "      <td>10</td>\n",
       "      <td>Nov 6, 2015</td>\n",
       "      <td>Spectre</td>\n",
       "      <td>300000000</td>\n",
       "      <td>200074175</td>\n",
       "      <td>879620923</td>\n",
       "      <td>-99925825</td>\n",
       "      <td>579620923</td>\n",
       "      <td>-0.333086</td>\n",
       "      <td>1.932070</td>\n",
       "    </tr>\n",
       "  </tbody>\n",
       "</table>\n",
       "</div>"
      ],
      "text/plain": [
       "   id  release_date                                        movie  \\\n",
       "0   1  Dec 18, 2009                                       Avatar   \n",
       "1   2  May 20, 2011  Pirates of the Caribbean: On Stranger Tides   \n",
       "2   3   Jun 7, 2019                                 Dark Phoenix   \n",
       "3   4   May 1, 2015                      Avengers: Age of Ultron   \n",
       "4   5  Dec 15, 2017            Star Wars Ep. VIII: The Last Jedi   \n",
       "5   6  Dec 18, 2015         Star Wars Ep. VII: The Force Awakens   \n",
       "6   7  Apr 27, 2018                       Avengers: Infinity War   \n",
       "7   8  May 24, 2007   Pirates of the Caribbean: At Worldâs End   \n",
       "8   9  Nov 17, 2017                               Justice League   \n",
       "9  10   Nov 6, 2015                                      Spectre   \n",
       "\n",
       "   production_budget  domestic_gross  worldwide_gross  domestic_profit  \\\n",
       "0          425000000       760507625       2776345279        335507625   \n",
       "1          410600000       241063875       1045663875       -169536125   \n",
       "2          350000000        42762350        149762350       -307237650   \n",
       "3          330600000       459005868       1403013963        128405868   \n",
       "4          317000000       620181382       1316721747        303181382   \n",
       "5          306000000       936662225       2053311220        630662225   \n",
       "6          300000000       678815482       2048134200        378815482   \n",
       "7          300000000       309420425        963420425          9420425   \n",
       "8          300000000       229024295        655945209        -70975705   \n",
       "9          300000000       200074175        879620923        -99925825   \n",
       "\n",
       "   worldwide_profit  domestic_roi  worldwide_roi  \n",
       "0        2351345279      0.789430       5.532577  \n",
       "1         635063875     -0.412899       1.546673  \n",
       "2        -200237650     -0.877822      -0.572108  \n",
       "3        1072413963      0.388403       3.243841  \n",
       "4         999721747      0.956408       3.153696  \n",
       "5        1747311220      2.060988       5.710167  \n",
       "6        1748134200      1.262718       5.827114  \n",
       "7         663420425      0.031401       2.211401  \n",
       "8         355945209     -0.236586       1.186484  \n",
       "9         579620923     -0.333086       1.932070  "
      ]
     },
     "execution_count": 26,
     "metadata": {},
     "output_type": "execute_result"
    }
   ],
   "source": [
    "movie_budgets_df.head(10)"
   ]
  },
  {
   "cell_type": "code",
   "execution_count": null,
   "metadata": {},
   "outputs": [],
   "source": []
  },
  {
   "cell_type": "code",
   "execution_count": null,
   "metadata": {},
   "outputs": [],
   "source": []
  },
  {
   "cell_type": "code",
   "execution_count": null,
   "metadata": {},
   "outputs": [],
   "source": []
  },
  {
   "cell_type": "code",
   "execution_count": 27,
   "metadata": {},
   "outputs": [
    {
     "data": {
      "text/html": [
       "<div>\n",
       "<style scoped>\n",
       "    .dataframe tbody tr th:only-of-type {\n",
       "        vertical-align: middle;\n",
       "    }\n",
       "\n",
       "    .dataframe tbody tr th {\n",
       "        vertical-align: top;\n",
       "    }\n",
       "\n",
       "    .dataframe thead th {\n",
       "        text-align: right;\n",
       "    }\n",
       "</style>\n",
       "<table border=\"1\" class=\"dataframe\">\n",
       "  <thead>\n",
       "    <tr style=\"text-align: right;\">\n",
       "      <th></th>\n",
       "      <th>id</th>\n",
       "      <th>release_date</th>\n",
       "      <th>movie</th>\n",
       "      <th>production_budget</th>\n",
       "      <th>domestic_gross</th>\n",
       "      <th>worldwide_gross</th>\n",
       "      <th>domestic_profit</th>\n",
       "      <th>worldwide_profit</th>\n",
       "      <th>domestic_roi</th>\n",
       "      <th>worldwide_roi</th>\n",
       "    </tr>\n",
       "  </thead>\n",
       "  <tbody>\n",
       "    <tr>\n",
       "      <th>0</th>\n",
       "      <td>1</td>\n",
       "      <td>Dec 18, 2009</td>\n",
       "      <td>Avatar</td>\n",
       "      <td>425000000</td>\n",
       "      <td>760507625</td>\n",
       "      <td>2776345279</td>\n",
       "      <td>335507625</td>\n",
       "      <td>2351345279</td>\n",
       "      <td>0.789430</td>\n",
       "      <td>5.532577</td>\n",
       "    </tr>\n",
       "    <tr>\n",
       "      <th>1</th>\n",
       "      <td>2</td>\n",
       "      <td>May 20, 2011</td>\n",
       "      <td>Pirates of the Caribbean: On Stranger Tides</td>\n",
       "      <td>410600000</td>\n",
       "      <td>241063875</td>\n",
       "      <td>1045663875</td>\n",
       "      <td>-169536125</td>\n",
       "      <td>635063875</td>\n",
       "      <td>-0.412899</td>\n",
       "      <td>1.546673</td>\n",
       "    </tr>\n",
       "    <tr>\n",
       "      <th>2</th>\n",
       "      <td>3</td>\n",
       "      <td>Jun 7, 2019</td>\n",
       "      <td>Dark Phoenix</td>\n",
       "      <td>350000000</td>\n",
       "      <td>42762350</td>\n",
       "      <td>149762350</td>\n",
       "      <td>-307237650</td>\n",
       "      <td>-200237650</td>\n",
       "      <td>-0.877822</td>\n",
       "      <td>-0.572108</td>\n",
       "    </tr>\n",
       "    <tr>\n",
       "      <th>3</th>\n",
       "      <td>4</td>\n",
       "      <td>May 1, 2015</td>\n",
       "      <td>Avengers: Age of Ultron</td>\n",
       "      <td>330600000</td>\n",
       "      <td>459005868</td>\n",
       "      <td>1403013963</td>\n",
       "      <td>128405868</td>\n",
       "      <td>1072413963</td>\n",
       "      <td>0.388403</td>\n",
       "      <td>3.243841</td>\n",
       "    </tr>\n",
       "    <tr>\n",
       "      <th>4</th>\n",
       "      <td>5</td>\n",
       "      <td>Dec 15, 2017</td>\n",
       "      <td>Star Wars Ep. VIII: The Last Jedi</td>\n",
       "      <td>317000000</td>\n",
       "      <td>620181382</td>\n",
       "      <td>1316721747</td>\n",
       "      <td>303181382</td>\n",
       "      <td>999721747</td>\n",
       "      <td>0.956408</td>\n",
       "      <td>3.153696</td>\n",
       "    </tr>\n",
       "  </tbody>\n",
       "</table>\n",
       "</div>"
      ],
      "text/plain": [
       "   id  release_date                                        movie  \\\n",
       "0   1  Dec 18, 2009                                       Avatar   \n",
       "1   2  May 20, 2011  Pirates of the Caribbean: On Stranger Tides   \n",
       "2   3   Jun 7, 2019                                 Dark Phoenix   \n",
       "3   4   May 1, 2015                      Avengers: Age of Ultron   \n",
       "4   5  Dec 15, 2017            Star Wars Ep. VIII: The Last Jedi   \n",
       "\n",
       "   production_budget  domestic_gross  worldwide_gross  domestic_profit  \\\n",
       "0          425000000       760507625       2776345279        335507625   \n",
       "1          410600000       241063875       1045663875       -169536125   \n",
       "2          350000000        42762350        149762350       -307237650   \n",
       "3          330600000       459005868       1403013963        128405868   \n",
       "4          317000000       620181382       1316721747        303181382   \n",
       "\n",
       "   worldwide_profit  domestic_roi  worldwide_roi  \n",
       "0        2351345279      0.789430       5.532577  \n",
       "1         635063875     -0.412899       1.546673  \n",
       "2        -200237650     -0.877822      -0.572108  \n",
       "3        1072413963      0.388403       3.243841  \n",
       "4         999721747      0.956408       3.153696  "
      ]
     },
     "execution_count": 27,
     "metadata": {},
     "output_type": "execute_result"
    }
   ],
   "source": [
    "movie_budgets_df.head()"
   ]
  },
  {
   "cell_type": "code",
   "execution_count": 28,
   "metadata": {},
   "outputs": [],
   "source": [
    "movie_budgets_df[\"worldwide_profit_margin\"] = movie_budgets_df[\"worldwide_profit\"]/movie_budgets_df[\"worldwide_gross\"]\n",
    "\n",
    "movie_budgets_df[\"domestic_profit_margin\"] = movie_budgets_df[\"domestic_profit\"]/movie_budgets_df['domestic_gross']"
   ]
  },
  {
   "cell_type": "code",
   "execution_count": 29,
   "metadata": {},
   "outputs": [
    {
     "data": {
      "text/html": [
       "<div>\n",
       "<style scoped>\n",
       "    .dataframe tbody tr th:only-of-type {\n",
       "        vertical-align: middle;\n",
       "    }\n",
       "\n",
       "    .dataframe tbody tr th {\n",
       "        vertical-align: top;\n",
       "    }\n",
       "\n",
       "    .dataframe thead th {\n",
       "        text-align: right;\n",
       "    }\n",
       "</style>\n",
       "<table border=\"1\" class=\"dataframe\">\n",
       "  <thead>\n",
       "    <tr style=\"text-align: right;\">\n",
       "      <th></th>\n",
       "      <th>id</th>\n",
       "      <th>release_date</th>\n",
       "      <th>movie</th>\n",
       "      <th>production_budget</th>\n",
       "      <th>domestic_gross</th>\n",
       "      <th>worldwide_gross</th>\n",
       "      <th>domestic_profit</th>\n",
       "      <th>worldwide_profit</th>\n",
       "      <th>domestic_roi</th>\n",
       "      <th>worldwide_roi</th>\n",
       "      <th>worldwide_profit_margin</th>\n",
       "      <th>domestic_profit_margin</th>\n",
       "    </tr>\n",
       "  </thead>\n",
       "  <tbody>\n",
       "    <tr>\n",
       "      <th>0</th>\n",
       "      <td>1</td>\n",
       "      <td>Dec 18, 2009</td>\n",
       "      <td>Avatar</td>\n",
       "      <td>425000000</td>\n",
       "      <td>760507625</td>\n",
       "      <td>2776345279</td>\n",
       "      <td>335507625</td>\n",
       "      <td>2351345279</td>\n",
       "      <td>0.789430</td>\n",
       "      <td>5.532577</td>\n",
       "      <td>0.846921</td>\n",
       "      <td>0.441163</td>\n",
       "    </tr>\n",
       "    <tr>\n",
       "      <th>1</th>\n",
       "      <td>2</td>\n",
       "      <td>May 20, 2011</td>\n",
       "      <td>Pirates of the Caribbean: On Stranger Tides</td>\n",
       "      <td>410600000</td>\n",
       "      <td>241063875</td>\n",
       "      <td>1045663875</td>\n",
       "      <td>-169536125</td>\n",
       "      <td>635063875</td>\n",
       "      <td>-0.412899</td>\n",
       "      <td>1.546673</td>\n",
       "      <td>0.607331</td>\n",
       "      <td>-0.703283</td>\n",
       "    </tr>\n",
       "    <tr>\n",
       "      <th>2</th>\n",
       "      <td>3</td>\n",
       "      <td>Jun 7, 2019</td>\n",
       "      <td>Dark Phoenix</td>\n",
       "      <td>350000000</td>\n",
       "      <td>42762350</td>\n",
       "      <td>149762350</td>\n",
       "      <td>-307237650</td>\n",
       "      <td>-200237650</td>\n",
       "      <td>-0.877822</td>\n",
       "      <td>-0.572108</td>\n",
       "      <td>-1.337036</td>\n",
       "      <td>-7.184770</td>\n",
       "    </tr>\n",
       "    <tr>\n",
       "      <th>3</th>\n",
       "      <td>4</td>\n",
       "      <td>May 1, 2015</td>\n",
       "      <td>Avengers: Age of Ultron</td>\n",
       "      <td>330600000</td>\n",
       "      <td>459005868</td>\n",
       "      <td>1403013963</td>\n",
       "      <td>128405868</td>\n",
       "      <td>1072413963</td>\n",
       "      <td>0.388403</td>\n",
       "      <td>3.243841</td>\n",
       "      <td>0.764364</td>\n",
       "      <td>0.279748</td>\n",
       "    </tr>\n",
       "    <tr>\n",
       "      <th>4</th>\n",
       "      <td>5</td>\n",
       "      <td>Dec 15, 2017</td>\n",
       "      <td>Star Wars Ep. VIII: The Last Jedi</td>\n",
       "      <td>317000000</td>\n",
       "      <td>620181382</td>\n",
       "      <td>1316721747</td>\n",
       "      <td>303181382</td>\n",
       "      <td>999721747</td>\n",
       "      <td>0.956408</td>\n",
       "      <td>3.153696</td>\n",
       "      <td>0.759251</td>\n",
       "      <td>0.488859</td>\n",
       "    </tr>\n",
       "  </tbody>\n",
       "</table>\n",
       "</div>"
      ],
      "text/plain": [
       "   id  release_date                                        movie  \\\n",
       "0   1  Dec 18, 2009                                       Avatar   \n",
       "1   2  May 20, 2011  Pirates of the Caribbean: On Stranger Tides   \n",
       "2   3   Jun 7, 2019                                 Dark Phoenix   \n",
       "3   4   May 1, 2015                      Avengers: Age of Ultron   \n",
       "4   5  Dec 15, 2017            Star Wars Ep. VIII: The Last Jedi   \n",
       "\n",
       "   production_budget  domestic_gross  worldwide_gross  domestic_profit  \\\n",
       "0          425000000       760507625       2776345279        335507625   \n",
       "1          410600000       241063875       1045663875       -169536125   \n",
       "2          350000000        42762350        149762350       -307237650   \n",
       "3          330600000       459005868       1403013963        128405868   \n",
       "4          317000000       620181382       1316721747        303181382   \n",
       "\n",
       "   worldwide_profit  domestic_roi  worldwide_roi  worldwide_profit_margin  \\\n",
       "0        2351345279      0.789430       5.532577                 0.846921   \n",
       "1         635063875     -0.412899       1.546673                 0.607331   \n",
       "2        -200237650     -0.877822      -0.572108                -1.337036   \n",
       "3        1072413963      0.388403       3.243841                 0.764364   \n",
       "4         999721747      0.956408       3.153696                 0.759251   \n",
       "\n",
       "   domestic_profit_margin  \n",
       "0                0.441163  \n",
       "1               -0.703283  \n",
       "2               -7.184770  \n",
       "3                0.279748  \n",
       "4                0.488859  "
      ]
     },
     "execution_count": 29,
     "metadata": {},
     "output_type": "execute_result"
    }
   ],
   "source": [
    "\n",
    "movie_budgets_df.head()"
   ]
  },
  {
   "cell_type": "code",
   "execution_count": 30,
   "metadata": {},
   "outputs": [],
   "source": [
    "movie_budgets_df['month'] = movie_budgets_df['release_date'].map(lambda x: datetime.datetime.strptime(x, \"%b %d, %Y\").month)\n",
    "\n",
    "movie_budgets_df['year'] = movie_budgets_df['release_date'].map(lambda x: datetime.datetime.strptime(x, \"%b %d, %Y\").year)"
   ]
  },
  {
   "cell_type": "code",
   "execution_count": null,
   "metadata": {},
   "outputs": [],
   "source": []
  },
  {
   "cell_type": "code",
   "execution_count": 31,
   "metadata": {},
   "outputs": [
    {
     "name": "stdout",
     "output_type": "stream",
     "text": [
      "<class 'pandas.core.frame.DataFrame'>\n",
      "RangeIndex: 5782 entries, 0 to 5781\n",
      "Data columns (total 14 columns):\n",
      " #   Column                   Non-Null Count  Dtype  \n",
      "---  ------                   --------------  -----  \n",
      " 0   id                       5782 non-null   int64  \n",
      " 1   release_date             5782 non-null   object \n",
      " 2   movie                    5782 non-null   object \n",
      " 3   production_budget        5782 non-null   int64  \n",
      " 4   domestic_gross           5782 non-null   int64  \n",
      " 5   worldwide_gross          5782 non-null   int64  \n",
      " 6   domestic_profit          5782 non-null   int64  \n",
      " 7   worldwide_profit         5782 non-null   int64  \n",
      " 8   domestic_roi             5782 non-null   float64\n",
      " 9   worldwide_roi            5782 non-null   float64\n",
      " 10  worldwide_profit_margin  5782 non-null   float64\n",
      " 11  domestic_profit_margin   5782 non-null   float64\n",
      " 12  month                    5782 non-null   int64  \n",
      " 13  year                     5782 non-null   int64  \n",
      "dtypes: float64(4), int64(8), object(2)\n",
      "memory usage: 632.5+ KB\n"
     ]
    }
   ],
   "source": [
    "movie_budgets_df.info()"
   ]
  },
  {
   "cell_type": "code",
   "execution_count": 32,
   "metadata": {},
   "outputs": [
    {
     "data": {
      "text/plain": [
       "[<matplotlib.lines.Line2D at 0x7ff272d19c70>]"
      ]
     },
     "execution_count": 32,
     "metadata": {},
     "output_type": "execute_result"
    },
    {
     "data": {
      "image/png": "[encoded data removed]",
      "text/plain": [
       "<Figure size 1152x576 with 1 Axes>"
      ]
     },
     "metadata": {
      "needs_background": "light"
     },
     "output_type": "display_data"
    }
   ],
   "source": [
    "import matplotlib.pyplot as plt\n",
    "import numpy as np\n",
    "\n",
    "fig, ax = plt.subplots(figsize = (16,8))\n",
    "\n",
    "X = movie_budgets_df['production_budget']\n",
    "\n",
    "Y = movie_budgets_df['domestic_roi']\n",
    "\n",
    "ax.scatter(X, Y)\n",
    "ax.set_title('Production Budget vs. Domestic ROI')\n",
    "ax.set_xlabel('Production Budget')\n",
    "ax.set_ylabel('Domestic ROI')\n",
    "\n",
    "plt.xlim(0, 500000000)\n",
    "plt.ylim(-5, 20)\n",
    "plt.grid()\n",
    "\n",
    "z = np.polyfit(X, Y, 1) #create trendline \n",
    "p = np.poly1d(z)  \n",
    "plt.plot(X,p(X),\"r--\") #plot trendline"
   ]
  },
  {
   "cell_type": "code",
   "execution_count": null,
   "metadata": {},
   "outputs": [],
   "source": []
  },
  {
   "cell_type": "code",
   "execution_count": 33,
   "metadata": {},
   "outputs": [
    {
     "data": {
      "text/plain": [
       "[<matplotlib.lines.Line2D at 0x7ff273574850>]"
      ]
     },
     "execution_count": 33,
     "metadata": {},
     "output_type": "execute_result"
    },
    {
     "data": {
      "image/png": "[encoded data removed]",
      "text/plain": [
       "<Figure size 1152x576 with 1 Axes>"
      ]
     },
     "metadata": {
      "needs_background": "light"
     },
     "output_type": "display_data"
    }
   ],
   "source": [
    "fig, ax = plt.subplots(figsize = (16,8))\n",
    "\n",
    "X = movie_budgets_df['production_budget']\n",
    "\n",
    "Y = movie_budgets_df['worldwide_roi']\n",
    "\n",
    "ax.scatter(X, Y)\n",
    "ax.set_title('Production Budget vs. Worldwide ROI')\n",
    "ax.set_xlabel('Production Budget')\n",
    "ax.set_ylabel('Worldwide ROI')\n",
    "\n",
    "plt.xlim(0, 500000000)\n",
    "plt.ylim(-5, 20)\n",
    "plt.grid()\n",
    "\n",
    "z = np.polyfit(X, Y, 1) #create trendline \n",
    "p = np.poly1d(z)  \n",
    "plt.plot(X,p(X),\"r--\") #plot trendline"
   ]
  },
  {
   "cell_type": "code",
   "execution_count": null,
   "metadata": {},
   "outputs": [],
   "source": []
  },
  {
   "cell_type": "code",
   "execution_count": 34,
   "metadata": {},
   "outputs": [
    {
     "data": {
      "text/html": [
       "<div>\n",
       "<style scoped>\n",
       "    .dataframe tbody tr th:only-of-type {\n",
       "        vertical-align: middle;\n",
       "    }\n",
       "\n",
       "    .dataframe tbody tr th {\n",
       "        vertical-align: top;\n",
       "    }\n",
       "\n",
       "    .dataframe thead th {\n",
       "        text-align: right;\n",
       "    }\n",
       "</style>\n",
       "<table border=\"1\" class=\"dataframe\">\n",
       "  <thead>\n",
       "    <tr style=\"text-align: right;\">\n",
       "      <th></th>\n",
       "      <th>id</th>\n",
       "      <th>release_date</th>\n",
       "      <th>movie</th>\n",
       "      <th>production_budget</th>\n",
       "      <th>domestic_gross</th>\n",
       "      <th>worldwide_gross</th>\n",
       "      <th>domestic_profit</th>\n",
       "      <th>worldwide_profit</th>\n",
       "      <th>domestic_roi</th>\n",
       "      <th>worldwide_roi</th>\n",
       "      <th>worldwide_profit_margin</th>\n",
       "      <th>domestic_profit_margin</th>\n",
       "      <th>month</th>\n",
       "      <th>year</th>\n",
       "    </tr>\n",
       "  </thead>\n",
       "  <tbody>\n",
       "    <tr>\n",
       "      <th>0</th>\n",
       "      <td>1</td>\n",
       "      <td>Dec 18, 2009</td>\n",
       "      <td>Avatar</td>\n",
       "      <td>425000000</td>\n",
       "      <td>760507625</td>\n",
       "      <td>2776345279</td>\n",
       "      <td>335507625</td>\n",
       "      <td>2351345279</td>\n",
       "      <td>0.789430</td>\n",
       "      <td>5.532577</td>\n",
       "      <td>0.846921</td>\n",
       "      <td>0.441163</td>\n",
       "      <td>12</td>\n",
       "      <td>2009</td>\n",
       "    </tr>\n",
       "    <tr>\n",
       "      <th>1</th>\n",
       "      <td>2</td>\n",
       "      <td>May 20, 2011</td>\n",
       "      <td>Pirates of the Caribbean: On Stranger Tides</td>\n",
       "      <td>410600000</td>\n",
       "      <td>241063875</td>\n",
       "      <td>1045663875</td>\n",
       "      <td>-169536125</td>\n",
       "      <td>635063875</td>\n",
       "      <td>-0.412899</td>\n",
       "      <td>1.546673</td>\n",
       "      <td>0.607331</td>\n",
       "      <td>-0.703283</td>\n",
       "      <td>5</td>\n",
       "      <td>2011</td>\n",
       "    </tr>\n",
       "    <tr>\n",
       "      <th>2</th>\n",
       "      <td>3</td>\n",
       "      <td>Jun 7, 2019</td>\n",
       "      <td>Dark Phoenix</td>\n",
       "      <td>350000000</td>\n",
       "      <td>42762350</td>\n",
       "      <td>149762350</td>\n",
       "      <td>-307237650</td>\n",
       "      <td>-200237650</td>\n",
       "      <td>-0.877822</td>\n",
       "      <td>-0.572108</td>\n",
       "      <td>-1.337036</td>\n",
       "      <td>-7.184770</td>\n",
       "      <td>6</td>\n",
       "      <td>2019</td>\n",
       "    </tr>\n",
       "    <tr>\n",
       "      <th>3</th>\n",
       "      <td>4</td>\n",
       "      <td>May 1, 2015</td>\n",
       "      <td>Avengers: Age of Ultron</td>\n",
       "      <td>330600000</td>\n",
       "      <td>459005868</td>\n",
       "      <td>1403013963</td>\n",
       "      <td>128405868</td>\n",
       "      <td>1072413963</td>\n",
       "      <td>0.388403</td>\n",
       "      <td>3.243841</td>\n",
       "      <td>0.764364</td>\n",
       "      <td>0.279748</td>\n",
       "      <td>5</td>\n",
       "      <td>2015</td>\n",
       "    </tr>\n",
       "    <tr>\n",
       "      <th>4</th>\n",
       "      <td>5</td>\n",
       "      <td>Dec 15, 2017</td>\n",
       "      <td>Star Wars Ep. VIII: The Last Jedi</td>\n",
       "      <td>317000000</td>\n",
       "      <td>620181382</td>\n",
       "      <td>1316721747</td>\n",
       "      <td>303181382</td>\n",
       "      <td>999721747</td>\n",
       "      <td>0.956408</td>\n",
       "      <td>3.153696</td>\n",
       "      <td>0.759251</td>\n",
       "      <td>0.488859</td>\n",
       "      <td>12</td>\n",
       "      <td>2017</td>\n",
       "    </tr>\n",
       "  </tbody>\n",
       "</table>\n",
       "</div>"
      ],
      "text/plain": [
       "   id  release_date                                        movie  \\\n",
       "0   1  Dec 18, 2009                                       Avatar   \n",
       "1   2  May 20, 2011  Pirates of the Caribbean: On Stranger Tides   \n",
       "2   3   Jun 7, 2019                                 Dark Phoenix   \n",
       "3   4   May 1, 2015                      Avengers: Age of Ultron   \n",
       "4   5  Dec 15, 2017            Star Wars Ep. VIII: The Last Jedi   \n",
       "\n",
       "   production_budget  domestic_gross  worldwide_gross  domestic_profit  \\\n",
       "0          425000000       760507625       2776345279        335507625   \n",
       "1          410600000       241063875       1045663875       -169536125   \n",
       "2          350000000        42762350        149762350       -307237650   \n",
       "3          330600000       459005868       1403013963        128405868   \n",
       "4          317000000       620181382       1316721747        303181382   \n",
       "\n",
       "   worldwide_profit  domestic_roi  worldwide_roi  worldwide_profit_margin  \\\n",
       "0        2351345279      0.789430       5.532577                 0.846921   \n",
       "1         635063875     -0.412899       1.546673                 0.607331   \n",
       "2        -200237650     -0.877822      -0.572108                -1.337036   \n",
       "3        1072413963      0.388403       3.243841                 0.764364   \n",
       "4         999721747      0.956408       3.153696                 0.759251   \n",
       "\n",
       "   domestic_profit_margin  month  year  \n",
       "0                0.441163     12  2009  \n",
       "1               -0.703283      5  2011  \n",
       "2               -7.184770      6  2019  \n",
       "3                0.279748      5  2015  \n",
       "4                0.488859     12  2017  "
      ]
     },
     "execution_count": 34,
     "metadata": {},
     "output_type": "execute_result"
    }
   ],
   "source": [
    "relevant_movies = movie_budgets_df[(movie_budgets_df['worldwide_gross'] > 0) &(movie_budgets_df['domestic_gross'] > 0) & (movie_budgets_df['production_budget'] >= 5000000) & (movie_budgets_df['year'] != 2020) ]\n",
    "relevant_movies.head()"
   ]
  },
  {
   "cell_type": "code",
   "execution_count": 35,
   "metadata": {},
   "outputs": [
    {
     "data": {
      "image/png": "[encoded data removed]",
      "text/plain": [
       "<Figure size 1152x576 with 1 Axes>"
      ]
     },
     "metadata": {
      "needs_background": "light"
     },
     "output_type": "display_data"
    }
   ],
   "source": [
    "# Segment of Production Budget vs. Domestic ROI where production budget is between 5 and 525 million dollars.\n",
    "\n",
    "fig, ax = plt.subplots(figsize = (16,8))\n",
    "\n",
    "X = relevant_movies['production_budget']\n",
    "\n",
    "Y = relevant_movies['domestic_roi']\n",
    "\n",
    "ax.scatter(X, Y)\n",
    "ax.set_title('Production Budget vs. Domestic ROI')\n",
    "ax.set_xlabel('Production Budget')\n",
    "ax.set_ylabel('Domestic ROI')\n",
    "ynew = 0\n",
    "ax.axhline(ynew, color = 'r', linestyle = \"-\", linewidth = \"2\")\n",
    "\n",
    "plt.xlim(2500000, 25000000)\n",
    "plt.ylim(-2, 20)\n",
    "plt.grid();\n",
    "\n"
   ]
  },
  {
   "cell_type": "code",
   "execution_count": null,
   "metadata": {},
   "outputs": [],
   "source": []
  },
  {
   "cell_type": "code",
   "execution_count": 36,
   "metadata": {},
   "outputs": [
    {
     "data": {
      "text/plain": [
       "985"
      ]
     },
     "execution_count": 36,
     "metadata": {},
     "output_type": "execute_result"
    }
   ],
   "source": [
    "num_movies_5_to_25_with_neg_return_dom = relevant_movies[(relevant_movies['production_budget'] >= 5000000) & (relevant_movies['production_budget'] <= 25000000) & (relevant_movies['domestic_roi'] <= 0)].shape[0]\n",
    "num_movies_5_to_25_with_neg_return_dom\n"
   ]
  },
  {
   "cell_type": "code",
   "execution_count": null,
   "metadata": {},
   "outputs": [],
   "source": []
  },
  {
   "cell_type": "code",
   "execution_count": 37,
   "metadata": {},
   "outputs": [
    {
     "data": {
      "text/plain": [
       "47.33301297453147"
      ]
     },
     "execution_count": 37,
     "metadata": {},
     "output_type": "execute_result"
    }
   ],
   "source": [
    "per_movies_5_to_25_with_neg_return_dom = (num_movies_5_to_25_with_neg_return_dom/(num_movies_5_to_25_with_neg_return_dom + (relevant_movies[(relevant_movies['production_budget'] >= 5000000) & (relevant_movies['production_budget'] <= 25000000) & (relevant_movies['domestic_roi'] > 0)].shape[0]))) * 100\n",
    "per_movies_5_to_25_with_neg_return_dom"
   ]
  },
  {
   "cell_type": "code",
   "execution_count": null,
   "metadata": {},
   "outputs": [],
   "source": []
  },
  {
   "cell_type": "code",
   "execution_count": 38,
   "metadata": {},
   "outputs": [
    {
     "data": {
      "image/png": "[encoded data removed]",
      "text/plain": [
       "<Figure size 1152x576 with 1 Axes>"
      ]
     },
     "metadata": {
      "needs_background": "light"
     },
     "output_type": "display_data"
    }
   ],
   "source": [
    "# Segment of Production Budget vs. Domestic ROI where production budget is between 25 and 50 million dollars.\n",
    "\n",
    "fig, ax = plt.subplots(figsize = (16,8))\n",
    "\n",
    "X = relevant_movies['production_budget']\n",
    "\n",
    "Y = relevant_movies['domestic_roi']\n",
    "\n",
    "ax.scatter(X, Y)\n",
    "ax.set_title('Production Budget vs. Domestic ROI')\n",
    "ax.set_xlabel('Production Budget')\n",
    "ax.set_ylabel('Domestic ROI')\n",
    "ynew = 0\n",
    "ax.axhline(ynew, color = 'r', linestyle = \"-\", linewidth = \"2\")\n",
    "\n",
    "plt.xlim(25000000, 50000000)\n",
    "plt.ylim(-2, 20)\n",
    "plt.grid();\n"
   ]
  },
  {
   "cell_type": "code",
   "execution_count": null,
   "metadata": {},
   "outputs": [],
   "source": []
  },
  {
   "cell_type": "code",
   "execution_count": 39,
   "metadata": {},
   "outputs": [
    {
     "data": {
      "text/plain": [
       "511"
      ]
     },
     "execution_count": 39,
     "metadata": {},
     "output_type": "execute_result"
    }
   ],
   "source": [
    "num_movies_25_to_50_with_neg_return_dom = relevant_movies[(relevant_movies['production_budget'] > 25000000) & (relevant_movies['production_budget'] <= 50000000) & (relevant_movies['domestic_roi'] <= 0)].shape[0]\n",
    "num_movies_25_to_50_with_neg_return_dom"
   ]
  },
  {
   "cell_type": "code",
   "execution_count": null,
   "metadata": {},
   "outputs": [],
   "source": []
  },
  {
   "cell_type": "code",
   "execution_count": 40,
   "metadata": {},
   "outputs": [
    {
     "data": {
      "text/plain": [
       "48.899521531100476"
      ]
     },
     "execution_count": 40,
     "metadata": {},
     "output_type": "execute_result"
    }
   ],
   "source": [
    "per_movies_25_to_50_with_neg_return_dom = (num_movies_25_to_50_with_neg_return_dom/(num_movies_25_to_50_with_neg_return_dom + (relevant_movies[(relevant_movies['production_budget'] > 25000000) & (relevant_movies['production_budget'] <= 50000000) & (relevant_movies['domestic_roi'] > 0)].shape[0]))) * 100\n",
    "per_movies_25_to_50_with_neg_return_dom"
   ]
  },
  {
   "cell_type": "code",
   "execution_count": null,
   "metadata": {},
   "outputs": [],
   "source": []
  },
  {
   "cell_type": "code",
   "execution_count": 41,
   "metadata": {},
   "outputs": [
    {
     "data": {
      "image/png": "[encoded data removed]",
      "text/plain": [
       "<Figure size 1152x576 with 1 Axes>"
      ]
     },
     "metadata": {
      "needs_background": "light"
     },
     "output_type": "display_data"
    }
   ],
   "source": [
    "# Segment of Production Budget vs. Domestic ROI where production budget is between 50 and 75 million dollars.\n",
    "\n",
    "fig, ax = plt.subplots(figsize = (16,8))\n",
    "\n",
    "X = relevant_movies['production_budget']\n",
    "\n",
    "Y = relevant_movies['domestic_roi']\n",
    "\n",
    "ax.scatter(X, Y)\n",
    "ax.set_title('Production Budget vs. Domestic ROI')\n",
    "ax.set_xlabel('Production Budget')\n",
    "ax.set_ylabel('Domestic ROI')\n",
    "ynew = 0\n",
    "ax.axhline(ynew, color = 'r', linestyle = \"-\", linewidth = \"2\")\n",
    "\n",
    "plt.xlim(50000000, 75000000)\n",
    "plt.ylim(-2, 20)\n",
    "plt.grid();\n"
   ]
  },
  {
   "cell_type": "code",
   "execution_count": null,
   "metadata": {},
   "outputs": [],
   "source": []
  },
  {
   "cell_type": "code",
   "execution_count": 42,
   "metadata": {},
   "outputs": [
    {
     "data": {
      "text/plain": [
       "248"
      ]
     },
     "execution_count": 42,
     "metadata": {},
     "output_type": "execute_result"
    }
   ],
   "source": [
    "num_movies_50_to_75_with_neg_return_dom = relevant_movies[(relevant_movies['production_budget'] > 50000000) & (relevant_movies['production_budget'] <= 75000000) & (relevant_movies['domestic_roi'] <= 0)].shape[0]\n",
    "num_movies_50_to_75_with_neg_return_dom"
   ]
  },
  {
   "cell_type": "code",
   "execution_count": null,
   "metadata": {},
   "outputs": [],
   "source": []
  },
  {
   "cell_type": "code",
   "execution_count": 43,
   "metadata": {},
   "outputs": [
    {
     "data": {
      "text/plain": [
       "54.988913525498894"
      ]
     },
     "execution_count": 43,
     "metadata": {},
     "output_type": "execute_result"
    }
   ],
   "source": [
    "per_movies_50_to_75_with_neg_return_dom = (num_movies_50_to_75_with_neg_return_dom/(num_movies_50_to_75_with_neg_return_dom + (relevant_movies[(relevant_movies['production_budget'] > 50000000) & (relevant_movies['production_budget'] <= 75000000) & (relevant_movies['domestic_roi'] > 0)].shape[0]))) * 100\n",
    "per_movies_50_to_75_with_neg_return_dom"
   ]
  },
  {
   "cell_type": "code",
   "execution_count": null,
   "metadata": {},
   "outputs": [],
   "source": []
  },
  {
   "cell_type": "code",
   "execution_count": 44,
   "metadata": {},
   "outputs": [
    {
     "data": {
      "image/png": "[encoded data removed]",
      "text/plain": [
       "<Figure size 1152x576 with 1 Axes>"
      ]
     },
     "metadata": {
      "needs_background": "light"
     },
     "output_type": "display_data"
    }
   ],
   "source": [
    "# Segment of Production Budget vs. Domestic ROI where production budget is between 75 and 100 million dollars.\n",
    "\n",
    "fig, ax = plt.subplots(figsize = (16,8))\n",
    "\n",
    "X = relevant_movies['production_budget']\n",
    "\n",
    "Y = relevant_movies['domestic_roi']\n",
    "\n",
    "ax.scatter(X, Y)\n",
    "ax.set_title('Production Budget vs. Domestic ROI')\n",
    "ax.set_xlabel('Production Budget')\n",
    "ax.set_ylabel('Domestic ROI')\n",
    "ynew = 0\n",
    "ax.axhline(ynew, color = 'r', linestyle = \"-\", linewidth = \"2\")\n",
    "\n",
    "plt.xlim(75000000, 100000000)\n",
    "plt.ylim(-2, 20)\n",
    "plt.grid();\n",
    "\n"
   ]
  },
  {
   "cell_type": "code",
   "execution_count": null,
   "metadata": {},
   "outputs": [],
   "source": []
  },
  {
   "cell_type": "code",
   "execution_count": 45,
   "metadata": {},
   "outputs": [
    {
     "data": {
      "text/plain": [
       "137"
      ]
     },
     "execution_count": 45,
     "metadata": {},
     "output_type": "execute_result"
    }
   ],
   "source": [
    "num_movies_75_to_100_with_neg_return_dom = relevant_movies[(relevant_movies['production_budget'] > 75000000) & (relevant_movies['production_budget'] <= 100000000) & (relevant_movies['domestic_roi'] <= 0)].shape[0]\n",
    "num_movies_75_to_100_with_neg_return_dom\n"
   ]
  },
  {
   "cell_type": "code",
   "execution_count": null,
   "metadata": {},
   "outputs": [],
   "source": []
  },
  {
   "cell_type": "code",
   "execution_count": 46,
   "metadata": {},
   "outputs": [
    {
     "data": {
      "text/plain": [
       "53.30739299610895"
      ]
     },
     "execution_count": 46,
     "metadata": {},
     "output_type": "execute_result"
    }
   ],
   "source": [
    "per_movies_75_to_100_with_neg_return_dom = (num_movies_75_to_100_with_neg_return_dom/(num_movies_75_to_100_with_neg_return_dom + (relevant_movies[(relevant_movies['production_budget'] > 75000000) & (relevant_movies['production_budget'] <= 100000000) & (relevant_movies['domestic_roi'] > 0)].shape[0]))) * 100\n",
    "per_movies_75_to_100_with_neg_return_dom"
   ]
  },
  {
   "cell_type": "code",
   "execution_count": null,
   "metadata": {},
   "outputs": [],
   "source": []
  },
  {
   "cell_type": "code",
   "execution_count": 47,
   "metadata": {},
   "outputs": [
    {
     "data": {
      "image/png": "[encoded data removed]",
      "text/plain": [
       "<Figure size 1152x576 with 1 Axes>"
      ]
     },
     "metadata": {
      "needs_background": "light"
     },
     "output_type": "display_data"
    }
   ],
   "source": [
    "# Segment of Production Budget vs. Domestic ROI where production budget is between 100 and 200 million dollars.\n",
    "\n",
    "fig, ax = plt.subplots(figsize = (16,8))\n",
    "\n",
    "X = relevant_movies['production_budget']\n",
    "\n",
    "Y = relevant_movies['domestic_roi']\n",
    "\n",
    "ax.scatter(X, Y)\n",
    "ax.set_title('Production Budget vs. Domestic ROI')\n",
    "ax.set_xlabel('Production Budget')\n",
    "ax.set_ylabel('Domestic ROI')\n",
    "ynew = 0\n",
    "ax.axhline(ynew, color = 'r', linestyle = \"-\", linewidth = \"2\")\n",
    "\n",
    "plt.xlim(100000000, 200000000)\n",
    "plt.ylim(-2, 20)\n",
    "plt.grid();"
   ]
  },
  {
   "cell_type": "code",
   "execution_count": null,
   "metadata": {},
   "outputs": [],
   "source": []
  },
  {
   "cell_type": "code",
   "execution_count": 48,
   "metadata": {},
   "outputs": [
    {
     "data": {
      "text/plain": [
       "161"
      ]
     },
     "execution_count": 48,
     "metadata": {},
     "output_type": "execute_result"
    }
   ],
   "source": [
    "num_movies_100_to_200_with_neg_return_dom = relevant_movies[(relevant_movies['production_budget'] > 100000000) & (relevant_movies['production_budget'] <= 200000000) & (relevant_movies['domestic_roi'] <= 0)].shape[0]\n",
    "num_movies_100_to_200_with_neg_return_dom"
   ]
  },
  {
   "cell_type": "code",
   "execution_count": null,
   "metadata": {},
   "outputs": [],
   "source": []
  },
  {
   "cell_type": "code",
   "execution_count": 49,
   "metadata": {},
   "outputs": [
    {
     "data": {
      "text/plain": [
       "50.155763239875384"
      ]
     },
     "execution_count": 49,
     "metadata": {},
     "output_type": "execute_result"
    }
   ],
   "source": [
    "per_movies_100_to_200_with_neg_return_dom = (num_movies_100_to_200_with_neg_return_dom/(num_movies_100_to_200_with_neg_return_dom + (relevant_movies[(relevant_movies['production_budget'] > 100000000) & (relevant_movies['production_budget'] <= 200000000) & (relevant_movies['domestic_roi'] > 0)].shape[0]))) * 100\n",
    "per_movies_100_to_200_with_neg_return_dom"
   ]
  },
  {
   "cell_type": "code",
   "execution_count": null,
   "metadata": {},
   "outputs": [],
   "source": []
  },
  {
   "cell_type": "code",
   "execution_count": 50,
   "metadata": {},
   "outputs": [
    {
     "data": {
      "image/png": "[encoded data removed]",
      "text/plain": [
       "<Figure size 1152x576 with 1 Axes>"
      ]
     },
     "metadata": {
      "needs_background": "light"
     },
     "output_type": "display_data"
    }
   ],
   "source": [
    "# Segment of Production Budget vs. Domestic ROI where production budget is between 200 and 300 million dollars.\n",
    "\n",
    "fig, ax = plt.subplots(figsize = (16,8))\n",
    "\n",
    "X = relevant_movies['production_budget']\n",
    "\n",
    "Y = relevant_movies['domestic_roi']\n",
    "\n",
    "ax.scatter(X, Y)\n",
    "ax.set_title('Production Budget vs. Domestic ROI')\n",
    "ax.set_xlabel('Production Budget')\n",
    "ax.set_ylabel('Domestic ROI')\n",
    "ynew = 0\n",
    "ax.axhline(ynew, color = 'r', linestyle = \"-\", linewidth = \"2\")\n",
    "\n",
    "plt.xlim(200000000, 300000000)\n",
    "plt.ylim(-2, 20)\n",
    "plt.grid();"
   ]
  },
  {
   "cell_type": "code",
   "execution_count": null,
   "metadata": {},
   "outputs": [],
   "source": []
  },
  {
   "cell_type": "code",
   "execution_count": 51,
   "metadata": {},
   "outputs": [
    {
     "data": {
      "text/plain": [
       "16"
      ]
     },
     "execution_count": 51,
     "metadata": {},
     "output_type": "execute_result"
    }
   ],
   "source": [
    "num_movies_200_to_300_with_neg_return_dom = relevant_movies[(relevant_movies['production_budget'] > 200000000) & (relevant_movies['production_budget'] <= 300000000) & (relevant_movies['domestic_roi'] <= 0)].shape[0]\n",
    "num_movies_200_to_300_with_neg_return_dom"
   ]
  },
  {
   "cell_type": "code",
   "execution_count": null,
   "metadata": {},
   "outputs": [],
   "source": []
  },
  {
   "cell_type": "code",
   "execution_count": 52,
   "metadata": {},
   "outputs": [
    {
     "data": {
      "text/plain": [
       "45.714285714285715"
      ]
     },
     "execution_count": 52,
     "metadata": {},
     "output_type": "execute_result"
    }
   ],
   "source": [
    "per_movies_200_to_300_with_neg_return_dom = (num_movies_200_to_300_with_neg_return_dom/(num_movies_200_to_300_with_neg_return_dom + (relevant_movies[(relevant_movies['production_budget'] > 200000000) & (relevant_movies['production_budget'] <= 300000000) & (relevant_movies['domestic_roi'] > 0)].shape[0]))) * 100\n",
    "per_movies_200_to_300_with_neg_return_dom"
   ]
  },
  {
   "cell_type": "code",
   "execution_count": null,
   "metadata": {},
   "outputs": [],
   "source": []
  },
  {
   "cell_type": "code",
   "execution_count": 53,
   "metadata": {},
   "outputs": [
    {
     "data": {
      "image/png": "[encoded data removed]",
      "text/plain": [
       "<Figure size 1152x576 with 1 Axes>"
      ]
     },
     "metadata": {
      "needs_background": "light"
     },
     "output_type": "display_data"
    }
   ],
   "source": [
    "# Segment of Production Budget vs. Domestic ROI where production budget is between 300 and 400 million dollars.\n",
    "\n",
    "fig, ax = plt.subplots(figsize = (16,8))\n",
    "\n",
    "X = relevant_movies['production_budget']\n",
    "\n",
    "Y = relevant_movies['domestic_roi']\n",
    "\n",
    "ax.scatter(X, Y)\n",
    "ax.set_title('Production Budget vs. Domestic ROI')\n",
    "ax.set_xlabel('Production Budget')\n",
    "ax.set_ylabel('Domestic ROI')\n",
    "ynew = 0\n",
    "ax.axhline(ynew, color = 'r', linestyle = \"-\", linewidth = \"2\")\n",
    "\n",
    "plt.xlim(300000000, 400000000)\n",
    "plt.ylim(-2, 20)\n",
    "plt.grid();"
   ]
  },
  {
   "cell_type": "code",
   "execution_count": null,
   "metadata": {},
   "outputs": [],
   "source": []
  },
  {
   "cell_type": "code",
   "execution_count": 54,
   "metadata": {},
   "outputs": [
    {
     "data": {
      "text/plain": [
       "1"
      ]
     },
     "execution_count": 54,
     "metadata": {},
     "output_type": "execute_result"
    }
   ],
   "source": [
    "num_movies_300_to_400_with_neg_return_dom = relevant_movies[(relevant_movies['production_budget'] > 300000000) & (relevant_movies['production_budget'] <= 400000000) & (relevant_movies['domestic_roi'] <= 0)].shape[0]\n",
    "num_movies_300_to_400_with_neg_return_dom"
   ]
  },
  {
   "cell_type": "code",
   "execution_count": null,
   "metadata": {},
   "outputs": [],
   "source": []
  },
  {
   "cell_type": "code",
   "execution_count": 55,
   "metadata": {},
   "outputs": [
    {
     "data": {
      "text/plain": [
       "25.0"
      ]
     },
     "execution_count": 55,
     "metadata": {},
     "output_type": "execute_result"
    }
   ],
   "source": [
    "per_movies_300_to_400_with_neg_return_dom = (num_movies_300_to_400_with_neg_return_dom/(num_movies_300_to_400_with_neg_return_dom + (relevant_movies[(relevant_movies['production_budget'] > 300000000) & (relevant_movies['production_budget'] <= 400000000) & (relevant_movies['domestic_roi'] > 0)].shape[0]))) * 100\n",
    "per_movies_300_to_400_with_neg_return_dom"
   ]
  },
  {
   "cell_type": "code",
   "execution_count": null,
   "metadata": {},
   "outputs": [],
   "source": []
  },
  {
   "cell_type": "code",
   "execution_count": 56,
   "metadata": {},
   "outputs": [
    {
     "data": {
      "image/png": "[encoded data removed]",
      "text/plain": [
       "<Figure size 1152x576 with 1 Axes>"
      ]
     },
     "metadata": {
      "needs_background": "light"
     },
     "output_type": "display_data"
    }
   ],
   "source": [
    "# Segment of Production Budget vs. Worldwide ROI where production budget is between 5 and 25 million dollars.\n",
    "\n",
    "fig, ax = plt.subplots(figsize = (16,8))\n",
    "\n",
    "X = relevant_movies['production_budget']\n",
    "\n",
    "Y = relevant_movies['worldwide_roi']\n",
    "\n",
    "ax.scatter(X, Y)\n",
    "ax.set_title('Production Budget vs. Worldwide ROI')\n",
    "ax.set_xlabel('Production Budget')\n",
    "ax.set_ylabel('Worldwide ROI')\n",
    "ynew = 0\n",
    "ax.axhline(ynew, color = 'r', linestyle = \"-\", linewidth = \"2\")\n",
    "\n",
    "plt.xlim(2500000, 25000000)\n",
    "plt.ylim(-5, 20)\n",
    "plt.grid();\n",
    "\n"
   ]
  },
  {
   "cell_type": "code",
   "execution_count": null,
   "metadata": {},
   "outputs": [],
   "source": []
  },
  {
   "cell_type": "code",
   "execution_count": 57,
   "metadata": {},
   "outputs": [
    {
     "data": {
      "text/plain": [
       "726"
      ]
     },
     "execution_count": 57,
     "metadata": {},
     "output_type": "execute_result"
    }
   ],
   "source": [
    "num_movies_5_to_25_with_neg_return_ww = relevant_movies[(relevant_movies['production_budget'] >= 5000000) & (relevant_movies['production_budget'] <= 25000000) & (relevant_movies['worldwide_roi'] <= 0)].shape[0]\n",
    "num_movies_5_to_25_with_neg_return_ww"
   ]
  },
  {
   "cell_type": "code",
   "execution_count": null,
   "metadata": {},
   "outputs": [],
   "source": []
  },
  {
   "cell_type": "code",
   "execution_count": 58,
   "metadata": {},
   "outputs": [
    {
     "data": {
      "text/plain": [
       "34.88707352234503"
      ]
     },
     "execution_count": 58,
     "metadata": {},
     "output_type": "execute_result"
    }
   ],
   "source": [
    "per_movies_5_to_25_with_neg_return_ww = (num_movies_5_to_25_with_neg_return_ww/(num_movies_5_to_25_with_neg_return_ww + (relevant_movies[(relevant_movies['production_budget'] >= 5000000) & (relevant_movies['production_budget'] <= 25000000) & (relevant_movies['worldwide_roi'] > 0)].shape[0]))) * 100\n",
    "per_movies_5_to_25_with_neg_return_ww"
   ]
  },
  {
   "cell_type": "code",
   "execution_count": null,
   "metadata": {},
   "outputs": [],
   "source": []
  },
  {
   "cell_type": "code",
   "execution_count": 59,
   "metadata": {},
   "outputs": [
    {
     "data": {
      "image/png": "[encoded data removed]",
      "text/plain": [
       "<Figure size 1152x576 with 1 Axes>"
      ]
     },
     "metadata": {
      "needs_background": "light"
     },
     "output_type": "display_data"
    }
   ],
   "source": [
    "# Segment of Production Budget vs. Worldwide ROI where production budget is between 25 and 50 million dollars.\n",
    "\n",
    "fig, ax = plt.subplots(figsize = (16,8))\n",
    "\n",
    "X = relevant_movies['production_budget']\n",
    "\n",
    "Y = relevant_movies['worldwide_roi']\n",
    "\n",
    "ax.scatter(X, Y)\n",
    "ax.set_title('Production Budget vs. Worldwide ROI')\n",
    "ax.set_xlabel('Production Budget')\n",
    "ax.set_ylabel('Worldwide ROI')\n",
    "ynew = 0\n",
    "ax.axhline(ynew, color = 'r', linestyle = \"-\", linewidth = \"2\")\n",
    "\n",
    "plt.xlim(25000000, 50000000)\n",
    "plt.ylim(-5, 20)\n",
    "plt.grid();\n",
    "\n"
   ]
  },
  {
   "cell_type": "code",
   "execution_count": null,
   "metadata": {},
   "outputs": [],
   "source": []
  },
  {
   "cell_type": "code",
   "execution_count": 60,
   "metadata": {},
   "outputs": [
    {
     "data": {
      "text/plain": [
       "317"
      ]
     },
     "execution_count": 60,
     "metadata": {},
     "output_type": "execute_result"
    }
   ],
   "source": [
    "num_movies_25_to_50_with_neg_return_ww = relevant_movies[(relevant_movies['production_budget'] > 25000000) & (relevant_movies['production_budget'] <= 50000000) & (relevant_movies['worldwide_roi'] <= 0)].shape[0]\n",
    "num_movies_25_to_50_with_neg_return_ww"
   ]
  },
  {
   "cell_type": "code",
   "execution_count": null,
   "metadata": {},
   "outputs": [],
   "source": []
  },
  {
   "cell_type": "code",
   "execution_count": 61,
   "metadata": {},
   "outputs": [
    {
     "data": {
      "text/plain": [
       "30.33492822966507"
      ]
     },
     "execution_count": 61,
     "metadata": {},
     "output_type": "execute_result"
    }
   ],
   "source": [
    "per_movies_25_to_50_with_neg_return_ww = (num_movies_25_to_50_with_neg_return_ww/(num_movies_25_to_50_with_neg_return_ww + (relevant_movies[(relevant_movies['production_budget'] > 25000000) & (relevant_movies['production_budget'] <= 50000000) & (relevant_movies['worldwide_roi'] > 0)].shape[0]))) * 100\n",
    "per_movies_25_to_50_with_neg_return_ww"
   ]
  },
  {
   "cell_type": "code",
   "execution_count": null,
   "metadata": {},
   "outputs": [],
   "source": []
  },
  {
   "cell_type": "code",
   "execution_count": 62,
   "metadata": {},
   "outputs": [
    {
     "data": {
      "image/png": "[encoded data removed]",
      "text/plain": [
       "<Figure size 1152x576 with 1 Axes>"
      ]
     },
     "metadata": {
      "needs_background": "light"
     },
     "output_type": "display_data"
    }
   ],
   "source": [
    "# Segment of Production Budget vs. Worldwide ROI where production budget is between 50 and 75 million dollars.\n",
    "\n",
    "fig, ax = plt.subplots(figsize = (16,8))\n",
    "\n",
    "X = relevant_movies['production_budget']\n",
    "\n",
    "Y = relevant_movies['worldwide_roi']\n",
    "\n",
    "ax.scatter(X, Y)\n",
    "ax.set_title('Production Budget vs. Worldwide ROI')\n",
    "ax.set_xlabel('Production Budget')\n",
    "ax.set_ylabel('Worldwide ROI')\n",
    "ynew = 0\n",
    "ax.axhline(ynew, color = 'r', linestyle = \"-\", linewidth = \"2\")\n",
    "\n",
    "plt.xlim(50000000, 75000000)\n",
    "plt.ylim(-5, 20)\n",
    "plt.grid();\n"
   ]
  },
  {
   "cell_type": "code",
   "execution_count": null,
   "metadata": {},
   "outputs": [],
   "source": []
  },
  {
   "cell_type": "code",
   "execution_count": 63,
   "metadata": {},
   "outputs": [
    {
     "data": {
      "text/plain": [
       "115"
      ]
     },
     "execution_count": 63,
     "metadata": {},
     "output_type": "execute_result"
    }
   ],
   "source": [
    "num_movies_50_to_75_with_neg_return_ww = relevant_movies[(relevant_movies['production_budget'] > 50000000) & (relevant_movies['production_budget'] <= 75000000) & (relevant_movies['worldwide_roi'] <= 0)].shape[0]\n",
    "num_movies_50_to_75_with_neg_return_ww"
   ]
  },
  {
   "cell_type": "code",
   "execution_count": null,
   "metadata": {},
   "outputs": [],
   "source": []
  },
  {
   "cell_type": "code",
   "execution_count": 64,
   "metadata": {},
   "outputs": [
    {
     "data": {
      "text/plain": [
       "25.49889135254989"
      ]
     },
     "execution_count": 64,
     "metadata": {},
     "output_type": "execute_result"
    }
   ],
   "source": [
    "per_movies_50_to_75_with_neg_return_ww = (num_movies_50_to_75_with_neg_return_ww/(num_movies_50_to_75_with_neg_return_ww + (relevant_movies[(relevant_movies['production_budget'] > 50000000) & (relevant_movies['production_budget'] <= 75000000) & (relevant_movies['worldwide_roi'] > 0)].shape[0]))) * 100\n",
    "per_movies_50_to_75_with_neg_return_ww"
   ]
  },
  {
   "cell_type": "code",
   "execution_count": null,
   "metadata": {},
   "outputs": [],
   "source": []
  },
  {
   "cell_type": "code",
   "execution_count": 65,
   "metadata": {},
   "outputs": [
    {
     "data": {
      "image/png": "[encoded data removed]",
      "text/plain": [
       "<Figure size 1152x576 with 1 Axes>"
      ]
     },
     "metadata": {
      "needs_background": "light"
     },
     "output_type": "display_data"
    }
   ],
   "source": [
    "# Segment of Production Budget vs. Worldwide ROI where production budget is between 75 and 100 million dollars.\n",
    "\n",
    "fig, ax = plt.subplots(figsize = (16,8))\n",
    "\n",
    "X = relevant_movies['production_budget']\n",
    "\n",
    "Y = relevant_movies['worldwide_roi']\n",
    "\n",
    "ax.scatter(X, Y)\n",
    "ax.set_title('Production Budget vs. Worldwide ROI')\n",
    "ax.set_xlabel('Production Budget')\n",
    "ax.set_ylabel('Worldwide ROI')\n",
    "ynew = 0\n",
    "ax.axhline(ynew, color = 'r', linestyle = \"-\", linewidth = \"2\")\n",
    "\n",
    "plt.xlim(75000000, 100000000)\n",
    "plt.ylim(-5, 20)\n",
    "plt.grid();\n"
   ]
  },
  {
   "cell_type": "code",
   "execution_count": null,
   "metadata": {},
   "outputs": [],
   "source": []
  },
  {
   "cell_type": "code",
   "execution_count": 66,
   "metadata": {},
   "outputs": [
    {
     "data": {
      "text/plain": [
       "49"
      ]
     },
     "execution_count": 66,
     "metadata": {},
     "output_type": "execute_result"
    }
   ],
   "source": [
    "num_movies_75_to_100_with_neg_return_ww = relevant_movies[(relevant_movies['production_budget'] > 75000000) & (relevant_movies['production_budget'] <= 100000000) & (relevant_movies['worldwide_roi'] <= 0)].shape[0]\n",
    "num_movies_75_to_100_with_neg_return_ww"
   ]
  },
  {
   "cell_type": "code",
   "execution_count": null,
   "metadata": {},
   "outputs": [],
   "source": []
  },
  {
   "cell_type": "code",
   "execution_count": 67,
   "metadata": {},
   "outputs": [
    {
     "data": {
      "text/plain": [
       "19.06614785992218"
      ]
     },
     "execution_count": 67,
     "metadata": {},
     "output_type": "execute_result"
    }
   ],
   "source": [
    "per_movies_75_to_100_with_neg_return_ww = (num_movies_75_to_100_with_neg_return_ww/(num_movies_75_to_100_with_neg_return_ww + (relevant_movies[(relevant_movies['production_budget'] > 75000000) & (relevant_movies['production_budget'] <= 100000000) & (relevant_movies['worldwide_roi'] > 0)].shape[0]))) * 100\n",
    "per_movies_75_to_100_with_neg_return_ww"
   ]
  },
  {
   "cell_type": "code",
   "execution_count": null,
   "metadata": {},
   "outputs": [],
   "source": []
  },
  {
   "cell_type": "code",
   "execution_count": 68,
   "metadata": {},
   "outputs": [
    {
     "data": {
      "image/png": "[encoded data removed]",
      "text/plain": [
       "<Figure size 1152x576 with 1 Axes>"
      ]
     },
     "metadata": {
      "needs_background": "light"
     },
     "output_type": "display_data"
    }
   ],
   "source": [
    "# Segment of Production Budget vs. Worldwide ROI where production budget is between 100 and 200 million dollars.\n",
    "\n",
    "fig, ax = plt.subplots(figsize = (16,8))\n",
    "\n",
    "X = relevant_movies['production_budget']\n",
    "\n",
    "Y = relevant_movies['worldwide_roi']\n",
    "\n",
    "ax.scatter(X, Y)\n",
    "ax.set_title('Production Budget vs. Worldwide ROI')\n",
    "ax.set_xlabel('Production Budget')\n",
    "ax.set_ylabel('Worldwide ROI')\n",
    "ynew = 0\n",
    "ax.axhline(ynew, color = 'r', linestyle = \"-\", linewidth = \"2\")\n",
    "\n",
    "plt.xlim(100000000, 200000000)\n",
    "plt.ylim(-5, 20)\n",
    "plt.grid();\n"
   ]
  },
  {
   "cell_type": "code",
   "execution_count": null,
   "metadata": {},
   "outputs": [],
   "source": []
  },
  {
   "cell_type": "code",
   "execution_count": 69,
   "metadata": {},
   "outputs": [
    {
     "data": {
      "text/plain": [
       "22"
      ]
     },
     "execution_count": 69,
     "metadata": {},
     "output_type": "execute_result"
    }
   ],
   "source": [
    "num_movies_100_to_200_with_neg_return_ww = relevant_movies[(relevant_movies['production_budget'] > 100000000) & (relevant_movies['production_budget'] <= 200000000) & (relevant_movies['worldwide_roi'] <= 0)].shape[0]\n",
    "num_movies_100_to_200_with_neg_return_ww"
   ]
  },
  {
   "cell_type": "code",
   "execution_count": null,
   "metadata": {},
   "outputs": [],
   "source": []
  },
  {
   "cell_type": "code",
   "execution_count": 70,
   "metadata": {},
   "outputs": [
    {
     "data": {
      "text/plain": [
       "6.853582554517133"
      ]
     },
     "execution_count": 70,
     "metadata": {},
     "output_type": "execute_result"
    }
   ],
   "source": [
    "per_movies_100_to_200_with_neg_return_ww = (num_movies_100_to_200_with_neg_return_ww/(num_movies_100_to_200_with_neg_return_ww + (relevant_movies[(relevant_movies['production_budget'] > 100000000) & (relevant_movies['production_budget'] <= 200000000) & (relevant_movies['worldwide_roi'] > 0)].shape[0]))) * 100\n",
    "per_movies_100_to_200_with_neg_return_ww"
   ]
  },
  {
   "cell_type": "code",
   "execution_count": null,
   "metadata": {},
   "outputs": [],
   "source": []
  },
  {
   "cell_type": "code",
   "execution_count": 71,
   "metadata": {},
   "outputs": [
    {
     "data": {
      "image/png": "[encoded data removed]",
      "text/plain": [
       "<Figure size 1152x576 with 1 Axes>"
      ]
     },
     "metadata": {
      "needs_background": "light"
     },
     "output_type": "display_data"
    }
   ],
   "source": [
    "# Segment of Production Budget vs. Worldwide ROI where production budget is between 200 and 300 million dollars.\n",
    "\n",
    "fig, ax = plt.subplots(figsize = (16,8))\n",
    "\n",
    "X = relevant_movies['production_budget']\n",
    "\n",
    "Y = relevant_movies['worldwide_roi']\n",
    "\n",
    "ax.scatter(X, Y)\n",
    "ax.set_title('Production Budget vs. Worldwide ROI')\n",
    "ax.set_xlabel('Production Budget')\n",
    "ax.set_ylabel('Worldwide ROI')\n",
    "ynew = 0\n",
    "ax.axhline(ynew, color = 'r', linestyle = \"-\", linewidth = \"2\")\n",
    "\n",
    "plt.xlim(200000000, 300000000)\n",
    "plt.ylim(-5, 20)\n",
    "plt.grid();"
   ]
  },
  {
   "cell_type": "code",
   "execution_count": null,
   "metadata": {},
   "outputs": [],
   "source": []
  },
  {
   "cell_type": "code",
   "execution_count": 72,
   "metadata": {},
   "outputs": [
    {
     "data": {
      "text/plain": [
       "1"
      ]
     },
     "execution_count": 72,
     "metadata": {},
     "output_type": "execute_result"
    }
   ],
   "source": [
    "num_movies_200_to_300_with_neg_return_ww = relevant_movies[(relevant_movies['production_budget'] > 200000000) & (relevant_movies['production_budget'] <= 300000000) & (relevant_movies['worldwide_roi'] <= 0)].shape[0]\n",
    "num_movies_200_to_300_with_neg_return_ww"
   ]
  },
  {
   "cell_type": "code",
   "execution_count": null,
   "metadata": {},
   "outputs": [],
   "source": []
  },
  {
   "cell_type": "code",
   "execution_count": 73,
   "metadata": {},
   "outputs": [
    {
     "data": {
      "text/plain": [
       "2.857142857142857"
      ]
     },
     "execution_count": 73,
     "metadata": {},
     "output_type": "execute_result"
    }
   ],
   "source": [
    "per_movies_200_to_300_with_neg_return_ww = (num_movies_200_to_300_with_neg_return_ww/(num_movies_200_to_300_with_neg_return_ww + (relevant_movies[(relevant_movies['production_budget'] > 200000000) & (relevant_movies['production_budget'] <= 300000000) & (relevant_movies['worldwide_roi'] > 0)].shape[0]))) * 100\n",
    "per_movies_200_to_300_with_neg_return_ww"
   ]
  },
  {
   "cell_type": "code",
   "execution_count": null,
   "metadata": {},
   "outputs": [],
   "source": []
  },
  {
   "cell_type": "code",
   "execution_count": 74,
   "metadata": {},
   "outputs": [
    {
     "data": {
      "image/png": "[encoded data removed]",
      "text/plain": [
       "<Figure size 1152x576 with 1 Axes>"
      ]
     },
     "metadata": {
      "needs_background": "light"
     },
     "output_type": "display_data"
    }
   ],
   "source": [
    "# Segment of Production Budget vs. Worldwide ROI where production budget is between 200 and 300 million dollars.\n",
    "\n",
    "fig, ax = plt.subplots(figsize = (16,8))\n",
    "\n",
    "X = relevant_movies['production_budget']\n",
    "\n",
    "Y = relevant_movies['worldwide_roi']\n",
    "\n",
    "ax.scatter(X, Y)\n",
    "ax.set_title('Production Budget vs. Worldwide ROI')\n",
    "ax.set_xlabel('Production Budget')\n",
    "ax.set_ylabel('Worldwide ROI')\n",
    "ynew = 0\n",
    "ax.axhline(ynew, color = 'r', linestyle = \"-\", linewidth = \"2\")\n",
    "\n",
    "plt.xlim(300000000, 400000000)\n",
    "plt.ylim(-5, 20)\n",
    "plt.grid();"
   ]
  },
  {
   "cell_type": "code",
   "execution_count": null,
   "metadata": {},
   "outputs": [],
   "source": []
  },
  {
   "cell_type": "code",
   "execution_count": 75,
   "metadata": {},
   "outputs": [
    {
     "data": {
      "text/plain": [
       "1"
      ]
     },
     "execution_count": 75,
     "metadata": {},
     "output_type": "execute_result"
    }
   ],
   "source": [
    "num_movies_300_to_400_with_neg_return_ww = relevant_movies[(relevant_movies['production_budget'] > 300000000) & (relevant_movies['production_budget'] <= 400000000) & (relevant_movies['worldwide_roi'] <= 0)].shape[0]\n",
    "num_movies_300_to_400_with_neg_return_ww"
   ]
  },
  {
   "cell_type": "code",
   "execution_count": null,
   "metadata": {},
   "outputs": [],
   "source": []
  },
  {
   "cell_type": "code",
   "execution_count": 76,
   "metadata": {},
   "outputs": [
    {
     "data": {
      "text/plain": [
       "25.0"
      ]
     },
     "execution_count": 76,
     "metadata": {},
     "output_type": "execute_result"
    }
   ],
   "source": [
    "per_movies_300_to_400_with_neg_return_ww = (num_movies_300_to_400_with_neg_return_ww/(num_movies_300_to_400_with_neg_return_ww + (relevant_movies[(relevant_movies['production_budget'] > 300000000) & (relevant_movies['production_budget'] <= 400000000) & (relevant_movies['worldwide_roi'] > 0)].shape[0]))) * 100\n",
    "per_movies_300_to_400_with_neg_return_ww"
   ]
  },
  {
   "cell_type": "code",
   "execution_count": null,
   "metadata": {},
   "outputs": [],
   "source": []
  },
  {
   "cell_type": "code",
   "execution_count": 77,
   "metadata": {},
   "outputs": [
    {
     "data": {
      "text/html": [
       "<div>\n",
       "<style scoped>\n",
       "    .dataframe tbody tr th:only-of-type {\n",
       "        vertical-align: middle;\n",
       "    }\n",
       "\n",
       "    .dataframe tbody tr th {\n",
       "        vertical-align: top;\n",
       "    }\n",
       "\n",
       "    .dataframe thead th {\n",
       "        text-align: right;\n",
       "    }\n",
       "</style>\n",
       "<table border=\"1\" class=\"dataframe\">\n",
       "  <thead>\n",
       "    <tr style=\"text-align: right;\">\n",
       "      <th></th>\n",
       "      <th>id</th>\n",
       "      <th>release_date</th>\n",
       "      <th>movie</th>\n",
       "      <th>production_budget</th>\n",
       "      <th>domestic_gross</th>\n",
       "      <th>worldwide_gross</th>\n",
       "      <th>domestic_profit</th>\n",
       "      <th>worldwide_profit</th>\n",
       "      <th>domestic_roi</th>\n",
       "      <th>worldwide_roi</th>\n",
       "      <th>worldwide_profit_margin</th>\n",
       "      <th>domestic_profit_margin</th>\n",
       "      <th>month</th>\n",
       "      <th>year</th>\n",
       "    </tr>\n",
       "  </thead>\n",
       "  <tbody>\n",
       "    <tr>\n",
       "      <th>0</th>\n",
       "      <td>1</td>\n",
       "      <td>Dec 18, 2009</td>\n",
       "      <td>Avatar</td>\n",
       "      <td>425000000</td>\n",
       "      <td>760507625</td>\n",
       "      <td>2776345279</td>\n",
       "      <td>335507625</td>\n",
       "      <td>2351345279</td>\n",
       "      <td>0.789430</td>\n",
       "      <td>5.532577</td>\n",
       "      <td>0.846921</td>\n",
       "      <td>0.441163</td>\n",
       "      <td>12</td>\n",
       "      <td>2009</td>\n",
       "    </tr>\n",
       "    <tr>\n",
       "      <th>1</th>\n",
       "      <td>2</td>\n",
       "      <td>May 20, 2011</td>\n",
       "      <td>Pirates of the Caribbean: On Stranger Tides</td>\n",
       "      <td>410600000</td>\n",
       "      <td>241063875</td>\n",
       "      <td>1045663875</td>\n",
       "      <td>-169536125</td>\n",
       "      <td>635063875</td>\n",
       "      <td>-0.412899</td>\n",
       "      <td>1.546673</td>\n",
       "      <td>0.607331</td>\n",
       "      <td>-0.703283</td>\n",
       "      <td>5</td>\n",
       "      <td>2011</td>\n",
       "    </tr>\n",
       "    <tr>\n",
       "      <th>2</th>\n",
       "      <td>3</td>\n",
       "      <td>Jun 7, 2019</td>\n",
       "      <td>Dark Phoenix</td>\n",
       "      <td>350000000</td>\n",
       "      <td>42762350</td>\n",
       "      <td>149762350</td>\n",
       "      <td>-307237650</td>\n",
       "      <td>-200237650</td>\n",
       "      <td>-0.877822</td>\n",
       "      <td>-0.572108</td>\n",
       "      <td>-1.337036</td>\n",
       "      <td>-7.184770</td>\n",
       "      <td>6</td>\n",
       "      <td>2019</td>\n",
       "    </tr>\n",
       "    <tr>\n",
       "      <th>3</th>\n",
       "      <td>4</td>\n",
       "      <td>May 1, 2015</td>\n",
       "      <td>Avengers: Age of Ultron</td>\n",
       "      <td>330600000</td>\n",
       "      <td>459005868</td>\n",
       "      <td>1403013963</td>\n",
       "      <td>128405868</td>\n",
       "      <td>1072413963</td>\n",
       "      <td>0.388403</td>\n",
       "      <td>3.243841</td>\n",
       "      <td>0.764364</td>\n",
       "      <td>0.279748</td>\n",
       "      <td>5</td>\n",
       "      <td>2015</td>\n",
       "    </tr>\n",
       "    <tr>\n",
       "      <th>4</th>\n",
       "      <td>5</td>\n",
       "      <td>Dec 15, 2017</td>\n",
       "      <td>Star Wars Ep. VIII: The Last Jedi</td>\n",
       "      <td>317000000</td>\n",
       "      <td>620181382</td>\n",
       "      <td>1316721747</td>\n",
       "      <td>303181382</td>\n",
       "      <td>999721747</td>\n",
       "      <td>0.956408</td>\n",
       "      <td>3.153696</td>\n",
       "      <td>0.759251</td>\n",
       "      <td>0.488859</td>\n",
       "      <td>12</td>\n",
       "      <td>2017</td>\n",
       "    </tr>\n",
       "  </tbody>\n",
       "</table>\n",
       "</div>"
      ],
      "text/plain": [
       "   id  release_date                                        movie  \\\n",
       "0   1  Dec 18, 2009                                       Avatar   \n",
       "1   2  May 20, 2011  Pirates of the Caribbean: On Stranger Tides   \n",
       "2   3   Jun 7, 2019                                 Dark Phoenix   \n",
       "3   4   May 1, 2015                      Avengers: Age of Ultron   \n",
       "4   5  Dec 15, 2017            Star Wars Ep. VIII: The Last Jedi   \n",
       "\n",
       "   production_budget  domestic_gross  worldwide_gross  domestic_profit  \\\n",
       "0          425000000       760507625       2776345279        335507625   \n",
       "1          410600000       241063875       1045663875       -169536125   \n",
       "2          350000000        42762350        149762350       -307237650   \n",
       "3          330600000       459005868       1403013963        128405868   \n",
       "4          317000000       620181382       1316721747        303181382   \n",
       "\n",
       "   worldwide_profit  domestic_roi  worldwide_roi  worldwide_profit_margin  \\\n",
       "0        2351345279      0.789430       5.532577                 0.846921   \n",
       "1         635063875     -0.412899       1.546673                 0.607331   \n",
       "2        -200237650     -0.877822      -0.572108                -1.337036   \n",
       "3        1072413963      0.388403       3.243841                 0.764364   \n",
       "4         999721747      0.956408       3.153696                 0.759251   \n",
       "\n",
       "   domestic_profit_margin  month  year  \n",
       "0                0.441163     12  2009  \n",
       "1               -0.703283      5  2011  \n",
       "2               -7.184770      6  2019  \n",
       "3                0.279748      5  2015  \n",
       "4                0.488859     12  2017  "
      ]
     },
     "execution_count": 77,
     "metadata": {},
     "output_type": "execute_result"
    }
   ],
   "source": [
    "movie_budgets_df.head()"
   ]
  },
  {
   "cell_type": "code",
   "execution_count": null,
   "metadata": {},
   "outputs": [],
   "source": []
  },
  {
   "cell_type": "code",
   "execution_count": 78,
   "metadata": {},
   "outputs": [
    {
     "data": {
      "text/html": [
       "<div>\n",
       "<style scoped>\n",
       "    .dataframe tbody tr th:only-of-type {\n",
       "        vertical-align: middle;\n",
       "    }\n",
       "\n",
       "    .dataframe tbody tr th {\n",
       "        vertical-align: top;\n",
       "    }\n",
       "\n",
       "    .dataframe thead th {\n",
       "        text-align: right;\n",
       "    }\n",
       "</style>\n",
       "<table border=\"1\" class=\"dataframe\">\n",
       "  <thead>\n",
       "    <tr style=\"text-align: right;\">\n",
       "      <th></th>\n",
       "      <th>id</th>\n",
       "      <th>release_date</th>\n",
       "      <th>movie</th>\n",
       "      <th>production_budget</th>\n",
       "      <th>domestic_gross</th>\n",
       "      <th>worldwide_gross</th>\n",
       "      <th>domestic_profit</th>\n",
       "      <th>worldwide_profit</th>\n",
       "      <th>domestic_roi</th>\n",
       "      <th>worldwide_roi</th>\n",
       "      <th>worldwide_profit_margin</th>\n",
       "      <th>domestic_profit_margin</th>\n",
       "      <th>month</th>\n",
       "      <th>year</th>\n",
       "    </tr>\n",
       "  </thead>\n",
       "  <tbody>\n",
       "    <tr>\n",
       "      <th>0</th>\n",
       "      <td>1</td>\n",
       "      <td>Dec 18, 2009</td>\n",
       "      <td>Avatar</td>\n",
       "      <td>425000000</td>\n",
       "      <td>760507625</td>\n",
       "      <td>2776345279</td>\n",
       "      <td>335507625</td>\n",
       "      <td>2351345279</td>\n",
       "      <td>0.789430</td>\n",
       "      <td>5.532577</td>\n",
       "      <td>0.846921</td>\n",
       "      <td>0.441163</td>\n",
       "      <td>12</td>\n",
       "      <td>2009</td>\n",
       "    </tr>\n",
       "    <tr>\n",
       "      <th>1</th>\n",
       "      <td>2</td>\n",
       "      <td>May 20, 2011</td>\n",
       "      <td>Pirates of the Caribbean: On Stranger Tides</td>\n",
       "      <td>410600000</td>\n",
       "      <td>241063875</td>\n",
       "      <td>1045663875</td>\n",
       "      <td>-169536125</td>\n",
       "      <td>635063875</td>\n",
       "      <td>-0.412899</td>\n",
       "      <td>1.546673</td>\n",
       "      <td>0.607331</td>\n",
       "      <td>-0.703283</td>\n",
       "      <td>5</td>\n",
       "      <td>2011</td>\n",
       "    </tr>\n",
       "    <tr>\n",
       "      <th>2</th>\n",
       "      <td>3</td>\n",
       "      <td>Jun 7, 2019</td>\n",
       "      <td>Dark Phoenix</td>\n",
       "      <td>350000000</td>\n",
       "      <td>42762350</td>\n",
       "      <td>149762350</td>\n",
       "      <td>-307237650</td>\n",
       "      <td>-200237650</td>\n",
       "      <td>-0.877822</td>\n",
       "      <td>-0.572108</td>\n",
       "      <td>-1.337036</td>\n",
       "      <td>-7.184770</td>\n",
       "      <td>6</td>\n",
       "      <td>2019</td>\n",
       "    </tr>\n",
       "    <tr>\n",
       "      <th>3</th>\n",
       "      <td>4</td>\n",
       "      <td>May 1, 2015</td>\n",
       "      <td>Avengers: Age of Ultron</td>\n",
       "      <td>330600000</td>\n",
       "      <td>459005868</td>\n",
       "      <td>1403013963</td>\n",
       "      <td>128405868</td>\n",
       "      <td>1072413963</td>\n",
       "      <td>0.388403</td>\n",
       "      <td>3.243841</td>\n",
       "      <td>0.764364</td>\n",
       "      <td>0.279748</td>\n",
       "      <td>5</td>\n",
       "      <td>2015</td>\n",
       "    </tr>\n",
       "    <tr>\n",
       "      <th>4</th>\n",
       "      <td>5</td>\n",
       "      <td>Dec 15, 2017</td>\n",
       "      <td>Star Wars Ep. VIII: The Last Jedi</td>\n",
       "      <td>317000000</td>\n",
       "      <td>620181382</td>\n",
       "      <td>1316721747</td>\n",
       "      <td>303181382</td>\n",
       "      <td>999721747</td>\n",
       "      <td>0.956408</td>\n",
       "      <td>3.153696</td>\n",
       "      <td>0.759251</td>\n",
       "      <td>0.488859</td>\n",
       "      <td>12</td>\n",
       "      <td>2017</td>\n",
       "    </tr>\n",
       "  </tbody>\n",
       "</table>\n",
       "</div>"
      ],
      "text/plain": [
       "   id  release_date                                        movie  \\\n",
       "0   1  Dec 18, 2009                                       Avatar   \n",
       "1   2  May 20, 2011  Pirates of the Caribbean: On Stranger Tides   \n",
       "2   3   Jun 7, 2019                                 Dark Phoenix   \n",
       "3   4   May 1, 2015                      Avengers: Age of Ultron   \n",
       "4   5  Dec 15, 2017            Star Wars Ep. VIII: The Last Jedi   \n",
       "\n",
       "   production_budget  domestic_gross  worldwide_gross  domestic_profit  \\\n",
       "0          425000000       760507625       2776345279        335507625   \n",
       "1          410600000       241063875       1045663875       -169536125   \n",
       "2          350000000        42762350        149762350       -307237650   \n",
       "3          330600000       459005868       1403013963        128405868   \n",
       "4          317000000       620181382       1316721747        303181382   \n",
       "\n",
       "   worldwide_profit  domestic_roi  worldwide_roi  worldwide_profit_margin  \\\n",
       "0        2351345279      0.789430       5.532577                 0.846921   \n",
       "1         635063875     -0.412899       1.546673                 0.607331   \n",
       "2        -200237650     -0.877822      -0.572108                -1.337036   \n",
       "3        1072413963      0.388403       3.243841                 0.764364   \n",
       "4         999721747      0.956408       3.153696                 0.759251   \n",
       "\n",
       "   domestic_profit_margin  month  year  \n",
       "0                0.441163     12  2009  \n",
       "1               -0.703283      5  2011  \n",
       "2               -7.184770      6  2019  \n",
       "3                0.279748      5  2015  \n",
       "4                0.488859     12  2017  "
      ]
     },
     "execution_count": 78,
     "metadata": {},
     "output_type": "execute_result"
    }
   ],
   "source": [
    "movie_budgets_df.head()"
   ]
  },
  {
   "cell_type": "code",
   "execution_count": 79,
   "metadata": {},
   "outputs": [
    {
     "data": {
      "text/plain": [
       "(589, 14)"
      ]
     },
     "execution_count": 79,
     "metadata": {},
     "output_type": "execute_result"
    }
   ],
   "source": [
    "top_movies = movie_budgets_df[(movie_budgets_df['worldwide_gross'] > 0) & (movie_budgets_df['production_budget'] >= 5000000) & (movie_budgets_df['worldwide_roi'] >= 2) & (movie_budgets_df['domestic_roi'] >= 2) & (movie_budgets_df['year'] != 2020)]\n",
    "top_movies.head()\n",
    "top_movies.shape\n"
   ]
  },
  {
   "cell_type": "code",
   "execution_count": 80,
   "metadata": {},
   "outputs": [
    {
     "data": {
      "text/html": [
       "<div>\n",
       "<style scoped>\n",
       "    .dataframe tbody tr th:only-of-type {\n",
       "        vertical-align: middle;\n",
       "    }\n",
       "\n",
       "    .dataframe tbody tr th {\n",
       "        vertical-align: top;\n",
       "    }\n",
       "\n",
       "    .dataframe thead th {\n",
       "        text-align: right;\n",
       "    }\n",
       "</style>\n",
       "<table border=\"1\" class=\"dataframe\">\n",
       "  <thead>\n",
       "    <tr style=\"text-align: right;\">\n",
       "      <th></th>\n",
       "      <th>id</th>\n",
       "      <th>release_date</th>\n",
       "      <th>movie</th>\n",
       "      <th>production_budget</th>\n",
       "      <th>domestic_gross</th>\n",
       "      <th>worldwide_gross</th>\n",
       "      <th>domestic_profit</th>\n",
       "      <th>worldwide_profit</th>\n",
       "      <th>domestic_roi</th>\n",
       "      <th>worldwide_roi</th>\n",
       "      <th>worldwide_profit_margin</th>\n",
       "      <th>domestic_profit_margin</th>\n",
       "      <th>month</th>\n",
       "      <th>year</th>\n",
       "    </tr>\n",
       "  </thead>\n",
       "  <tbody>\n",
       "    <tr>\n",
       "      <th>5</th>\n",
       "      <td>6</td>\n",
       "      <td>Dec 18, 2015</td>\n",
       "      <td>Star Wars Ep. VII: The Force Awakens</td>\n",
       "      <td>306000000</td>\n",
       "      <td>936662225</td>\n",
       "      <td>2053311220</td>\n",
       "      <td>630662225</td>\n",
       "      <td>1747311220</td>\n",
       "      <td>2.060988</td>\n",
       "      <td>5.710167</td>\n",
       "      <td>0.850972</td>\n",
       "      <td>0.673308</td>\n",
       "      <td>12</td>\n",
       "      <td>2015</td>\n",
       "    </tr>\n",
       "    <tr>\n",
       "      <th>33</th>\n",
       "      <td>34</td>\n",
       "      <td>Jun 12, 2015</td>\n",
       "      <td>Jurassic World</td>\n",
       "      <td>215000000</td>\n",
       "      <td>652270625</td>\n",
       "      <td>1648854864</td>\n",
       "      <td>437270625</td>\n",
       "      <td>1433854864</td>\n",
       "      <td>2.033817</td>\n",
       "      <td>6.669092</td>\n",
       "      <td>0.869606</td>\n",
       "      <td>0.670382</td>\n",
       "      <td>6</td>\n",
       "      <td>2015</td>\n",
       "    </tr>\n",
       "    <tr>\n",
       "      <th>41</th>\n",
       "      <td>42</td>\n",
       "      <td>Feb 16, 2018</td>\n",
       "      <td>Black Panther</td>\n",
       "      <td>200000000</td>\n",
       "      <td>700059566</td>\n",
       "      <td>1348258224</td>\n",
       "      <td>500059566</td>\n",
       "      <td>1148258224</td>\n",
       "      <td>2.500298</td>\n",
       "      <td>5.741291</td>\n",
       "      <td>0.851660</td>\n",
       "      <td>0.714310</td>\n",
       "      <td>2</td>\n",
       "      <td>2018</td>\n",
       "    </tr>\n",
       "    <tr>\n",
       "      <th>42</th>\n",
       "      <td>43</td>\n",
       "      <td>Dec 19, 1997</td>\n",
       "      <td>Titanic</td>\n",
       "      <td>200000000</td>\n",
       "      <td>659363944</td>\n",
       "      <td>2208208395</td>\n",
       "      <td>459363944</td>\n",
       "      <td>2008208395</td>\n",
       "      <td>2.296820</td>\n",
       "      <td>10.041042</td>\n",
       "      <td>0.909429</td>\n",
       "      <td>0.696677</td>\n",
       "      <td>12</td>\n",
       "      <td>1997</td>\n",
       "    </tr>\n",
       "    <tr>\n",
       "      <th>43</th>\n",
       "      <td>44</td>\n",
       "      <td>Jun 15, 2018</td>\n",
       "      <td>Incredibles 2</td>\n",
       "      <td>200000000</td>\n",
       "      <td>608581744</td>\n",
       "      <td>1242520711</td>\n",
       "      <td>408581744</td>\n",
       "      <td>1042520711</td>\n",
       "      <td>2.042909</td>\n",
       "      <td>5.212604</td>\n",
       "      <td>0.839037</td>\n",
       "      <td>0.671367</td>\n",
       "      <td>6</td>\n",
       "      <td>2018</td>\n",
       "    </tr>\n",
       "  </tbody>\n",
       "</table>\n",
       "</div>"
      ],
      "text/plain": [
       "    id  release_date                                 movie  production_budget  \\\n",
       "5    6  Dec 18, 2015  Star Wars Ep. VII: The Force Awakens          306000000   \n",
       "33  34  Jun 12, 2015                        Jurassic World          215000000   \n",
       "41  42  Feb 16, 2018                         Black Panther          200000000   \n",
       "42  43  Dec 19, 1997                               Titanic          200000000   \n",
       "43  44  Jun 15, 2018                         Incredibles 2          200000000   \n",
       "\n",
       "    domestic_gross  worldwide_gross  domestic_profit  worldwide_profit  \\\n",
       "5        936662225       2053311220        630662225        1747311220   \n",
       "33       652270625       1648854864        437270625        1433854864   \n",
       "41       700059566       1348258224        500059566        1148258224   \n",
       "42       659363944       2208208395        459363944        2008208395   \n",
       "43       608581744       1242520711        408581744        1042520711   \n",
       "\n",
       "    domestic_roi  worldwide_roi  worldwide_profit_margin  \\\n",
       "5       2.060988       5.710167                 0.850972   \n",
       "33      2.033817       6.669092                 0.869606   \n",
       "41      2.500298       5.741291                 0.851660   \n",
       "42      2.296820      10.041042                 0.909429   \n",
       "43      2.042909       5.212604                 0.839037   \n",
       "\n",
       "    domestic_profit_margin  month  year  \n",
       "5                 0.673308     12  2015  \n",
       "33                0.670382      6  2015  \n",
       "41                0.714310      2  2018  \n",
       "42                0.696677     12  1997  \n",
       "43                0.671367      6  2018  "
      ]
     },
     "execution_count": 80,
     "metadata": {},
     "output_type": "execute_result"
    }
   ],
   "source": [
    "top_movies.head()"
   ]
  },
  {
   "cell_type": "code",
   "execution_count": 81,
   "metadata": {},
   "outputs": [
    {
     "data": {
      "text/plain": [
       "[<matplotlib.lines.Line2D at 0x7ff2728dc100>]"
      ]
     },
     "execution_count": 81,
     "metadata": {},
     "output_type": "execute_result"
    },
    {
     "data": {
      "image/png": "[encoded data removed]",
      "text/plain": [
       "<Figure size 1152x576 with 1 Axes>"
      ]
     },
     "metadata": {
      "needs_background": "light"
     },
     "output_type": "display_data"
    }
   ],
   "source": [
    "fig, ax = plt.subplots(figsize=(16,8))\n",
    "\n",
    "X = top_movies['production_budget']\n",
    "\n",
    "Y = top_movies['domestic_roi']\n",
    "\n",
    "ax.scatter(X, Y)\n",
    "ax.set_title('Top Movies Production Budget vs. Domestic ROI')\n",
    "ax.set_xlabel('Production Budget')\n",
    "ax.set_ylabel('Domestic ROI')\n",
    "\n",
    "plt.xlim(0, 500000000)\n",
    "plt.ylim(-1, 20)\n",
    "\n",
    "z = np.polyfit(X, Y, 1) #create trendline \n",
    "p = np.poly1d(z)  \n",
    "plt.plot(X,p(X),\"r--\") #plot trendline"
   ]
  },
  {
   "cell_type": "code",
   "execution_count": 82,
   "metadata": {},
   "outputs": [
    {
     "data": {
      "text/plain": [
       "[<matplotlib.lines.Line2D at 0x7ff272525bb0>]"
      ]
     },
     "execution_count": 82,
     "metadata": {},
     "output_type": "execute_result"
    },
    {
     "data": {
      "image/png": "[encoded data removed]",
      "text/plain": [
       "<Figure size 1152x576 with 1 Axes>"
      ]
     },
     "metadata": {
      "needs_background": "light"
     },
     "output_type": "display_data"
    }
   ],
   "source": [
    "fig, ax = plt.subplots(figsize=(16,8))\n",
    "\n",
    "X = top_movies['production_budget']\n",
    "\n",
    "Y = top_movies['worldwide_roi']\n",
    "\n",
    "ax.scatter(X, Y)\n",
    "ax.set_title('Production Budget vs. Worldwide ROI')\n",
    "ax.set_xlabel('Production Budget')\n",
    "ax.set_ylabel('Worldwide ROI')\n",
    "\n",
    "plt.xlim(0, 500000000)\n",
    "plt.ylim(-1, 20)\n",
    "\n",
    "z = np.polyfit(X, Y, 1) #create trendline \n",
    "p = np.poly1d(z)  \n",
    "plt.plot(X,p(X),\"r--\") #plot trendline"
   ]
  },
  {
   "cell_type": "code",
   "execution_count": 83,
   "metadata": {},
   "outputs": [
    {
     "data": {
      "text/html": [
       "<div>\n",
       "<style scoped>\n",
       "    .dataframe tbody tr th:only-of-type {\n",
       "        vertical-align: middle;\n",
       "    }\n",
       "\n",
       "    .dataframe tbody tr th {\n",
       "        vertical-align: top;\n",
       "    }\n",
       "\n",
       "    .dataframe thead th {\n",
       "        text-align: right;\n",
       "    }\n",
       "</style>\n",
       "<table border=\"1\" class=\"dataframe\">\n",
       "  <thead>\n",
       "    <tr style=\"text-align: right;\">\n",
       "      <th></th>\n",
       "      <th>id</th>\n",
       "      <th>release_date</th>\n",
       "      <th>movie</th>\n",
       "      <th>production_budget</th>\n",
       "      <th>domestic_gross</th>\n",
       "      <th>worldwide_gross</th>\n",
       "      <th>domestic_profit</th>\n",
       "      <th>worldwide_profit</th>\n",
       "      <th>domestic_roi</th>\n",
       "      <th>worldwide_roi</th>\n",
       "      <th>worldwide_profit_margin</th>\n",
       "      <th>domestic_profit_margin</th>\n",
       "      <th>month</th>\n",
       "      <th>year</th>\n",
       "    </tr>\n",
       "  </thead>\n",
       "  <tbody>\n",
       "    <tr>\n",
       "      <th>5</th>\n",
       "      <td>6</td>\n",
       "      <td>Dec 18, 2015</td>\n",
       "      <td>Star Wars Ep. VII: The Force Awakens</td>\n",
       "      <td>306000000</td>\n",
       "      <td>936662225</td>\n",
       "      <td>2053311220</td>\n",
       "      <td>630662225</td>\n",
       "      <td>1747311220</td>\n",
       "      <td>2.060988</td>\n",
       "      <td>5.710167</td>\n",
       "      <td>0.850972</td>\n",
       "      <td>0.673308</td>\n",
       "      <td>12</td>\n",
       "      <td>2015</td>\n",
       "    </tr>\n",
       "    <tr>\n",
       "      <th>33</th>\n",
       "      <td>34</td>\n",
       "      <td>Jun 12, 2015</td>\n",
       "      <td>Jurassic World</td>\n",
       "      <td>215000000</td>\n",
       "      <td>652270625</td>\n",
       "      <td>1648854864</td>\n",
       "      <td>437270625</td>\n",
       "      <td>1433854864</td>\n",
       "      <td>2.033817</td>\n",
       "      <td>6.669092</td>\n",
       "      <td>0.869606</td>\n",
       "      <td>0.670382</td>\n",
       "      <td>6</td>\n",
       "      <td>2015</td>\n",
       "    </tr>\n",
       "    <tr>\n",
       "      <th>41</th>\n",
       "      <td>42</td>\n",
       "      <td>Feb 16, 2018</td>\n",
       "      <td>Black Panther</td>\n",
       "      <td>200000000</td>\n",
       "      <td>700059566</td>\n",
       "      <td>1348258224</td>\n",
       "      <td>500059566</td>\n",
       "      <td>1148258224</td>\n",
       "      <td>2.500298</td>\n",
       "      <td>5.741291</td>\n",
       "      <td>0.851660</td>\n",
       "      <td>0.714310</td>\n",
       "      <td>2</td>\n",
       "      <td>2018</td>\n",
       "    </tr>\n",
       "    <tr>\n",
       "      <th>42</th>\n",
       "      <td>43</td>\n",
       "      <td>Dec 19, 1997</td>\n",
       "      <td>Titanic</td>\n",
       "      <td>200000000</td>\n",
       "      <td>659363944</td>\n",
       "      <td>2208208395</td>\n",
       "      <td>459363944</td>\n",
       "      <td>2008208395</td>\n",
       "      <td>2.296820</td>\n",
       "      <td>10.041042</td>\n",
       "      <td>0.909429</td>\n",
       "      <td>0.696677</td>\n",
       "      <td>12</td>\n",
       "      <td>1997</td>\n",
       "    </tr>\n",
       "    <tr>\n",
       "      <th>43</th>\n",
       "      <td>44</td>\n",
       "      <td>Jun 15, 2018</td>\n",
       "      <td>Incredibles 2</td>\n",
       "      <td>200000000</td>\n",
       "      <td>608581744</td>\n",
       "      <td>1242520711</td>\n",
       "      <td>408581744</td>\n",
       "      <td>1042520711</td>\n",
       "      <td>2.042909</td>\n",
       "      <td>5.212604</td>\n",
       "      <td>0.839037</td>\n",
       "      <td>0.671367</td>\n",
       "      <td>6</td>\n",
       "      <td>2018</td>\n",
       "    </tr>\n",
       "  </tbody>\n",
       "</table>\n",
       "</div>"
      ],
      "text/plain": [
       "    id  release_date                                 movie  production_budget  \\\n",
       "5    6  Dec 18, 2015  Star Wars Ep. VII: The Force Awakens          306000000   \n",
       "33  34  Jun 12, 2015                        Jurassic World          215000000   \n",
       "41  42  Feb 16, 2018                         Black Panther          200000000   \n",
       "42  43  Dec 19, 1997                               Titanic          200000000   \n",
       "43  44  Jun 15, 2018                         Incredibles 2          200000000   \n",
       "\n",
       "    domestic_gross  worldwide_gross  domestic_profit  worldwide_profit  \\\n",
       "5        936662225       2053311220        630662225        1747311220   \n",
       "33       652270625       1648854864        437270625        1433854864   \n",
       "41       700059566       1348258224        500059566        1148258224   \n",
       "42       659363944       2208208395        459363944        2008208395   \n",
       "43       608581744       1242520711        408581744        1042520711   \n",
       "\n",
       "    domestic_roi  worldwide_roi  worldwide_profit_margin  \\\n",
       "5       2.060988       5.710167                 0.850972   \n",
       "33      2.033817       6.669092                 0.869606   \n",
       "41      2.500298       5.741291                 0.851660   \n",
       "42      2.296820      10.041042                 0.909429   \n",
       "43      2.042909       5.212604                 0.839037   \n",
       "\n",
       "    domestic_profit_margin  month  year  \n",
       "5                 0.673308     12  2015  \n",
       "33                0.670382      6  2015  \n",
       "41                0.714310      2  2018  \n",
       "42                0.696677     12  1997  \n",
       "43                0.671367      6  2018  "
      ]
     },
     "execution_count": 83,
     "metadata": {},
     "output_type": "execute_result"
    }
   ],
   "source": [
    "top_movies.head()"
   ]
  },
  {
   "cell_type": "code",
   "execution_count": null,
   "metadata": {},
   "outputs": [],
   "source": []
  },
  {
   "cell_type": "code",
   "execution_count": 84,
   "metadata": {},
   "outputs": [],
   "source": [
    "movies_month = movie_budgets_df.groupby('month').mean()"
   ]
  },
  {
   "cell_type": "code",
   "execution_count": 85,
   "metadata": {},
   "outputs": [],
   "source": [
    "movies_month.drop('id', axis=1, inplace=True)"
   ]
  },
  {
   "cell_type": "code",
   "execution_count": 86,
   "metadata": {},
   "outputs": [
    {
     "data": {
      "text/html": [
       "<div>\n",
       "<style scoped>\n",
       "    .dataframe tbody tr th:only-of-type {\n",
       "        vertical-align: middle;\n",
       "    }\n",
       "\n",
       "    .dataframe tbody tr th {\n",
       "        vertical-align: top;\n",
       "    }\n",
       "\n",
       "    .dataframe thead th {\n",
       "        text-align: right;\n",
       "    }\n",
       "</style>\n",
       "<table border=\"1\" class=\"dataframe\">\n",
       "  <thead>\n",
       "    <tr style=\"text-align: right;\">\n",
       "      <th></th>\n",
       "      <th>production_budget</th>\n",
       "      <th>domestic_gross</th>\n",
       "      <th>worldwide_gross</th>\n",
       "      <th>domestic_profit</th>\n",
       "      <th>worldwide_profit</th>\n",
       "      <th>domestic_roi</th>\n",
       "      <th>worldwide_roi</th>\n",
       "      <th>worldwide_profit_margin</th>\n",
       "      <th>domestic_profit_margin</th>\n",
       "      <th>year</th>\n",
       "    </tr>\n",
       "    <tr>\n",
       "      <th>month</th>\n",
       "      <th></th>\n",
       "      <th></th>\n",
       "      <th></th>\n",
       "      <th></th>\n",
       "      <th></th>\n",
       "      <th></th>\n",
       "      <th></th>\n",
       "      <th></th>\n",
       "      <th></th>\n",
       "      <th></th>\n",
       "    </tr>\n",
       "  </thead>\n",
       "  <tbody>\n",
       "    <tr>\n",
       "      <th>1</th>\n",
       "      <td>2.084349e+07</td>\n",
       "      <td>2.394962e+07</td>\n",
       "      <td>4.656382e+07</td>\n",
       "      <td>3.106128e+06</td>\n",
       "      <td>2.572033e+07</td>\n",
       "      <td>1.935052</td>\n",
       "      <td>3.198986</td>\n",
       "      <td>-inf</td>\n",
       "      <td>-inf</td>\n",
       "      <td>2003.489914</td>\n",
       "    </tr>\n",
       "    <tr>\n",
       "      <th>2</th>\n",
       "      <td>2.804642e+07</td>\n",
       "      <td>3.541465e+07</td>\n",
       "      <td>7.154453e+07</td>\n",
       "      <td>7.368234e+06</td>\n",
       "      <td>4.349811e+07</td>\n",
       "      <td>2.107934</td>\n",
       "      <td>3.547812</td>\n",
       "      <td>-inf</td>\n",
       "      <td>-inf</td>\n",
       "      <td>2004.579082</td>\n",
       "    </tr>\n",
       "    <tr>\n",
       "      <th>3</th>\n",
       "      <td>3.078208e+07</td>\n",
       "      <td>3.857299e+07</td>\n",
       "      <td>8.063337e+07</td>\n",
       "      <td>7.790907e+06</td>\n",
       "      <td>4.985129e+07</td>\n",
       "      <td>1.324664</td>\n",
       "      <td>3.449646</td>\n",
       "      <td>-inf</td>\n",
       "      <td>-inf</td>\n",
       "      <td>2005.542553</td>\n",
       "    </tr>\n",
       "    <tr>\n",
       "      <th>4</th>\n",
       "      <td>2.380283e+07</td>\n",
       "      <td>2.732840e+07</td>\n",
       "      <td>5.992026e+07</td>\n",
       "      <td>3.525568e+06</td>\n",
       "      <td>3.611743e+07</td>\n",
       "      <td>1.037507</td>\n",
       "      <td>2.776726</td>\n",
       "      <td>-inf</td>\n",
       "      <td>-inf</td>\n",
       "      <td>2005.138767</td>\n",
       "    </tr>\n",
       "    <tr>\n",
       "      <th>5</th>\n",
       "      <td>4.713520e+07</td>\n",
       "      <td>6.669795e+07</td>\n",
       "      <td>1.622680e+08</td>\n",
       "      <td>1.956275e+07</td>\n",
       "      <td>1.151328e+08</td>\n",
       "      <td>1.866915</td>\n",
       "      <td>4.351029</td>\n",
       "      <td>-inf</td>\n",
       "      <td>-inf</td>\n",
       "      <td>2003.653563</td>\n",
       "    </tr>\n",
       "  </tbody>\n",
       "</table>\n",
       "</div>"
      ],
      "text/plain": [
       "       production_budget  domestic_gross  worldwide_gross  domestic_profit  \\\n",
       "month                                                                        \n",
       "1           2.084349e+07    2.394962e+07     4.656382e+07     3.106128e+06   \n",
       "2           2.804642e+07    3.541465e+07     7.154453e+07     7.368234e+06   \n",
       "3           3.078208e+07    3.857299e+07     8.063337e+07     7.790907e+06   \n",
       "4           2.380283e+07    2.732840e+07     5.992026e+07     3.525568e+06   \n",
       "5           4.713520e+07    6.669795e+07     1.622680e+08     1.956275e+07   \n",
       "\n",
       "       worldwide_profit  domestic_roi  worldwide_roi  worldwide_profit_margin  \\\n",
       "month                                                                           \n",
       "1          2.572033e+07      1.935052       3.198986                     -inf   \n",
       "2          4.349811e+07      2.107934       3.547812                     -inf   \n",
       "3          4.985129e+07      1.324664       3.449646                     -inf   \n",
       "4          3.611743e+07      1.037507       2.776726                     -inf   \n",
       "5          1.151328e+08      1.866915       4.351029                     -inf   \n",
       "\n",
       "       domestic_profit_margin         year  \n",
       "month                                       \n",
       "1                        -inf  2003.489914  \n",
       "2                        -inf  2004.579082  \n",
       "3                        -inf  2005.542553  \n",
       "4                        -inf  2005.138767  \n",
       "5                        -inf  2003.653563  "
      ]
     },
     "execution_count": 86,
     "metadata": {},
     "output_type": "execute_result"
    }
   ],
   "source": [
    "movies_month.head()"
   ]
  },
  {
   "cell_type": "code",
   "execution_count": 87,
   "metadata": {},
   "outputs": [],
   "source": [
    "movies_month.drop({'domestic_gross', 'worldwide_gross', 'domestic_profit', 'worldwide_profit', 'worldwide_profit_margin', 'domestic_profit_margin', 'year'}, axis=1, inplace=True)"
   ]
  },
  {
   "cell_type": "code",
   "execution_count": 88,
   "metadata": {},
   "outputs": [
    {
     "data": {
      "text/html": [
       "<div>\n",
       "<style scoped>\n",
       "    .dataframe tbody tr th:only-of-type {\n",
       "        vertical-align: middle;\n",
       "    }\n",
       "\n",
       "    .dataframe tbody tr th {\n",
       "        vertical-align: top;\n",
       "    }\n",
       "\n",
       "    .dataframe thead th {\n",
       "        text-align: right;\n",
       "    }\n",
       "</style>\n",
       "<table border=\"1\" class=\"dataframe\">\n",
       "  <thead>\n",
       "    <tr style=\"text-align: right;\">\n",
       "      <th></th>\n",
       "      <th>production_budget</th>\n",
       "      <th>domestic_roi</th>\n",
       "      <th>worldwide_roi</th>\n",
       "    </tr>\n",
       "    <tr>\n",
       "      <th>month</th>\n",
       "      <th></th>\n",
       "      <th></th>\n",
       "      <th></th>\n",
       "    </tr>\n",
       "  </thead>\n",
       "  <tbody>\n",
       "    <tr>\n",
       "      <th>1</th>\n",
       "      <td>2.084349e+07</td>\n",
       "      <td>1.935052</td>\n",
       "      <td>3.198986</td>\n",
       "    </tr>\n",
       "    <tr>\n",
       "      <th>2</th>\n",
       "      <td>2.804642e+07</td>\n",
       "      <td>2.107934</td>\n",
       "      <td>3.547812</td>\n",
       "    </tr>\n",
       "    <tr>\n",
       "      <th>3</th>\n",
       "      <td>3.078208e+07</td>\n",
       "      <td>1.324664</td>\n",
       "      <td>3.449646</td>\n",
       "    </tr>\n",
       "    <tr>\n",
       "      <th>4</th>\n",
       "      <td>2.380283e+07</td>\n",
       "      <td>1.037507</td>\n",
       "      <td>2.776726</td>\n",
       "    </tr>\n",
       "    <tr>\n",
       "      <th>5</th>\n",
       "      <td>4.713520e+07</td>\n",
       "      <td>1.866915</td>\n",
       "      <td>4.351029</td>\n",
       "    </tr>\n",
       "    <tr>\n",
       "      <th>6</th>\n",
       "      <td>4.309912e+07</td>\n",
       "      <td>5.255122</td>\n",
       "      <td>6.889714</td>\n",
       "    </tr>\n",
       "    <tr>\n",
       "      <th>7</th>\n",
       "      <td>4.254616e+07</td>\n",
       "      <td>2.425521</td>\n",
       "      <td>5.040113</td>\n",
       "    </tr>\n",
       "    <tr>\n",
       "      <th>8</th>\n",
       "      <td>2.555609e+07</td>\n",
       "      <td>2.738651</td>\n",
       "      <td>4.380376</td>\n",
       "    </tr>\n",
       "    <tr>\n",
       "      <th>9</th>\n",
       "      <td>2.181290e+07</td>\n",
       "      <td>1.271824</td>\n",
       "      <td>2.824510</td>\n",
       "    </tr>\n",
       "    <tr>\n",
       "      <th>10</th>\n",
       "      <td>2.039266e+07</td>\n",
       "      <td>2.043329</td>\n",
       "      <td>4.089145</td>\n",
       "    </tr>\n",
       "    <tr>\n",
       "      <th>11</th>\n",
       "      <td>4.260006e+07</td>\n",
       "      <td>1.494223</td>\n",
       "      <td>3.503555</td>\n",
       "    </tr>\n",
       "    <tr>\n",
       "      <th>12</th>\n",
       "      <td>3.325161e+07</td>\n",
       "      <td>0.873515</td>\n",
       "      <td>2.268624</td>\n",
       "    </tr>\n",
       "  </tbody>\n",
       "</table>\n",
       "</div>"
      ],
      "text/plain": [
       "       production_budget  domestic_roi  worldwide_roi\n",
       "month                                                \n",
       "1           2.084349e+07      1.935052       3.198986\n",
       "2           2.804642e+07      2.107934       3.547812\n",
       "3           3.078208e+07      1.324664       3.449646\n",
       "4           2.380283e+07      1.037507       2.776726\n",
       "5           4.713520e+07      1.866915       4.351029\n",
       "6           4.309912e+07      5.255122       6.889714\n",
       "7           4.254616e+07      2.425521       5.040113\n",
       "8           2.555609e+07      2.738651       4.380376\n",
       "9           2.181290e+07      1.271824       2.824510\n",
       "10          2.039266e+07      2.043329       4.089145\n",
       "11          4.260006e+07      1.494223       3.503555\n",
       "12          3.325161e+07      0.873515       2.268624"
      ]
     },
     "execution_count": 88,
     "metadata": {},
     "output_type": "execute_result"
    }
   ],
   "source": [
    "movies_month"
   ]
  },
  {
   "cell_type": "code",
   "execution_count": 89,
   "metadata": {},
   "outputs": [
    {
     "data": {
      "text/html": [
       "<div>\n",
       "<style scoped>\n",
       "    .dataframe tbody tr th:only-of-type {\n",
       "        vertical-align: middle;\n",
       "    }\n",
       "\n",
       "    .dataframe tbody tr th {\n",
       "        vertical-align: top;\n",
       "    }\n",
       "\n",
       "    .dataframe thead th {\n",
       "        text-align: right;\n",
       "    }\n",
       "</style>\n",
       "<table border=\"1\" class=\"dataframe\">\n",
       "  <thead>\n",
       "    <tr style=\"text-align: right;\">\n",
       "      <th></th>\n",
       "      <th>production_budget</th>\n",
       "      <th>domestic_roi</th>\n",
       "      <th>worldwide_roi</th>\n",
       "      <th>movie_count</th>\n",
       "    </tr>\n",
       "    <tr>\n",
       "      <th>month</th>\n",
       "      <th></th>\n",
       "      <th></th>\n",
       "      <th></th>\n",
       "      <th></th>\n",
       "    </tr>\n",
       "  </thead>\n",
       "  <tbody>\n",
       "    <tr>\n",
       "      <th>1</th>\n",
       "      <td>2.084349e+07</td>\n",
       "      <td>1.935052</td>\n",
       "      <td>3.198986</td>\n",
       "      <td>347</td>\n",
       "    </tr>\n",
       "    <tr>\n",
       "      <th>2</th>\n",
       "      <td>2.804642e+07</td>\n",
       "      <td>2.107934</td>\n",
       "      <td>3.547812</td>\n",
       "      <td>392</td>\n",
       "    </tr>\n",
       "    <tr>\n",
       "      <th>3</th>\n",
       "      <td>3.078208e+07</td>\n",
       "      <td>1.324664</td>\n",
       "      <td>3.449646</td>\n",
       "      <td>470</td>\n",
       "    </tr>\n",
       "    <tr>\n",
       "      <th>4</th>\n",
       "      <td>2.380283e+07</td>\n",
       "      <td>1.037507</td>\n",
       "      <td>2.776726</td>\n",
       "      <td>454</td>\n",
       "    </tr>\n",
       "    <tr>\n",
       "      <th>5</th>\n",
       "      <td>4.713520e+07</td>\n",
       "      <td>1.866915</td>\n",
       "      <td>4.351029</td>\n",
       "      <td>407</td>\n",
       "    </tr>\n",
       "    <tr>\n",
       "      <th>6</th>\n",
       "      <td>4.309912e+07</td>\n",
       "      <td>5.255122</td>\n",
       "      <td>6.889714</td>\n",
       "      <td>479</td>\n",
       "    </tr>\n",
       "    <tr>\n",
       "      <th>7</th>\n",
       "      <td>4.254616e+07</td>\n",
       "      <td>2.425521</td>\n",
       "      <td>5.040113</td>\n",
       "      <td>440</td>\n",
       "    </tr>\n",
       "    <tr>\n",
       "      <th>8</th>\n",
       "      <td>2.555609e+07</td>\n",
       "      <td>2.738651</td>\n",
       "      <td>4.380376</td>\n",
       "      <td>496</td>\n",
       "    </tr>\n",
       "    <tr>\n",
       "      <th>9</th>\n",
       "      <td>2.181290e+07</td>\n",
       "      <td>1.271824</td>\n",
       "      <td>2.824510</td>\n",
       "      <td>493</td>\n",
       "    </tr>\n",
       "    <tr>\n",
       "      <th>10</th>\n",
       "      <td>2.039266e+07</td>\n",
       "      <td>2.043329</td>\n",
       "      <td>4.089145</td>\n",
       "      <td>573</td>\n",
       "    </tr>\n",
       "    <tr>\n",
       "      <th>11</th>\n",
       "      <td>4.260006e+07</td>\n",
       "      <td>1.494223</td>\n",
       "      <td>3.503555</td>\n",
       "      <td>486</td>\n",
       "    </tr>\n",
       "    <tr>\n",
       "      <th>12</th>\n",
       "      <td>3.325161e+07</td>\n",
       "      <td>0.873515</td>\n",
       "      <td>2.268624</td>\n",
       "      <td>745</td>\n",
       "    </tr>\n",
       "  </tbody>\n",
       "</table>\n",
       "</div>"
      ],
      "text/plain": [
       "       production_budget  domestic_roi  worldwide_roi  movie_count\n",
       "month                                                             \n",
       "1           2.084349e+07      1.935052       3.198986          347\n",
       "2           2.804642e+07      2.107934       3.547812          392\n",
       "3           3.078208e+07      1.324664       3.449646          470\n",
       "4           2.380283e+07      1.037507       2.776726          454\n",
       "5           4.713520e+07      1.866915       4.351029          407\n",
       "6           4.309912e+07      5.255122       6.889714          479\n",
       "7           4.254616e+07      2.425521       5.040113          440\n",
       "8           2.555609e+07      2.738651       4.380376          496\n",
       "9           2.181290e+07      1.271824       2.824510          493\n",
       "10          2.039266e+07      2.043329       4.089145          573\n",
       "11          4.260006e+07      1.494223       3.503555          486\n",
       "12          3.325161e+07      0.873515       2.268624          745"
      ]
     },
     "execution_count": 89,
     "metadata": {},
     "output_type": "execute_result"
    }
   ],
   "source": [
    "movies_month['movie_count'] = movie_budgets_df['month'].value_counts()\n",
    "movies_month"
   ]
  },
  {
   "cell_type": "code",
   "execution_count": 90,
   "metadata": {},
   "outputs": [],
   "source": [
    "#movies_month.rename({'domestic_profit_to_budget_ratio': 'domestic_roi', 'worldwide_roi': 'worldwide_roi'}, axis=1, inplace=True)\n",
    "#movies_month"
   ]
  },
  {
   "cell_type": "code",
   "execution_count": 91,
   "metadata": {},
   "outputs": [],
   "source": [
    "movies_month.reset_index(inplace=True)"
   ]
  },
  {
   "cell_type": "code",
   "execution_count": 92,
   "metadata": {},
   "outputs": [
    {
     "data": {
      "text/html": [
       "<div>\n",
       "<style scoped>\n",
       "    .dataframe tbody tr th:only-of-type {\n",
       "        vertical-align: middle;\n",
       "    }\n",
       "\n",
       "    .dataframe tbody tr th {\n",
       "        vertical-align: top;\n",
       "    }\n",
       "\n",
       "    .dataframe thead th {\n",
       "        text-align: right;\n",
       "    }\n",
       "</style>\n",
       "<table border=\"1\" class=\"dataframe\">\n",
       "  <thead>\n",
       "    <tr style=\"text-align: right;\">\n",
       "      <th></th>\n",
       "      <th>month</th>\n",
       "      <th>production_budget</th>\n",
       "      <th>domestic_roi</th>\n",
       "      <th>worldwide_roi</th>\n",
       "      <th>movie_count</th>\n",
       "    </tr>\n",
       "  </thead>\n",
       "  <tbody>\n",
       "    <tr>\n",
       "      <th>0</th>\n",
       "      <td>1</td>\n",
       "      <td>2.084349e+07</td>\n",
       "      <td>1.935052</td>\n",
       "      <td>3.198986</td>\n",
       "      <td>347</td>\n",
       "    </tr>\n",
       "    <tr>\n",
       "      <th>1</th>\n",
       "      <td>2</td>\n",
       "      <td>2.804642e+07</td>\n",
       "      <td>2.107934</td>\n",
       "      <td>3.547812</td>\n",
       "      <td>392</td>\n",
       "    </tr>\n",
       "    <tr>\n",
       "      <th>2</th>\n",
       "      <td>3</td>\n",
       "      <td>3.078208e+07</td>\n",
       "      <td>1.324664</td>\n",
       "      <td>3.449646</td>\n",
       "      <td>470</td>\n",
       "    </tr>\n",
       "    <tr>\n",
       "      <th>3</th>\n",
       "      <td>4</td>\n",
       "      <td>2.380283e+07</td>\n",
       "      <td>1.037507</td>\n",
       "      <td>2.776726</td>\n",
       "      <td>454</td>\n",
       "    </tr>\n",
       "    <tr>\n",
       "      <th>4</th>\n",
       "      <td>5</td>\n",
       "      <td>4.713520e+07</td>\n",
       "      <td>1.866915</td>\n",
       "      <td>4.351029</td>\n",
       "      <td>407</td>\n",
       "    </tr>\n",
       "    <tr>\n",
       "      <th>5</th>\n",
       "      <td>6</td>\n",
       "      <td>4.309912e+07</td>\n",
       "      <td>5.255122</td>\n",
       "      <td>6.889714</td>\n",
       "      <td>479</td>\n",
       "    </tr>\n",
       "    <tr>\n",
       "      <th>6</th>\n",
       "      <td>7</td>\n",
       "      <td>4.254616e+07</td>\n",
       "      <td>2.425521</td>\n",
       "      <td>5.040113</td>\n",
       "      <td>440</td>\n",
       "    </tr>\n",
       "    <tr>\n",
       "      <th>7</th>\n",
       "      <td>8</td>\n",
       "      <td>2.555609e+07</td>\n",
       "      <td>2.738651</td>\n",
       "      <td>4.380376</td>\n",
       "      <td>496</td>\n",
       "    </tr>\n",
       "    <tr>\n",
       "      <th>8</th>\n",
       "      <td>9</td>\n",
       "      <td>2.181290e+07</td>\n",
       "      <td>1.271824</td>\n",
       "      <td>2.824510</td>\n",
       "      <td>493</td>\n",
       "    </tr>\n",
       "    <tr>\n",
       "      <th>9</th>\n",
       "      <td>10</td>\n",
       "      <td>2.039266e+07</td>\n",
       "      <td>2.043329</td>\n",
       "      <td>4.089145</td>\n",
       "      <td>573</td>\n",
       "    </tr>\n",
       "    <tr>\n",
       "      <th>10</th>\n",
       "      <td>11</td>\n",
       "      <td>4.260006e+07</td>\n",
       "      <td>1.494223</td>\n",
       "      <td>3.503555</td>\n",
       "      <td>486</td>\n",
       "    </tr>\n",
       "    <tr>\n",
       "      <th>11</th>\n",
       "      <td>12</td>\n",
       "      <td>3.325161e+07</td>\n",
       "      <td>0.873515</td>\n",
       "      <td>2.268624</td>\n",
       "      <td>745</td>\n",
       "    </tr>\n",
       "  </tbody>\n",
       "</table>\n",
       "</div>"
      ],
      "text/plain": [
       "    month  production_budget  domestic_roi  worldwide_roi  movie_count\n",
       "0       1       2.084349e+07      1.935052       3.198986          347\n",
       "1       2       2.804642e+07      2.107934       3.547812          392\n",
       "2       3       3.078208e+07      1.324664       3.449646          470\n",
       "3       4       2.380283e+07      1.037507       2.776726          454\n",
       "4       5       4.713520e+07      1.866915       4.351029          407\n",
       "5       6       4.309912e+07      5.255122       6.889714          479\n",
       "6       7       4.254616e+07      2.425521       5.040113          440\n",
       "7       8       2.555609e+07      2.738651       4.380376          496\n",
       "8       9       2.181290e+07      1.271824       2.824510          493\n",
       "9      10       2.039266e+07      2.043329       4.089145          573\n",
       "10     11       4.260006e+07      1.494223       3.503555          486\n",
       "11     12       3.325161e+07      0.873515       2.268624          745"
      ]
     },
     "execution_count": 92,
     "metadata": {},
     "output_type": "execute_result"
    }
   ],
   "source": [
    "movies_month"
   ]
  },
  {
   "cell_type": "code",
   "execution_count": 93,
   "metadata": {},
   "outputs": [
    {
     "data": {
      "image/png": "[encoded data removed]",
      "text/plain": [
       "<Figure size 576x576 with 2 Axes>"
      ]
     },
     "metadata": {
      "needs_background": "light"
     },
     "output_type": "display_data"
    }
   ],
   "source": [
    "fig, ax1 = plt.subplots(figsize = (8, 8))\n",
    "\n",
    "x = movies_month['month']\n",
    "h = movies_month['production_budget']\n",
    "y1 = movies_month['domestic_roi']\n",
    "y2 = movies_month['worldwide_roi']\n",
    "\n",
    "\n",
    "ax2 = ax1.twinx()\n",
    "#ax3 = ax2.twinx()\n",
    "\n",
    "ax1.bar(x, h, alpha = 0.25, color='green')\n",
    "#plt.locator_params(axis=x, nbins=12)\n",
    "\n",
    "line1, = ax2.plot(x, y1)\n",
    "line2, = ax2.plot(x, y2, color='red')\n",
    "\n",
    "\n",
    "ax1.set_title('Production Budget, Worldwide ROI, and Domestic ROI')\n",
    "ax1.set_xlabel('Month')\n",
    "ax1.set_ylabel('Production Budget')\n",
    "\n",
    "ax2.set_ylabel('ROI')\n",
    "ax2.legend([line1, line2],['Worldwide ROI', 'Domestic ROI'], loc='upper left');\n",
    "\n",
    "\n",
    "#\n",
    "#ax3.legend([loc='upper right');\n",
    "             \n",
    "#ax1.set_yticks([1,2,3,4,5,6,7,8,9])\n",
    "\n"
   ]
  },
  {
   "cell_type": "code",
   "execution_count": null,
   "metadata": {},
   "outputs": [],
   "source": []
  },
  {
   "cell_type": "code",
   "execution_count": 94,
   "metadata": {},
   "outputs": [
    {
     "data": {
      "text/html": [
       "<div>\n",
       "<style scoped>\n",
       "    .dataframe tbody tr th:only-of-type {\n",
       "        vertical-align: middle;\n",
       "    }\n",
       "\n",
       "    .dataframe tbody tr th {\n",
       "        vertical-align: top;\n",
       "    }\n",
       "\n",
       "    .dataframe thead th {\n",
       "        text-align: right;\n",
       "    }\n",
       "</style>\n",
       "<table border=\"1\" class=\"dataframe\">\n",
       "  <thead>\n",
       "    <tr style=\"text-align: right;\">\n",
       "      <th></th>\n",
       "      <th>id</th>\n",
       "      <th>release_date</th>\n",
       "      <th>movie</th>\n",
       "      <th>production_budget</th>\n",
       "      <th>domestic_gross</th>\n",
       "      <th>worldwide_gross</th>\n",
       "      <th>domestic_profit</th>\n",
       "      <th>worldwide_profit</th>\n",
       "      <th>domestic_roi</th>\n",
       "      <th>worldwide_roi</th>\n",
       "      <th>worldwide_profit_margin</th>\n",
       "      <th>domestic_profit_margin</th>\n",
       "      <th>month</th>\n",
       "      <th>year</th>\n",
       "    </tr>\n",
       "  </thead>\n",
       "  <tbody>\n",
       "    <tr>\n",
       "      <th>5</th>\n",
       "      <td>6</td>\n",
       "      <td>Dec 18, 2015</td>\n",
       "      <td>Star Wars Ep. VII: The Force Awakens</td>\n",
       "      <td>306000000</td>\n",
       "      <td>936662225</td>\n",
       "      <td>2053311220</td>\n",
       "      <td>630662225</td>\n",
       "      <td>1747311220</td>\n",
       "      <td>2.060988</td>\n",
       "      <td>5.710167</td>\n",
       "      <td>0.850972</td>\n",
       "      <td>0.673308</td>\n",
       "      <td>12</td>\n",
       "      <td>2015</td>\n",
       "    </tr>\n",
       "    <tr>\n",
       "      <th>33</th>\n",
       "      <td>34</td>\n",
       "      <td>Jun 12, 2015</td>\n",
       "      <td>Jurassic World</td>\n",
       "      <td>215000000</td>\n",
       "      <td>652270625</td>\n",
       "      <td>1648854864</td>\n",
       "      <td>437270625</td>\n",
       "      <td>1433854864</td>\n",
       "      <td>2.033817</td>\n",
       "      <td>6.669092</td>\n",
       "      <td>0.869606</td>\n",
       "      <td>0.670382</td>\n",
       "      <td>6</td>\n",
       "      <td>2015</td>\n",
       "    </tr>\n",
       "    <tr>\n",
       "      <th>41</th>\n",
       "      <td>42</td>\n",
       "      <td>Feb 16, 2018</td>\n",
       "      <td>Black Panther</td>\n",
       "      <td>200000000</td>\n",
       "      <td>700059566</td>\n",
       "      <td>1348258224</td>\n",
       "      <td>500059566</td>\n",
       "      <td>1148258224</td>\n",
       "      <td>2.500298</td>\n",
       "      <td>5.741291</td>\n",
       "      <td>0.851660</td>\n",
       "      <td>0.714310</td>\n",
       "      <td>2</td>\n",
       "      <td>2018</td>\n",
       "    </tr>\n",
       "    <tr>\n",
       "      <th>42</th>\n",
       "      <td>43</td>\n",
       "      <td>Dec 19, 1997</td>\n",
       "      <td>Titanic</td>\n",
       "      <td>200000000</td>\n",
       "      <td>659363944</td>\n",
       "      <td>2208208395</td>\n",
       "      <td>459363944</td>\n",
       "      <td>2008208395</td>\n",
       "      <td>2.296820</td>\n",
       "      <td>10.041042</td>\n",
       "      <td>0.909429</td>\n",
       "      <td>0.696677</td>\n",
       "      <td>12</td>\n",
       "      <td>1997</td>\n",
       "    </tr>\n",
       "    <tr>\n",
       "      <th>43</th>\n",
       "      <td>44</td>\n",
       "      <td>Jun 15, 2018</td>\n",
       "      <td>Incredibles 2</td>\n",
       "      <td>200000000</td>\n",
       "      <td>608581744</td>\n",
       "      <td>1242520711</td>\n",
       "      <td>408581744</td>\n",
       "      <td>1042520711</td>\n",
       "      <td>2.042909</td>\n",
       "      <td>5.212604</td>\n",
       "      <td>0.839037</td>\n",
       "      <td>0.671367</td>\n",
       "      <td>6</td>\n",
       "      <td>2018</td>\n",
       "    </tr>\n",
       "  </tbody>\n",
       "</table>\n",
       "</div>"
      ],
      "text/plain": [
       "    id  release_date                                 movie  production_budget  \\\n",
       "5    6  Dec 18, 2015  Star Wars Ep. VII: The Force Awakens          306000000   \n",
       "33  34  Jun 12, 2015                        Jurassic World          215000000   \n",
       "41  42  Feb 16, 2018                         Black Panther          200000000   \n",
       "42  43  Dec 19, 1997                               Titanic          200000000   \n",
       "43  44  Jun 15, 2018                         Incredibles 2          200000000   \n",
       "\n",
       "    domestic_gross  worldwide_gross  domestic_profit  worldwide_profit  \\\n",
       "5        936662225       2053311220        630662225        1747311220   \n",
       "33       652270625       1648854864        437270625        1433854864   \n",
       "41       700059566       1348258224        500059566        1148258224   \n",
       "42       659363944       2208208395        459363944        2008208395   \n",
       "43       608581744       1242520711        408581744        1042520711   \n",
       "\n",
       "    domestic_roi  worldwide_roi  worldwide_profit_margin  \\\n",
       "5       2.060988       5.710167                 0.850972   \n",
       "33      2.033817       6.669092                 0.869606   \n",
       "41      2.500298       5.741291                 0.851660   \n",
       "42      2.296820      10.041042                 0.909429   \n",
       "43      2.042909       5.212604                 0.839037   \n",
       "\n",
       "    domestic_profit_margin  month  year  \n",
       "5                 0.673308     12  2015  \n",
       "33                0.670382      6  2015  \n",
       "41                0.714310      2  2018  \n",
       "42                0.696677     12  1997  \n",
       "43                0.671367      6  2018  "
      ]
     },
     "execution_count": 94,
     "metadata": {},
     "output_type": "execute_result"
    }
   ],
   "source": [
    "top_movies.head()"
   ]
  },
  {
   "cell_type": "code",
   "execution_count": 95,
   "metadata": {},
   "outputs": [],
   "source": [
    "top_movies_month = top_movies.groupby('month').mean()"
   ]
  },
  {
   "cell_type": "code",
   "execution_count": null,
   "metadata": {},
   "outputs": [],
   "source": []
  },
  {
   "cell_type": "code",
   "execution_count": null,
   "metadata": {},
   "outputs": [],
   "source": []
  },
  {
   "cell_type": "code",
   "execution_count": 96,
   "metadata": {},
   "outputs": [
    {
     "data": {
      "text/html": [
       "<div>\n",
       "<style scoped>\n",
       "    .dataframe tbody tr th:only-of-type {\n",
       "        vertical-align: middle;\n",
       "    }\n",
       "\n",
       "    .dataframe tbody tr th {\n",
       "        vertical-align: top;\n",
       "    }\n",
       "\n",
       "    .dataframe thead th {\n",
       "        text-align: right;\n",
       "    }\n",
       "</style>\n",
       "<table border=\"1\" class=\"dataframe\">\n",
       "  <thead>\n",
       "    <tr style=\"text-align: right;\">\n",
       "      <th></th>\n",
       "      <th>id</th>\n",
       "      <th>production_budget</th>\n",
       "      <th>domestic_gross</th>\n",
       "      <th>worldwide_gross</th>\n",
       "      <th>domestic_profit</th>\n",
       "      <th>worldwide_profit</th>\n",
       "      <th>domestic_roi</th>\n",
       "      <th>worldwide_roi</th>\n",
       "      <th>worldwide_profit_margin</th>\n",
       "      <th>domestic_profit_margin</th>\n",
       "      <th>year</th>\n",
       "    </tr>\n",
       "    <tr>\n",
       "      <th>month</th>\n",
       "      <th></th>\n",
       "      <th></th>\n",
       "      <th></th>\n",
       "      <th></th>\n",
       "      <th></th>\n",
       "      <th></th>\n",
       "      <th></th>\n",
       "      <th></th>\n",
       "      <th></th>\n",
       "      <th></th>\n",
       "      <th></th>\n",
       "    </tr>\n",
       "  </thead>\n",
       "  <tbody>\n",
       "    <tr>\n",
       "      <th>1</th>\n",
       "      <td>59.058824</td>\n",
       "      <td>1.254118e+07</td>\n",
       "      <td>6.272305e+07</td>\n",
       "      <td>9.854815e+07</td>\n",
       "      <td>5.018187e+07</td>\n",
       "      <td>8.600697e+07</td>\n",
       "      <td>4.420039</td>\n",
       "      <td>7.923151</td>\n",
       "      <td>0.844251</td>\n",
       "      <td>0.778591</td>\n",
       "      <td>2004.000000</td>\n",
       "    </tr>\n",
       "    <tr>\n",
       "      <th>2</th>\n",
       "      <td>59.155556</td>\n",
       "      <td>2.119667e+07</td>\n",
       "      <td>1.009139e+08</td>\n",
       "      <td>1.706795e+08</td>\n",
       "      <td>7.971727e+07</td>\n",
       "      <td>1.494829e+08</td>\n",
       "      <td>4.753517</td>\n",
       "      <td>7.270321</td>\n",
       "      <td>0.839643</td>\n",
       "      <td>0.779609</td>\n",
       "      <td>2003.333333</td>\n",
       "    </tr>\n",
       "    <tr>\n",
       "      <th>3</th>\n",
       "      <td>55.285714</td>\n",
       "      <td>2.049184e+07</td>\n",
       "      <td>9.190729e+07</td>\n",
       "      <td>1.562321e+08</td>\n",
       "      <td>7.141545e+07</td>\n",
       "      <td>1.357402e+08</td>\n",
       "      <td>4.490218</td>\n",
       "      <td>7.606427</td>\n",
       "      <td>0.833939</td>\n",
       "      <td>0.768123</td>\n",
       "      <td>2001.795918</td>\n",
       "    </tr>\n",
       "    <tr>\n",
       "      <th>4</th>\n",
       "      <td>52.392857</td>\n",
       "      <td>1.228571e+07</td>\n",
       "      <td>6.418352e+07</td>\n",
       "      <td>9.199729e+07</td>\n",
       "      <td>5.189781e+07</td>\n",
       "      <td>7.971158e+07</td>\n",
       "      <td>5.341993</td>\n",
       "      <td>8.336812</td>\n",
       "      <td>0.815781</td>\n",
       "      <td>0.766277</td>\n",
       "      <td>2004.250000</td>\n",
       "    </tr>\n",
       "    <tr>\n",
       "      <th>5</th>\n",
       "      <td>56.305556</td>\n",
       "      <td>3.115286e+07</td>\n",
       "      <td>1.659720e+08</td>\n",
       "      <td>3.308209e+08</td>\n",
       "      <td>1.348191e+08</td>\n",
       "      <td>2.996680e+08</td>\n",
       "      <td>5.928626</td>\n",
       "      <td>11.248106</td>\n",
       "      <td>0.887801</td>\n",
       "      <td>0.809350</td>\n",
       "      <td>1999.972222</td>\n",
       "    </tr>\n",
       "  </tbody>\n",
       "</table>\n",
       "</div>"
      ],
      "text/plain": [
       "              id  production_budget  domestic_gross  worldwide_gross  \\\n",
       "month                                                                  \n",
       "1      59.058824       1.254118e+07    6.272305e+07     9.854815e+07   \n",
       "2      59.155556       2.119667e+07    1.009139e+08     1.706795e+08   \n",
       "3      55.285714       2.049184e+07    9.190729e+07     1.562321e+08   \n",
       "4      52.392857       1.228571e+07    6.418352e+07     9.199729e+07   \n",
       "5      56.305556       3.115286e+07    1.659720e+08     3.308209e+08   \n",
       "\n",
       "       domestic_profit  worldwide_profit  domestic_roi  worldwide_roi  \\\n",
       "month                                                                   \n",
       "1         5.018187e+07      8.600697e+07      4.420039       7.923151   \n",
       "2         7.971727e+07      1.494829e+08      4.753517       7.270321   \n",
       "3         7.141545e+07      1.357402e+08      4.490218       7.606427   \n",
       "4         5.189781e+07      7.971158e+07      5.341993       8.336812   \n",
       "5         1.348191e+08      2.996680e+08      5.928626      11.248106   \n",
       "\n",
       "       worldwide_profit_margin  domestic_profit_margin         year  \n",
       "month                                                                \n",
       "1                     0.844251                0.778591  2004.000000  \n",
       "2                     0.839643                0.779609  2003.333333  \n",
       "3                     0.833939                0.768123  2001.795918  \n",
       "4                     0.815781                0.766277  2004.250000  \n",
       "5                     0.887801                0.809350  1999.972222  "
      ]
     },
     "execution_count": 96,
     "metadata": {},
     "output_type": "execute_result"
    }
   ],
   "source": [
    "top_movies_month.head()"
   ]
  },
  {
   "cell_type": "code",
   "execution_count": 97,
   "metadata": {},
   "outputs": [
    {
     "data": {
      "text/html": [
       "<div>\n",
       "<style scoped>\n",
       "    .dataframe tbody tr th:only-of-type {\n",
       "        vertical-align: middle;\n",
       "    }\n",
       "\n",
       "    .dataframe tbody tr th {\n",
       "        vertical-align: top;\n",
       "    }\n",
       "\n",
       "    .dataframe thead th {\n",
       "        text-align: right;\n",
       "    }\n",
       "</style>\n",
       "<table border=\"1\" class=\"dataframe\">\n",
       "  <thead>\n",
       "    <tr style=\"text-align: right;\">\n",
       "      <th></th>\n",
       "      <th>id</th>\n",
       "      <th>production_budget</th>\n",
       "      <th>domestic_gross</th>\n",
       "      <th>worldwide_gross</th>\n",
       "      <th>domestic_profit</th>\n",
       "      <th>worldwide_profit</th>\n",
       "      <th>domestic_roi</th>\n",
       "      <th>worldwide_roi</th>\n",
       "      <th>worldwide_profit_margin</th>\n",
       "      <th>domestic_profit_margin</th>\n",
       "      <th>year</th>\n",
       "    </tr>\n",
       "    <tr>\n",
       "      <th>month</th>\n",
       "      <th></th>\n",
       "      <th></th>\n",
       "      <th></th>\n",
       "      <th></th>\n",
       "      <th></th>\n",
       "      <th></th>\n",
       "      <th></th>\n",
       "      <th></th>\n",
       "      <th></th>\n",
       "      <th></th>\n",
       "      <th></th>\n",
       "    </tr>\n",
       "  </thead>\n",
       "  <tbody>\n",
       "    <tr>\n",
       "      <th>1</th>\n",
       "      <td>59.058824</td>\n",
       "      <td>1.254118e+07</td>\n",
       "      <td>6.272305e+07</td>\n",
       "      <td>9.854815e+07</td>\n",
       "      <td>5.018187e+07</td>\n",
       "      <td>8.600697e+07</td>\n",
       "      <td>4.420039</td>\n",
       "      <td>7.923151</td>\n",
       "      <td>0.844251</td>\n",
       "      <td>0.778591</td>\n",
       "      <td>2004.000000</td>\n",
       "    </tr>\n",
       "    <tr>\n",
       "      <th>2</th>\n",
       "      <td>59.155556</td>\n",
       "      <td>2.119667e+07</td>\n",
       "      <td>1.009139e+08</td>\n",
       "      <td>1.706795e+08</td>\n",
       "      <td>7.971727e+07</td>\n",
       "      <td>1.494829e+08</td>\n",
       "      <td>4.753517</td>\n",
       "      <td>7.270321</td>\n",
       "      <td>0.839643</td>\n",
       "      <td>0.779609</td>\n",
       "      <td>2003.333333</td>\n",
       "    </tr>\n",
       "    <tr>\n",
       "      <th>3</th>\n",
       "      <td>55.285714</td>\n",
       "      <td>2.049184e+07</td>\n",
       "      <td>9.190729e+07</td>\n",
       "      <td>1.562321e+08</td>\n",
       "      <td>7.141545e+07</td>\n",
       "      <td>1.357402e+08</td>\n",
       "      <td>4.490218</td>\n",
       "      <td>7.606427</td>\n",
       "      <td>0.833939</td>\n",
       "      <td>0.768123</td>\n",
       "      <td>2001.795918</td>\n",
       "    </tr>\n",
       "    <tr>\n",
       "      <th>4</th>\n",
       "      <td>52.392857</td>\n",
       "      <td>1.228571e+07</td>\n",
       "      <td>6.418352e+07</td>\n",
       "      <td>9.199729e+07</td>\n",
       "      <td>5.189781e+07</td>\n",
       "      <td>7.971158e+07</td>\n",
       "      <td>5.341993</td>\n",
       "      <td>8.336812</td>\n",
       "      <td>0.815781</td>\n",
       "      <td>0.766277</td>\n",
       "      <td>2004.250000</td>\n",
       "    </tr>\n",
       "    <tr>\n",
       "      <th>5</th>\n",
       "      <td>56.305556</td>\n",
       "      <td>3.115286e+07</td>\n",
       "      <td>1.659720e+08</td>\n",
       "      <td>3.308209e+08</td>\n",
       "      <td>1.348191e+08</td>\n",
       "      <td>2.996680e+08</td>\n",
       "      <td>5.928626</td>\n",
       "      <td>11.248106</td>\n",
       "      <td>0.887801</td>\n",
       "      <td>0.809350</td>\n",
       "      <td>1999.972222</td>\n",
       "    </tr>\n",
       "  </tbody>\n",
       "</table>\n",
       "</div>"
      ],
      "text/plain": [
       "              id  production_budget  domestic_gross  worldwide_gross  \\\n",
       "month                                                                  \n",
       "1      59.058824       1.254118e+07    6.272305e+07     9.854815e+07   \n",
       "2      59.155556       2.119667e+07    1.009139e+08     1.706795e+08   \n",
       "3      55.285714       2.049184e+07    9.190729e+07     1.562321e+08   \n",
       "4      52.392857       1.228571e+07    6.418352e+07     9.199729e+07   \n",
       "5      56.305556       3.115286e+07    1.659720e+08     3.308209e+08   \n",
       "\n",
       "       domestic_profit  worldwide_profit  domestic_roi  worldwide_roi  \\\n",
       "month                                                                   \n",
       "1         5.018187e+07      8.600697e+07      4.420039       7.923151   \n",
       "2         7.971727e+07      1.494829e+08      4.753517       7.270321   \n",
       "3         7.141545e+07      1.357402e+08      4.490218       7.606427   \n",
       "4         5.189781e+07      7.971158e+07      5.341993       8.336812   \n",
       "5         1.348191e+08      2.996680e+08      5.928626      11.248106   \n",
       "\n",
       "       worldwide_profit_margin  domestic_profit_margin         year  \n",
       "month                                                                \n",
       "1                     0.844251                0.778591  2004.000000  \n",
       "2                     0.839643                0.779609  2003.333333  \n",
       "3                     0.833939                0.768123  2001.795918  \n",
       "4                     0.815781                0.766277  2004.250000  \n",
       "5                     0.887801                0.809350  1999.972222  "
      ]
     },
     "execution_count": 97,
     "metadata": {},
     "output_type": "execute_result"
    }
   ],
   "source": [
    "top_movies_month.head()"
   ]
  },
  {
   "cell_type": "code",
   "execution_count": 98,
   "metadata": {},
   "outputs": [],
   "source": [
    "top_movies_month.drop('id', axis=1, inplace=True)"
   ]
  },
  {
   "cell_type": "code",
   "execution_count": 99,
   "metadata": {},
   "outputs": [],
   "source": [
    "top_movies_month.drop({'domestic_gross', 'worldwide_gross', 'domestic_profit', 'worldwide_profit'}, axis=1, inplace=True)"
   ]
  },
  {
   "cell_type": "code",
   "execution_count": 100,
   "metadata": {},
   "outputs": [],
   "source": [
    "#top_movies_month.rename({'domestic_profit_to_budget_ratio': 'domestic_roi', 'worldwide_profit_to_budget_ratio': 'worldwide_roi'}, axis=1, inplace=True)"
   ]
  },
  {
   "cell_type": "code",
   "execution_count": 101,
   "metadata": {},
   "outputs": [
    {
     "data": {
      "text/html": [
       "<div>\n",
       "<style scoped>\n",
       "    .dataframe tbody tr th:only-of-type {\n",
       "        vertical-align: middle;\n",
       "    }\n",
       "\n",
       "    .dataframe tbody tr th {\n",
       "        vertical-align: top;\n",
       "    }\n",
       "\n",
       "    .dataframe thead th {\n",
       "        text-align: right;\n",
       "    }\n",
       "</style>\n",
       "<table border=\"1\" class=\"dataframe\">\n",
       "  <thead>\n",
       "    <tr style=\"text-align: right;\">\n",
       "      <th></th>\n",
       "      <th>production_budget</th>\n",
       "      <th>domestic_roi</th>\n",
       "      <th>worldwide_roi</th>\n",
       "      <th>worldwide_profit_margin</th>\n",
       "      <th>domestic_profit_margin</th>\n",
       "      <th>year</th>\n",
       "    </tr>\n",
       "    <tr>\n",
       "      <th>month</th>\n",
       "      <th></th>\n",
       "      <th></th>\n",
       "      <th></th>\n",
       "      <th></th>\n",
       "      <th></th>\n",
       "      <th></th>\n",
       "    </tr>\n",
       "  </thead>\n",
       "  <tbody>\n",
       "    <tr>\n",
       "      <th>1</th>\n",
       "      <td>1.254118e+07</td>\n",
       "      <td>4.420039</td>\n",
       "      <td>7.923151</td>\n",
       "      <td>0.844251</td>\n",
       "      <td>0.778591</td>\n",
       "      <td>2004.000000</td>\n",
       "    </tr>\n",
       "    <tr>\n",
       "      <th>2</th>\n",
       "      <td>2.119667e+07</td>\n",
       "      <td>4.753517</td>\n",
       "      <td>7.270321</td>\n",
       "      <td>0.839643</td>\n",
       "      <td>0.779609</td>\n",
       "      <td>2003.333333</td>\n",
       "    </tr>\n",
       "    <tr>\n",
       "      <th>3</th>\n",
       "      <td>2.049184e+07</td>\n",
       "      <td>4.490218</td>\n",
       "      <td>7.606427</td>\n",
       "      <td>0.833939</td>\n",
       "      <td>0.768123</td>\n",
       "      <td>2001.795918</td>\n",
       "    </tr>\n",
       "    <tr>\n",
       "      <th>4</th>\n",
       "      <td>1.228571e+07</td>\n",
       "      <td>5.341993</td>\n",
       "      <td>8.336812</td>\n",
       "      <td>0.815781</td>\n",
       "      <td>0.766277</td>\n",
       "      <td>2004.250000</td>\n",
       "    </tr>\n",
       "    <tr>\n",
       "      <th>5</th>\n",
       "      <td>3.115286e+07</td>\n",
       "      <td>5.928626</td>\n",
       "      <td>11.248106</td>\n",
       "      <td>0.887801</td>\n",
       "      <td>0.809350</td>\n",
       "      <td>1999.972222</td>\n",
       "    </tr>\n",
       "  </tbody>\n",
       "</table>\n",
       "</div>"
      ],
      "text/plain": [
       "       production_budget  domestic_roi  worldwide_roi  \\\n",
       "month                                                   \n",
       "1           1.254118e+07      4.420039       7.923151   \n",
       "2           2.119667e+07      4.753517       7.270321   \n",
       "3           2.049184e+07      4.490218       7.606427   \n",
       "4           1.228571e+07      5.341993       8.336812   \n",
       "5           3.115286e+07      5.928626      11.248106   \n",
       "\n",
       "       worldwide_profit_margin  domestic_profit_margin         year  \n",
       "month                                                                \n",
       "1                     0.844251                0.778591  2004.000000  \n",
       "2                     0.839643                0.779609  2003.333333  \n",
       "3                     0.833939                0.768123  2001.795918  \n",
       "4                     0.815781                0.766277  2004.250000  \n",
       "5                     0.887801                0.809350  1999.972222  "
      ]
     },
     "execution_count": 101,
     "metadata": {},
     "output_type": "execute_result"
    }
   ],
   "source": [
    "top_movies_month.head()"
   ]
  },
  {
   "cell_type": "code",
   "execution_count": 102,
   "metadata": {},
   "outputs": [],
   "source": [
    "top_movies_month.drop({'worldwide_profit_margin', 'domestic_profit_margin'}, axis=1, inplace=True)"
   ]
  },
  {
   "cell_type": "code",
   "execution_count": 103,
   "metadata": {},
   "outputs": [
    {
     "data": {
      "text/html": [
       "<div>\n",
       "<style scoped>\n",
       "    .dataframe tbody tr th:only-of-type {\n",
       "        vertical-align: middle;\n",
       "    }\n",
       "\n",
       "    .dataframe tbody tr th {\n",
       "        vertical-align: top;\n",
       "    }\n",
       "\n",
       "    .dataframe thead th {\n",
       "        text-align: right;\n",
       "    }\n",
       "</style>\n",
       "<table border=\"1\" class=\"dataframe\">\n",
       "  <thead>\n",
       "    <tr style=\"text-align: right;\">\n",
       "      <th></th>\n",
       "      <th>production_budget</th>\n",
       "      <th>domestic_roi</th>\n",
       "      <th>worldwide_roi</th>\n",
       "      <th>year</th>\n",
       "    </tr>\n",
       "    <tr>\n",
       "      <th>month</th>\n",
       "      <th></th>\n",
       "      <th></th>\n",
       "      <th></th>\n",
       "      <th></th>\n",
       "    </tr>\n",
       "  </thead>\n",
       "  <tbody>\n",
       "    <tr>\n",
       "      <th>1</th>\n",
       "      <td>1.254118e+07</td>\n",
       "      <td>4.420039</td>\n",
       "      <td>7.923151</td>\n",
       "      <td>2004.000000</td>\n",
       "    </tr>\n",
       "    <tr>\n",
       "      <th>2</th>\n",
       "      <td>2.119667e+07</td>\n",
       "      <td>4.753517</td>\n",
       "      <td>7.270321</td>\n",
       "      <td>2003.333333</td>\n",
       "    </tr>\n",
       "    <tr>\n",
       "      <th>3</th>\n",
       "      <td>2.049184e+07</td>\n",
       "      <td>4.490218</td>\n",
       "      <td>7.606427</td>\n",
       "      <td>2001.795918</td>\n",
       "    </tr>\n",
       "    <tr>\n",
       "      <th>4</th>\n",
       "      <td>1.228571e+07</td>\n",
       "      <td>5.341993</td>\n",
       "      <td>8.336812</td>\n",
       "      <td>2004.250000</td>\n",
       "    </tr>\n",
       "    <tr>\n",
       "      <th>5</th>\n",
       "      <td>3.115286e+07</td>\n",
       "      <td>5.928626</td>\n",
       "      <td>11.248106</td>\n",
       "      <td>1999.972222</td>\n",
       "    </tr>\n",
       "    <tr>\n",
       "      <th>6</th>\n",
       "      <td>3.085077e+07</td>\n",
       "      <td>5.916181</td>\n",
       "      <td>11.010687</td>\n",
       "      <td>1996.861538</td>\n",
       "    </tr>\n",
       "    <tr>\n",
       "      <th>7</th>\n",
       "      <td>2.711176e+07</td>\n",
       "      <td>4.392568</td>\n",
       "      <td>8.550344</td>\n",
       "      <td>2000.882353</td>\n",
       "    </tr>\n",
       "    <tr>\n",
       "      <th>8</th>\n",
       "      <td>1.748005e+07</td>\n",
       "      <td>4.006617</td>\n",
       "      <td>6.923466</td>\n",
       "      <td>2003.360000</td>\n",
       "    </tr>\n",
       "    <tr>\n",
       "      <th>9</th>\n",
       "      <td>1.416842e+07</td>\n",
       "      <td>4.980006</td>\n",
       "      <td>8.516141</td>\n",
       "      <td>2001.184211</td>\n",
       "    </tr>\n",
       "    <tr>\n",
       "      <th>10</th>\n",
       "      <td>1.324643e+07</td>\n",
       "      <td>5.504130</td>\n",
       "      <td>10.317333</td>\n",
       "      <td>1999.303571</td>\n",
       "    </tr>\n",
       "    <tr>\n",
       "      <th>11</th>\n",
       "      <td>2.167016e+07</td>\n",
       "      <td>4.589627</td>\n",
       "      <td>9.385631</td>\n",
       "      <td>1999.403226</td>\n",
       "    </tr>\n",
       "    <tr>\n",
       "      <th>12</th>\n",
       "      <td>3.012133e+07</td>\n",
       "      <td>5.346417</td>\n",
       "      <td>9.358728</td>\n",
       "      <td>1995.493333</td>\n",
       "    </tr>\n",
       "  </tbody>\n",
       "</table>\n",
       "</div>"
      ],
      "text/plain": [
       "       production_budget  domestic_roi  worldwide_roi         year\n",
       "month                                                             \n",
       "1           1.254118e+07      4.420039       7.923151  2004.000000\n",
       "2           2.119667e+07      4.753517       7.270321  2003.333333\n",
       "3           2.049184e+07      4.490218       7.606427  2001.795918\n",
       "4           1.228571e+07      5.341993       8.336812  2004.250000\n",
       "5           3.115286e+07      5.928626      11.248106  1999.972222\n",
       "6           3.085077e+07      5.916181      11.010687  1996.861538\n",
       "7           2.711176e+07      4.392568       8.550344  2000.882353\n",
       "8           1.748005e+07      4.006617       6.923466  2003.360000\n",
       "9           1.416842e+07      4.980006       8.516141  2001.184211\n",
       "10          1.324643e+07      5.504130      10.317333  1999.303571\n",
       "11          2.167016e+07      4.589627       9.385631  1999.403226\n",
       "12          3.012133e+07      5.346417       9.358728  1995.493333"
      ]
     },
     "execution_count": 103,
     "metadata": {},
     "output_type": "execute_result"
    }
   ],
   "source": [
    "top_movies_month"
   ]
  },
  {
   "cell_type": "code",
   "execution_count": 104,
   "metadata": {},
   "outputs": [
    {
     "data": {
      "text/html": [
       "<div>\n",
       "<style scoped>\n",
       "    .dataframe tbody tr th:only-of-type {\n",
       "        vertical-align: middle;\n",
       "    }\n",
       "\n",
       "    .dataframe tbody tr th {\n",
       "        vertical-align: top;\n",
       "    }\n",
       "\n",
       "    .dataframe thead th {\n",
       "        text-align: right;\n",
       "    }\n",
       "</style>\n",
       "<table border=\"1\" class=\"dataframe\">\n",
       "  <thead>\n",
       "    <tr style=\"text-align: right;\">\n",
       "      <th></th>\n",
       "      <th>production_budget</th>\n",
       "      <th>domestic_roi</th>\n",
       "      <th>worldwide_roi</th>\n",
       "      <th>year</th>\n",
       "      <th>movie_count</th>\n",
       "    </tr>\n",
       "    <tr>\n",
       "      <th>month</th>\n",
       "      <th></th>\n",
       "      <th></th>\n",
       "      <th></th>\n",
       "      <th></th>\n",
       "      <th></th>\n",
       "    </tr>\n",
       "  </thead>\n",
       "  <tbody>\n",
       "    <tr>\n",
       "      <th>1</th>\n",
       "      <td>1.254118e+07</td>\n",
       "      <td>4.420039</td>\n",
       "      <td>7.923151</td>\n",
       "      <td>2004.000000</td>\n",
       "      <td>347</td>\n",
       "    </tr>\n",
       "    <tr>\n",
       "      <th>2</th>\n",
       "      <td>2.119667e+07</td>\n",
       "      <td>4.753517</td>\n",
       "      <td>7.270321</td>\n",
       "      <td>2003.333333</td>\n",
       "      <td>392</td>\n",
       "    </tr>\n",
       "    <tr>\n",
       "      <th>3</th>\n",
       "      <td>2.049184e+07</td>\n",
       "      <td>4.490218</td>\n",
       "      <td>7.606427</td>\n",
       "      <td>2001.795918</td>\n",
       "      <td>470</td>\n",
       "    </tr>\n",
       "    <tr>\n",
       "      <th>4</th>\n",
       "      <td>1.228571e+07</td>\n",
       "      <td>5.341993</td>\n",
       "      <td>8.336812</td>\n",
       "      <td>2004.250000</td>\n",
       "      <td>454</td>\n",
       "    </tr>\n",
       "    <tr>\n",
       "      <th>5</th>\n",
       "      <td>3.115286e+07</td>\n",
       "      <td>5.928626</td>\n",
       "      <td>11.248106</td>\n",
       "      <td>1999.972222</td>\n",
       "      <td>407</td>\n",
       "    </tr>\n",
       "  </tbody>\n",
       "</table>\n",
       "</div>"
      ],
      "text/plain": [
       "       production_budget  domestic_roi  worldwide_roi         year  \\\n",
       "month                                                                \n",
       "1           1.254118e+07      4.420039       7.923151  2004.000000   \n",
       "2           2.119667e+07      4.753517       7.270321  2003.333333   \n",
       "3           2.049184e+07      4.490218       7.606427  2001.795918   \n",
       "4           1.228571e+07      5.341993       8.336812  2004.250000   \n",
       "5           3.115286e+07      5.928626      11.248106  1999.972222   \n",
       "\n",
       "       movie_count  \n",
       "month               \n",
       "1              347  \n",
       "2              392  \n",
       "3              470  \n",
       "4              454  \n",
       "5              407  "
      ]
     },
     "execution_count": 104,
     "metadata": {},
     "output_type": "execute_result"
    }
   ],
   "source": [
    "top_movies_month['movie_count'] = movie_budgets_df['month'].value_counts()\n",
    "top_movies_month.head()"
   ]
  },
  {
   "cell_type": "code",
   "execution_count": 105,
   "metadata": {},
   "outputs": [],
   "source": [
    "top_movies_month.reset_index(inplace=True)"
   ]
  },
  {
   "cell_type": "code",
   "execution_count": 106,
   "metadata": {},
   "outputs": [
    {
     "data": {
      "image/png": "[encoded data removed]",
      "text/plain": [
       "<Figure size 576x576 with 2 Axes>"
      ]
     },
     "metadata": {
      "needs_background": "light"
     },
     "output_type": "display_data"
    }
   ],
   "source": [
    "fig, ax1 = plt.subplots(figsize = (8, 8))\n",
    "\n",
    "x = top_movies_month['month']\n",
    "h = top_movies_month['production_budget']\n",
    "y1 = top_movies_month['domestic_roi']\n",
    "y2 = top_movies_month['worldwide_roi']\n",
    "\n",
    "\n",
    "ax2 = ax1.twinx()\n",
    "#ax3 = ax2.twinx()\n",
    "\n",
    "ax1.bar(x, h, alpha = 0.25, color='green')\n",
    "#plt.locator_params(axis=x, nbins=12)\n",
    "\n",
    "line1, = ax2.plot(x, y1)\n",
    "line2, = ax2.plot(x, y2, color='red')\n",
    "\n",
    "\n",
    "ax1.set_title('Budget, Worldwide And Domestic ROI For Top Movies By Month')\n",
    "ax1.set_xlabel('Month')\n",
    "ax1.set_ylabel('Production Budget')\n",
    "\n",
    "ax2.set_ylabel('ROI')\n",
    "ax2.legend([line1, line2],['Domestic ROI', 'Worldwide ROI'], loc='upper left');"
   ]
  },
  {
   "cell_type": "code",
   "execution_count": null,
   "metadata": {},
   "outputs": [],
   "source": []
  }
 ],
 "metadata": {
  "kernelspec": {
   "display_name": "Python (learn-env)",
   "language": "python",
   "name": "learn-env"
  },
  "language_info": {
   "codemirror_mode": {
    "name": "ipython",
    "version": 3
   },
   "file_extension": ".py",
   "mimetype": "text/x-python",
   "name": "python",
   "nbconvert_exporter": "python",
   "pygments_lexer": "ipython3",
   "version": "3.8.5"
  }
 },
 "nbformat": 4,
 "nbformat_minor": 4
}
