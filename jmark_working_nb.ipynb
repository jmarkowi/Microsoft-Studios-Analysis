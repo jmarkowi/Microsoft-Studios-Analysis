{
 "cells": [
  {
   "cell_type": "markdown",
   "metadata": {},
   "source": [
    "# <u>Phase 1 Project: Movies:</u>\n",
    "#### Jesse Markowitz's Working Jupyter Notebook"
   ]
  },
  {
   "cell_type": "markdown",
   "metadata": {},
   "source": [
    "## Question/Exploration ideas:"
   ]
  },
  {
   "cell_type": "markdown",
   "metadata": {},
   "source": [
    "1. Popular actors correlate with high ratings? (Measure popularity by how many movies they've been cast in?)\n",
    "2. Look for popular words in ratings/reviews to ID plot points/content?\n",
    "3. Comparing popularity/ratings of series/sequels/franchies vs stand-alone films.\n",
    "4. By studio, director, or writer"
   ]
  },
  {
   "cell_type": "markdown",
   "metadata": {},
   "source": [
    "## Import the IMDB files"
   ]
  },
  {
   "cell_type": "code",
   "execution_count": 2,
   "metadata": {},
   "outputs": [],
   "source": [
    "import pandas as pd\n",
    "\n",
    "title_basics_df = pd.read_csv('./unzippedData/imdb.title.basics.csv')\n",
    "ratings_df = pd.read_csv('imdb.title.ratings.csv.gz')\n",
    "\n",
    "# We decided not to analyze the cast or crew, or use the international movie names\n",
    "\n",
    "# crew_df = pd.read_csv('imdb.title.crew.csv.gz')\n",
    "# name_df = pd.read_csv('./unzippedData/imdb.name.basics.csv')\n",
    "# principals_df = pd.read_csv('./unzippedData/imdb.title.principals.csv')\n",
    "# title_akas_df = pd.read_csv('./unzippedData/imdb.title.akas.csv')"
   ]
  },
  {
   "cell_type": "code",
   "execution_count": 3,
   "metadata": {
    "scrolled": true
   },
   "outputs": [
    {
     "data": {
      "text/html": [
       "<div>\n",
       "<style scoped>\n",
       "    .dataframe tbody tr th:only-of-type {\n",
       "        vertical-align: middle;\n",
       "    }\n",
       "\n",
       "    .dataframe tbody tr th {\n",
       "        vertical-align: top;\n",
       "    }\n",
       "\n",
       "    .dataframe thead th {\n",
       "        text-align: right;\n",
       "    }\n",
       "</style>\n",
       "<table border=\"1\" class=\"dataframe\">\n",
       "  <thead>\n",
       "    <tr style=\"text-align: right;\">\n",
       "      <th></th>\n",
       "      <th>tconst</th>\n",
       "      <th>averagerating</th>\n",
       "      <th>numvotes</th>\n",
       "    </tr>\n",
       "  </thead>\n",
       "  <tbody>\n",
       "    <tr>\n",
       "      <th>0</th>\n",
       "      <td>tt10356526</td>\n",
       "      <td>8.3</td>\n",
       "      <td>31</td>\n",
       "    </tr>\n",
       "    <tr>\n",
       "      <th>1</th>\n",
       "      <td>tt10384606</td>\n",
       "      <td>8.9</td>\n",
       "      <td>559</td>\n",
       "    </tr>\n",
       "    <tr>\n",
       "      <th>2</th>\n",
       "      <td>tt1042974</td>\n",
       "      <td>6.4</td>\n",
       "      <td>20</td>\n",
       "    </tr>\n",
       "    <tr>\n",
       "      <th>3</th>\n",
       "      <td>tt1043726</td>\n",
       "      <td>4.2</td>\n",
       "      <td>50352</td>\n",
       "    </tr>\n",
       "    <tr>\n",
       "      <th>4</th>\n",
       "      <td>tt1060240</td>\n",
       "      <td>6.5</td>\n",
       "      <td>21</td>\n",
       "    </tr>\n",
       "  </tbody>\n",
       "</table>\n",
       "</div>"
      ],
      "text/plain": [
       "       tconst  averagerating  numvotes\n",
       "0  tt10356526            8.3        31\n",
       "1  tt10384606            8.9       559\n",
       "2   tt1042974            6.4        20\n",
       "3   tt1043726            4.2     50352\n",
       "4   tt1060240            6.5        21"
      ]
     },
     "execution_count": 3,
     "metadata": {},
     "output_type": "execute_result"
    }
   ],
   "source": [
    "ratings_df.head()"
   ]
  },
  {
   "cell_type": "code",
   "execution_count": 4,
   "metadata": {
    "scrolled": true
   },
   "outputs": [
    {
     "data": {
      "text/html": [
       "<div>\n",
       "<style scoped>\n",
       "    .dataframe tbody tr th:only-of-type {\n",
       "        vertical-align: middle;\n",
       "    }\n",
       "\n",
       "    .dataframe tbody tr th {\n",
       "        vertical-align: top;\n",
       "    }\n",
       "\n",
       "    .dataframe thead th {\n",
       "        text-align: right;\n",
       "    }\n",
       "</style>\n",
       "<table border=\"1\" class=\"dataframe\">\n",
       "  <thead>\n",
       "    <tr style=\"text-align: right;\">\n",
       "      <th></th>\n",
       "      <th>tconst</th>\n",
       "      <th>primary_title</th>\n",
       "      <th>original_title</th>\n",
       "      <th>start_year</th>\n",
       "      <th>runtime_minutes</th>\n",
       "      <th>genres</th>\n",
       "    </tr>\n",
       "  </thead>\n",
       "  <tbody>\n",
       "    <tr>\n",
       "      <th>0</th>\n",
       "      <td>tt0063540</td>\n",
       "      <td>Sunghursh</td>\n",
       "      <td>Sunghursh</td>\n",
       "      <td>2013</td>\n",
       "      <td>175.0</td>\n",
       "      <td>Action,Crime,Drama</td>\n",
       "    </tr>\n",
       "    <tr>\n",
       "      <th>1</th>\n",
       "      <td>tt0066787</td>\n",
       "      <td>One Day Before the Rainy Season</td>\n",
       "      <td>Ashad Ka Ek Din</td>\n",
       "      <td>2019</td>\n",
       "      <td>114.0</td>\n",
       "      <td>Biography,Drama</td>\n",
       "    </tr>\n",
       "    <tr>\n",
       "      <th>2</th>\n",
       "      <td>tt0069049</td>\n",
       "      <td>The Other Side of the Wind</td>\n",
       "      <td>The Other Side of the Wind</td>\n",
       "      <td>2018</td>\n",
       "      <td>122.0</td>\n",
       "      <td>Drama</td>\n",
       "    </tr>\n",
       "    <tr>\n",
       "      <th>3</th>\n",
       "      <td>tt0069204</td>\n",
       "      <td>Sabse Bada Sukh</td>\n",
       "      <td>Sabse Bada Sukh</td>\n",
       "      <td>2018</td>\n",
       "      <td>NaN</td>\n",
       "      <td>Comedy,Drama</td>\n",
       "    </tr>\n",
       "    <tr>\n",
       "      <th>4</th>\n",
       "      <td>tt0100275</td>\n",
       "      <td>The Wandering Soap Opera</td>\n",
       "      <td>La Telenovela Errante</td>\n",
       "      <td>2017</td>\n",
       "      <td>80.0</td>\n",
       "      <td>Comedy,Drama,Fantasy</td>\n",
       "    </tr>\n",
       "  </tbody>\n",
       "</table>\n",
       "</div>"
      ],
      "text/plain": [
       "      tconst                    primary_title              original_title  \\\n",
       "0  tt0063540                        Sunghursh                   Sunghursh   \n",
       "1  tt0066787  One Day Before the Rainy Season             Ashad Ka Ek Din   \n",
       "2  tt0069049       The Other Side of the Wind  The Other Side of the Wind   \n",
       "3  tt0069204                  Sabse Bada Sukh             Sabse Bada Sukh   \n",
       "4  tt0100275         The Wandering Soap Opera       La Telenovela Errante   \n",
       "\n",
       "   start_year  runtime_minutes                genres  \n",
       "0        2013            175.0    Action,Crime,Drama  \n",
       "1        2019            114.0       Biography,Drama  \n",
       "2        2018            122.0                 Drama  \n",
       "3        2018              NaN          Comedy,Drama  \n",
       "4        2017             80.0  Comedy,Drama,Fantasy  "
      ]
     },
     "execution_count": 4,
     "metadata": {},
     "output_type": "execute_result"
    }
   ],
   "source": [
    "title_basics_df.head()"
   ]
  },
  {
   "cell_type": "code",
   "execution_count": 5,
   "metadata": {},
   "outputs": [
    {
     "data": {
      "text/plain": [
       "(146144, 6)"
      ]
     },
     "execution_count": 5,
     "metadata": {},
     "output_type": "execute_result"
    }
   ],
   "source": [
    "title_basics_df.shape"
   ]
  },
  {
   "cell_type": "markdown",
   "metadata": {},
   "source": [
    "## Join the dataframes into one overall dataframe"
   ]
  },
  {
   "cell_type": "markdown",
   "metadata": {},
   "source": [
    "The `tconst` and `nmcost` are the primary keys for movie titles and crew names. We will not continue using `title_akas_df` because it contains only the movie titles given in other countries, but not much other useful information."
   ]
  },
  {
   "cell_type": "code",
   "execution_count": 6,
   "metadata": {},
   "outputs": [
    {
     "data": {
      "text/html": [
       "<div>\n",
       "<style scoped>\n",
       "    .dataframe tbody tr th:only-of-type {\n",
       "        vertical-align: middle;\n",
       "    }\n",
       "\n",
       "    .dataframe tbody tr th {\n",
       "        vertical-align: top;\n",
       "    }\n",
       "\n",
       "    .dataframe thead th {\n",
       "        text-align: right;\n",
       "    }\n",
       "</style>\n",
       "<table border=\"1\" class=\"dataframe\">\n",
       "  <thead>\n",
       "    <tr style=\"text-align: right;\">\n",
       "      <th></th>\n",
       "      <th>tconst</th>\n",
       "      <th>primary_title</th>\n",
       "      <th>original_title</th>\n",
       "      <th>start_year</th>\n",
       "      <th>runtime_minutes</th>\n",
       "      <th>genres</th>\n",
       "      <th>averagerating</th>\n",
       "      <th>numvotes</th>\n",
       "    </tr>\n",
       "  </thead>\n",
       "  <tbody>\n",
       "    <tr>\n",
       "      <th>0</th>\n",
       "      <td>tt0063540</td>\n",
       "      <td>Sunghursh</td>\n",
       "      <td>Sunghursh</td>\n",
       "      <td>2013</td>\n",
       "      <td>175.0</td>\n",
       "      <td>Action,Crime,Drama</td>\n",
       "      <td>7.0</td>\n",
       "      <td>77.0</td>\n",
       "    </tr>\n",
       "    <tr>\n",
       "      <th>1</th>\n",
       "      <td>tt0066787</td>\n",
       "      <td>One Day Before the Rainy Season</td>\n",
       "      <td>Ashad Ka Ek Din</td>\n",
       "      <td>2019</td>\n",
       "      <td>114.0</td>\n",
       "      <td>Biography,Drama</td>\n",
       "      <td>7.2</td>\n",
       "      <td>43.0</td>\n",
       "    </tr>\n",
       "    <tr>\n",
       "      <th>2</th>\n",
       "      <td>tt0069049</td>\n",
       "      <td>The Other Side of the Wind</td>\n",
       "      <td>The Other Side of the Wind</td>\n",
       "      <td>2018</td>\n",
       "      <td>122.0</td>\n",
       "      <td>Drama</td>\n",
       "      <td>6.9</td>\n",
       "      <td>4517.0</td>\n",
       "    </tr>\n",
       "    <tr>\n",
       "      <th>3</th>\n",
       "      <td>tt0069204</td>\n",
       "      <td>Sabse Bada Sukh</td>\n",
       "      <td>Sabse Bada Sukh</td>\n",
       "      <td>2018</td>\n",
       "      <td>NaN</td>\n",
       "      <td>Comedy,Drama</td>\n",
       "      <td>6.1</td>\n",
       "      <td>13.0</td>\n",
       "    </tr>\n",
       "    <tr>\n",
       "      <th>4</th>\n",
       "      <td>tt0100275</td>\n",
       "      <td>The Wandering Soap Opera</td>\n",
       "      <td>La Telenovela Errante</td>\n",
       "      <td>2017</td>\n",
       "      <td>80.0</td>\n",
       "      <td>Comedy,Drama,Fantasy</td>\n",
       "      <td>6.5</td>\n",
       "      <td>119.0</td>\n",
       "    </tr>\n",
       "  </tbody>\n",
       "</table>\n",
       "</div>"
      ],
      "text/plain": [
       "      tconst                    primary_title              original_title  \\\n",
       "0  tt0063540                        Sunghursh                   Sunghursh   \n",
       "1  tt0066787  One Day Before the Rainy Season             Ashad Ka Ek Din   \n",
       "2  tt0069049       The Other Side of the Wind  The Other Side of the Wind   \n",
       "3  tt0069204                  Sabse Bada Sukh             Sabse Bada Sukh   \n",
       "4  tt0100275         The Wandering Soap Opera       La Telenovela Errante   \n",
       "\n",
       "   start_year  runtime_minutes                genres  averagerating  numvotes  \n",
       "0        2013            175.0    Action,Crime,Drama            7.0      77.0  \n",
       "1        2019            114.0       Biography,Drama            7.2      43.0  \n",
       "2        2018            122.0                 Drama            6.9    4517.0  \n",
       "3        2018              NaN          Comedy,Drama            6.1      13.0  \n",
       "4        2017             80.0  Comedy,Drama,Fantasy            6.5     119.0  "
      ]
     },
     "execution_count": 6,
     "metadata": {},
     "output_type": "execute_result"
    }
   ],
   "source": [
    "movies_info_df = title_basics_df.merge(ratings_df, how='left', on='tconst')\n",
    "movies_info_df.head()"
   ]
  },
  {
   "cell_type": "markdown",
   "metadata": {},
   "source": [
    "## Clean the data\n",
    "**Remove columns and rows that won't be needed from `movies_info_df`**"
   ]
  },
  {
   "cell_type": "code",
   "execution_count": 7,
   "metadata": {
    "scrolled": true
   },
   "outputs": [
    {
     "data": {
      "text/html": [
       "<div>\n",
       "<style scoped>\n",
       "    .dataframe tbody tr th:only-of-type {\n",
       "        vertical-align: middle;\n",
       "    }\n",
       "\n",
       "    .dataframe tbody tr th {\n",
       "        vertical-align: top;\n",
       "    }\n",
       "\n",
       "    .dataframe thead th {\n",
       "        text-align: right;\n",
       "    }\n",
       "</style>\n",
       "<table border=\"1\" class=\"dataframe\">\n",
       "  <thead>\n",
       "    <tr style=\"text-align: right;\">\n",
       "      <th></th>\n",
       "      <th>tconst</th>\n",
       "      <th>primary_title</th>\n",
       "      <th>original_title</th>\n",
       "      <th>start_year</th>\n",
       "      <th>runtime_minutes</th>\n",
       "      <th>genres</th>\n",
       "      <th>averagerating</th>\n",
       "      <th>numvotes</th>\n",
       "    </tr>\n",
       "  </thead>\n",
       "  <tbody>\n",
       "    <tr>\n",
       "      <th>0</th>\n",
       "      <td>tt0063540</td>\n",
       "      <td>Sunghursh</td>\n",
       "      <td>Sunghursh</td>\n",
       "      <td>2013</td>\n",
       "      <td>175.0</td>\n",
       "      <td>Action,Crime,Drama</td>\n",
       "      <td>7.0</td>\n",
       "      <td>77.0</td>\n",
       "    </tr>\n",
       "    <tr>\n",
       "      <th>1</th>\n",
       "      <td>tt0066787</td>\n",
       "      <td>One Day Before the Rainy Season</td>\n",
       "      <td>Ashad Ka Ek Din</td>\n",
       "      <td>2019</td>\n",
       "      <td>114.0</td>\n",
       "      <td>Biography,Drama</td>\n",
       "      <td>7.2</td>\n",
       "      <td>43.0</td>\n",
       "    </tr>\n",
       "    <tr>\n",
       "      <th>2</th>\n",
       "      <td>tt0069049</td>\n",
       "      <td>The Other Side of the Wind</td>\n",
       "      <td>The Other Side of the Wind</td>\n",
       "      <td>2018</td>\n",
       "      <td>122.0</td>\n",
       "      <td>Drama</td>\n",
       "      <td>6.9</td>\n",
       "      <td>4517.0</td>\n",
       "    </tr>\n",
       "    <tr>\n",
       "      <th>3</th>\n",
       "      <td>tt0069204</td>\n",
       "      <td>Sabse Bada Sukh</td>\n",
       "      <td>Sabse Bada Sukh</td>\n",
       "      <td>2018</td>\n",
       "      <td>NaN</td>\n",
       "      <td>Comedy,Drama</td>\n",
       "      <td>6.1</td>\n",
       "      <td>13.0</td>\n",
       "    </tr>\n",
       "    <tr>\n",
       "      <th>4</th>\n",
       "      <td>tt0100275</td>\n",
       "      <td>The Wandering Soap Opera</td>\n",
       "      <td>La Telenovela Errante</td>\n",
       "      <td>2017</td>\n",
       "      <td>80.0</td>\n",
       "      <td>Comedy,Drama,Fantasy</td>\n",
       "      <td>6.5</td>\n",
       "      <td>119.0</td>\n",
       "    </tr>\n",
       "  </tbody>\n",
       "</table>\n",
       "</div>"
      ],
      "text/plain": [
       "      tconst                    primary_title              original_title  \\\n",
       "0  tt0063540                        Sunghursh                   Sunghursh   \n",
       "1  tt0066787  One Day Before the Rainy Season             Ashad Ka Ek Din   \n",
       "2  tt0069049       The Other Side of the Wind  The Other Side of the Wind   \n",
       "3  tt0069204                  Sabse Bada Sukh             Sabse Bada Sukh   \n",
       "4  tt0100275         The Wandering Soap Opera       La Telenovela Errante   \n",
       "\n",
       "   start_year  runtime_minutes                genres  averagerating  numvotes  \n",
       "0        2013            175.0    Action,Crime,Drama            7.0      77.0  \n",
       "1        2019            114.0       Biography,Drama            7.2      43.0  \n",
       "2        2018            122.0                 Drama            6.9    4517.0  \n",
       "3        2018              NaN          Comedy,Drama            6.1      13.0  \n",
       "4        2017             80.0  Comedy,Drama,Fantasy            6.5     119.0  "
      ]
     },
     "execution_count": 7,
     "metadata": {},
     "output_type": "execute_result"
    }
   ],
   "source": [
    "movies_info_df.head()"
   ]
  },
  {
   "cell_type": "code",
   "execution_count": 8,
   "metadata": {},
   "outputs": [
    {
     "data": {
      "text/plain": [
       "(146144, 8)"
      ]
     },
     "execution_count": 8,
     "metadata": {},
     "output_type": "execute_result"
    }
   ],
   "source": [
    "movies_info_df.shape"
   ]
  },
  {
   "cell_type": "markdown",
   "metadata": {},
   "source": [
    "Based on the amount of `NaN` values, it seems like only about half of the movies listed in `titles_basics_df` have ratings available."
   ]
  },
  {
   "cell_type": "code",
   "execution_count": 9,
   "metadata": {},
   "outputs": [
    {
     "data": {
      "text/plain": [
       "tconst                 0\n",
       "primary_title          0\n",
       "original_title        21\n",
       "start_year             0\n",
       "runtime_minutes    31739\n",
       "genres              5408\n",
       "averagerating      72288\n",
       "numvotes           72288\n",
       "dtype: int64"
      ]
     },
     "execution_count": 9,
     "metadata": {},
     "output_type": "execute_result"
    }
   ],
   "source": [
    "movies_info_df.isna().sum()"
   ]
  },
  {
   "cell_type": "markdown",
   "metadata": {},
   "source": [
    "The <a href=\"https://www.imdb.com/interfaces/\">documentation from IMDB</a> says that `'primary_title'` is the most popular or commonly used title (`'original_title'` is different especially for foreign films) , so we drop `'original_title'`."
   ]
  },
  {
   "cell_type": "code",
   "execution_count": 10,
   "metadata": {},
   "outputs": [],
   "source": [
    "movies_info_df.drop('original_title', axis=1, inplace=True)"
   ]
  },
  {
   "cell_type": "code",
   "execution_count": 11,
   "metadata": {},
   "outputs": [
    {
     "data": {
      "text/html": [
       "<div>\n",
       "<style scoped>\n",
       "    .dataframe tbody tr th:only-of-type {\n",
       "        vertical-align: middle;\n",
       "    }\n",
       "\n",
       "    .dataframe tbody tr th {\n",
       "        vertical-align: top;\n",
       "    }\n",
       "\n",
       "    .dataframe thead th {\n",
       "        text-align: right;\n",
       "    }\n",
       "</style>\n",
       "<table border=\"1\" class=\"dataframe\">\n",
       "  <thead>\n",
       "    <tr style=\"text-align: right;\">\n",
       "      <th></th>\n",
       "      <th>tconst</th>\n",
       "      <th>primary_title</th>\n",
       "      <th>start_year</th>\n",
       "      <th>runtime_minutes</th>\n",
       "      <th>genres</th>\n",
       "      <th>averagerating</th>\n",
       "      <th>numvotes</th>\n",
       "    </tr>\n",
       "  </thead>\n",
       "  <tbody>\n",
       "    <tr>\n",
       "      <th>0</th>\n",
       "      <td>tt0063540</td>\n",
       "      <td>Sunghursh</td>\n",
       "      <td>2013</td>\n",
       "      <td>175.0</td>\n",
       "      <td>Action,Crime,Drama</td>\n",
       "      <td>7.0</td>\n",
       "      <td>77.0</td>\n",
       "    </tr>\n",
       "    <tr>\n",
       "      <th>1</th>\n",
       "      <td>tt0066787</td>\n",
       "      <td>One Day Before the Rainy Season</td>\n",
       "      <td>2019</td>\n",
       "      <td>114.0</td>\n",
       "      <td>Biography,Drama</td>\n",
       "      <td>7.2</td>\n",
       "      <td>43.0</td>\n",
       "    </tr>\n",
       "    <tr>\n",
       "      <th>2</th>\n",
       "      <td>tt0069049</td>\n",
       "      <td>The Other Side of the Wind</td>\n",
       "      <td>2018</td>\n",
       "      <td>122.0</td>\n",
       "      <td>Drama</td>\n",
       "      <td>6.9</td>\n",
       "      <td>4517.0</td>\n",
       "    </tr>\n",
       "    <tr>\n",
       "      <th>3</th>\n",
       "      <td>tt0069204</td>\n",
       "      <td>Sabse Bada Sukh</td>\n",
       "      <td>2018</td>\n",
       "      <td>NaN</td>\n",
       "      <td>Comedy,Drama</td>\n",
       "      <td>6.1</td>\n",
       "      <td>13.0</td>\n",
       "    </tr>\n",
       "    <tr>\n",
       "      <th>4</th>\n",
       "      <td>tt0100275</td>\n",
       "      <td>The Wandering Soap Opera</td>\n",
       "      <td>2017</td>\n",
       "      <td>80.0</td>\n",
       "      <td>Comedy,Drama,Fantasy</td>\n",
       "      <td>6.5</td>\n",
       "      <td>119.0</td>\n",
       "    </tr>\n",
       "  </tbody>\n",
       "</table>\n",
       "</div>"
      ],
      "text/plain": [
       "      tconst                    primary_title  start_year  runtime_minutes  \\\n",
       "0  tt0063540                        Sunghursh        2013            175.0   \n",
       "1  tt0066787  One Day Before the Rainy Season        2019            114.0   \n",
       "2  tt0069049       The Other Side of the Wind        2018            122.0   \n",
       "3  tt0069204                  Sabse Bada Sukh        2018              NaN   \n",
       "4  tt0100275         The Wandering Soap Opera        2017             80.0   \n",
       "\n",
       "                 genres  averagerating  numvotes  \n",
       "0    Action,Crime,Drama            7.0      77.0  \n",
       "1       Biography,Drama            7.2      43.0  \n",
       "2                 Drama            6.9    4517.0  \n",
       "3          Comedy,Drama            6.1      13.0  \n",
       "4  Comedy,Drama,Fantasy            6.5     119.0  "
      ]
     },
     "execution_count": 11,
     "metadata": {},
     "output_type": "execute_result"
    }
   ],
   "source": [
    "movies_info_df.head()"
   ]
  },
  {
   "cell_type": "markdown",
   "metadata": {},
   "source": [
    "Let's look at the release dates given by `'start_year'`:"
   ]
  },
  {
   "cell_type": "code",
   "execution_count": 12,
   "metadata": {
    "scrolled": true
   },
   "outputs": [
    {
     "data": {
      "text/plain": [
       "2017    17504\n",
       "2016    17272\n",
       "2018    16849\n",
       "2015    16243\n",
       "2014    15589\n",
       "2013    14709\n",
       "2012    13787\n",
       "2011    12900\n",
       "2010    11849\n",
       "2019     8379\n",
       "2020      937\n",
       "2021       83\n",
       "2022       32\n",
       "2023        5\n",
       "2024        2\n",
       "2027        1\n",
       "2026        1\n",
       "2025        1\n",
       "2115        1\n",
       "Name: start_year, dtype: int64"
      ]
     },
     "execution_count": 12,
     "metadata": {},
     "output_type": "execute_result"
    }
   ],
   "source": [
    "movies_info_df.start_year.value_counts()"
   ]
  },
  {
   "cell_type": "markdown",
   "metadata": {},
   "source": [
    "Some of the movies listed in this data are slated for release in the future. (One movie, titled \"100 Years\" has a release date of 2115!) We drop these movies as there is no available data for their gross box office revenue.\n",
    "\n",
    "We also drop data from 2020 and 2021 as these data are heavily affected by the covid-19 pandemic. We instead build our model using only pre-pandemic data."
   ]
  },
  {
   "cell_type": "code",
   "execution_count": 13,
   "metadata": {},
   "outputs": [
    {
     "data": {
      "text/plain": [
       "2017    17504\n",
       "2016    17272\n",
       "2018    16849\n",
       "2015    16243\n",
       "2014    15589\n",
       "2013    14709\n",
       "2012    13787\n",
       "2011    12900\n",
       "2010    11849\n",
       "2019     8379\n",
       "Name: start_year, dtype: int64"
      ]
     },
     "execution_count": 13,
     "metadata": {},
     "output_type": "execute_result"
    }
   ],
   "source": [
    "movies_info_df.drop(movies_info_df[movies_info_df['start_year'] > 2019].index, inplace=True)\n",
    "movies_info_df.start_year.value_counts()"
   ]
  },
  {
   "cell_type": "code",
   "execution_count": 14,
   "metadata": {},
   "outputs": [
    {
     "data": {
      "text/html": [
       "<div>\n",
       "<style scoped>\n",
       "    .dataframe tbody tr th:only-of-type {\n",
       "        vertical-align: middle;\n",
       "    }\n",
       "\n",
       "    .dataframe tbody tr th {\n",
       "        vertical-align: top;\n",
       "    }\n",
       "\n",
       "    .dataframe thead th {\n",
       "        text-align: right;\n",
       "    }\n",
       "</style>\n",
       "<table border=\"1\" class=\"dataframe\">\n",
       "  <thead>\n",
       "    <tr style=\"text-align: right;\">\n",
       "      <th></th>\n",
       "      <th>tconst</th>\n",
       "      <th>primary_title</th>\n",
       "      <th>start_year</th>\n",
       "      <th>runtime_minutes</th>\n",
       "      <th>genres</th>\n",
       "      <th>averagerating</th>\n",
       "      <th>numvotes</th>\n",
       "    </tr>\n",
       "  </thead>\n",
       "  <tbody>\n",
       "    <tr>\n",
       "      <th>0</th>\n",
       "      <td>tt0063540</td>\n",
       "      <td>Sunghursh</td>\n",
       "      <td>2013</td>\n",
       "      <td>175.0</td>\n",
       "      <td>Action,Crime,Drama</td>\n",
       "      <td>7.0</td>\n",
       "      <td>77.0</td>\n",
       "    </tr>\n",
       "    <tr>\n",
       "      <th>1</th>\n",
       "      <td>tt0066787</td>\n",
       "      <td>One Day Before the Rainy Season</td>\n",
       "      <td>2019</td>\n",
       "      <td>114.0</td>\n",
       "      <td>Biography,Drama</td>\n",
       "      <td>7.2</td>\n",
       "      <td>43.0</td>\n",
       "    </tr>\n",
       "    <tr>\n",
       "      <th>2</th>\n",
       "      <td>tt0069049</td>\n",
       "      <td>The Other Side of the Wind</td>\n",
       "      <td>2018</td>\n",
       "      <td>122.0</td>\n",
       "      <td>Drama</td>\n",
       "      <td>6.9</td>\n",
       "      <td>4517.0</td>\n",
       "    </tr>\n",
       "    <tr>\n",
       "      <th>3</th>\n",
       "      <td>tt0069204</td>\n",
       "      <td>Sabse Bada Sukh</td>\n",
       "      <td>2018</td>\n",
       "      <td>NaN</td>\n",
       "      <td>Comedy,Drama</td>\n",
       "      <td>6.1</td>\n",
       "      <td>13.0</td>\n",
       "    </tr>\n",
       "    <tr>\n",
       "      <th>4</th>\n",
       "      <td>tt0100275</td>\n",
       "      <td>The Wandering Soap Opera</td>\n",
       "      <td>2017</td>\n",
       "      <td>80.0</td>\n",
       "      <td>Comedy,Drama,Fantasy</td>\n",
       "      <td>6.5</td>\n",
       "      <td>119.0</td>\n",
       "    </tr>\n",
       "  </tbody>\n",
       "</table>\n",
       "</div>"
      ],
      "text/plain": [
       "      tconst                    primary_title  start_year  runtime_minutes  \\\n",
       "0  tt0063540                        Sunghursh        2013            175.0   \n",
       "1  tt0066787  One Day Before the Rainy Season        2019            114.0   \n",
       "2  tt0069049       The Other Side of the Wind        2018            122.0   \n",
       "3  tt0069204                  Sabse Bada Sukh        2018              NaN   \n",
       "4  tt0100275         The Wandering Soap Opera        2017             80.0   \n",
       "\n",
       "                 genres  averagerating  numvotes  \n",
       "0    Action,Crime,Drama            7.0      77.0  \n",
       "1       Biography,Drama            7.2      43.0  \n",
       "2                 Drama            6.9    4517.0  \n",
       "3          Comedy,Drama            6.1      13.0  \n",
       "4  Comedy,Drama,Fantasy            6.5     119.0  "
      ]
     },
     "execution_count": 14,
     "metadata": {},
     "output_type": "execute_result"
    }
   ],
   "source": [
    "movies_info_df.head()"
   ]
  },
  {
   "cell_type": "code",
   "execution_count": 15,
   "metadata": {},
   "outputs": [
    {
     "name": "stdout",
     "output_type": "stream",
     "text": [
      "<class 'pandas.core.frame.DataFrame'>\n",
      "Int64Index: 145081 entries, 0 to 146143\n",
      "Data columns (total 7 columns):\n",
      " #   Column           Non-Null Count   Dtype  \n",
      "---  ------           --------------   -----  \n",
      " 0   tconst           145081 non-null  object \n",
      " 1   primary_title    145081 non-null  object \n",
      " 2   start_year       145081 non-null  int64  \n",
      " 3   runtime_minutes  114316 non-null  float64\n",
      " 4   genres           139722 non-null  object \n",
      " 5   averagerating    73856 non-null   float64\n",
      " 6   numvotes         73856 non-null   float64\n",
      "dtypes: float64(3), int64(1), object(3)\n",
      "memory usage: 8.9+ MB\n"
     ]
    }
   ],
   "source": [
    "movies_info_df.info()"
   ]
  },
  {
   "cell_type": "code",
   "execution_count": 16,
   "metadata": {
    "scrolled": true
   },
   "outputs": [
    {
     "data": {
      "text/plain": [
       "tconst                 0\n",
       "primary_title          0\n",
       "start_year             0\n",
       "runtime_minutes    30765\n",
       "genres              5359\n",
       "averagerating      71225\n",
       "numvotes           71225\n",
       "dtype: int64"
      ]
     },
     "execution_count": 16,
     "metadata": {},
     "output_type": "execute_result"
    }
   ],
   "source": [
    "movies_info_df.isna().sum()"
   ]
  },
  {
   "cell_type": "markdown",
   "metadata": {},
   "source": [
    "## Analyzing genres based on top movies\n",
    "**Use the top movies found based on ROI, budget, and revenue, for movies released between 2010-2019 (inclusive).**"
   ]
  },
  {
   "cell_type": "markdown",
   "metadata": {},
   "source": [
    "Import `movie_budgets.csv`, clean/add parameters, and filter for top movies"
   ]
  },
  {
   "cell_type": "code",
   "execution_count": 21,
   "metadata": {
    "scrolled": true
   },
   "outputs": [
    {
     "data": {
      "text/html": [
       "<div>\n",
       "<style scoped>\n",
       "    .dataframe tbody tr th:only-of-type {\n",
       "        vertical-align: middle;\n",
       "    }\n",
       "\n",
       "    .dataframe tbody tr th {\n",
       "        vertical-align: top;\n",
       "    }\n",
       "\n",
       "    .dataframe thead th {\n",
       "        text-align: right;\n",
       "    }\n",
       "</style>\n",
       "<table border=\"1\" class=\"dataframe\">\n",
       "  <thead>\n",
       "    <tr style=\"text-align: right;\">\n",
       "      <th></th>\n",
       "      <th>id</th>\n",
       "      <th>release_date</th>\n",
       "      <th>movie</th>\n",
       "      <th>production_budget</th>\n",
       "      <th>domestic_gross</th>\n",
       "      <th>worldwide_gross</th>\n",
       "    </tr>\n",
       "  </thead>\n",
       "  <tbody>\n",
       "    <tr>\n",
       "      <th>0</th>\n",
       "      <td>1</td>\n",
       "      <td>Dec 18, 2009</td>\n",
       "      <td>Avatar</td>\n",
       "      <td>$425,000,000</td>\n",
       "      <td>$760,507,625</td>\n",
       "      <td>$2,776,345,279</td>\n",
       "    </tr>\n",
       "    <tr>\n",
       "      <th>1</th>\n",
       "      <td>2</td>\n",
       "      <td>May 20, 2011</td>\n",
       "      <td>Pirates of the Caribbean: On Stranger Tides</td>\n",
       "      <td>$410,600,000</td>\n",
       "      <td>$241,063,875</td>\n",
       "      <td>$1,045,663,875</td>\n",
       "    </tr>\n",
       "    <tr>\n",
       "      <th>2</th>\n",
       "      <td>3</td>\n",
       "      <td>Jun 7, 2019</td>\n",
       "      <td>Dark Phoenix</td>\n",
       "      <td>$350,000,000</td>\n",
       "      <td>$42,762,350</td>\n",
       "      <td>$149,762,350</td>\n",
       "    </tr>\n",
       "    <tr>\n",
       "      <th>3</th>\n",
       "      <td>4</td>\n",
       "      <td>May 1, 2015</td>\n",
       "      <td>Avengers: Age of Ultron</td>\n",
       "      <td>$330,600,000</td>\n",
       "      <td>$459,005,868</td>\n",
       "      <td>$1,403,013,963</td>\n",
       "    </tr>\n",
       "    <tr>\n",
       "      <th>4</th>\n",
       "      <td>5</td>\n",
       "      <td>Dec 15, 2017</td>\n",
       "      <td>Star Wars Ep. VIII: The Last Jedi</td>\n",
       "      <td>$317,000,000</td>\n",
       "      <td>$620,181,382</td>\n",
       "      <td>$1,316,721,747</td>\n",
       "    </tr>\n",
       "  </tbody>\n",
       "</table>\n",
       "</div>"
      ],
      "text/plain": [
       "   id  release_date                                        movie  \\\n",
       "0   1  Dec 18, 2009                                       Avatar   \n",
       "1   2  May 20, 2011  Pirates of the Caribbean: On Stranger Tides   \n",
       "2   3   Jun 7, 2019                                 Dark Phoenix   \n",
       "3   4   May 1, 2015                      Avengers: Age of Ultron   \n",
       "4   5  Dec 15, 2017            Star Wars Ep. VIII: The Last Jedi   \n",
       "\n",
       "  production_budget domestic_gross worldwide_gross  \n",
       "0      $425,000,000   $760,507,625  $2,776,345,279  \n",
       "1      $410,600,000   $241,063,875  $1,045,663,875  \n",
       "2      $350,000,000    $42,762,350    $149,762,350  \n",
       "3      $330,600,000   $459,005,868  $1,403,013,963  \n",
       "4      $317,000,000   $620,181,382  $1,316,721,747  "
      ]
     },
     "execution_count": 21,
     "metadata": {},
     "output_type": "execute_result"
    }
   ],
   "source": []
  },
  {
   "cell_type": "markdown",
   "metadata": {},
   "source": [
    "Drop rows from `movies_info_df` where `'genres'` is `NaN`, 5359 rows out of over 14 thousand. "
   ]
  },
  {
   "cell_type": "code",
   "execution_count": 74,
   "metadata": {},
   "outputs": [],
   "source": [
    "movies_info_df.dropna(subset=['genres'], inplace=True)"
   ]
  },
  {
   "cell_type": "code",
   "execution_count": 75,
   "metadata": {
    "scrolled": true
   },
   "outputs": [
    {
     "name": "stdout",
     "output_type": "stream",
     "text": [
      "<class 'pandas.core.frame.DataFrame'>\n",
      "Int64Index: 139722 entries, 0 to 146143\n",
      "Data columns (total 8 columns):\n",
      " #   Column           Non-Null Count   Dtype  \n",
      "---  ------           --------------   -----  \n",
      " 0   tconst           139722 non-null  object \n",
      " 1   primary_title    139722 non-null  object \n",
      " 2   start_year       139722 non-null  int64  \n",
      " 3   runtime_minutes  112145 non-null  float64\n",
      " 4   genres           139722 non-null  object \n",
      " 5   averagerating    73052 non-null   float64\n",
      " 6   numvotes         73052 non-null   float64\n",
      " 7   top_movie        139722 non-null  int64  \n",
      "dtypes: float64(3), int64(2), object(3)\n",
      "memory usage: 9.6+ MB\n"
     ]
    }
   ],
   "source": [
    "movies_info_df.info()"
   ]
  },
  {
   "cell_type": "markdown",
   "metadata": {},
   "source": [
    "Add a `'top_movie'` column in which top movies are identified as `1` and all others are `0`."
   ]
  },
  {
   "cell_type": "code",
   "execution_count": 76,
   "metadata": {},
   "outputs": [
    {
     "data": {
      "text/html": [
       "<div>\n",
       "<style scoped>\n",
       "    .dataframe tbody tr th:only-of-type {\n",
       "        vertical-align: middle;\n",
       "    }\n",
       "\n",
       "    .dataframe tbody tr th {\n",
       "        vertical-align: top;\n",
       "    }\n",
       "\n",
       "    .dataframe thead th {\n",
       "        text-align: right;\n",
       "    }\n",
       "</style>\n",
       "<table border=\"1\" class=\"dataframe\">\n",
       "  <thead>\n",
       "    <tr style=\"text-align: right;\">\n",
       "      <th></th>\n",
       "      <th>tconst</th>\n",
       "      <th>primary_title</th>\n",
       "      <th>start_year</th>\n",
       "      <th>runtime_minutes</th>\n",
       "      <th>genres</th>\n",
       "      <th>averagerating</th>\n",
       "      <th>numvotes</th>\n",
       "      <th>top_movie</th>\n",
       "    </tr>\n",
       "  </thead>\n",
       "  <tbody>\n",
       "    <tr>\n",
       "      <th>0</th>\n",
       "      <td>tt0063540</td>\n",
       "      <td>Sunghursh</td>\n",
       "      <td>2013</td>\n",
       "      <td>175.0</td>\n",
       "      <td>Action,Crime,Drama</td>\n",
       "      <td>7.0</td>\n",
       "      <td>77.0</td>\n",
       "      <td>0</td>\n",
       "    </tr>\n",
       "    <tr>\n",
       "      <th>1</th>\n",
       "      <td>tt0066787</td>\n",
       "      <td>One Day Before the Rainy Season</td>\n",
       "      <td>2019</td>\n",
       "      <td>114.0</td>\n",
       "      <td>Biography,Drama</td>\n",
       "      <td>7.2</td>\n",
       "      <td>43.0</td>\n",
       "      <td>0</td>\n",
       "    </tr>\n",
       "    <tr>\n",
       "      <th>2</th>\n",
       "      <td>tt0069049</td>\n",
       "      <td>The Other Side of the Wind</td>\n",
       "      <td>2018</td>\n",
       "      <td>122.0</td>\n",
       "      <td>Drama</td>\n",
       "      <td>6.9</td>\n",
       "      <td>4517.0</td>\n",
       "      <td>0</td>\n",
       "    </tr>\n",
       "    <tr>\n",
       "      <th>3</th>\n",
       "      <td>tt0069204</td>\n",
       "      <td>Sabse Bada Sukh</td>\n",
       "      <td>2018</td>\n",
       "      <td>NaN</td>\n",
       "      <td>Comedy,Drama</td>\n",
       "      <td>6.1</td>\n",
       "      <td>13.0</td>\n",
       "      <td>0</td>\n",
       "    </tr>\n",
       "    <tr>\n",
       "      <th>4</th>\n",
       "      <td>tt0100275</td>\n",
       "      <td>The Wandering Soap Opera</td>\n",
       "      <td>2017</td>\n",
       "      <td>80.0</td>\n",
       "      <td>Comedy,Drama,Fantasy</td>\n",
       "      <td>6.5</td>\n",
       "      <td>119.0</td>\n",
       "      <td>0</td>\n",
       "    </tr>\n",
       "  </tbody>\n",
       "</table>\n",
       "</div>"
      ],
      "text/plain": [
       "      tconst                    primary_title  start_year  runtime_minutes  \\\n",
       "0  tt0063540                        Sunghursh        2013            175.0   \n",
       "1  tt0066787  One Day Before the Rainy Season        2019            114.0   \n",
       "2  tt0069049       The Other Side of the Wind        2018            122.0   \n",
       "3  tt0069204                  Sabse Bada Sukh        2018              NaN   \n",
       "4  tt0100275         The Wandering Soap Opera        2017             80.0   \n",
       "\n",
       "                 genres  averagerating  numvotes  top_movie  \n",
       "0    Action,Crime,Drama            7.0      77.0          0  \n",
       "1       Biography,Drama            7.2      43.0          0  \n",
       "2                 Drama            6.9    4517.0          0  \n",
       "3          Comedy,Drama            6.1      13.0          0  \n",
       "4  Comedy,Drama,Fantasy            6.5     119.0          0  "
      ]
     },
     "execution_count": 76,
     "metadata": {},
     "output_type": "execute_result"
    }
   ],
   "source": [
    "movies_info_df['top_movie'] = 0\n",
    "movies_info_df.head()"
   ]
  },
  {
   "cell_type": "markdown",
   "metadata": {},
   "source": [
    "Use the `top_movies_list` to assign values of `1` to top movies in `movies_info_df`."
   ]
  },
  {
   "cell_type": "code",
   "execution_count": 77,
   "metadata": {},
   "outputs": [],
   "source": [
    "movies_info_df.loc[movies_info_df['primary_title'].isin(top_movies_list), 'top_movie'] = 1"
   ]
  },
  {
   "cell_type": "code",
   "execution_count": 78,
   "metadata": {},
   "outputs": [
    {
     "data": {
      "text/plain": [
       "0    139479\n",
       "1       243\n",
       "Name: top_movie, dtype: int64"
      ]
     },
     "execution_count": 78,
     "metadata": {},
     "output_type": "execute_result"
    }
   ],
   "source": [
    "movies_info_df['top_movie'].value_counts()"
   ]
  },
  {
   "cell_type": "code",
   "execution_count": 79,
   "metadata": {
    "scrolled": true
   },
   "outputs": [
    {
     "data": {
      "text/plain": [
       "The Gift                13\n",
       "Mama                     7\n",
       "Split                    6\n",
       "Neighbors                5\n",
       "Lights Out               5\n",
       "The Visit                4\n",
       "The Call                 4\n",
       "Addicted                 4\n",
       "Glass                    4\n",
       "Lucy                     3\n",
       "Beauty and the Beast     3\n",
       "Lion                     3\n",
       "Race                     3\n",
       "As Above, So Below       3\n",
       "Gifted                   3\n",
       "Us                       3\n",
       "A Quiet Place            2\n",
       "The Intruder             2\n",
       "No Escape                2\n",
       "Brooklyn                 2\n",
       "50/50                    2\n",
       "Project X                2\n",
       "The Boy                  2\n",
       "Daddy's Home             2\n",
       "The Descendants          2\n",
       "Name: primary_title, dtype: int64"
      ]
     },
     "execution_count": 79,
     "metadata": {},
     "output_type": "execute_result"
    }
   ],
   "source": [
    "movies_info_df.loc[movies_info_df['primary_title'].isin(top_movies_list)]['primary_title'].value_counts()[:25]"
   ]
  },
  {
   "cell_type": "code",
   "execution_count": 82,
   "metadata": {},
   "outputs": [
    {
     "data": {
      "text/html": [
       "<div>\n",
       "<style scoped>\n",
       "    .dataframe tbody tr th:only-of-type {\n",
       "        vertical-align: middle;\n",
       "    }\n",
       "\n",
       "    .dataframe tbody tr th {\n",
       "        vertical-align: top;\n",
       "    }\n",
       "\n",
       "    .dataframe thead th {\n",
       "        text-align: right;\n",
       "    }\n",
       "</style>\n",
       "<table border=\"1\" class=\"dataframe\">\n",
       "  <thead>\n",
       "    <tr style=\"text-align: right;\">\n",
       "      <th></th>\n",
       "      <th>tconst</th>\n",
       "      <th>primary_title</th>\n",
       "      <th>start_year</th>\n",
       "      <th>runtime_minutes</th>\n",
       "      <th>genres</th>\n",
       "      <th>averagerating</th>\n",
       "      <th>numvotes</th>\n",
       "      <th>top_movie</th>\n",
       "    </tr>\n",
       "  </thead>\n",
       "  <tbody>\n",
       "    <tr>\n",
       "      <th>35858</th>\n",
       "      <td>tt2316801</td>\n",
       "      <td>Beauty and the Beast</td>\n",
       "      <td>2014</td>\n",
       "      <td>112.0</td>\n",
       "      <td>Drama,Fantasy,Romance</td>\n",
       "      <td>6.4</td>\n",
       "      <td>18100.0</td>\n",
       "      <td>1</td>\n",
       "    </tr>\n",
       "    <tr>\n",
       "      <th>46583</th>\n",
       "      <td>tt2771200</td>\n",
       "      <td>Beauty and the Beast</td>\n",
       "      <td>2017</td>\n",
       "      <td>129.0</td>\n",
       "      <td>Family,Fantasy,Musical</td>\n",
       "      <td>7.2</td>\n",
       "      <td>238325.0</td>\n",
       "      <td>1</td>\n",
       "    </tr>\n",
       "    <tr>\n",
       "      <th>140992</th>\n",
       "      <td>tt9173998</td>\n",
       "      <td>Beauty and the Beast</td>\n",
       "      <td>2018</td>\n",
       "      <td>60.0</td>\n",
       "      <td>Family,Fantasy,Musical</td>\n",
       "      <td>NaN</td>\n",
       "      <td>NaN</td>\n",
       "      <td>1</td>\n",
       "    </tr>\n",
       "  </tbody>\n",
       "</table>\n",
       "</div>"
      ],
      "text/plain": [
       "           tconst         primary_title  start_year  runtime_minutes  \\\n",
       "35858   tt2316801  Beauty and the Beast        2014            112.0   \n",
       "46583   tt2771200  Beauty and the Beast        2017            129.0   \n",
       "140992  tt9173998  Beauty and the Beast        2018             60.0   \n",
       "\n",
       "                        genres  averagerating  numvotes  top_movie  \n",
       "35858    Drama,Fantasy,Romance            6.4   18100.0          1  \n",
       "46583   Family,Fantasy,Musical            7.2  238325.0          1  \n",
       "140992  Family,Fantasy,Musical            NaN       NaN          1  "
      ]
     },
     "execution_count": 82,
     "metadata": {},
     "output_type": "execute_result"
    }
   ],
   "source": [
    "movies_info_df[movies_info_df['primary_title'] == 'Beauty and the Beast']"
   ]
  },
  {
   "cell_type": "code",
   "execution_count": null,
   "metadata": {},
   "outputs": [],
   "source": []
  },
  {
   "cell_type": "code",
   "execution_count": null,
   "metadata": {},
   "outputs": [],
   "source": []
  },
  {
   "cell_type": "code",
   "execution_count": 34,
   "metadata": {},
   "outputs": [
    {
     "data": {
      "text/html": [
       "<div>\n",
       "<style scoped>\n",
       "    .dataframe tbody tr th:only-of-type {\n",
       "        vertical-align: middle;\n",
       "    }\n",
       "\n",
       "    .dataframe tbody tr th {\n",
       "        vertical-align: top;\n",
       "    }\n",
       "\n",
       "    .dataframe thead th {\n",
       "        text-align: right;\n",
       "    }\n",
       "</style>\n",
       "<table border=\"1\" class=\"dataframe\">\n",
       "  <thead>\n",
       "    <tr style=\"text-align: right;\">\n",
       "      <th></th>\n",
       "      <th>tconst</th>\n",
       "      <th>primary_title</th>\n",
       "      <th>start_year</th>\n",
       "      <th>runtime_minutes</th>\n",
       "      <th>genres</th>\n",
       "      <th>averagerating</th>\n",
       "      <th>numvotes</th>\n",
       "      <th>top_movie</th>\n",
       "    </tr>\n",
       "  </thead>\n",
       "  <tbody>\n",
       "    <tr>\n",
       "      <th>60</th>\n",
       "      <td>tt0369610</td>\n",
       "      <td>Jurassic World</td>\n",
       "      <td>2015</td>\n",
       "      <td>124.0</td>\n",
       "      <td>Action,Adventure,Sci-Fi</td>\n",
       "      <td>7.0</td>\n",
       "      <td>539338.0</td>\n",
       "      <td>0</td>\n",
       "    </tr>\n",
       "    <tr>\n",
       "      <th>266</th>\n",
       "      <td>tt0790636</td>\n",
       "      <td>Dallas Buyers Club</td>\n",
       "      <td>2013</td>\n",
       "      <td>117.0</td>\n",
       "      <td>Biography,Drama</td>\n",
       "      <td>8.0</td>\n",
       "      <td>402462.0</td>\n",
       "      <td>0</td>\n",
       "    </tr>\n",
       "    <tr>\n",
       "      <th>356</th>\n",
       "      <td>tt0848228</td>\n",
       "      <td>The Avengers</td>\n",
       "      <td>2012</td>\n",
       "      <td>143.0</td>\n",
       "      <td>Action,Adventure,Sci-Fi</td>\n",
       "      <td>8.1</td>\n",
       "      <td>1183655.0</td>\n",
       "      <td>0</td>\n",
       "    </tr>\n",
       "    <tr>\n",
       "      <th>476</th>\n",
       "      <td>tt0947798</td>\n",
       "      <td>Black Swan</td>\n",
       "      <td>2010</td>\n",
       "      <td>108.0</td>\n",
       "      <td>Drama,Thriller</td>\n",
       "      <td>8.0</td>\n",
       "      <td>648854.0</td>\n",
       "      <td>0</td>\n",
       "    </tr>\n",
       "    <tr>\n",
       "      <th>497</th>\n",
       "      <td>tt0964517</td>\n",
       "      <td>The Fighter</td>\n",
       "      <td>2010</td>\n",
       "      <td>116.0</td>\n",
       "      <td>Biography,Drama,Sport</td>\n",
       "      <td>7.8</td>\n",
       "      <td>316539.0</td>\n",
       "      <td>0</td>\n",
       "    </tr>\n",
       "  </tbody>\n",
       "</table>\n",
       "</div>"
      ],
      "text/plain": [
       "        tconst       primary_title  start_year  runtime_minutes  \\\n",
       "60   tt0369610      Jurassic World        2015            124.0   \n",
       "266  tt0790636  Dallas Buyers Club        2013            117.0   \n",
       "356  tt0848228        The Avengers        2012            143.0   \n",
       "476  tt0947798          Black Swan        2010            108.0   \n",
       "497  tt0964517         The Fighter        2010            116.0   \n",
       "\n",
       "                      genres  averagerating   numvotes  top_movie  \n",
       "60   Action,Adventure,Sci-Fi            7.0   539338.0          0  \n",
       "266          Biography,Drama            8.0   402462.0          0  \n",
       "356  Action,Adventure,Sci-Fi            8.1  1183655.0          0  \n",
       "476           Drama,Thriller            8.0   648854.0          0  \n",
       "497    Biography,Drama,Sport            7.8   316539.0          0  "
      ]
     },
     "execution_count": 34,
     "metadata": {},
     "output_type": "execute_result"
    }
   ],
   "source": [
    "top_movies_df = movies_info_df[movies_info_df['primary_title'].isin(top_movies_list)]\n",
    "top_movies_df.head()"
   ]
  },
  {
   "cell_type": "code",
   "execution_count": 32,
   "metadata": {},
   "outputs": [
    {
     "name": "stdout",
     "output_type": "stream",
     "text": [
      "<class 'pandas.core.frame.DataFrame'>\n",
      "Int64Index: 302 entries, 60 to 145156\n",
      "Data columns (total 7 columns):\n",
      " #   Column           Non-Null Count  Dtype  \n",
      "---  ------           --------------  -----  \n",
      " 0   tconst           302 non-null    object \n",
      " 1   primary_title    302 non-null    object \n",
      " 2   start_year       302 non-null    int64  \n",
      " 3   runtime_minutes  273 non-null    float64\n",
      " 4   genres           297 non-null    object \n",
      " 5   averagerating    248 non-null    float64\n",
      " 6   numvotes         248 non-null    float64\n",
      "dtypes: float64(3), int64(1), object(3)\n",
      "memory usage: 18.9+ KB\n"
     ]
    }
   ],
   "source": [
    "top_movies_df.info()"
   ]
  },
  {
   "cell_type": "markdown",
   "metadata": {},
   "source": [
    "Since we're trying to find the distribution of movie genres, we drop all rows that have `NaN` values in `'genres'`."
   ]
  },
  {
   "cell_type": "code",
   "execution_count": 33,
   "metadata": {},
   "outputs": [],
   "source": [
    "top_movies_df = top_movies_df.dropna(subset=['genres'])\n",
    "movies_info_df = movies_info_df.dropna(subset=['genres'])"
   ]
  },
  {
   "cell_type": "code",
   "execution_count": 34,
   "metadata": {},
   "outputs": [
    {
     "name": "stdout",
     "output_type": "stream",
     "text": [
      "<class 'pandas.core.frame.DataFrame'>\n",
      "Int64Index: 297 entries, 60 to 145156\n",
      "Data columns (total 7 columns):\n",
      " #   Column           Non-Null Count  Dtype  \n",
      "---  ------           --------------  -----  \n",
      " 0   tconst           297 non-null    object \n",
      " 1   primary_title    297 non-null    object \n",
      " 2   start_year       297 non-null    int64  \n",
      " 3   runtime_minutes  272 non-null    float64\n",
      " 4   genres           297 non-null    object \n",
      " 5   averagerating    248 non-null    float64\n",
      " 6   numvotes         248 non-null    float64\n",
      "dtypes: float64(3), int64(1), object(3)\n",
      "memory usage: 18.6+ KB\n"
     ]
    }
   ],
   "source": [
    "top_movies_df.info()"
   ]
  },
  {
   "cell_type": "markdown",
   "metadata": {},
   "source": [
    "## Visualizing top genres\n",
    "\n",
    "We will examine the distribution of the top movie genres, then compare to the general population of movies."
   ]
  },
  {
   "cell_type": "code",
   "execution_count": 35,
   "metadata": {},
   "outputs": [],
   "source": [
    "import matplotlib.pyplot as plt"
   ]
  },
  {
   "cell_type": "code",
   "execution_count": 36,
   "metadata": {
    "scrolled": true
   },
   "outputs": [
    {
     "data": {
      "text/plain": [
       "Drama                         34\n",
       "Documentary                   17\n",
       "Horror,Mystery,Thriller       16\n",
       "Comedy,Drama,Romance          11\n",
       "Action,Adventure,Sci-Fi       10\n",
       "                              ..\n",
       "Musical                        1\n",
       "Drama,Horror,Sci-Fi            1\n",
       "Comedy,Music,Romance           1\n",
       "Adventure,Biography,Comedy     1\n",
       "Biography,Crime,Drama          1\n",
       "Name: genres, Length: 110, dtype: int64"
      ]
     },
     "execution_count": 36,
     "metadata": {},
     "output_type": "execute_result"
    }
   ],
   "source": [
    "top_movies_df['genres'].value_counts()"
   ]
  },
  {
   "cell_type": "code",
   "execution_count": 37,
   "metadata": {
    "scrolled": true
   },
   "outputs": [
    {
     "data": {
      "text/plain": [
       "['Action', 'Adventure', 'Sci-Fi']"
      ]
     },
     "execution_count": 37,
     "metadata": {},
     "output_type": "execute_result"
    }
   ],
   "source": [
    "list(top_movies_df['genres'].values)[0].split(\",\")"
   ]
  },
  {
   "cell_type": "code",
   "execution_count": 38,
   "metadata": {},
   "outputs": [
    {
     "name": "stderr",
     "output_type": "stream",
     "text": [
      "<ipython-input-38-fee0e7641a41>:1: SettingWithCopyWarning: \n",
      "A value is trying to be set on a copy of a slice from a DataFrame.\n",
      "Try using .loc[row_indexer,col_indexer] = value instead\n",
      "\n",
      "See the caveats in the documentation: https://pandas.pydata.org/pandas-docs/stable/user_guide/indexing.html#returning-a-view-versus-a-copy\n",
      "  top_movies_df['genres'] = top_movies_df['genres'].map(lambda x: x.split(\",\"))\n"
     ]
    },
    {
     "data": {
      "text/html": [
       "<div>\n",
       "<style scoped>\n",
       "    .dataframe tbody tr th:only-of-type {\n",
       "        vertical-align: middle;\n",
       "    }\n",
       "\n",
       "    .dataframe tbody tr th {\n",
       "        vertical-align: top;\n",
       "    }\n",
       "\n",
       "    .dataframe thead th {\n",
       "        text-align: right;\n",
       "    }\n",
       "</style>\n",
       "<table border=\"1\" class=\"dataframe\">\n",
       "  <thead>\n",
       "    <tr style=\"text-align: right;\">\n",
       "      <th></th>\n",
       "      <th>tconst</th>\n",
       "      <th>primary_title</th>\n",
       "      <th>start_year</th>\n",
       "      <th>runtime_minutes</th>\n",
       "      <th>genres</th>\n",
       "      <th>averagerating</th>\n",
       "      <th>numvotes</th>\n",
       "    </tr>\n",
       "  </thead>\n",
       "  <tbody>\n",
       "    <tr>\n",
       "      <th>60</th>\n",
       "      <td>tt0369610</td>\n",
       "      <td>Jurassic World</td>\n",
       "      <td>2015</td>\n",
       "      <td>124.0</td>\n",
       "      <td>[Action, Adventure, Sci-Fi]</td>\n",
       "      <td>7.0</td>\n",
       "      <td>539338.0</td>\n",
       "    </tr>\n",
       "    <tr>\n",
       "      <th>266</th>\n",
       "      <td>tt0790636</td>\n",
       "      <td>Dallas Buyers Club</td>\n",
       "      <td>2013</td>\n",
       "      <td>117.0</td>\n",
       "      <td>[Biography, Drama]</td>\n",
       "      <td>8.0</td>\n",
       "      <td>402462.0</td>\n",
       "    </tr>\n",
       "    <tr>\n",
       "      <th>356</th>\n",
       "      <td>tt0848228</td>\n",
       "      <td>The Avengers</td>\n",
       "      <td>2012</td>\n",
       "      <td>143.0</td>\n",
       "      <td>[Action, Adventure, Sci-Fi]</td>\n",
       "      <td>8.1</td>\n",
       "      <td>1183655.0</td>\n",
       "    </tr>\n",
       "    <tr>\n",
       "      <th>476</th>\n",
       "      <td>tt0947798</td>\n",
       "      <td>Black Swan</td>\n",
       "      <td>2010</td>\n",
       "      <td>108.0</td>\n",
       "      <td>[Drama, Thriller]</td>\n",
       "      <td>8.0</td>\n",
       "      <td>648854.0</td>\n",
       "    </tr>\n",
       "    <tr>\n",
       "      <th>497</th>\n",
       "      <td>tt0964517</td>\n",
       "      <td>The Fighter</td>\n",
       "      <td>2010</td>\n",
       "      <td>116.0</td>\n",
       "      <td>[Biography, Drama, Sport]</td>\n",
       "      <td>7.8</td>\n",
       "      <td>316539.0</td>\n",
       "    </tr>\n",
       "    <tr>\n",
       "      <th>...</th>\n",
       "      <td>...</td>\n",
       "      <td>...</td>\n",
       "      <td>...</td>\n",
       "      <td>...</td>\n",
       "      <td>...</td>\n",
       "      <td>...</td>\n",
       "      <td>...</td>\n",
       "    </tr>\n",
       "    <tr>\n",
       "      <th>143730</th>\n",
       "      <td>tt9574324</td>\n",
       "      <td>Chicago</td>\n",
       "      <td>2019</td>\n",
       "      <td>NaN</td>\n",
       "      <td>[Comedy, Crime, Drama]</td>\n",
       "      <td>NaN</td>\n",
       "      <td>NaN</td>\n",
       "    </tr>\n",
       "    <tr>\n",
       "      <th>143734</th>\n",
       "      <td>tt9574444</td>\n",
       "      <td>The Gift</td>\n",
       "      <td>2019</td>\n",
       "      <td>86.0</td>\n",
       "      <td>[Romance]</td>\n",
       "      <td>NaN</td>\n",
       "      <td>NaN</td>\n",
       "    </tr>\n",
       "    <tr>\n",
       "      <th>144696</th>\n",
       "      <td>tt9698912</td>\n",
       "      <td>Aladdin</td>\n",
       "      <td>2017</td>\n",
       "      <td>NaN</td>\n",
       "      <td>[Fantasy]</td>\n",
       "      <td>NaN</td>\n",
       "      <td>NaN</td>\n",
       "    </tr>\n",
       "    <tr>\n",
       "      <th>144711</th>\n",
       "      <td>tt9702034</td>\n",
       "      <td>Neighbors</td>\n",
       "      <td>2012</td>\n",
       "      <td>NaN</td>\n",
       "      <td>[Drama]</td>\n",
       "      <td>NaN</td>\n",
       "      <td>NaN</td>\n",
       "    </tr>\n",
       "    <tr>\n",
       "      <th>145156</th>\n",
       "      <td>tt9778132</td>\n",
       "      <td>The Strangers</td>\n",
       "      <td>2018</td>\n",
       "      <td>81.0</td>\n",
       "      <td>[Documentary, Family]</td>\n",
       "      <td>NaN</td>\n",
       "      <td>NaN</td>\n",
       "    </tr>\n",
       "  </tbody>\n",
       "</table>\n",
       "<p>297 rows × 7 columns</p>\n",
       "</div>"
      ],
      "text/plain": [
       "           tconst       primary_title  start_year  runtime_minutes  \\\n",
       "60      tt0369610      Jurassic World        2015            124.0   \n",
       "266     tt0790636  Dallas Buyers Club        2013            117.0   \n",
       "356     tt0848228        The Avengers        2012            143.0   \n",
       "476     tt0947798          Black Swan        2010            108.0   \n",
       "497     tt0964517         The Fighter        2010            116.0   \n",
       "...           ...                 ...         ...              ...   \n",
       "143730  tt9574324             Chicago        2019              NaN   \n",
       "143734  tt9574444            The Gift        2019             86.0   \n",
       "144696  tt9698912             Aladdin        2017              NaN   \n",
       "144711  tt9702034           Neighbors        2012              NaN   \n",
       "145156  tt9778132       The Strangers        2018             81.0   \n",
       "\n",
       "                             genres  averagerating   numvotes  \n",
       "60      [Action, Adventure, Sci-Fi]            7.0   539338.0  \n",
       "266              [Biography, Drama]            8.0   402462.0  \n",
       "356     [Action, Adventure, Sci-Fi]            8.1  1183655.0  \n",
       "476               [Drama, Thriller]            8.0   648854.0  \n",
       "497       [Biography, Drama, Sport]            7.8   316539.0  \n",
       "...                             ...            ...        ...  \n",
       "143730       [Comedy, Crime, Drama]            NaN        NaN  \n",
       "143734                    [Romance]            NaN        NaN  \n",
       "144696                    [Fantasy]            NaN        NaN  \n",
       "144711                      [Drama]            NaN        NaN  \n",
       "145156        [Documentary, Family]            NaN        NaN  \n",
       "\n",
       "[297 rows x 7 columns]"
      ]
     },
     "execution_count": 38,
     "metadata": {},
     "output_type": "execute_result"
    }
   ],
   "source": [
    "top_movies_df['genres'] = top_movies_df['genres'].map(lambda x: x.split(\",\"))\n",
    "top_movies_df"
   ]
  },
  {
   "cell_type": "code",
   "execution_count": 39,
   "metadata": {},
   "outputs": [
    {
     "data": {
      "text/plain": [
       "0            Action,Crime,Drama\n",
       "1               Biography,Drama\n",
       "2                         Drama\n",
       "3                  Comedy,Drama\n",
       "4          Comedy,Drama,Fantasy\n",
       "                  ...          \n",
       "146138    Adventure,History,War\n",
       "146139                    Drama\n",
       "146140              Documentary\n",
       "146141                   Comedy\n",
       "146143              Documentary\n",
       "Name: genres, Length: 139722, dtype: object"
      ]
     },
     "execution_count": 39,
     "metadata": {},
     "output_type": "execute_result"
    }
   ],
   "source": [
    "movies_info_df['genres']"
   ]
  },
  {
   "cell_type": "code",
   "execution_count": 40,
   "metadata": {
    "scrolled": true
   },
   "outputs": [
    {
     "name": "stderr",
     "output_type": "stream",
     "text": [
      "<ipython-input-40-c543b2f59c3e>:1: SettingWithCopyWarning: \n",
      "A value is trying to be set on a copy of a slice from a DataFrame.\n",
      "Try using .loc[row_indexer,col_indexer] = value instead\n",
      "\n",
      "See the caveats in the documentation: https://pandas.pydata.org/pandas-docs/stable/user_guide/indexing.html#returning-a-view-versus-a-copy\n",
      "  movies_info_df['genres'] = movies_info_df['genres'].map(lambda x: x.split(\",\"))\n"
     ]
    },
    {
     "data": {
      "text/html": [
       "<div>\n",
       "<style scoped>\n",
       "    .dataframe tbody tr th:only-of-type {\n",
       "        vertical-align: middle;\n",
       "    }\n",
       "\n",
       "    .dataframe tbody tr th {\n",
       "        vertical-align: top;\n",
       "    }\n",
       "\n",
       "    .dataframe thead th {\n",
       "        text-align: right;\n",
       "    }\n",
       "</style>\n",
       "<table border=\"1\" class=\"dataframe\">\n",
       "  <thead>\n",
       "    <tr style=\"text-align: right;\">\n",
       "      <th></th>\n",
       "      <th>tconst</th>\n",
       "      <th>primary_title</th>\n",
       "      <th>start_year</th>\n",
       "      <th>runtime_minutes</th>\n",
       "      <th>genres</th>\n",
       "      <th>averagerating</th>\n",
       "      <th>numvotes</th>\n",
       "    </tr>\n",
       "  </thead>\n",
       "  <tbody>\n",
       "    <tr>\n",
       "      <th>0</th>\n",
       "      <td>tt0063540</td>\n",
       "      <td>Sunghursh</td>\n",
       "      <td>2013</td>\n",
       "      <td>175.0</td>\n",
       "      <td>[Action, Crime, Drama]</td>\n",
       "      <td>7.0</td>\n",
       "      <td>77.0</td>\n",
       "    </tr>\n",
       "    <tr>\n",
       "      <th>1</th>\n",
       "      <td>tt0066787</td>\n",
       "      <td>One Day Before the Rainy Season</td>\n",
       "      <td>2019</td>\n",
       "      <td>114.0</td>\n",
       "      <td>[Biography, Drama]</td>\n",
       "      <td>7.2</td>\n",
       "      <td>43.0</td>\n",
       "    </tr>\n",
       "    <tr>\n",
       "      <th>2</th>\n",
       "      <td>tt0069049</td>\n",
       "      <td>The Other Side of the Wind</td>\n",
       "      <td>2018</td>\n",
       "      <td>122.0</td>\n",
       "      <td>[Drama]</td>\n",
       "      <td>6.9</td>\n",
       "      <td>4517.0</td>\n",
       "    </tr>\n",
       "    <tr>\n",
       "      <th>3</th>\n",
       "      <td>tt0069204</td>\n",
       "      <td>Sabse Bada Sukh</td>\n",
       "      <td>2018</td>\n",
       "      <td>NaN</td>\n",
       "      <td>[Comedy, Drama]</td>\n",
       "      <td>6.1</td>\n",
       "      <td>13.0</td>\n",
       "    </tr>\n",
       "    <tr>\n",
       "      <th>4</th>\n",
       "      <td>tt0100275</td>\n",
       "      <td>The Wandering Soap Opera</td>\n",
       "      <td>2017</td>\n",
       "      <td>80.0</td>\n",
       "      <td>[Comedy, Drama, Fantasy]</td>\n",
       "      <td>6.5</td>\n",
       "      <td>119.0</td>\n",
       "    </tr>\n",
       "    <tr>\n",
       "      <th>...</th>\n",
       "      <td>...</td>\n",
       "      <td>...</td>\n",
       "      <td>...</td>\n",
       "      <td>...</td>\n",
       "      <td>...</td>\n",
       "      <td>...</td>\n",
       "      <td>...</td>\n",
       "    </tr>\n",
       "    <tr>\n",
       "      <th>146138</th>\n",
       "      <td>tt9916428</td>\n",
       "      <td>The Secret of China</td>\n",
       "      <td>2019</td>\n",
       "      <td>NaN</td>\n",
       "      <td>[Adventure, History, War]</td>\n",
       "      <td>NaN</td>\n",
       "      <td>NaN</td>\n",
       "    </tr>\n",
       "    <tr>\n",
       "      <th>146139</th>\n",
       "      <td>tt9916538</td>\n",
       "      <td>Kuambil Lagi Hatiku</td>\n",
       "      <td>2019</td>\n",
       "      <td>123.0</td>\n",
       "      <td>[Drama]</td>\n",
       "      <td>NaN</td>\n",
       "      <td>NaN</td>\n",
       "    </tr>\n",
       "    <tr>\n",
       "      <th>146140</th>\n",
       "      <td>tt9916622</td>\n",
       "      <td>Rodolpho Teóphilo - O Legado de um Pioneiro</td>\n",
       "      <td>2015</td>\n",
       "      <td>NaN</td>\n",
       "      <td>[Documentary]</td>\n",
       "      <td>NaN</td>\n",
       "      <td>NaN</td>\n",
       "    </tr>\n",
       "    <tr>\n",
       "      <th>146141</th>\n",
       "      <td>tt9916706</td>\n",
       "      <td>Dankyavar Danka</td>\n",
       "      <td>2013</td>\n",
       "      <td>NaN</td>\n",
       "      <td>[Comedy]</td>\n",
       "      <td>NaN</td>\n",
       "      <td>NaN</td>\n",
       "    </tr>\n",
       "    <tr>\n",
       "      <th>146143</th>\n",
       "      <td>tt9916754</td>\n",
       "      <td>Chico Albuquerque - Revelações</td>\n",
       "      <td>2013</td>\n",
       "      <td>NaN</td>\n",
       "      <td>[Documentary]</td>\n",
       "      <td>NaN</td>\n",
       "      <td>NaN</td>\n",
       "    </tr>\n",
       "  </tbody>\n",
       "</table>\n",
       "<p>139722 rows × 7 columns</p>\n",
       "</div>"
      ],
      "text/plain": [
       "           tconst                                primary_title  start_year  \\\n",
       "0       tt0063540                                    Sunghursh        2013   \n",
       "1       tt0066787              One Day Before the Rainy Season        2019   \n",
       "2       tt0069049                   The Other Side of the Wind        2018   \n",
       "3       tt0069204                              Sabse Bada Sukh        2018   \n",
       "4       tt0100275                     The Wandering Soap Opera        2017   \n",
       "...           ...                                          ...         ...   \n",
       "146138  tt9916428                          The Secret of China        2019   \n",
       "146139  tt9916538                          Kuambil Lagi Hatiku        2019   \n",
       "146140  tt9916622  Rodolpho Teóphilo - O Legado de um Pioneiro        2015   \n",
       "146141  tt9916706                              Dankyavar Danka        2013   \n",
       "146143  tt9916754               Chico Albuquerque - Revelações        2013   \n",
       "\n",
       "        runtime_minutes                     genres  averagerating  numvotes  \n",
       "0                 175.0     [Action, Crime, Drama]            7.0      77.0  \n",
       "1                 114.0         [Biography, Drama]            7.2      43.0  \n",
       "2                 122.0                    [Drama]            6.9    4517.0  \n",
       "3                   NaN            [Comedy, Drama]            6.1      13.0  \n",
       "4                  80.0   [Comedy, Drama, Fantasy]            6.5     119.0  \n",
       "...                 ...                        ...            ...       ...  \n",
       "146138              NaN  [Adventure, History, War]            NaN       NaN  \n",
       "146139            123.0                    [Drama]            NaN       NaN  \n",
       "146140              NaN              [Documentary]            NaN       NaN  \n",
       "146141              NaN                   [Comedy]            NaN       NaN  \n",
       "146143              NaN              [Documentary]            NaN       NaN  \n",
       "\n",
       "[139722 rows x 7 columns]"
      ]
     },
     "execution_count": 40,
     "metadata": {},
     "output_type": "execute_result"
    }
   ],
   "source": [
    "movies_info_df['genres'] = movies_info_df['genres'].map(lambda x: x.split(\",\"))\n",
    "movies_info_df"
   ]
  },
  {
   "cell_type": "code",
   "execution_count": 41,
   "metadata": {
    "scrolled": true
   },
   "outputs": [],
   "source": [
    "from collections import defaultdict\n",
    "\n",
    "top_genre_counts = defaultdict(int)\n",
    "for genres in top_movies_df['genres']:\n",
    "    for genre in genres:\n",
    "        top_genre_counts[genre] += 1\n",
    "\n",
    "gen_genre_counts = defaultdict(int)\n",
    "for genres in movies_info_df['genres']:\n",
    "    for genre in genres:\n",
    "        gen_genre_counts[genre] += 1\n",
    "        \n",
    "top_genre_counts = dict(top_genre_counts)\n",
    "gen_genre_counts = dict(gen_genre_counts)"
   ]
  },
  {
   "cell_type": "markdown",
   "metadata": {},
   "source": [
    "Normalize--convert counts to percentages"
   ]
  },
  {
   "cell_type": "code",
   "execution_count": 42,
   "metadata": {
    "scrolled": true
   },
   "outputs": [
    {
     "data": {
      "text/plain": [
       "{'Action': 54,\n",
       " 'Adventure': 40,\n",
       " 'Sci-Fi': 30,\n",
       " 'Biography': 22,\n",
       " 'Drama': 149,\n",
       " 'Thriller': 53,\n",
       " 'Sport': 6,\n",
       " 'Documentary': 29,\n",
       " 'Horror': 46,\n",
       " 'Comedy': 78,\n",
       " 'Romance': 35,\n",
       " 'Music': 14,\n",
       " 'Family': 14,\n",
       " 'Mystery': 38,\n",
       " 'Fantasy': 16,\n",
       " 'Animation': 20,\n",
       " 'History': 4,\n",
       " 'Western': 1,\n",
       " 'Crime': 19,\n",
       " 'Musical': 4,\n",
       " 'War': 2}"
      ]
     },
     "execution_count": 42,
     "metadata": {},
     "output_type": "execute_result"
    }
   ],
   "source": [
    "top_genre_counts"
   ]
  },
  {
   "cell_type": "code",
   "execution_count": 43,
   "metadata": {},
   "outputs": [
    {
     "data": {
      "text/plain": [
       "{'Action': 10156,\n",
       " 'Crime': 6691,\n",
       " 'Drama': 49545,\n",
       " 'Biography': 8695,\n",
       " 'Comedy': 25127,\n",
       " 'Fantasy': 3461,\n",
       " 'Horror': 10692,\n",
       " 'Thriller': 11746,\n",
       " 'Adventure': 6366,\n",
       " 'Animation': 2734,\n",
       " 'Documentary': 51556,\n",
       " 'History': 6209,\n",
       " 'Mystery': 4630,\n",
       " 'Sci-Fi': 3307,\n",
       " 'Romance': 9327,\n",
       " 'Family': 6184,\n",
       " 'War': 1399,\n",
       " 'Music': 4306,\n",
       " 'Sport': 2232,\n",
       " 'Western': 458,\n",
       " 'Musical': 1419,\n",
       " 'Adult': 25,\n",
       " 'News': 1550,\n",
       " 'Talk-Show': 50,\n",
       " 'Reality-TV': 98,\n",
       " 'Game-Show': 4,\n",
       " 'Short': 11}"
      ]
     },
     "execution_count": 43,
     "metadata": {},
     "output_type": "execute_result"
    }
   ],
   "source": [
    "gen_genre_counts"
   ]
  },
  {
   "cell_type": "code",
   "execution_count": 44,
   "metadata": {
    "scrolled": false
   },
   "outputs": [
    {
     "data": {
      "text/plain": [
       "{'Action': 8.011869436201781,\n",
       " 'Adventure': 5.934718100890208,\n",
       " 'Sci-Fi': 4.451038575667656,\n",
       " 'Biography': 3.2640949554896146,\n",
       " 'Drama': 22.106824925816024,\n",
       " 'Thriller': 7.863501483679524,\n",
       " 'Sport': 0.8902077151335311,\n",
       " 'Documentary': 4.302670623145401,\n",
       " 'Horror': 6.824925816023739,\n",
       " 'Comedy': 11.572700296735905,\n",
       " 'Romance': 5.192878338278932,\n",
       " 'Music': 2.0771513353115725,\n",
       " 'Family': 2.0771513353115725,\n",
       " 'Mystery': 5.637982195845697,\n",
       " 'Fantasy': 2.3738872403560833,\n",
       " 'Animation': 2.967359050445104,\n",
       " 'History': 0.5934718100890208,\n",
       " 'Western': 0.1483679525222552,\n",
       " 'Crime': 2.8189910979228485,\n",
       " 'Musical': 0.5934718100890208,\n",
       " 'War': 0.2967359050445104}"
      ]
     },
     "execution_count": 44,
     "metadata": {},
     "output_type": "execute_result"
    }
   ],
   "source": [
    "top_sum = sum(top_genre_counts.values())\n",
    "\n",
    "for key in list(top_genre_counts.keys()):\n",
    "    top_genre_counts[key] = (top_genre_counts[key] / top_sum) * 100\n",
    "top_genre_counts"
   ]
  },
  {
   "cell_type": "code",
   "execution_count": 45,
   "metadata": {},
   "outputs": [
    {
     "data": {
      "text/plain": [
       "{'Action': 4.454815815561151,\n",
       " 'Crime': 2.934932318030687,\n",
       " 'Drama': 21.73236014001351,\n",
       " 'Biography': 3.813964505347007,\n",
       " 'Comedy': 11.02167753028801,\n",
       " 'Fantasy': 1.518128942266359,\n",
       " 'Horror': 4.689926220951144,\n",
       " 'Thriller': 5.152251533042662,\n",
       " 'Adventure': 2.792374702822202,\n",
       " 'Animation': 1.1992385230153786,\n",
       " 'Documentary': 22.614462799042013,\n",
       " 'History': 2.723508408706103,\n",
       " 'Mystery': 2.0308977182008787,\n",
       " 'Sci-Fi': 1.4505785645983384,\n",
       " 'Romance': 4.091184237075508,\n",
       " 'Family': 2.7125424383054506,\n",
       " 'War': 0.6136557036205248,\n",
       " 'Music': 1.8887787418084203,\n",
       " 'Sport': 0.9790418373702725,\n",
       " 'Western': 0.20089657773995737,\n",
       " 'Musical': 0.6224284799410469,\n",
       " 'Adult': 0.010965970400652695,\n",
       " 'News': 0.679890164840467,\n",
       " 'Talk-Show': 0.02193194080130539,\n",
       " 'Reality-TV': 0.04298660397055856,\n",
       " 'Game-Show': 0.0017545552641044311,\n",
       " 'Short': 0.004825026976287186}"
      ]
     },
     "execution_count": 45,
     "metadata": {},
     "output_type": "execute_result"
    }
   ],
   "source": [
    "gen_sum = sum(gen_genre_counts.values())\n",
    "\n",
    "for key in list(gen_genre_counts.keys()):\n",
    "    gen_genre_counts[key] = (gen_genre_counts[key] / gen_sum ) * 100\n",
    "gen_genre_counts"
   ]
  },
  {
   "cell_type": "code",
   "execution_count": 46,
   "metadata": {},
   "outputs": [],
   "source": [
    "# top_genre_counts = dict(sorted(top_genre_counts.items(), key=lambda x: x[1], reverse=True))\n",
    "# gen_genre_counts = dict(sorted(gen_genre_counts.items(), key=lambda x: x[1], reverse=True))"
   ]
  },
  {
   "cell_type": "markdown",
   "metadata": {},
   "source": [
    "Decided not to sort after all for better visualization. Instead, we will remove any genres that account for less than 1% of the total."
   ]
  },
  {
   "cell_type": "code",
   "execution_count": 47,
   "metadata": {},
   "outputs": [
    {
     "data": {
      "text/plain": [
       "{'Action': 4.454815815561151,\n",
       " 'Crime': 2.934932318030687,\n",
       " 'Drama': 21.73236014001351,\n",
       " 'Biography': 3.813964505347007,\n",
       " 'Comedy': 11.02167753028801,\n",
       " 'Fantasy': 1.518128942266359,\n",
       " 'Horror': 4.689926220951144,\n",
       " 'Thriller': 5.152251533042662,\n",
       " 'Adventure': 2.792374702822202,\n",
       " 'Animation': 1.1992385230153786,\n",
       " 'Documentary': 22.614462799042013,\n",
       " 'History': 2.723508408706103,\n",
       " 'Mystery': 2.0308977182008787,\n",
       " 'Sci-Fi': 1.4505785645983384,\n",
       " 'Romance': 4.091184237075508,\n",
       " 'Family': 2.7125424383054506,\n",
       " 'Music': 1.8887787418084203}"
      ]
     },
     "execution_count": 47,
     "metadata": {},
     "output_type": "execute_result"
    }
   ],
   "source": [
    "for key in list(gen_genre_counts.keys()):\n",
    "    if gen_genre_counts[key] < 1:\n",
    "        del gen_genre_counts[key]\n",
    "gen_genre_counts"
   ]
  },
  {
   "cell_type": "code",
   "execution_count": 48,
   "metadata": {},
   "outputs": [
    {
     "data": {
      "text/plain": [
       "{'Action': 8.011869436201781,\n",
       " 'Adventure': 5.934718100890208,\n",
       " 'Sci-Fi': 4.451038575667656,\n",
       " 'Biography': 3.2640949554896146,\n",
       " 'Drama': 22.106824925816024,\n",
       " 'Thriller': 7.863501483679524,\n",
       " 'Documentary': 4.302670623145401,\n",
       " 'Horror': 6.824925816023739,\n",
       " 'Comedy': 11.572700296735905,\n",
       " 'Romance': 5.192878338278932,\n",
       " 'Music': 2.0771513353115725,\n",
       " 'Family': 2.0771513353115725,\n",
       " 'Mystery': 5.637982195845697,\n",
       " 'Fantasy': 2.3738872403560833,\n",
       " 'Animation': 2.967359050445104,\n",
       " 'Crime': 2.8189910979228485}"
      ]
     },
     "execution_count": 48,
     "metadata": {},
     "output_type": "execute_result"
    }
   ],
   "source": [
    "for key in list(top_genre_counts.keys()):\n",
    "    if top_genre_counts[key] < 1:\n",
    "        del top_genre_counts[key]\n",
    "top_genre_counts"
   ]
  },
  {
   "cell_type": "code",
   "execution_count": 49,
   "metadata": {},
   "outputs": [
    {
     "data": {
      "text/plain": [
       "{'Action': 8.011869436201781,\n",
       " 'Adventure': 5.934718100890208,\n",
       " 'Animation': 2.967359050445104,\n",
       " 'Biography': 3.2640949554896146,\n",
       " 'Comedy': 11.572700296735905,\n",
       " 'Crime': 2.8189910979228485,\n",
       " 'Documentary': 4.302670623145401,\n",
       " 'Drama': 22.106824925816024,\n",
       " 'Family': 2.0771513353115725,\n",
       " 'Fantasy': 2.3738872403560833,\n",
       " 'Horror': 6.824925816023739,\n",
       " 'Music': 2.0771513353115725,\n",
       " 'Mystery': 5.637982195845697,\n",
       " 'Romance': 5.192878338278932,\n",
       " 'Sci-Fi': 4.451038575667656,\n",
       " 'Thriller': 7.863501483679524}"
      ]
     },
     "execution_count": 49,
     "metadata": {},
     "output_type": "execute_result"
    }
   ],
   "source": [
    "top_genre_counts = dict(sorted(top_genre_counts.items(), key=lambda x: x[0].lower()))\n",
    "top_genre_counts"
   ]
  },
  {
   "cell_type": "code",
   "execution_count": 50,
   "metadata": {},
   "outputs": [
    {
     "data": {
      "text/plain": [
       "{'Action': 4.454815815561151,\n",
       " 'Adventure': 2.792374702822202,\n",
       " 'Animation': 1.1992385230153786,\n",
       " 'Biography': 3.813964505347007,\n",
       " 'Comedy': 11.02167753028801,\n",
       " 'Crime': 2.934932318030687,\n",
       " 'Documentary': 22.614462799042013,\n",
       " 'Drama': 21.73236014001351,\n",
       " 'Family': 2.7125424383054506,\n",
       " 'Fantasy': 1.518128942266359,\n",
       " 'History': 2.723508408706103,\n",
       " 'Horror': 4.689926220951144,\n",
       " 'Music': 1.8887787418084203,\n",
       " 'Mystery': 2.0308977182008787,\n",
       " 'Romance': 4.091184237075508,\n",
       " 'Sci-Fi': 1.4505785645983384,\n",
       " 'Thriller': 5.152251533042662}"
      ]
     },
     "execution_count": 50,
     "metadata": {},
     "output_type": "execute_result"
    }
   ],
   "source": [
    "gen_genre_counts = dict(sorted(gen_genre_counts.items(), key=lambda x: x[0].lower()))\n",
    "gen_genre_counts"
   ]
  },
  {
   "cell_type": "code",
   "execution_count": 51,
   "metadata": {
    "scrolled": false
   },
   "outputs": [
    {
     "name": "stderr",
     "output_type": "stream",
     "text": [
      "<ipython-input-51-375138d0a457>:11: UserWarning: FixedFormatter should only be used together with FixedLocator\n",
      "  ax_top.set_xticklabels(labels=list(top_genre_counts_keys), rotation=70)\n",
      "<ipython-input-51-375138d0a457>:15: UserWarning: FixedFormatter should only be used together with FixedLocator\n",
      "  ax_gen.set_xticklabels(labels=list(gen_genre_counts_keys), rotation=70);\n"
     ]
    },
    {
     "data": {
      "image/png": "[encoded data removed]",
      "text/plain": [
       "<Figure size 1440x360 with 2 Axes>"
      ]
     },
     "metadata": {
      "needs_background": "light"
     },
     "output_type": "display_data"
    }
   ],
   "source": [
    "fig, (ax_top, ax_gen) = plt.subplots(1, 2, figsize=(20, 5))\n",
    "fig.suptitle('Distribution of Movie Genres')\n",
    "\n",
    "top_genre_counts_keys = list(top_genre_counts.keys())\n",
    "top_genre_counts_values = list(top_genre_counts.values())\n",
    "gen_genre_counts_keys = list(gen_genre_counts.keys())\n",
    "gen_genre_counts_values = list(gen_genre_counts.values())\n",
    "\n",
    "ax_top.bar(x=top_genre_counts_keys, height=top_genre_counts_values)\n",
    "ax_top.set_title('Top movies')\n",
    "ax_top.set_xticklabels(labels=list(top_genre_counts_keys), rotation=70)\n",
    "\n",
    "ax_gen.bar(x=gen_genre_counts_keys, height=gen_genre_counts_values)\n",
    "ax_gen.set_title('All movies');\n",
    "ax_gen.set_xticklabels(labels=list(gen_genre_counts_keys), rotation=70);\n"
   ]
  },
  {
   "cell_type": "markdown",
   "metadata": {},
   "source": [
    "## Make it pretty!\n",
    "**Grouped barplots with Seaborn**"
   ]
  },
  {
   "cell_type": "markdown",
   "metadata": {},
   "source": [
    "It seems like it's going to be easier if all our data is in a Pandas DataFrame first."
   ]
  },
  {
   "cell_type": "code",
   "execution_count": 97,
   "metadata": {
    "scrolled": true
   },
   "outputs": [
    {
     "data": {
      "text/html": [
       "<div>\n",
       "<style scoped>\n",
       "    .dataframe tbody tr th:only-of-type {\n",
       "        vertical-align: middle;\n",
       "    }\n",
       "\n",
       "    .dataframe tbody tr th {\n",
       "        vertical-align: top;\n",
       "    }\n",
       "\n",
       "    .dataframe thead th {\n",
       "        text-align: right;\n",
       "    }\n",
       "</style>\n",
       "<table border=\"1\" class=\"dataframe\">\n",
       "  <thead>\n",
       "    <tr style=\"text-align: right;\">\n",
       "      <th></th>\n",
       "      <th>genres</th>\n",
       "      <th>percentage</th>\n",
       "      <th>type</th>\n",
       "    </tr>\n",
       "  </thead>\n",
       "  <tbody>\n",
       "    <tr>\n",
       "      <th>0</th>\n",
       "      <td>Action</td>\n",
       "      <td>8.011869</td>\n",
       "      <td>top</td>\n",
       "    </tr>\n",
       "    <tr>\n",
       "      <th>1</th>\n",
       "      <td>Adventure</td>\n",
       "      <td>5.934718</td>\n",
       "      <td>top</td>\n",
       "    </tr>\n",
       "    <tr>\n",
       "      <th>2</th>\n",
       "      <td>Animation</td>\n",
       "      <td>2.967359</td>\n",
       "      <td>top</td>\n",
       "    </tr>\n",
       "    <tr>\n",
       "      <th>3</th>\n",
       "      <td>Biography</td>\n",
       "      <td>3.264095</td>\n",
       "      <td>top</td>\n",
       "    </tr>\n",
       "    <tr>\n",
       "      <th>4</th>\n",
       "      <td>Comedy</td>\n",
       "      <td>11.572700</td>\n",
       "      <td>top</td>\n",
       "    </tr>\n",
       "    <tr>\n",
       "      <th>5</th>\n",
       "      <td>Crime</td>\n",
       "      <td>2.818991</td>\n",
       "      <td>top</td>\n",
       "    </tr>\n",
       "    <tr>\n",
       "      <th>6</th>\n",
       "      <td>Documentary</td>\n",
       "      <td>4.302671</td>\n",
       "      <td>top</td>\n",
       "    </tr>\n",
       "    <tr>\n",
       "      <th>7</th>\n",
       "      <td>Drama</td>\n",
       "      <td>22.106825</td>\n",
       "      <td>top</td>\n",
       "    </tr>\n",
       "    <tr>\n",
       "      <th>8</th>\n",
       "      <td>Family</td>\n",
       "      <td>2.077151</td>\n",
       "      <td>top</td>\n",
       "    </tr>\n",
       "    <tr>\n",
       "      <th>9</th>\n",
       "      <td>Fantasy</td>\n",
       "      <td>2.373887</td>\n",
       "      <td>top</td>\n",
       "    </tr>\n",
       "    <tr>\n",
       "      <th>10</th>\n",
       "      <td>Horror</td>\n",
       "      <td>6.824926</td>\n",
       "      <td>top</td>\n",
       "    </tr>\n",
       "    <tr>\n",
       "      <th>11</th>\n",
       "      <td>Music</td>\n",
       "      <td>2.077151</td>\n",
       "      <td>top</td>\n",
       "    </tr>\n",
       "    <tr>\n",
       "      <th>12</th>\n",
       "      <td>Mystery</td>\n",
       "      <td>5.637982</td>\n",
       "      <td>top</td>\n",
       "    </tr>\n",
       "    <tr>\n",
       "      <th>13</th>\n",
       "      <td>Romance</td>\n",
       "      <td>5.192878</td>\n",
       "      <td>top</td>\n",
       "    </tr>\n",
       "    <tr>\n",
       "      <th>14</th>\n",
       "      <td>Sci-Fi</td>\n",
       "      <td>4.451039</td>\n",
       "      <td>top</td>\n",
       "    </tr>\n",
       "    <tr>\n",
       "      <th>15</th>\n",
       "      <td>Thriller</td>\n",
       "      <td>7.863501</td>\n",
       "      <td>top</td>\n",
       "    </tr>\n",
       "  </tbody>\n",
       "</table>\n",
       "</div>"
      ],
      "text/plain": [
       "         genres  percentage type\n",
       "0        Action    8.011869  top\n",
       "1     Adventure    5.934718  top\n",
       "2     Animation    2.967359  top\n",
       "3     Biography    3.264095  top\n",
       "4        Comedy   11.572700  top\n",
       "5         Crime    2.818991  top\n",
       "6   Documentary    4.302671  top\n",
       "7         Drama   22.106825  top\n",
       "8        Family    2.077151  top\n",
       "9       Fantasy    2.373887  top\n",
       "10       Horror    6.824926  top\n",
       "11        Music    2.077151  top\n",
       "12      Mystery    5.637982  top\n",
       "13      Romance    5.192878  top\n",
       "14       Sci-Fi    4.451039  top\n",
       "15     Thriller    7.863501  top"
      ]
     },
     "execution_count": 97,
     "metadata": {},
     "output_type": "execute_result"
    }
   ],
   "source": [
    "comparing_genres_df = pd.DataFrame.from_dict(top_genre_counts, orient='index', columns=['percentage'])\n",
    "comparing_genres_df.reset_index(inplace=True)\n",
    "comparing_genres_df.rename(columns={'index': 'genres'}, inplace=True)\n",
    "comparing_genres_df['type'] = 'top'\n",
    "comparing_genres_df"
   ]
  },
  {
   "cell_type": "code",
   "execution_count": 98,
   "metadata": {},
   "outputs": [
    {
     "data": {
      "text/html": [
       "<div>\n",
       "<style scoped>\n",
       "    .dataframe tbody tr th:only-of-type {\n",
       "        vertical-align: middle;\n",
       "    }\n",
       "\n",
       "    .dataframe tbody tr th {\n",
       "        vertical-align: top;\n",
       "    }\n",
       "\n",
       "    .dataframe thead th {\n",
       "        text-align: right;\n",
       "    }\n",
       "</style>\n",
       "<table border=\"1\" class=\"dataframe\">\n",
       "  <thead>\n",
       "    <tr style=\"text-align: right;\">\n",
       "      <th></th>\n",
       "      <th>genres</th>\n",
       "      <th>percentage</th>\n",
       "      <th>type</th>\n",
       "    </tr>\n",
       "  </thead>\n",
       "  <tbody>\n",
       "    <tr>\n",
       "      <th>0</th>\n",
       "      <td>Action</td>\n",
       "      <td>4.454816</td>\n",
       "      <td>all</td>\n",
       "    </tr>\n",
       "    <tr>\n",
       "      <th>1</th>\n",
       "      <td>Adventure</td>\n",
       "      <td>2.792375</td>\n",
       "      <td>all</td>\n",
       "    </tr>\n",
       "    <tr>\n",
       "      <th>2</th>\n",
       "      <td>Animation</td>\n",
       "      <td>1.199239</td>\n",
       "      <td>all</td>\n",
       "    </tr>\n",
       "    <tr>\n",
       "      <th>3</th>\n",
       "      <td>Biography</td>\n",
       "      <td>3.813965</td>\n",
       "      <td>all</td>\n",
       "    </tr>\n",
       "    <tr>\n",
       "      <th>4</th>\n",
       "      <td>Comedy</td>\n",
       "      <td>11.021678</td>\n",
       "      <td>all</td>\n",
       "    </tr>\n",
       "    <tr>\n",
       "      <th>5</th>\n",
       "      <td>Crime</td>\n",
       "      <td>2.934932</td>\n",
       "      <td>all</td>\n",
       "    </tr>\n",
       "    <tr>\n",
       "      <th>6</th>\n",
       "      <td>Documentary</td>\n",
       "      <td>22.614463</td>\n",
       "      <td>all</td>\n",
       "    </tr>\n",
       "    <tr>\n",
       "      <th>7</th>\n",
       "      <td>Drama</td>\n",
       "      <td>21.732360</td>\n",
       "      <td>all</td>\n",
       "    </tr>\n",
       "    <tr>\n",
       "      <th>8</th>\n",
       "      <td>Family</td>\n",
       "      <td>2.712542</td>\n",
       "      <td>all</td>\n",
       "    </tr>\n",
       "    <tr>\n",
       "      <th>9</th>\n",
       "      <td>Fantasy</td>\n",
       "      <td>1.518129</td>\n",
       "      <td>all</td>\n",
       "    </tr>\n",
       "    <tr>\n",
       "      <th>10</th>\n",
       "      <td>History</td>\n",
       "      <td>2.723508</td>\n",
       "      <td>all</td>\n",
       "    </tr>\n",
       "    <tr>\n",
       "      <th>11</th>\n",
       "      <td>Horror</td>\n",
       "      <td>4.689926</td>\n",
       "      <td>all</td>\n",
       "    </tr>\n",
       "    <tr>\n",
       "      <th>12</th>\n",
       "      <td>Music</td>\n",
       "      <td>1.888779</td>\n",
       "      <td>all</td>\n",
       "    </tr>\n",
       "    <tr>\n",
       "      <th>13</th>\n",
       "      <td>Mystery</td>\n",
       "      <td>2.030898</td>\n",
       "      <td>all</td>\n",
       "    </tr>\n",
       "    <tr>\n",
       "      <th>14</th>\n",
       "      <td>Romance</td>\n",
       "      <td>4.091184</td>\n",
       "      <td>all</td>\n",
       "    </tr>\n",
       "    <tr>\n",
       "      <th>15</th>\n",
       "      <td>Sci-Fi</td>\n",
       "      <td>1.450579</td>\n",
       "      <td>all</td>\n",
       "    </tr>\n",
       "    <tr>\n",
       "      <th>16</th>\n",
       "      <td>Thriller</td>\n",
       "      <td>5.152252</td>\n",
       "      <td>all</td>\n",
       "    </tr>\n",
       "  </tbody>\n",
       "</table>\n",
       "</div>"
      ],
      "text/plain": [
       "         genres  percentage type\n",
       "0        Action    4.454816  all\n",
       "1     Adventure    2.792375  all\n",
       "2     Animation    1.199239  all\n",
       "3     Biography    3.813965  all\n",
       "4        Comedy   11.021678  all\n",
       "5         Crime    2.934932  all\n",
       "6   Documentary   22.614463  all\n",
       "7         Drama   21.732360  all\n",
       "8        Family    2.712542  all\n",
       "9       Fantasy    1.518129  all\n",
       "10      History    2.723508  all\n",
       "11       Horror    4.689926  all\n",
       "12        Music    1.888779  all\n",
       "13      Mystery    2.030898  all\n",
       "14      Romance    4.091184  all\n",
       "15       Sci-Fi    1.450579  all\n",
       "16     Thriller    5.152252  all"
      ]
     },
     "execution_count": 98,
     "metadata": {},
     "output_type": "execute_result"
    }
   ],
   "source": [
    "all_genres = pd.DataFrame.from_dict(gen_genre_counts, orient='index', columns=['percentage'])\n",
    "all_genres.reset_index(inplace=True)\n",
    "all_genres.rename(columns={'index': 'genres'}, inplace=True)\n",
    "all_genres['type'] = 'all'\n",
    "all_genres"
   ]
  },
  {
   "cell_type": "code",
   "execution_count": 99,
   "metadata": {},
   "outputs": [
    {
     "data": {
      "text/html": [
       "<div>\n",
       "<style scoped>\n",
       "    .dataframe tbody tr th:only-of-type {\n",
       "        vertical-align: middle;\n",
       "    }\n",
       "\n",
       "    .dataframe tbody tr th {\n",
       "        vertical-align: top;\n",
       "    }\n",
       "\n",
       "    .dataframe thead th {\n",
       "        text-align: right;\n",
       "    }\n",
       "</style>\n",
       "<table border=\"1\" class=\"dataframe\">\n",
       "  <thead>\n",
       "    <tr style=\"text-align: right;\">\n",
       "      <th></th>\n",
       "      <th>genres</th>\n",
       "      <th>percentage</th>\n",
       "      <th>type</th>\n",
       "    </tr>\n",
       "  </thead>\n",
       "  <tbody>\n",
       "    <tr>\n",
       "      <th>0</th>\n",
       "      <td>Action</td>\n",
       "      <td>8.011869</td>\n",
       "      <td>top</td>\n",
       "    </tr>\n",
       "    <tr>\n",
       "      <th>1</th>\n",
       "      <td>Adventure</td>\n",
       "      <td>5.934718</td>\n",
       "      <td>top</td>\n",
       "    </tr>\n",
       "    <tr>\n",
       "      <th>2</th>\n",
       "      <td>Animation</td>\n",
       "      <td>2.967359</td>\n",
       "      <td>top</td>\n",
       "    </tr>\n",
       "    <tr>\n",
       "      <th>3</th>\n",
       "      <td>Biography</td>\n",
       "      <td>3.264095</td>\n",
       "      <td>top</td>\n",
       "    </tr>\n",
       "    <tr>\n",
       "      <th>4</th>\n",
       "      <td>Comedy</td>\n",
       "      <td>11.572700</td>\n",
       "      <td>top</td>\n",
       "    </tr>\n",
       "    <tr>\n",
       "      <th>5</th>\n",
       "      <td>Crime</td>\n",
       "      <td>2.818991</td>\n",
       "      <td>top</td>\n",
       "    </tr>\n",
       "    <tr>\n",
       "      <th>6</th>\n",
       "      <td>Documentary</td>\n",
       "      <td>4.302671</td>\n",
       "      <td>top</td>\n",
       "    </tr>\n",
       "    <tr>\n",
       "      <th>7</th>\n",
       "      <td>Drama</td>\n",
       "      <td>22.106825</td>\n",
       "      <td>top</td>\n",
       "    </tr>\n",
       "    <tr>\n",
       "      <th>8</th>\n",
       "      <td>Family</td>\n",
       "      <td>2.077151</td>\n",
       "      <td>top</td>\n",
       "    </tr>\n",
       "    <tr>\n",
       "      <th>9</th>\n",
       "      <td>Fantasy</td>\n",
       "      <td>2.373887</td>\n",
       "      <td>top</td>\n",
       "    </tr>\n",
       "    <tr>\n",
       "      <th>10</th>\n",
       "      <td>Horror</td>\n",
       "      <td>6.824926</td>\n",
       "      <td>top</td>\n",
       "    </tr>\n",
       "    <tr>\n",
       "      <th>11</th>\n",
       "      <td>Music</td>\n",
       "      <td>2.077151</td>\n",
       "      <td>top</td>\n",
       "    </tr>\n",
       "    <tr>\n",
       "      <th>12</th>\n",
       "      <td>Mystery</td>\n",
       "      <td>5.637982</td>\n",
       "      <td>top</td>\n",
       "    </tr>\n",
       "    <tr>\n",
       "      <th>13</th>\n",
       "      <td>Romance</td>\n",
       "      <td>5.192878</td>\n",
       "      <td>top</td>\n",
       "    </tr>\n",
       "    <tr>\n",
       "      <th>14</th>\n",
       "      <td>Sci-Fi</td>\n",
       "      <td>4.451039</td>\n",
       "      <td>top</td>\n",
       "    </tr>\n",
       "    <tr>\n",
       "      <th>15</th>\n",
       "      <td>Thriller</td>\n",
       "      <td>7.863501</td>\n",
       "      <td>top</td>\n",
       "    </tr>\n",
       "    <tr>\n",
       "      <th>0</th>\n",
       "      <td>Action</td>\n",
       "      <td>4.454816</td>\n",
       "      <td>all</td>\n",
       "    </tr>\n",
       "    <tr>\n",
       "      <th>1</th>\n",
       "      <td>Adventure</td>\n",
       "      <td>2.792375</td>\n",
       "      <td>all</td>\n",
       "    </tr>\n",
       "    <tr>\n",
       "      <th>2</th>\n",
       "      <td>Animation</td>\n",
       "      <td>1.199239</td>\n",
       "      <td>all</td>\n",
       "    </tr>\n",
       "    <tr>\n",
       "      <th>3</th>\n",
       "      <td>Biography</td>\n",
       "      <td>3.813965</td>\n",
       "      <td>all</td>\n",
       "    </tr>\n",
       "    <tr>\n",
       "      <th>4</th>\n",
       "      <td>Comedy</td>\n",
       "      <td>11.021678</td>\n",
       "      <td>all</td>\n",
       "    </tr>\n",
       "    <tr>\n",
       "      <th>5</th>\n",
       "      <td>Crime</td>\n",
       "      <td>2.934932</td>\n",
       "      <td>all</td>\n",
       "    </tr>\n",
       "    <tr>\n",
       "      <th>6</th>\n",
       "      <td>Documentary</td>\n",
       "      <td>22.614463</td>\n",
       "      <td>all</td>\n",
       "    </tr>\n",
       "    <tr>\n",
       "      <th>7</th>\n",
       "      <td>Drama</td>\n",
       "      <td>21.732360</td>\n",
       "      <td>all</td>\n",
       "    </tr>\n",
       "    <tr>\n",
       "      <th>8</th>\n",
       "      <td>Family</td>\n",
       "      <td>2.712542</td>\n",
       "      <td>all</td>\n",
       "    </tr>\n",
       "    <tr>\n",
       "      <th>9</th>\n",
       "      <td>Fantasy</td>\n",
       "      <td>1.518129</td>\n",
       "      <td>all</td>\n",
       "    </tr>\n",
       "    <tr>\n",
       "      <th>10</th>\n",
       "      <td>History</td>\n",
       "      <td>2.723508</td>\n",
       "      <td>all</td>\n",
       "    </tr>\n",
       "    <tr>\n",
       "      <th>11</th>\n",
       "      <td>Horror</td>\n",
       "      <td>4.689926</td>\n",
       "      <td>all</td>\n",
       "    </tr>\n",
       "    <tr>\n",
       "      <th>12</th>\n",
       "      <td>Music</td>\n",
       "      <td>1.888779</td>\n",
       "      <td>all</td>\n",
       "    </tr>\n",
       "    <tr>\n",
       "      <th>13</th>\n",
       "      <td>Mystery</td>\n",
       "      <td>2.030898</td>\n",
       "      <td>all</td>\n",
       "    </tr>\n",
       "    <tr>\n",
       "      <th>14</th>\n",
       "      <td>Romance</td>\n",
       "      <td>4.091184</td>\n",
       "      <td>all</td>\n",
       "    </tr>\n",
       "    <tr>\n",
       "      <th>15</th>\n",
       "      <td>Sci-Fi</td>\n",
       "      <td>1.450579</td>\n",
       "      <td>all</td>\n",
       "    </tr>\n",
       "    <tr>\n",
       "      <th>16</th>\n",
       "      <td>Thriller</td>\n",
       "      <td>5.152252</td>\n",
       "      <td>all</td>\n",
       "    </tr>\n",
       "  </tbody>\n",
       "</table>\n",
       "</div>"
      ],
      "text/plain": [
       "         genres  percentage type\n",
       "0        Action    8.011869  top\n",
       "1     Adventure    5.934718  top\n",
       "2     Animation    2.967359  top\n",
       "3     Biography    3.264095  top\n",
       "4        Comedy   11.572700  top\n",
       "5         Crime    2.818991  top\n",
       "6   Documentary    4.302671  top\n",
       "7         Drama   22.106825  top\n",
       "8        Family    2.077151  top\n",
       "9       Fantasy    2.373887  top\n",
       "10       Horror    6.824926  top\n",
       "11        Music    2.077151  top\n",
       "12      Mystery    5.637982  top\n",
       "13      Romance    5.192878  top\n",
       "14       Sci-Fi    4.451039  top\n",
       "15     Thriller    7.863501  top\n",
       "0        Action    4.454816  all\n",
       "1     Adventure    2.792375  all\n",
       "2     Animation    1.199239  all\n",
       "3     Biography    3.813965  all\n",
       "4        Comedy   11.021678  all\n",
       "5         Crime    2.934932  all\n",
       "6   Documentary   22.614463  all\n",
       "7         Drama   21.732360  all\n",
       "8        Family    2.712542  all\n",
       "9       Fantasy    1.518129  all\n",
       "10      History    2.723508  all\n",
       "11       Horror    4.689926  all\n",
       "12        Music    1.888779  all\n",
       "13      Mystery    2.030898  all\n",
       "14      Romance    4.091184  all\n",
       "15       Sci-Fi    1.450579  all\n",
       "16     Thriller    5.152252  all"
      ]
     },
     "execution_count": 99,
     "metadata": {},
     "output_type": "execute_result"
    }
   ],
   "source": [
    "comparing_genres_df = comparing_genres_df.append(all_genres)\n",
    "comparing_genres_df"
   ]
  },
  {
   "cell_type": "code",
   "execution_count": 130,
   "metadata": {},
   "outputs": [
    {
     "data": {
      "image/png": "[encoded data removed]",
      "text/plain": [
       "<Figure size 1073.6x720 with 1 Axes>"
      ]
     },
     "metadata": {},
     "output_type": "display_data"
    }
   ],
   "source": [
    "import seaborn as sns\n",
    "sns.set_theme(style=\"whitegrid\")\n",
    "\n",
    "# Draw a nested barplot by percentage and (sub)set\n",
    "g = sns.catplot(\n",
    "    data=comparing_genres_df, kind=\"bar\",\n",
    "    x=\"genres\", y=\"percentage\", hue=\"type\", \n",
    "    palette=\"mako\", alpha=.6, height=10, aspect=11.7/8.27\n",
    ")\n",
    "g.despine(left=True)\n",
    "g.set_axis_labels(\"Genres\", \"Percentage of total\", size=15)\n",
    "plt.title(\"Genre percentages\", size=20)\n",
    "g.legend.set_title(\"Subset\");"
   ]
  },
  {
   "cell_type": "markdown",
   "metadata": {},
   "source": [
    "## Scraping MPAA ratings from IMDB\n",
    "***Need to use concurrent.futures so it doesn't take 40 hours***"
   ]
  },
  {
   "cell_type": "code",
   "execution_count": 149,
   "metadata": {},
   "outputs": [],
   "source": [
    "# from bs4 import BeautifulSoup\n",
    "# import requests\n",
    "# import concurrent.futures"
   ]
  },
  {
   "cell_type": "markdown",
   "metadata": {},
   "source": [
    "Testing on an individual page:"
   ]
  },
  {
   "cell_type": "code",
   "execution_count": 150,
   "metadata": {},
   "outputs": [],
   "source": [
    "# html_page = requests.get('https://www.imdb.com/title/tt0069049/') # Make a get request to retrieve the page\n",
    "# soup = BeautifulSoup(html_page.content, 'html.parser') # Pass the page contents to beautiful soup for parsing"
   ]
  },
  {
   "cell_type": "markdown",
   "metadata": {},
   "source": [
    "`<span class=\"TitleBlockMetaData__ListItemText-sc-12ein40-2 jedhex\">G</span>`"
   ]
  },
  {
   "cell_type": "code",
   "execution_count": 151,
   "metadata": {
    "scrolled": true
   },
   "outputs": [
    {
     "data": {
      "text/plain": [
       "'R'"
      ]
     },
     "execution_count": 151,
     "metadata": {},
     "output_type": "execute_result"
    }
   ],
   "source": [
    "# # find a list of all span elements\n",
    "# spans = soup.find_all('span', {'class' : 'TitleBlockMetaData__ListItemText-sc-12ein40-2 jedhex'})\n",
    "\n",
    "# # create a list of lines corresponding to element texts\n",
    "# ratings = [span.get_text() for span in spans][1]\n",
    "# ratings"
   ]
  },
  {
   "cell_type": "code",
   "execution_count": 152,
   "metadata": {},
   "outputs": [],
   "source": [
    "# # Construct list of urls to scrape\n",
    "# urls = []\n",
    "# tconst_list = list(title_basics_df.tconst)\n",
    "# for tconst in tconst_list:\n",
    "#     urls.append(\"https://www.imdb.com/title/{}/\".format(tconst))"
   ]
  },
  {
   "cell_type": "markdown",
   "metadata": {},
   "source": [
    "Building the functions and list to scale:"
   ]
  },
  {
   "cell_type": "code",
   "execution_count": 156,
   "metadata": {},
   "outputs": [],
   "source": [
    "# # Define functions for scraping rating from given IMDB movie page\n",
    "# def retrieve_rating(soup):\n",
    "#     spans = soup.find_all('span', {'class' : 'TitleBlockMetaData__ListItemText-sc-12ein40-2 jedhex'})\n",
    "#     return [span.get_text() for span in spans][1]\n",
    "\n",
    "# # Scrape each page\n",
    "# def scrape_for_rating(movies_list):\n",
    "#     mpaa_ratings = {}\n",
    "#     for movie in movies_list:\n",
    "#         try:\n",
    "#             url = \"https://www.imdb.com/title/{}/\".format(movie)\n",
    "#             html_page = requests.get(url)\n",
    "#             soup = BeautifulSoup(html_page.content, 'html.parser')\n",
    "#             rating = retrieve_rating(soup)\n",
    "#             if rating:\n",
    "#                 print(rating)\n",
    "#                 mpaa_ratings[movie] = rating\n",
    "#             time.sleep(0.25)\n",
    "#         except:\n",
    "#             continue\n",
    "            \n",
    "#     return mpaa_ratings"
   ]
  },
  {
   "cell_type": "code",
   "execution_count": null,
   "metadata": {
    "scrolled": true
   },
   "outputs": [],
   "source": [
    "# # Source code from https://beckernick.github.io/faster-web-scraping-python/\n",
    "# with concurrent.futures.ThreadPoolExecutor() as executor:\n",
    "#         executor.map(scrape_for_rating, urls[:10])"
   ]
  },
  {
   "cell_type": "code",
   "execution_count": null,
   "metadata": {},
   "outputs": [],
   "source": [
    "# Source code from https://medium.com/@apbetahouse45/asynchronous-web-scraping-in-python-using-concurrent-module-a5ca1b7f82e4\n",
    "\n",
    "# import time\n",
    "# import requests\n",
    "# from bs4 import BeautifulSoup\n",
    "# from concurrent.futures import ProcessPoolExecutor, as_completed\n",
    "# URLs = [ ... ] # A long list of URLs.\n",
    "# def parse(url):\n",
    "#     r = requests.get(url)\n",
    "#     soup = BeautifulSoup(r.content, 'lxml')\n",
    "#     return soup.find_all('a')\n",
    "# with ProcessPoolExecutor(max_workers=4) as executor:\n",
    "#     start = time.time()\n",
    "#     futures = [ executor.submit(parse, url) for url in URLs ]\n",
    "#     results = []\n",
    "#     for result in as_completed(futures):\n",
    "#         results.append(result)\n",
    "#     end = time.time()\n",
    "#     print(\"Time Taken: {:.6f}s\".format(end-start))"
   ]
  },
  {
   "cell_type": "code",
   "execution_count": null,
   "metadata": {},
   "outputs": [],
   "source": []
  }
 ],
 "metadata": {
  "kernelspec": {
   "display_name": "Python (learn-env)",
   "language": "python",
   "name": "learn-env"
  },
  "language_info": {
   "codemirror_mode": {
    "name": "ipython",
    "version": 3
   },
   "file_extension": ".py",
   "mimetype": "text/x-python",
   "name": "python",
   "nbconvert_exporter": "python",
   "pygments_lexer": "ipython3",
   "version": "3.8.5"
  }
 },
 "nbformat": 4,
 "nbformat_minor": 4
}
